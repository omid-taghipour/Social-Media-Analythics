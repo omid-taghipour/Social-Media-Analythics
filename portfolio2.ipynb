{
  "cells": [
    {
      "cell_type": "markdown",
      "metadata": {
        "id": "view-in-github",
        "colab_type": "text"
      },
      "source": [
        "<a href=\"https://colab.research.google.com/github/omid-taghipour/Social-Media-Analythics/blob/main/portfolio2.ipynb\" target=\"_parent\"><img src=\"https://colab.research.google.com/assets/colab-badge.svg\" alt=\"Open In Colab\"/></a>"
      ]
    },
    {
      "cell_type": "markdown",
      "metadata": {
        "id": "O8J_h07XWa2B"
      },
      "source": [
        "# Importing  Libraries"
      ]
    },
    {
      "cell_type": "markdown",
      "metadata": {
        "id": "6eGOYpn9Wa13"
      },
      "source": [
        "# Project Overview\n",
        "## Introduction\n",
        "In our increasingly connected world, the rise of hate speech sharing has become a pressing concern. The digital world, with its vast amount of communication channels, has given way to new forms of harassment and intimidation. This project aims to benefit from the power of Natural Language Processing (NLP) and machine learning to predict instances of hate speech. Moreover, exploration of the unique words and patterns embedded in the language of hate speech will be embarked on to better understand this problem's nature and characteristics.\n",
        "\n",
        "## Goal of the Project\n",
        "Goal of the project is to investigate Natural Language Processing (NLP) methodologies to identify hate speech. As well as identifying hate speech, we tend to investigate the linguistic aspects of the hate speech to understand deeper nature and characteristics of this topic.\n",
        "\n",
        "## Methodology\n",
        "### 1. Data\n",
        "During this project, we will use the [`Hate Speech Detection curated Dataset🤬`](https://www.kaggle.com/datasets/waalbannyantudre/hate-speech-detection-curated-dataset) available on the Kaggle repository for the people to use. Dataset has been already neutralized to remove information about the people to follow privacy right of the people. The original dataset is available at [Mendely website](https://data.mendeley.com/datasets/9sxpkmm8xn/1). Additionally, the dataset has been used in the [**A curated dataset for hate speech detection on social media text** article](https://www.sciencedirect.com/science/article/pii/S2352340922010356) that focused on hate speech recognition also. Further information about the characteristics of the dataset will be given in the corresponding section of the project.\n",
        "#### Dataset Citation\n",
        "Mody, Devansh; Huang, YiDong; Alves de Oliveira, Thiago Eustaquio (2022), “A Curated Hate Speech Dataset”, Mendeley Data, V1, doi: 10.17632/9sxpkmm8xn.1\n",
        "### 2. Data Preprocessing\n",
        "Like all other data science projects there will be data preprocessing to reshape data into a form that can be understood by the machine learning models better.\n",
        "\n",
        "### 3. Sentiment Analysis\n",
        "As first step of this project, we will implement sentiment analysis. Sentiment analysis calculates polarity score of the text. Calculated scores identify if text is positive, neutral, or negative. We expect the result of sentiment analysis to be negative for texts labeled as hate speech and positive for texts labeled as not hate speech.\n",
        "\n",
        "### 4. Topic Modeling\n",
        "\n",
        "### 5. Classification using Machine Learning\n",
        "As the last step of this project, we will investigate classification using machine learning models. We will implement two different machine learning models and tune their parameters. After training models, each model will be tested individually with the test dataset. Results of the models' prediction will be used in evaluation of models.\n",
        "\n",
        "## Significance\n",
        "Understanding and predicting hate speech is crucial for fostering a safer online environment. By developing an accurate model and uncovering linguistic patterns, we can contribute to the ongoing efforts to mitigate the impact of hate speech, protect individuals from harm, and promote positive digital interactions\n",
        "\n",
        "> *Note: This part served as an introduction to our NLP project. Subsequent sections will delve into the technical details, results, and implications of our work.*."
      ]
    },
    {
      "cell_type": "markdown",
      "source": [
        "# Installing required libraries"
      ],
      "metadata": {
        "id": "VtDbW9QsGPCF"
      }
    },
    {
      "cell_type": "code",
      "source": [
        "!pip install contractions\n",
        "!pip install sentencepiece\n",
        "!pip install pyLDAvis\n",
        "!pip install swifter\n",
        "!pip install tqdm"
      ],
      "metadata": {
        "id": "gyfNZ6hBh45v",
        "colab": {
          "base_uri": "https://localhost:8080/"
        },
        "outputId": "73a2f681-0b62-46be-c6e7-93c86383f11e"
      },
      "execution_count": 1,
      "outputs": [
        {
          "output_type": "stream",
          "name": "stdout",
          "text": [
            "Requirement already satisfied: contractions in /usr/local/lib/python3.10/dist-packages (0.1.73)\n",
            "Requirement already satisfied: textsearch>=0.0.21 in /usr/local/lib/python3.10/dist-packages (from contractions) (0.0.24)\n",
            "Requirement already satisfied: anyascii in /usr/local/lib/python3.10/dist-packages (from textsearch>=0.0.21->contractions) (0.3.2)\n",
            "Requirement already satisfied: pyahocorasick in /usr/local/lib/python3.10/dist-packages (from textsearch>=0.0.21->contractions) (2.0.0)\n",
            "Requirement already satisfied: sentencepiece in /usr/local/lib/python3.10/dist-packages (0.1.99)\n",
            "Requirement already satisfied: pyLDAvis in /usr/local/lib/python3.10/dist-packages (3.4.1)\n",
            "Requirement already satisfied: numpy>=1.24.2 in /usr/local/lib/python3.10/dist-packages (from pyLDAvis) (1.26.3)\n",
            "Requirement already satisfied: scipy in /usr/local/lib/python3.10/dist-packages (from pyLDAvis) (1.11.4)\n",
            "Requirement already satisfied: pandas>=2.0.0 in /usr/local/lib/python3.10/dist-packages (from pyLDAvis) (2.1.4)\n",
            "Requirement already satisfied: joblib>=1.2.0 in /usr/local/lib/python3.10/dist-packages (from pyLDAvis) (1.3.2)\n",
            "Requirement already satisfied: jinja2 in /usr/local/lib/python3.10/dist-packages (from pyLDAvis) (3.1.2)\n",
            "Requirement already satisfied: numexpr in /usr/local/lib/python3.10/dist-packages (from pyLDAvis) (2.8.8)\n",
            "Requirement already satisfied: funcy in /usr/local/lib/python3.10/dist-packages (from pyLDAvis) (2.0)\n",
            "Requirement already satisfied: scikit-learn>=1.0.0 in /usr/local/lib/python3.10/dist-packages (from pyLDAvis) (1.2.2)\n",
            "Requirement already satisfied: gensim in /usr/local/lib/python3.10/dist-packages (from pyLDAvis) (4.3.2)\n",
            "Requirement already satisfied: setuptools in /usr/local/lib/python3.10/dist-packages (from pyLDAvis) (67.7.2)\n",
            "Requirement already satisfied: python-dateutil>=2.8.2 in /usr/local/lib/python3.10/dist-packages (from pandas>=2.0.0->pyLDAvis) (2.8.2)\n",
            "Requirement already satisfied: pytz>=2020.1 in /usr/local/lib/python3.10/dist-packages (from pandas>=2.0.0->pyLDAvis) (2023.3.post1)\n",
            "Requirement already satisfied: tzdata>=2022.1 in /usr/local/lib/python3.10/dist-packages (from pandas>=2.0.0->pyLDAvis) (2023.4)\n",
            "Requirement already satisfied: threadpoolctl>=2.0.0 in /usr/local/lib/python3.10/dist-packages (from scikit-learn>=1.0.0->pyLDAvis) (3.2.0)\n",
            "Requirement already satisfied: smart-open>=1.8.1 in /usr/local/lib/python3.10/dist-packages (from gensim->pyLDAvis) (6.4.0)\n",
            "Requirement already satisfied: MarkupSafe>=2.0 in /usr/local/lib/python3.10/dist-packages (from jinja2->pyLDAvis) (2.1.3)\n",
            "Requirement already satisfied: six>=1.5 in /usr/local/lib/python3.10/dist-packages (from python-dateutil>=2.8.2->pandas>=2.0.0->pyLDAvis) (1.16.0)\n",
            "Requirement already satisfied: swifter in /usr/local/lib/python3.10/dist-packages (1.4.0)\n",
            "Requirement already satisfied: pandas>=1.0.0 in /usr/local/lib/python3.10/dist-packages (from swifter) (2.1.4)\n",
            "Requirement already satisfied: psutil>=5.6.6 in /usr/local/lib/python3.10/dist-packages (from swifter) (5.9.5)\n",
            "Requirement already satisfied: dask[dataframe]>=2.10.0 in /usr/local/lib/python3.10/dist-packages (from swifter) (2023.8.1)\n",
            "Requirement already satisfied: tqdm>=4.33.0 in /usr/local/lib/python3.10/dist-packages (from swifter) (4.66.1)\n",
            "Requirement already satisfied: click>=8.0 in /usr/local/lib/python3.10/dist-packages (from dask[dataframe]>=2.10.0->swifter) (8.1.7)\n",
            "Requirement already satisfied: cloudpickle>=1.5.0 in /usr/local/lib/python3.10/dist-packages (from dask[dataframe]>=2.10.0->swifter) (2.2.1)\n",
            "Requirement already satisfied: fsspec>=2021.09.0 in /usr/local/lib/python3.10/dist-packages (from dask[dataframe]>=2.10.0->swifter) (2023.6.0)\n",
            "Requirement already satisfied: packaging>=20.0 in /usr/local/lib/python3.10/dist-packages (from dask[dataframe]>=2.10.0->swifter) (23.2)\n",
            "Requirement already satisfied: partd>=1.2.0 in /usr/local/lib/python3.10/dist-packages (from dask[dataframe]>=2.10.0->swifter) (1.4.1)\n",
            "Requirement already satisfied: pyyaml>=5.3.1 in /usr/local/lib/python3.10/dist-packages (from dask[dataframe]>=2.10.0->swifter) (6.0.1)\n",
            "Requirement already satisfied: toolz>=0.10.0 in /usr/local/lib/python3.10/dist-packages (from dask[dataframe]>=2.10.0->swifter) (0.12.0)\n",
            "Requirement already satisfied: importlib-metadata>=4.13.0 in /usr/local/lib/python3.10/dist-packages (from dask[dataframe]>=2.10.0->swifter) (7.0.0)\n",
            "Requirement already satisfied: numpy<2,>=1.22.4 in /usr/local/lib/python3.10/dist-packages (from pandas>=1.0.0->swifter) (1.26.3)\n",
            "Requirement already satisfied: python-dateutil>=2.8.2 in /usr/local/lib/python3.10/dist-packages (from pandas>=1.0.0->swifter) (2.8.2)\n",
            "Requirement already satisfied: pytz>=2020.1 in /usr/local/lib/python3.10/dist-packages (from pandas>=1.0.0->swifter) (2023.3.post1)\n",
            "Requirement already satisfied: tzdata>=2022.1 in /usr/local/lib/python3.10/dist-packages (from pandas>=1.0.0->swifter) (2023.4)\n",
            "Requirement already satisfied: zipp>=0.5 in /usr/local/lib/python3.10/dist-packages (from importlib-metadata>=4.13.0->dask[dataframe]>=2.10.0->swifter) (3.17.0)\n",
            "Requirement already satisfied: locket in /usr/local/lib/python3.10/dist-packages (from partd>=1.2.0->dask[dataframe]>=2.10.0->swifter) (1.0.0)\n",
            "Requirement already satisfied: six>=1.5 in /usr/local/lib/python3.10/dist-packages (from python-dateutil>=2.8.2->pandas>=1.0.0->swifter) (1.16.0)\n",
            "Requirement already satisfied: tqdm in /usr/local/lib/python3.10/dist-packages (4.66.1)\n"
          ]
        }
      ]
    },
    {
      "cell_type": "markdown",
      "source": [
        "# Importing libraries"
      ],
      "metadata": {
        "id": "CvF_UVqAGVGX"
      }
    },
    {
      "cell_type": "code",
      "execution_count": 2,
      "metadata": {
        "id": "0mZ9ieimWa2B"
      },
      "outputs": [],
      "source": [
        "from google.colab import drive\n",
        "from tqdm import tqdm\n",
        "import torch\n",
        "import pandas as pd\n",
        "import matplotlib.pyplot as plt\n",
        "import re\n",
        "import contractions\n",
        "import swifter\n",
        "import nltk\n",
        "from nltk.corpus import stopwords\n",
        "from nltk.tokenize import word_tokenize\n",
        "from nltk.stem import WordNetLemmatizer\n",
        "from sklearn.model_selection import train_test_split, GridSearchCV\n",
        "from sklearn.metrics import classification_report, confusion_matrix, ConfusionMatrixDisplay\n",
        "from sklearn.feature_extraction.text import TfidfVectorizer\n",
        "from sklearn.naive_bayes import MultinomialNB\n",
        "from sklearn.svm import SVC\n",
        "import concurrent.futures\n",
        "import numpy as np\n",
        "from scipy.special import softmax\n",
        "from transformers import AutoTokenizer, XLMRobertaTokenizer, AutoConfig, AutoModelForSequenceClassification\n",
        "import pyLDAvis.gensim_models as gensimvis\n",
        "import pyLDAvis\n",
        "import gensim\n",
        "from gensim import corpora"
      ]
    },
    {
      "cell_type": "code",
      "execution_count": 3,
      "metadata": {
        "colab": {
          "base_uri": "https://localhost:8080/"
        },
        "id": "QnL45lBlWa2D",
        "outputId": "edca3dc7-9677-45fc-ffe6-7236f14d25c7"
      },
      "outputs": [
        {
          "output_type": "stream",
          "name": "stderr",
          "text": [
            "/usr/local/lib/python3.10/dist-packages/ipykernel/ipkernel.py:283: DeprecationWarning: `should_run_async` will not call `transform_cell` automatically in the future. Please pass the result to `transformed_cell` argument and any exception that happen during thetransform in `preprocessing_exc_tuple` in IPython 7.17 and above.\n",
            "  and should_run_async(code)\n"
          ]
        },
        {
          "output_type": "stream",
          "name": "stdout",
          "text": [
            "Drive already mounted at /content/drive; to attempt to forcibly remount, call drive.mount(\"/content/drive\", force_remount=True).\n"
          ]
        },
        {
          "output_type": "stream",
          "name": "stderr",
          "text": [
            "[nltk_data] Downloading package stopwords to /root/nltk_data...\n",
            "[nltk_data]   Package stopwords is already up-to-date!\n",
            "[nltk_data] Downloading package punkt to /root/nltk_data...\n",
            "[nltk_data]   Package punkt is already up-to-date!\n",
            "[nltk_data] Downloading package wordnet to /root/nltk_data...\n",
            "[nltk_data]   Package wordnet is already up-to-date!\n"
          ]
        },
        {
          "output_type": "execute_result",
          "data": {
            "text/plain": [
              "True"
            ]
          },
          "metadata": {},
          "execution_count": 3
        }
      ],
      "source": [
        "drive.mount('/content/drive')\n",
        "nltk.download('stopwords')\n",
        "nltk.download('punkt')\n",
        "nltk.download('wordnet')"
      ]
    },
    {
      "cell_type": "markdown",
      "metadata": {
        "id": "oBEP1SvJWa2D"
      },
      "source": [
        "# Controller variables"
      ]
    },
    {
      "cell_type": "code",
      "execution_count": 4,
      "metadata": {
        "colab": {
          "base_uri": "https://localhost:8080/"
        },
        "id": "jG9FmyUgWa2D",
        "outputId": "20e601e9-89a8-40f4-a965-2194367148f7"
      },
      "outputs": [
        {
          "output_type": "stream",
          "name": "stdout",
          "text": [
            "cuda\n"
          ]
        },
        {
          "output_type": "stream",
          "name": "stderr",
          "text": [
            "/usr/local/lib/python3.10/dist-packages/ipykernel/ipkernel.py:283: DeprecationWarning: `should_run_async` will not call `transform_cell` automatically in the future. Please pass the result to `transformed_cell` argument and any exception that happen during thetransform in `preprocessing_exc_tuple` in IPython 7.17 and above.\n",
            "  and should_run_async(code)\n"
          ]
        }
      ],
      "source": [
        "# Set up GPU usage if available\n",
        "DEVICE = torch.device(\"cuda\" if torch.cuda.is_available() else \"cpu\")\n",
        "print(DEVICE)\n",
        "# Minimum number of characters of the content to be kept\n",
        "MIN_CHARS = 200\n",
        "# Maximum number of characters of the content to be kept\n",
        "MAX_CHARS = 1200\n",
        "# Number of samples to be in the dataset per each class\n",
        "SAMPLES_PER_CLASS = 9000\n",
        "# Maximum number of Topics\n",
        "MAX_TOPICS = 10\n",
        "# Maximum number of concurrent processes\n",
        "MAX_WORKERS =10\n",
        "# Sentiment analysis model to be used\n",
        "SENTIMENT_MODEL = \"cardiffnlp/twitter-xlm-roberta-base-sentiment\"\n",
        "# SENTIMENT_MODEL = \"lxyuan/distilbert-base-multilingual-cased-sentiments-student\"\n",
        "HATE_SPEECH_MODEL = \"facebook/roberta-hate-speech-dynabench-r4-target\""
      ]
    },
    {
      "cell_type": "markdown",
      "metadata": {
        "id": "63M27IRwWa2E"
      },
      "source": [
        "# Reading Data"
      ]
    },
    {
      "cell_type": "markdown",
      "metadata": {
        "id": "u7KBp7vjWa2E"
      },
      "source": [
        "## Information about data\n",
        "- Data from original source and the Kaggle is published as **CSV** file.\n",
        "\n",
        "- Original raw data is available through the original source. The file name is **data_huang_devansh.csv**\n",
        "\n",
        "- Data published on Kaggle, includes two files. one file is named **HateSpeechDataset.csv** and the other one is named **HateSpeechDatasetBalanced.csv**\n",
        "\n",
        "- Version of data that is published on Kaggle has been processed and cleaned already. Since we could not find information on how the processing is done on the dataset, we decided to go with the original data."
      ]
    },
    {
      "cell_type": "code",
      "execution_count": 5,
      "metadata": {
        "colab": {
          "base_uri": "https://localhost:8080/",
          "height": 278
        },
        "id": "tVIJwPRLWa2E",
        "outputId": "a6f4827f-d825-4a63-dd35-df88a18149dc"
      },
      "outputs": [
        {
          "output_type": "stream",
          "name": "stderr",
          "text": [
            "/usr/local/lib/python3.10/dist-packages/ipykernel/ipkernel.py:283: DeprecationWarning: `should_run_async` will not call `transform_cell` automatically in the future. Please pass the result to `transformed_cell` argument and any exception that happen during thetransform in `preprocessing_exc_tuple` in IPython 7.17 and above.\n",
            "  and should_run_async(code)\n"
          ]
        },
        {
          "output_type": "stream",
          "name": "stdout",
          "text": [
            "Shape of the data:  (842335, 2)\n"
          ]
        },
        {
          "output_type": "execute_result",
          "data": {
            "text/plain": [
              "                                             Content  Label\n",
              "0  `- This is not ``creative``.  Those are the di...      0\n",
              "1  `  :: the term ``standard model`` is itself le...      0\n",
              "2    True or false, the situation as of March 200...      0\n",
              "3   Next, maybe you could work on being less cond...      0\n",
              "4               This page will need disambiguation.       0"
            ],
            "text/html": [
              "\n",
              "  <div id=\"df-fe351f94-5b1b-4c09-92b7-25afac4560f4\" class=\"colab-df-container\">\n",
              "    <div>\n",
              "<style scoped>\n",
              "    .dataframe tbody tr th:only-of-type {\n",
              "        vertical-align: middle;\n",
              "    }\n",
              "\n",
              "    .dataframe tbody tr th {\n",
              "        vertical-align: top;\n",
              "    }\n",
              "\n",
              "    .dataframe thead th {\n",
              "        text-align: right;\n",
              "    }\n",
              "</style>\n",
              "<table border=\"1\" class=\"dataframe\">\n",
              "  <thead>\n",
              "    <tr style=\"text-align: right;\">\n",
              "      <th></th>\n",
              "      <th>Content</th>\n",
              "      <th>Label</th>\n",
              "    </tr>\n",
              "  </thead>\n",
              "  <tbody>\n",
              "    <tr>\n",
              "      <th>0</th>\n",
              "      <td>`- This is not ``creative``.  Those are the di...</td>\n",
              "      <td>0</td>\n",
              "    </tr>\n",
              "    <tr>\n",
              "      <th>1</th>\n",
              "      <td>`  :: the term ``standard model`` is itself le...</td>\n",
              "      <td>0</td>\n",
              "    </tr>\n",
              "    <tr>\n",
              "      <th>2</th>\n",
              "      <td>True or false, the situation as of March 200...</td>\n",
              "      <td>0</td>\n",
              "    </tr>\n",
              "    <tr>\n",
              "      <th>3</th>\n",
              "      <td>Next, maybe you could work on being less cond...</td>\n",
              "      <td>0</td>\n",
              "    </tr>\n",
              "    <tr>\n",
              "      <th>4</th>\n",
              "      <td>This page will need disambiguation.</td>\n",
              "      <td>0</td>\n",
              "    </tr>\n",
              "  </tbody>\n",
              "</table>\n",
              "</div>\n",
              "    <div class=\"colab-df-buttons\">\n",
              "\n",
              "  <div class=\"colab-df-container\">\n",
              "    <button class=\"colab-df-convert\" onclick=\"convertToInteractive('df-fe351f94-5b1b-4c09-92b7-25afac4560f4')\"\n",
              "            title=\"Convert this dataframe to an interactive table.\"\n",
              "            style=\"display:none;\">\n",
              "\n",
              "  <svg xmlns=\"http://www.w3.org/2000/svg\" height=\"24px\" viewBox=\"0 -960 960 960\">\n",
              "    <path d=\"M120-120v-720h720v720H120Zm60-500h600v-160H180v160Zm220 220h160v-160H400v160Zm0 220h160v-160H400v160ZM180-400h160v-160H180v160Zm440 0h160v-160H620v160ZM180-180h160v-160H180v160Zm440 0h160v-160H620v160Z\"/>\n",
              "  </svg>\n",
              "    </button>\n",
              "\n",
              "  <style>\n",
              "    .colab-df-container {\n",
              "      display:flex;\n",
              "      gap: 12px;\n",
              "    }\n",
              "\n",
              "    .colab-df-convert {\n",
              "      background-color: #E8F0FE;\n",
              "      border: none;\n",
              "      border-radius: 50%;\n",
              "      cursor: pointer;\n",
              "      display: none;\n",
              "      fill: #1967D2;\n",
              "      height: 32px;\n",
              "      padding: 0 0 0 0;\n",
              "      width: 32px;\n",
              "    }\n",
              "\n",
              "    .colab-df-convert:hover {\n",
              "      background-color: #E2EBFA;\n",
              "      box-shadow: 0px 1px 2px rgba(60, 64, 67, 0.3), 0px 1px 3px 1px rgba(60, 64, 67, 0.15);\n",
              "      fill: #174EA6;\n",
              "    }\n",
              "\n",
              "    .colab-df-buttons div {\n",
              "      margin-bottom: 4px;\n",
              "    }\n",
              "\n",
              "    [theme=dark] .colab-df-convert {\n",
              "      background-color: #3B4455;\n",
              "      fill: #D2E3FC;\n",
              "    }\n",
              "\n",
              "    [theme=dark] .colab-df-convert:hover {\n",
              "      background-color: #434B5C;\n",
              "      box-shadow: 0px 1px 3px 1px rgba(0, 0, 0, 0.15);\n",
              "      filter: drop-shadow(0px 1px 2px rgba(0, 0, 0, 0.3));\n",
              "      fill: #FFFFFF;\n",
              "    }\n",
              "  </style>\n",
              "\n",
              "    <script>\n",
              "      const buttonEl =\n",
              "        document.querySelector('#df-fe351f94-5b1b-4c09-92b7-25afac4560f4 button.colab-df-convert');\n",
              "      buttonEl.style.display =\n",
              "        google.colab.kernel.accessAllowed ? 'block' : 'none';\n",
              "\n",
              "      async function convertToInteractive(key) {\n",
              "        const element = document.querySelector('#df-fe351f94-5b1b-4c09-92b7-25afac4560f4');\n",
              "        const dataTable =\n",
              "          await google.colab.kernel.invokeFunction('convertToInteractive',\n",
              "                                                    [key], {});\n",
              "        if (!dataTable) return;\n",
              "\n",
              "        const docLinkHtml = 'Like what you see? Visit the ' +\n",
              "          '<a target=\"_blank\" href=https://colab.research.google.com/notebooks/data_table.ipynb>data table notebook</a>'\n",
              "          + ' to learn more about interactive tables.';\n",
              "        element.innerHTML = '';\n",
              "        dataTable['output_type'] = 'display_data';\n",
              "        await google.colab.output.renderOutput(dataTable, element);\n",
              "        const docLink = document.createElement('div');\n",
              "        docLink.innerHTML = docLinkHtml;\n",
              "        element.appendChild(docLink);\n",
              "      }\n",
              "    </script>\n",
              "  </div>\n",
              "\n",
              "\n",
              "<div id=\"df-3c435d8e-d0fc-45ce-b44e-36e293217d0e\">\n",
              "  <button class=\"colab-df-quickchart\" onclick=\"quickchart('df-3c435d8e-d0fc-45ce-b44e-36e293217d0e')\"\n",
              "            title=\"Suggest charts\"\n",
              "            style=\"display:none;\">\n",
              "\n",
              "<svg xmlns=\"http://www.w3.org/2000/svg\" height=\"24px\"viewBox=\"0 0 24 24\"\n",
              "     width=\"24px\">\n",
              "    <g>\n",
              "        <path d=\"M19 3H5c-1.1 0-2 .9-2 2v14c0 1.1.9 2 2 2h14c1.1 0 2-.9 2-2V5c0-1.1-.9-2-2-2zM9 17H7v-7h2v7zm4 0h-2V7h2v10zm4 0h-2v-4h2v4z\"/>\n",
              "    </g>\n",
              "</svg>\n",
              "  </button>\n",
              "\n",
              "<style>\n",
              "  .colab-df-quickchart {\n",
              "      --bg-color: #E8F0FE;\n",
              "      --fill-color: #1967D2;\n",
              "      --hover-bg-color: #E2EBFA;\n",
              "      --hover-fill-color: #174EA6;\n",
              "      --disabled-fill-color: #AAA;\n",
              "      --disabled-bg-color: #DDD;\n",
              "  }\n",
              "\n",
              "  [theme=dark] .colab-df-quickchart {\n",
              "      --bg-color: #3B4455;\n",
              "      --fill-color: #D2E3FC;\n",
              "      --hover-bg-color: #434B5C;\n",
              "      --hover-fill-color: #FFFFFF;\n",
              "      --disabled-bg-color: #3B4455;\n",
              "      --disabled-fill-color: #666;\n",
              "  }\n",
              "\n",
              "  .colab-df-quickchart {\n",
              "    background-color: var(--bg-color);\n",
              "    border: none;\n",
              "    border-radius: 50%;\n",
              "    cursor: pointer;\n",
              "    display: none;\n",
              "    fill: var(--fill-color);\n",
              "    height: 32px;\n",
              "    padding: 0;\n",
              "    width: 32px;\n",
              "  }\n",
              "\n",
              "  .colab-df-quickchart:hover {\n",
              "    background-color: var(--hover-bg-color);\n",
              "    box-shadow: 0 1px 2px rgba(60, 64, 67, 0.3), 0 1px 3px 1px rgba(60, 64, 67, 0.15);\n",
              "    fill: var(--button-hover-fill-color);\n",
              "  }\n",
              "\n",
              "  .colab-df-quickchart-complete:disabled,\n",
              "  .colab-df-quickchart-complete:disabled:hover {\n",
              "    background-color: var(--disabled-bg-color);\n",
              "    fill: var(--disabled-fill-color);\n",
              "    box-shadow: none;\n",
              "  }\n",
              "\n",
              "  .colab-df-spinner {\n",
              "    border: 2px solid var(--fill-color);\n",
              "    border-color: transparent;\n",
              "    border-bottom-color: var(--fill-color);\n",
              "    animation:\n",
              "      spin 1s steps(1) infinite;\n",
              "  }\n",
              "\n",
              "  @keyframes spin {\n",
              "    0% {\n",
              "      border-color: transparent;\n",
              "      border-bottom-color: var(--fill-color);\n",
              "      border-left-color: var(--fill-color);\n",
              "    }\n",
              "    20% {\n",
              "      border-color: transparent;\n",
              "      border-left-color: var(--fill-color);\n",
              "      border-top-color: var(--fill-color);\n",
              "    }\n",
              "    30% {\n",
              "      border-color: transparent;\n",
              "      border-left-color: var(--fill-color);\n",
              "      border-top-color: var(--fill-color);\n",
              "      border-right-color: var(--fill-color);\n",
              "    }\n",
              "    40% {\n",
              "      border-color: transparent;\n",
              "      border-right-color: var(--fill-color);\n",
              "      border-top-color: var(--fill-color);\n",
              "    }\n",
              "    60% {\n",
              "      border-color: transparent;\n",
              "      border-right-color: var(--fill-color);\n",
              "    }\n",
              "    80% {\n",
              "      border-color: transparent;\n",
              "      border-right-color: var(--fill-color);\n",
              "      border-bottom-color: var(--fill-color);\n",
              "    }\n",
              "    90% {\n",
              "      border-color: transparent;\n",
              "      border-bottom-color: var(--fill-color);\n",
              "    }\n",
              "  }\n",
              "</style>\n",
              "\n",
              "  <script>\n",
              "    async function quickchart(key) {\n",
              "      const quickchartButtonEl =\n",
              "        document.querySelector('#' + key + ' button');\n",
              "      quickchartButtonEl.disabled = true;  // To prevent multiple clicks.\n",
              "      quickchartButtonEl.classList.add('colab-df-spinner');\n",
              "      try {\n",
              "        const charts = await google.colab.kernel.invokeFunction(\n",
              "            'suggestCharts', [key], {});\n",
              "      } catch (error) {\n",
              "        console.error('Error during call to suggestCharts:', error);\n",
              "      }\n",
              "      quickchartButtonEl.classList.remove('colab-df-spinner');\n",
              "      quickchartButtonEl.classList.add('colab-df-quickchart-complete');\n",
              "    }\n",
              "    (() => {\n",
              "      let quickchartButtonEl =\n",
              "        document.querySelector('#df-3c435d8e-d0fc-45ce-b44e-36e293217d0e button');\n",
              "      quickchartButtonEl.style.display =\n",
              "        google.colab.kernel.accessAllowed ? 'block' : 'none';\n",
              "    })();\n",
              "  </script>\n",
              "</div>\n",
              "    </div>\n",
              "  </div>\n"
            ]
          },
          "metadata": {},
          "execution_count": 5
        }
      ],
      "source": [
        "data = pd.read_csv('/content/drive/MyDrive/Data/Hate Speech/data_huang_devansh.csv', encoding='utf-8')\n",
        "print('Shape of the data: ', data.shape)\n",
        "data.head()"
      ]
    },
    {
      "cell_type": "markdown",
      "metadata": {
        "id": "KiMHKxG8Wa2F"
      },
      "source": [
        "- Shape of the data tells us that there are 842,335 rows of data and two column in the dataset.\n",
        "- From the output of the head() function, we can see that these two columns are `Content` which is the actual text data and the `Label` which indicates if the text is categorizing as hate speech or not\n",
        "- According to the documentation of the dataset, `0` means the content is not hate speech while `1` means content is.\n",
        "- From the first look at the data, it is noticeable that content contains several punctuations and numbers\n",
        "  "
      ]
    },
    {
      "cell_type": "markdown",
      "metadata": {
        "id": "QSX9-rS6Wa2F"
      },
      "source": [
        "# Getting more insights about the data"
      ]
    },
    {
      "cell_type": "code",
      "execution_count": 6,
      "metadata": {
        "colab": {
          "base_uri": "https://localhost:8080/"
        },
        "id": "iz39vx7kWa2F",
        "outputId": "a9ebf4a9-89f9-4049-9d32-173ed99ceb5a"
      },
      "outputs": [
        {
          "output_type": "stream",
          "name": "stderr",
          "text": [
            "/usr/local/lib/python3.10/dist-packages/ipykernel/ipkernel.py:283: DeprecationWarning: `should_run_async` will not call `transform_cell` automatically in the future. Please pass the result to `transformed_cell` argument and any exception that happen during thetransform in `preprocessing_exc_tuple` in IPython 7.17 and above.\n",
            "  and should_run_async(code)\n"
          ]
        }
      ],
      "source": [
        "def plot_value_counts(data, column='label'):\n",
        "    value_counts = data[column].value_counts()\n",
        "\n",
        "    plt.figure(figsize=(8, 6))\n",
        "    bars = value_counts.plot(kind='bar', color='skyblue')\n",
        "    plt.title(f'Distribution of {column.capitalize()} Values')\n",
        "    plt.xlabel(column.capitalize())\n",
        "    plt.ylabel('Count')\n",
        "    plt.xticks(rotation=45, ha='right')\n",
        "\n",
        "    for bar in bars.patches:\n",
        "        plt.text(bar.get_x() + bar.get_width() / 2, bar.get_height(), f'{bar.get_height()}',\n",
        "                 ha='center', va='bottom', color='black', fontsize=8)\n",
        "\n",
        "    plt.tight_layout()\n",
        "    plt.show()"
      ]
    },
    {
      "cell_type": "markdown",
      "metadata": {
        "id": "b2CS0GYWWa2F"
      },
      "source": [
        "## Label distribution across dataset"
      ]
    },
    {
      "cell_type": "code",
      "execution_count": 7,
      "metadata": {
        "colab": {
          "base_uri": "https://localhost:8080/",
          "height": 662
        },
        "id": "BfjPiqtOWa2F",
        "outputId": "7ff594f3-a421-4d6d-a503-a768280e3b54"
      },
      "outputs": [
        {
          "output_type": "stream",
          "name": "stderr",
          "text": [
            "/usr/local/lib/python3.10/dist-packages/ipykernel/ipkernel.py:283: DeprecationWarning: `should_run_async` will not call `transform_cell` automatically in the future. Please pass the result to `transformed_cell` argument and any exception that happen during thetransform in `preprocessing_exc_tuple` in IPython 7.17 and above.\n",
            "  and should_run_async(code)\n"
          ]
        },
        {
          "output_type": "display_data",
          "data": {
            "text/plain": [
              "<Figure size 800x600 with 1 Axes>"
            ],
            "image/png": "[encoded data removed]"
          },
          "metadata": {}
        }
      ],
      "source": [
        "plot_value_counts(data=data, column='Label')"
      ]
    },
    {
      "cell_type": "code",
      "execution_count": 8,
      "metadata": {
        "colab": {
          "base_uri": "https://localhost:8080/"
        },
        "id": "CI67JvQ0Wa2G",
        "outputId": "34428957-6bb9-4222-86d2-effc490c8eaa"
      },
      "outputs": [
        {
          "output_type": "stream",
          "name": "stdout",
          "text": [
            "Distribution ratio of label 0:  84.13\n",
            "Distribution ratio of label 1:  15.87\n"
          ]
        },
        {
          "output_type": "stream",
          "name": "stderr",
          "text": [
            "/usr/local/lib/python3.10/dist-packages/ipykernel/ipkernel.py:283: DeprecationWarning: `should_run_async` will not call `transform_cell` automatically in the future. Please pass the result to `transformed_cell` argument and any exception that happen during thetransform in `preprocessing_exc_tuple` in IPython 7.17 and above.\n",
            "  and should_run_async(code)\n"
          ]
        }
      ],
      "source": [
        "value_counts = data['Label'].value_counts()\n",
        "class_0_dist_ratio = round(value_counts[0]/(value_counts[0] + value_counts[1]) * 100, 2)\n",
        "class_1_dist_ratio = round(value_counts[1]/(value_counts[0] + value_counts[1]) * 100, 2)\n",
        "\n",
        "print('Distribution ratio of label 0: ', class_0_dist_ratio)\n",
        "print('Distribution ratio of label 1: ', class_1_dist_ratio)"
      ]
    },
    {
      "cell_type": "markdown",
      "metadata": {
        "id": "OcBBhsIrWa2G"
      },
      "source": [
        "- Above figure shows the distribution of the data labels across the dataset.\n",
        "- There are 133,694 samples of the hate speech and 708,641 samples that are categorized as not hate speech\n",
        "- Overall the dataset is imbalanced. Label `0` has 84.13% of the data in the dataset and label `1` has 15.87% of the data"
      ]
    },
    {
      "cell_type": "code",
      "execution_count": 9,
      "metadata": {
        "colab": {
          "base_uri": "https://localhost:8080/"
        },
        "id": "Mv726tKWWa2G",
        "outputId": "3cb0c12e-7420-404c-854d-11287f982b2b"
      },
      "outputs": [
        {
          "output_type": "stream",
          "name": "stdout",
          "text": [
            "<class 'pandas.core.frame.DataFrame'>\n",
            "RangeIndex: 842335 entries, 0 to 842334\n",
            "Data columns (total 2 columns):\n",
            " #   Column   Non-Null Count   Dtype \n",
            "---  ------   --------------   ----- \n",
            " 0   Content  842327 non-null  object\n",
            " 1   Label    842335 non-null  int64 \n",
            "dtypes: int64(1), object(1)\n",
            "memory usage: 12.9+ MB\n"
          ]
        },
        {
          "output_type": "stream",
          "name": "stderr",
          "text": [
            "/usr/local/lib/python3.10/dist-packages/ipykernel/ipkernel.py:283: DeprecationWarning: `should_run_async` will not call `transform_cell` automatically in the future. Please pass the result to `transformed_cell` argument and any exception that happen during thetransform in `preprocessing_exc_tuple` in IPython 7.17 and above.\n",
            "  and should_run_async(code)\n"
          ]
        }
      ],
      "source": [
        "data.info()"
      ]
    },
    {
      "cell_type": "code",
      "execution_count": 10,
      "metadata": {
        "colab": {
          "base_uri": "https://localhost:8080/"
        },
        "id": "CQw4uFaaWa2G",
        "outputId": "50e4bded-fb76-4c16-af23-50293625c9d2"
      },
      "outputs": [
        {
          "output_type": "stream",
          "name": "stderr",
          "text": [
            "/usr/local/lib/python3.10/dist-packages/ipykernel/ipkernel.py:283: DeprecationWarning: `should_run_async` will not call `transform_cell` automatically in the future. Please pass the result to `transformed_cell` argument and any exception that happen during thetransform in `preprocessing_exc_tuple` in IPython 7.17 and above.\n",
            "  and should_run_async(code)\n"
          ]
        },
        {
          "output_type": "execute_result",
          "data": {
            "text/plain": [
              "8"
            ]
          },
          "metadata": {},
          "execution_count": 10
        }
      ],
      "source": [
        "data.loc[:, 'Content'].isnull().sum()"
      ]
    },
    {
      "cell_type": "code",
      "execution_count": 11,
      "metadata": {
        "colab": {
          "base_uri": "https://localhost:8080/",
          "height": 355
        },
        "id": "N3kf3WrZWa2G",
        "outputId": "a361cf9d-7044-4ad9-bb8c-be3a2955f5cd"
      },
      "outputs": [
        {
          "output_type": "stream",
          "name": "stderr",
          "text": [
            "/usr/local/lib/python3.10/dist-packages/ipykernel/ipkernel.py:283: DeprecationWarning: `should_run_async` will not call `transform_cell` automatically in the future. Please pass the result to `transformed_cell` argument and any exception that happen during thetransform in `preprocessing_exc_tuple` in IPython 7.17 and above.\n",
            "  and should_run_async(code)\n"
          ]
        },
        {
          "output_type": "execute_result",
          "data": {
            "text/plain": [
              "       Content  Label\n",
              "764015     NaN      0\n",
              "764530     NaN      0\n",
              "766391     NaN      0\n",
              "769191     NaN      0\n",
              "769339     NaN      0\n",
              "769662     NaN      0\n",
              "770766     NaN      0\n",
              "771812     NaN      0"
            ],
            "text/html": [
              "\n",
              "  <div id=\"df-d598d889-70f3-4fec-95f9-87a1f51b5279\" class=\"colab-df-container\">\n",
              "    <div>\n",
              "<style scoped>\n",
              "    .dataframe tbody tr th:only-of-type {\n",
              "        vertical-align: middle;\n",
              "    }\n",
              "\n",
              "    .dataframe tbody tr th {\n",
              "        vertical-align: top;\n",
              "    }\n",
              "\n",
              "    .dataframe thead th {\n",
              "        text-align: right;\n",
              "    }\n",
              "</style>\n",
              "<table border=\"1\" class=\"dataframe\">\n",
              "  <thead>\n",
              "    <tr style=\"text-align: right;\">\n",
              "      <th></th>\n",
              "      <th>Content</th>\n",
              "      <th>Label</th>\n",
              "    </tr>\n",
              "  </thead>\n",
              "  <tbody>\n",
              "    <tr>\n",
              "      <th>764015</th>\n",
              "      <td>NaN</td>\n",
              "      <td>0</td>\n",
              "    </tr>\n",
              "    <tr>\n",
              "      <th>764530</th>\n",
              "      <td>NaN</td>\n",
              "      <td>0</td>\n",
              "    </tr>\n",
              "    <tr>\n",
              "      <th>766391</th>\n",
              "      <td>NaN</td>\n",
              "      <td>0</td>\n",
              "    </tr>\n",
              "    <tr>\n",
              "      <th>769191</th>\n",
              "      <td>NaN</td>\n",
              "      <td>0</td>\n",
              "    </tr>\n",
              "    <tr>\n",
              "      <th>769339</th>\n",
              "      <td>NaN</td>\n",
              "      <td>0</td>\n",
              "    </tr>\n",
              "    <tr>\n",
              "      <th>769662</th>\n",
              "      <td>NaN</td>\n",
              "      <td>0</td>\n",
              "    </tr>\n",
              "    <tr>\n",
              "      <th>770766</th>\n",
              "      <td>NaN</td>\n",
              "      <td>0</td>\n",
              "    </tr>\n",
              "    <tr>\n",
              "      <th>771812</th>\n",
              "      <td>NaN</td>\n",
              "      <td>0</td>\n",
              "    </tr>\n",
              "  </tbody>\n",
              "</table>\n",
              "</div>\n",
              "    <div class=\"colab-df-buttons\">\n",
              "\n",
              "  <div class=\"colab-df-container\">\n",
              "    <button class=\"colab-df-convert\" onclick=\"convertToInteractive('df-d598d889-70f3-4fec-95f9-87a1f51b5279')\"\n",
              "            title=\"Convert this dataframe to an interactive table.\"\n",
              "            style=\"display:none;\">\n",
              "\n",
              "  <svg xmlns=\"http://www.w3.org/2000/svg\" height=\"24px\" viewBox=\"0 -960 960 960\">\n",
              "    <path d=\"M120-120v-720h720v720H120Zm60-500h600v-160H180v160Zm220 220h160v-160H400v160Zm0 220h160v-160H400v160ZM180-400h160v-160H180v160Zm440 0h160v-160H620v160ZM180-180h160v-160H180v160Zm440 0h160v-160H620v160Z\"/>\n",
              "  </svg>\n",
              "    </button>\n",
              "\n",
              "  <style>\n",
              "    .colab-df-container {\n",
              "      display:flex;\n",
              "      gap: 12px;\n",
              "    }\n",
              "\n",
              "    .colab-df-convert {\n",
              "      background-color: #E8F0FE;\n",
              "      border: none;\n",
              "      border-radius: 50%;\n",
              "      cursor: pointer;\n",
              "      display: none;\n",
              "      fill: #1967D2;\n",
              "      height: 32px;\n",
              "      padding: 0 0 0 0;\n",
              "      width: 32px;\n",
              "    }\n",
              "\n",
              "    .colab-df-convert:hover {\n",
              "      background-color: #E2EBFA;\n",
              "      box-shadow: 0px 1px 2px rgba(60, 64, 67, 0.3), 0px 1px 3px 1px rgba(60, 64, 67, 0.15);\n",
              "      fill: #174EA6;\n",
              "    }\n",
              "\n",
              "    .colab-df-buttons div {\n",
              "      margin-bottom: 4px;\n",
              "    }\n",
              "\n",
              "    [theme=dark] .colab-df-convert {\n",
              "      background-color: #3B4455;\n",
              "      fill: #D2E3FC;\n",
              "    }\n",
              "\n",
              "    [theme=dark] .colab-df-convert:hover {\n",
              "      background-color: #434B5C;\n",
              "      box-shadow: 0px 1px 3px 1px rgba(0, 0, 0, 0.15);\n",
              "      filter: drop-shadow(0px 1px 2px rgba(0, 0, 0, 0.3));\n",
              "      fill: #FFFFFF;\n",
              "    }\n",
              "  </style>\n",
              "\n",
              "    <script>\n",
              "      const buttonEl =\n",
              "        document.querySelector('#df-d598d889-70f3-4fec-95f9-87a1f51b5279 button.colab-df-convert');\n",
              "      buttonEl.style.display =\n",
              "        google.colab.kernel.accessAllowed ? 'block' : 'none';\n",
              "\n",
              "      async function convertToInteractive(key) {\n",
              "        const element = document.querySelector('#df-d598d889-70f3-4fec-95f9-87a1f51b5279');\n",
              "        const dataTable =\n",
              "          await google.colab.kernel.invokeFunction('convertToInteractive',\n",
              "                                                    [key], {});\n",
              "        if (!dataTable) return;\n",
              "\n",
              "        const docLinkHtml = 'Like what you see? Visit the ' +\n",
              "          '<a target=\"_blank\" href=https://colab.research.google.com/notebooks/data_table.ipynb>data table notebook</a>'\n",
              "          + ' to learn more about interactive tables.';\n",
              "        element.innerHTML = '';\n",
              "        dataTable['output_type'] = 'display_data';\n",
              "        await google.colab.output.renderOutput(dataTable, element);\n",
              "        const docLink = document.createElement('div');\n",
              "        docLink.innerHTML = docLinkHtml;\n",
              "        element.appendChild(docLink);\n",
              "      }\n",
              "    </script>\n",
              "  </div>\n",
              "\n",
              "\n",
              "<div id=\"df-c6cc72e1-4a06-4d13-a015-8d526d95f04f\">\n",
              "  <button class=\"colab-df-quickchart\" onclick=\"quickchart('df-c6cc72e1-4a06-4d13-a015-8d526d95f04f')\"\n",
              "            title=\"Suggest charts\"\n",
              "            style=\"display:none;\">\n",
              "\n",
              "<svg xmlns=\"http://www.w3.org/2000/svg\" height=\"24px\"viewBox=\"0 0 24 24\"\n",
              "     width=\"24px\">\n",
              "    <g>\n",
              "        <path d=\"M19 3H5c-1.1 0-2 .9-2 2v14c0 1.1.9 2 2 2h14c1.1 0 2-.9 2-2V5c0-1.1-.9-2-2-2zM9 17H7v-7h2v7zm4 0h-2V7h2v10zm4 0h-2v-4h2v4z\"/>\n",
              "    </g>\n",
              "</svg>\n",
              "  </button>\n",
              "\n",
              "<style>\n",
              "  .colab-df-quickchart {\n",
              "      --bg-color: #E8F0FE;\n",
              "      --fill-color: #1967D2;\n",
              "      --hover-bg-color: #E2EBFA;\n",
              "      --hover-fill-color: #174EA6;\n",
              "      --disabled-fill-color: #AAA;\n",
              "      --disabled-bg-color: #DDD;\n",
              "  }\n",
              "\n",
              "  [theme=dark] .colab-df-quickchart {\n",
              "      --bg-color: #3B4455;\n",
              "      --fill-color: #D2E3FC;\n",
              "      --hover-bg-color: #434B5C;\n",
              "      --hover-fill-color: #FFFFFF;\n",
              "      --disabled-bg-color: #3B4455;\n",
              "      --disabled-fill-color: #666;\n",
              "  }\n",
              "\n",
              "  .colab-df-quickchart {\n",
              "    background-color: var(--bg-color);\n",
              "    border: none;\n",
              "    border-radius: 50%;\n",
              "    cursor: pointer;\n",
              "    display: none;\n",
              "    fill: var(--fill-color);\n",
              "    height: 32px;\n",
              "    padding: 0;\n",
              "    width: 32px;\n",
              "  }\n",
              "\n",
              "  .colab-df-quickchart:hover {\n",
              "    background-color: var(--hover-bg-color);\n",
              "    box-shadow: 0 1px 2px rgba(60, 64, 67, 0.3), 0 1px 3px 1px rgba(60, 64, 67, 0.15);\n",
              "    fill: var(--button-hover-fill-color);\n",
              "  }\n",
              "\n",
              "  .colab-df-quickchart-complete:disabled,\n",
              "  .colab-df-quickchart-complete:disabled:hover {\n",
              "    background-color: var(--disabled-bg-color);\n",
              "    fill: var(--disabled-fill-color);\n",
              "    box-shadow: none;\n",
              "  }\n",
              "\n",
              "  .colab-df-spinner {\n",
              "    border: 2px solid var(--fill-color);\n",
              "    border-color: transparent;\n",
              "    border-bottom-color: var(--fill-color);\n",
              "    animation:\n",
              "      spin 1s steps(1) infinite;\n",
              "  }\n",
              "\n",
              "  @keyframes spin {\n",
              "    0% {\n",
              "      border-color: transparent;\n",
              "      border-bottom-color: var(--fill-color);\n",
              "      border-left-color: var(--fill-color);\n",
              "    }\n",
              "    20% {\n",
              "      border-color: transparent;\n",
              "      border-left-color: var(--fill-color);\n",
              "      border-top-color: var(--fill-color);\n",
              "    }\n",
              "    30% {\n",
              "      border-color: transparent;\n",
              "      border-left-color: var(--fill-color);\n",
              "      border-top-color: var(--fill-color);\n",
              "      border-right-color: var(--fill-color);\n",
              "    }\n",
              "    40% {\n",
              "      border-color: transparent;\n",
              "      border-right-color: var(--fill-color);\n",
              "      border-top-color: var(--fill-color);\n",
              "    }\n",
              "    60% {\n",
              "      border-color: transparent;\n",
              "      border-right-color: var(--fill-color);\n",
              "    }\n",
              "    80% {\n",
              "      border-color: transparent;\n",
              "      border-right-color: var(--fill-color);\n",
              "      border-bottom-color: var(--fill-color);\n",
              "    }\n",
              "    90% {\n",
              "      border-color: transparent;\n",
              "      border-bottom-color: var(--fill-color);\n",
              "    }\n",
              "  }\n",
              "</style>\n",
              "\n",
              "  <script>\n",
              "    async function quickchart(key) {\n",
              "      const quickchartButtonEl =\n",
              "        document.querySelector('#' + key + ' button');\n",
              "      quickchartButtonEl.disabled = true;  // To prevent multiple clicks.\n",
              "      quickchartButtonEl.classList.add('colab-df-spinner');\n",
              "      try {\n",
              "        const charts = await google.colab.kernel.invokeFunction(\n",
              "            'suggestCharts', [key], {});\n",
              "      } catch (error) {\n",
              "        console.error('Error during call to suggestCharts:', error);\n",
              "      }\n",
              "      quickchartButtonEl.classList.remove('colab-df-spinner');\n",
              "      quickchartButtonEl.classList.add('colab-df-quickchart-complete');\n",
              "    }\n",
              "    (() => {\n",
              "      let quickchartButtonEl =\n",
              "        document.querySelector('#df-c6cc72e1-4a06-4d13-a015-8d526d95f04f button');\n",
              "      quickchartButtonEl.style.display =\n",
              "        google.colab.kernel.accessAllowed ? 'block' : 'none';\n",
              "    })();\n",
              "  </script>\n",
              "</div>\n",
              "    </div>\n",
              "  </div>\n"
            ]
          },
          "metadata": {},
          "execution_count": 11
        }
      ],
      "source": [
        "data[data['Content'].isnull()==True]"
      ]
    },
    {
      "cell_type": "markdown",
      "metadata": {
        "id": "ONuq56vPWa2H"
      },
      "source": [
        "- There are 8 samples that has no content from label 0 in the dataset.\n",
        "- These samples will be removed later in the preprocessing part"
      ]
    },
    {
      "cell_type": "code",
      "execution_count": 12,
      "metadata": {
        "colab": {
          "base_uri": "https://localhost:8080/"
        },
        "id": "zfx8i0FcWa2H",
        "outputId": "5cf3e53c-47e0-4bea-b520-d4fe2aa823b4"
      },
      "outputs": [
        {
          "output_type": "stream",
          "name": "stderr",
          "text": [
            "/usr/local/lib/python3.10/dist-packages/ipykernel/ipkernel.py:283: DeprecationWarning: `should_run_async` will not call `transform_cell` automatically in the future. Please pass the result to `transformed_cell` argument and any exception that happen during thetransform in `preprocessing_exc_tuple` in IPython 7.17 and above.\n",
            "  and should_run_async(code)\n"
          ]
        },
        {
          "output_type": "stream",
          "name": "stdout",
          "text": [
            "Number of duplicated rows:  281950\n"
          ]
        }
      ],
      "source": [
        "print('Number of duplicated rows: ', data['Content'].duplicated().sum())"
      ]
    },
    {
      "cell_type": "code",
      "execution_count": 13,
      "metadata": {
        "colab": {
          "base_uri": "https://localhost:8080/"
        },
        "id": "htrW8BU7Wa2H",
        "outputId": "e2ab3270-90ac-4cd8-e846-612f95598c69"
      },
      "outputs": [
        {
          "output_type": "stream",
          "name": "stderr",
          "text": [
            "/usr/local/lib/python3.10/dist-packages/ipykernel/ipkernel.py:283: DeprecationWarning: `should_run_async` will not call `transform_cell` automatically in the future. Please pass the result to `transformed_cell` argument and any exception that happen during thetransform in `preprocessing_exc_tuple` in IPython 7.17 and above.\n",
            "  and should_run_async(code)\n"
          ]
        },
        {
          "output_type": "execute_result",
          "data": {
            "text/plain": [
              "Label\n",
              "0    241607\n",
              "1     40343\n",
              "Name: count, dtype: int64"
            ]
          },
          "metadata": {},
          "execution_count": 13
        }
      ],
      "source": [
        "data[data['Content'].duplicated() ==  True]['Label'].value_counts()"
      ]
    },
    {
      "cell_type": "markdown",
      "metadata": {
        "id": "irhx4LVEWa2H"
      },
      "source": [
        "- There are total of 281,950 duplicated rows according to the value of column Content.\n",
        "- 241,607 samples belong to class 0 and 40343 belongs to class 1\n",
        "- These samples will be removed later in the preprocessing part\n",
        "  "
      ]
    },
    {
      "cell_type": "markdown",
      "metadata": {
        "id": "upCEgzy-Wa2H"
      },
      "source": [
        "# Data Preprocessing"
      ]
    },
    {
      "cell_type": "markdown",
      "metadata": {
        "id": "FDS-xccVWa2H"
      },
      "source": [
        "## Lower casing column names"
      ]
    },
    {
      "cell_type": "code",
      "execution_count": 14,
      "metadata": {
        "colab": {
          "base_uri": "https://localhost:8080/",
          "height": 278
        },
        "id": "clbTCCkwWa2H",
        "outputId": "fd2f3fd3-53be-481b-ffba-8b195fa0f4bd"
      },
      "outputs": [
        {
          "output_type": "stream",
          "name": "stdout",
          "text": [
            "Index(['content', 'label'], dtype='object')\n"
          ]
        },
        {
          "output_type": "stream",
          "name": "stderr",
          "text": [
            "/usr/local/lib/python3.10/dist-packages/ipykernel/ipkernel.py:283: DeprecationWarning: `should_run_async` will not call `transform_cell` automatically in the future. Please pass the result to `transformed_cell` argument and any exception that happen during thetransform in `preprocessing_exc_tuple` in IPython 7.17 and above.\n",
            "  and should_run_async(code)\n"
          ]
        },
        {
          "output_type": "execute_result",
          "data": {
            "text/plain": [
              "                                             content  label\n",
              "0  `- This is not ``creative``.  Those are the di...      0\n",
              "1  `  :: the term ``standard model`` is itself le...      0\n",
              "2    True or false, the situation as of March 200...      0\n",
              "3   Next, maybe you could work on being less cond...      0\n",
              "4               This page will need disambiguation.       0"
            ],
            "text/html": [
              "\n",
              "  <div id=\"df-996e1dfd-2ab7-409f-80f4-2934494489f5\" class=\"colab-df-container\">\n",
              "    <div>\n",
              "<style scoped>\n",
              "    .dataframe tbody tr th:only-of-type {\n",
              "        vertical-align: middle;\n",
              "    }\n",
              "\n",
              "    .dataframe tbody tr th {\n",
              "        vertical-align: top;\n",
              "    }\n",
              "\n",
              "    .dataframe thead th {\n",
              "        text-align: right;\n",
              "    }\n",
              "</style>\n",
              "<table border=\"1\" class=\"dataframe\">\n",
              "  <thead>\n",
              "    <tr style=\"text-align: right;\">\n",
              "      <th></th>\n",
              "      <th>content</th>\n",
              "      <th>label</th>\n",
              "    </tr>\n",
              "  </thead>\n",
              "  <tbody>\n",
              "    <tr>\n",
              "      <th>0</th>\n",
              "      <td>`- This is not ``creative``.  Those are the di...</td>\n",
              "      <td>0</td>\n",
              "    </tr>\n",
              "    <tr>\n",
              "      <th>1</th>\n",
              "      <td>`  :: the term ``standard model`` is itself le...</td>\n",
              "      <td>0</td>\n",
              "    </tr>\n",
              "    <tr>\n",
              "      <th>2</th>\n",
              "      <td>True or false, the situation as of March 200...</td>\n",
              "      <td>0</td>\n",
              "    </tr>\n",
              "    <tr>\n",
              "      <th>3</th>\n",
              "      <td>Next, maybe you could work on being less cond...</td>\n",
              "      <td>0</td>\n",
              "    </tr>\n",
              "    <tr>\n",
              "      <th>4</th>\n",
              "      <td>This page will need disambiguation.</td>\n",
              "      <td>0</td>\n",
              "    </tr>\n",
              "  </tbody>\n",
              "</table>\n",
              "</div>\n",
              "    <div class=\"colab-df-buttons\">\n",
              "\n",
              "  <div class=\"colab-df-container\">\n",
              "    <button class=\"colab-df-convert\" onclick=\"convertToInteractive('df-996e1dfd-2ab7-409f-80f4-2934494489f5')\"\n",
              "            title=\"Convert this dataframe to an interactive table.\"\n",
              "            style=\"display:none;\">\n",
              "\n",
              "  <svg xmlns=\"http://www.w3.org/2000/svg\" height=\"24px\" viewBox=\"0 -960 960 960\">\n",
              "    <path d=\"M120-120v-720h720v720H120Zm60-500h600v-160H180v160Zm220 220h160v-160H400v160Zm0 220h160v-160H400v160ZM180-400h160v-160H180v160Zm440 0h160v-160H620v160ZM180-180h160v-160H180v160Zm440 0h160v-160H620v160Z\"/>\n",
              "  </svg>\n",
              "    </button>\n",
              "\n",
              "  <style>\n",
              "    .colab-df-container {\n",
              "      display:flex;\n",
              "      gap: 12px;\n",
              "    }\n",
              "\n",
              "    .colab-df-convert {\n",
              "      background-color: #E8F0FE;\n",
              "      border: none;\n",
              "      border-radius: 50%;\n",
              "      cursor: pointer;\n",
              "      display: none;\n",
              "      fill: #1967D2;\n",
              "      height: 32px;\n",
              "      padding: 0 0 0 0;\n",
              "      width: 32px;\n",
              "    }\n",
              "\n",
              "    .colab-df-convert:hover {\n",
              "      background-color: #E2EBFA;\n",
              "      box-shadow: 0px 1px 2px rgba(60, 64, 67, 0.3), 0px 1px 3px 1px rgba(60, 64, 67, 0.15);\n",
              "      fill: #174EA6;\n",
              "    }\n",
              "\n",
              "    .colab-df-buttons div {\n",
              "      margin-bottom: 4px;\n",
              "    }\n",
              "\n",
              "    [theme=dark] .colab-df-convert {\n",
              "      background-color: #3B4455;\n",
              "      fill: #D2E3FC;\n",
              "    }\n",
              "\n",
              "    [theme=dark] .colab-df-convert:hover {\n",
              "      background-color: #434B5C;\n",
              "      box-shadow: 0px 1px 3px 1px rgba(0, 0, 0, 0.15);\n",
              "      filter: drop-shadow(0px 1px 2px rgba(0, 0, 0, 0.3));\n",
              "      fill: #FFFFFF;\n",
              "    }\n",
              "  </style>\n",
              "\n",
              "    <script>\n",
              "      const buttonEl =\n",
              "        document.querySelector('#df-996e1dfd-2ab7-409f-80f4-2934494489f5 button.colab-df-convert');\n",
              "      buttonEl.style.display =\n",
              "        google.colab.kernel.accessAllowed ? 'block' : 'none';\n",
              "\n",
              "      async function convertToInteractive(key) {\n",
              "        const element = document.querySelector('#df-996e1dfd-2ab7-409f-80f4-2934494489f5');\n",
              "        const dataTable =\n",
              "          await google.colab.kernel.invokeFunction('convertToInteractive',\n",
              "                                                    [key], {});\n",
              "        if (!dataTable) return;\n",
              "\n",
              "        const docLinkHtml = 'Like what you see? Visit the ' +\n",
              "          '<a target=\"_blank\" href=https://colab.research.google.com/notebooks/data_table.ipynb>data table notebook</a>'\n",
              "          + ' to learn more about interactive tables.';\n",
              "        element.innerHTML = '';\n",
              "        dataTable['output_type'] = 'display_data';\n",
              "        await google.colab.output.renderOutput(dataTable, element);\n",
              "        const docLink = document.createElement('div');\n",
              "        docLink.innerHTML = docLinkHtml;\n",
              "        element.appendChild(docLink);\n",
              "      }\n",
              "    </script>\n",
              "  </div>\n",
              "\n",
              "\n",
              "<div id=\"df-1f70ced8-ca96-463f-879f-0a50730663da\">\n",
              "  <button class=\"colab-df-quickchart\" onclick=\"quickchart('df-1f70ced8-ca96-463f-879f-0a50730663da')\"\n",
              "            title=\"Suggest charts\"\n",
              "            style=\"display:none;\">\n",
              "\n",
              "<svg xmlns=\"http://www.w3.org/2000/svg\" height=\"24px\"viewBox=\"0 0 24 24\"\n",
              "     width=\"24px\">\n",
              "    <g>\n",
              "        <path d=\"M19 3H5c-1.1 0-2 .9-2 2v14c0 1.1.9 2 2 2h14c1.1 0 2-.9 2-2V5c0-1.1-.9-2-2-2zM9 17H7v-7h2v7zm4 0h-2V7h2v10zm4 0h-2v-4h2v4z\"/>\n",
              "    </g>\n",
              "</svg>\n",
              "  </button>\n",
              "\n",
              "<style>\n",
              "  .colab-df-quickchart {\n",
              "      --bg-color: #E8F0FE;\n",
              "      --fill-color: #1967D2;\n",
              "      --hover-bg-color: #E2EBFA;\n",
              "      --hover-fill-color: #174EA6;\n",
              "      --disabled-fill-color: #AAA;\n",
              "      --disabled-bg-color: #DDD;\n",
              "  }\n",
              "\n",
              "  [theme=dark] .colab-df-quickchart {\n",
              "      --bg-color: #3B4455;\n",
              "      --fill-color: #D2E3FC;\n",
              "      --hover-bg-color: #434B5C;\n",
              "      --hover-fill-color: #FFFFFF;\n",
              "      --disabled-bg-color: #3B4455;\n",
              "      --disabled-fill-color: #666;\n",
              "  }\n",
              "\n",
              "  .colab-df-quickchart {\n",
              "    background-color: var(--bg-color);\n",
              "    border: none;\n",
              "    border-radius: 50%;\n",
              "    cursor: pointer;\n",
              "    display: none;\n",
              "    fill: var(--fill-color);\n",
              "    height: 32px;\n",
              "    padding: 0;\n",
              "    width: 32px;\n",
              "  }\n",
              "\n",
              "  .colab-df-quickchart:hover {\n",
              "    background-color: var(--hover-bg-color);\n",
              "    box-shadow: 0 1px 2px rgba(60, 64, 67, 0.3), 0 1px 3px 1px rgba(60, 64, 67, 0.15);\n",
              "    fill: var(--button-hover-fill-color);\n",
              "  }\n",
              "\n",
              "  .colab-df-quickchart-complete:disabled,\n",
              "  .colab-df-quickchart-complete:disabled:hover {\n",
              "    background-color: var(--disabled-bg-color);\n",
              "    fill: var(--disabled-fill-color);\n",
              "    box-shadow: none;\n",
              "  }\n",
              "\n",
              "  .colab-df-spinner {\n",
              "    border: 2px solid var(--fill-color);\n",
              "    border-color: transparent;\n",
              "    border-bottom-color: var(--fill-color);\n",
              "    animation:\n",
              "      spin 1s steps(1) infinite;\n",
              "  }\n",
              "\n",
              "  @keyframes spin {\n",
              "    0% {\n",
              "      border-color: transparent;\n",
              "      border-bottom-color: var(--fill-color);\n",
              "      border-left-color: var(--fill-color);\n",
              "    }\n",
              "    20% {\n",
              "      border-color: transparent;\n",
              "      border-left-color: var(--fill-color);\n",
              "      border-top-color: var(--fill-color);\n",
              "    }\n",
              "    30% {\n",
              "      border-color: transparent;\n",
              "      border-left-color: var(--fill-color);\n",
              "      border-top-color: var(--fill-color);\n",
              "      border-right-color: var(--fill-color);\n",
              "    }\n",
              "    40% {\n",
              "      border-color: transparent;\n",
              "      border-right-color: var(--fill-color);\n",
              "      border-top-color: var(--fill-color);\n",
              "    }\n",
              "    60% {\n",
              "      border-color: transparent;\n",
              "      border-right-color: var(--fill-color);\n",
              "    }\n",
              "    80% {\n",
              "      border-color: transparent;\n",
              "      border-right-color: var(--fill-color);\n",
              "      border-bottom-color: var(--fill-color);\n",
              "    }\n",
              "    90% {\n",
              "      border-color: transparent;\n",
              "      border-bottom-color: var(--fill-color);\n",
              "    }\n",
              "  }\n",
              "</style>\n",
              "\n",
              "  <script>\n",
              "    async function quickchart(key) {\n",
              "      const quickchartButtonEl =\n",
              "        document.querySelector('#' + key + ' button');\n",
              "      quickchartButtonEl.disabled = true;  // To prevent multiple clicks.\n",
              "      quickchartButtonEl.classList.add('colab-df-spinner');\n",
              "      try {\n",
              "        const charts = await google.colab.kernel.invokeFunction(\n",
              "            'suggestCharts', [key], {});\n",
              "      } catch (error) {\n",
              "        console.error('Error during call to suggestCharts:', error);\n",
              "      }\n",
              "      quickchartButtonEl.classList.remove('colab-df-spinner');\n",
              "      quickchartButtonEl.classList.add('colab-df-quickchart-complete');\n",
              "    }\n",
              "    (() => {\n",
              "      let quickchartButtonEl =\n",
              "        document.querySelector('#df-1f70ced8-ca96-463f-879f-0a50730663da button');\n",
              "      quickchartButtonEl.style.display =\n",
              "        google.colab.kernel.accessAllowed ? 'block' : 'none';\n",
              "    })();\n",
              "  </script>\n",
              "</div>\n",
              "    </div>\n",
              "  </div>\n"
            ]
          },
          "metadata": {},
          "execution_count": 14
        }
      ],
      "source": [
        "data.columns = data.columns.str.lower()\n",
        "print(data.columns)\n",
        "data.head()"
      ]
    },
    {
      "cell_type": "markdown",
      "metadata": {
        "id": "qmGTlAPwWa2H"
      },
      "source": [
        "## Lower casing all content values"
      ]
    },
    {
      "cell_type": "code",
      "execution_count": 15,
      "metadata": {
        "colab": {
          "base_uri": "https://localhost:8080/",
          "height": 261
        },
        "id": "ZrHWEJArWa2I",
        "outputId": "1382d9e5-82b0-4e47-dee1-8f644bddf364"
      },
      "outputs": [
        {
          "output_type": "stream",
          "name": "stderr",
          "text": [
            "/usr/local/lib/python3.10/dist-packages/ipykernel/ipkernel.py:283: DeprecationWarning: `should_run_async` will not call `transform_cell` automatically in the future. Please pass the result to `transformed_cell` argument and any exception that happen during thetransform in `preprocessing_exc_tuple` in IPython 7.17 and above.\n",
            "  and should_run_async(code)\n"
          ]
        },
        {
          "output_type": "execute_result",
          "data": {
            "text/plain": [
              "                                             content  label\n",
              "0  `- this is not ``creative``.  those are the di...      0\n",
              "1  `  :: the term ``standard model`` is itself le...      0\n",
              "2    true or false, the situation as of march 200...      0\n",
              "3   next, maybe you could work on being less cond...      0\n",
              "4               this page will need disambiguation.       0"
            ],
            "text/html": [
              "\n",
              "  <div id=\"df-f530b6bc-b672-4a21-858a-1fef69f7d20a\" class=\"colab-df-container\">\n",
              "    <div>\n",
              "<style scoped>\n",
              "    .dataframe tbody tr th:only-of-type {\n",
              "        vertical-align: middle;\n",
              "    }\n",
              "\n",
              "    .dataframe tbody tr th {\n",
              "        vertical-align: top;\n",
              "    }\n",
              "\n",
              "    .dataframe thead th {\n",
              "        text-align: right;\n",
              "    }\n",
              "</style>\n",
              "<table border=\"1\" class=\"dataframe\">\n",
              "  <thead>\n",
              "    <tr style=\"text-align: right;\">\n",
              "      <th></th>\n",
              "      <th>content</th>\n",
              "      <th>label</th>\n",
              "    </tr>\n",
              "  </thead>\n",
              "  <tbody>\n",
              "    <tr>\n",
              "      <th>0</th>\n",
              "      <td>`- this is not ``creative``.  those are the di...</td>\n",
              "      <td>0</td>\n",
              "    </tr>\n",
              "    <tr>\n",
              "      <th>1</th>\n",
              "      <td>`  :: the term ``standard model`` is itself le...</td>\n",
              "      <td>0</td>\n",
              "    </tr>\n",
              "    <tr>\n",
              "      <th>2</th>\n",
              "      <td>true or false, the situation as of march 200...</td>\n",
              "      <td>0</td>\n",
              "    </tr>\n",
              "    <tr>\n",
              "      <th>3</th>\n",
              "      <td>next, maybe you could work on being less cond...</td>\n",
              "      <td>0</td>\n",
              "    </tr>\n",
              "    <tr>\n",
              "      <th>4</th>\n",
              "      <td>this page will need disambiguation.</td>\n",
              "      <td>0</td>\n",
              "    </tr>\n",
              "  </tbody>\n",
              "</table>\n",
              "</div>\n",
              "    <div class=\"colab-df-buttons\">\n",
              "\n",
              "  <div class=\"colab-df-container\">\n",
              "    <button class=\"colab-df-convert\" onclick=\"convertToInteractive('df-f530b6bc-b672-4a21-858a-1fef69f7d20a')\"\n",
              "            title=\"Convert this dataframe to an interactive table.\"\n",
              "            style=\"display:none;\">\n",
              "\n",
              "  <svg xmlns=\"http://www.w3.org/2000/svg\" height=\"24px\" viewBox=\"0 -960 960 960\">\n",
              "    <path d=\"M120-120v-720h720v720H120Zm60-500h600v-160H180v160Zm220 220h160v-160H400v160Zm0 220h160v-160H400v160ZM180-400h160v-160H180v160Zm440 0h160v-160H620v160ZM180-180h160v-160H180v160Zm440 0h160v-160H620v160Z\"/>\n",
              "  </svg>\n",
              "    </button>\n",
              "\n",
              "  <style>\n",
              "    .colab-df-container {\n",
              "      display:flex;\n",
              "      gap: 12px;\n",
              "    }\n",
              "\n",
              "    .colab-df-convert {\n",
              "      background-color: #E8F0FE;\n",
              "      border: none;\n",
              "      border-radius: 50%;\n",
              "      cursor: pointer;\n",
              "      display: none;\n",
              "      fill: #1967D2;\n",
              "      height: 32px;\n",
              "      padding: 0 0 0 0;\n",
              "      width: 32px;\n",
              "    }\n",
              "\n",
              "    .colab-df-convert:hover {\n",
              "      background-color: #E2EBFA;\n",
              "      box-shadow: 0px 1px 2px rgba(60, 64, 67, 0.3), 0px 1px 3px 1px rgba(60, 64, 67, 0.15);\n",
              "      fill: #174EA6;\n",
              "    }\n",
              "\n",
              "    .colab-df-buttons div {\n",
              "      margin-bottom: 4px;\n",
              "    }\n",
              "\n",
              "    [theme=dark] .colab-df-convert {\n",
              "      background-color: #3B4455;\n",
              "      fill: #D2E3FC;\n",
              "    }\n",
              "\n",
              "    [theme=dark] .colab-df-convert:hover {\n",
              "      background-color: #434B5C;\n",
              "      box-shadow: 0px 1px 3px 1px rgba(0, 0, 0, 0.15);\n",
              "      filter: drop-shadow(0px 1px 2px rgba(0, 0, 0, 0.3));\n",
              "      fill: #FFFFFF;\n",
              "    }\n",
              "  </style>\n",
              "\n",
              "    <script>\n",
              "      const buttonEl =\n",
              "        document.querySelector('#df-f530b6bc-b672-4a21-858a-1fef69f7d20a button.colab-df-convert');\n",
              "      buttonEl.style.display =\n",
              "        google.colab.kernel.accessAllowed ? 'block' : 'none';\n",
              "\n",
              "      async function convertToInteractive(key) {\n",
              "        const element = document.querySelector('#df-f530b6bc-b672-4a21-858a-1fef69f7d20a');\n",
              "        const dataTable =\n",
              "          await google.colab.kernel.invokeFunction('convertToInteractive',\n",
              "                                                    [key], {});\n",
              "        if (!dataTable) return;\n",
              "\n",
              "        const docLinkHtml = 'Like what you see? Visit the ' +\n",
              "          '<a target=\"_blank\" href=https://colab.research.google.com/notebooks/data_table.ipynb>data table notebook</a>'\n",
              "          + ' to learn more about interactive tables.';\n",
              "        element.innerHTML = '';\n",
              "        dataTable['output_type'] = 'display_data';\n",
              "        await google.colab.output.renderOutput(dataTable, element);\n",
              "        const docLink = document.createElement('div');\n",
              "        docLink.innerHTML = docLinkHtml;\n",
              "        element.appendChild(docLink);\n",
              "      }\n",
              "    </script>\n",
              "  </div>\n",
              "\n",
              "\n",
              "<div id=\"df-9e3aecc2-e11c-4f7a-a986-2b62a7992b71\">\n",
              "  <button class=\"colab-df-quickchart\" onclick=\"quickchart('df-9e3aecc2-e11c-4f7a-a986-2b62a7992b71')\"\n",
              "            title=\"Suggest charts\"\n",
              "            style=\"display:none;\">\n",
              "\n",
              "<svg xmlns=\"http://www.w3.org/2000/svg\" height=\"24px\"viewBox=\"0 0 24 24\"\n",
              "     width=\"24px\">\n",
              "    <g>\n",
              "        <path d=\"M19 3H5c-1.1 0-2 .9-2 2v14c0 1.1.9 2 2 2h14c1.1 0 2-.9 2-2V5c0-1.1-.9-2-2-2zM9 17H7v-7h2v7zm4 0h-2V7h2v10zm4 0h-2v-4h2v4z\"/>\n",
              "    </g>\n",
              "</svg>\n",
              "  </button>\n",
              "\n",
              "<style>\n",
              "  .colab-df-quickchart {\n",
              "      --bg-color: #E8F0FE;\n",
              "      --fill-color: #1967D2;\n",
              "      --hover-bg-color: #E2EBFA;\n",
              "      --hover-fill-color: #174EA6;\n",
              "      --disabled-fill-color: #AAA;\n",
              "      --disabled-bg-color: #DDD;\n",
              "  }\n",
              "\n",
              "  [theme=dark] .colab-df-quickchart {\n",
              "      --bg-color: #3B4455;\n",
              "      --fill-color: #D2E3FC;\n",
              "      --hover-bg-color: #434B5C;\n",
              "      --hover-fill-color: #FFFFFF;\n",
              "      --disabled-bg-color: #3B4455;\n",
              "      --disabled-fill-color: #666;\n",
              "  }\n",
              "\n",
              "  .colab-df-quickchart {\n",
              "    background-color: var(--bg-color);\n",
              "    border: none;\n",
              "    border-radius: 50%;\n",
              "    cursor: pointer;\n",
              "    display: none;\n",
              "    fill: var(--fill-color);\n",
              "    height: 32px;\n",
              "    padding: 0;\n",
              "    width: 32px;\n",
              "  }\n",
              "\n",
              "  .colab-df-quickchart:hover {\n",
              "    background-color: var(--hover-bg-color);\n",
              "    box-shadow: 0 1px 2px rgba(60, 64, 67, 0.3), 0 1px 3px 1px rgba(60, 64, 67, 0.15);\n",
              "    fill: var(--button-hover-fill-color);\n",
              "  }\n",
              "\n",
              "  .colab-df-quickchart-complete:disabled,\n",
              "  .colab-df-quickchart-complete:disabled:hover {\n",
              "    background-color: var(--disabled-bg-color);\n",
              "    fill: var(--disabled-fill-color);\n",
              "    box-shadow: none;\n",
              "  }\n",
              "\n",
              "  .colab-df-spinner {\n",
              "    border: 2px solid var(--fill-color);\n",
              "    border-color: transparent;\n",
              "    border-bottom-color: var(--fill-color);\n",
              "    animation:\n",
              "      spin 1s steps(1) infinite;\n",
              "  }\n",
              "\n",
              "  @keyframes spin {\n",
              "    0% {\n",
              "      border-color: transparent;\n",
              "      border-bottom-color: var(--fill-color);\n",
              "      border-left-color: var(--fill-color);\n",
              "    }\n",
              "    20% {\n",
              "      border-color: transparent;\n",
              "      border-left-color: var(--fill-color);\n",
              "      border-top-color: var(--fill-color);\n",
              "    }\n",
              "    30% {\n",
              "      border-color: transparent;\n",
              "      border-left-color: var(--fill-color);\n",
              "      border-top-color: var(--fill-color);\n",
              "      border-right-color: var(--fill-color);\n",
              "    }\n",
              "    40% {\n",
              "      border-color: transparent;\n",
              "      border-right-color: var(--fill-color);\n",
              "      border-top-color: var(--fill-color);\n",
              "    }\n",
              "    60% {\n",
              "      border-color: transparent;\n",
              "      border-right-color: var(--fill-color);\n",
              "    }\n",
              "    80% {\n",
              "      border-color: transparent;\n",
              "      border-right-color: var(--fill-color);\n",
              "      border-bottom-color: var(--fill-color);\n",
              "    }\n",
              "    90% {\n",
              "      border-color: transparent;\n",
              "      border-bottom-color: var(--fill-color);\n",
              "    }\n",
              "  }\n",
              "</style>\n",
              "\n",
              "  <script>\n",
              "    async function quickchart(key) {\n",
              "      const quickchartButtonEl =\n",
              "        document.querySelector('#' + key + ' button');\n",
              "      quickchartButtonEl.disabled = true;  // To prevent multiple clicks.\n",
              "      quickchartButtonEl.classList.add('colab-df-spinner');\n",
              "      try {\n",
              "        const charts = await google.colab.kernel.invokeFunction(\n",
              "            'suggestCharts', [key], {});\n",
              "      } catch (error) {\n",
              "        console.error('Error during call to suggestCharts:', error);\n",
              "      }\n",
              "      quickchartButtonEl.classList.remove('colab-df-spinner');\n",
              "      quickchartButtonEl.classList.add('colab-df-quickchart-complete');\n",
              "    }\n",
              "    (() => {\n",
              "      let quickchartButtonEl =\n",
              "        document.querySelector('#df-9e3aecc2-e11c-4f7a-a986-2b62a7992b71 button');\n",
              "      quickchartButtonEl.style.display =\n",
              "        google.colab.kernel.accessAllowed ? 'block' : 'none';\n",
              "    })();\n",
              "  </script>\n",
              "</div>\n",
              "    </div>\n",
              "  </div>\n"
            ]
          },
          "metadata": {},
          "execution_count": 15
        }
      ],
      "source": [
        "data['content'] = data['content'].str.lower()\n",
        "data.head()"
      ]
    },
    {
      "cell_type": "markdown",
      "metadata": {
        "id": "uv0vXD1tWa2I"
      },
      "source": [
        "## Remove null values"
      ]
    },
    {
      "cell_type": "code",
      "execution_count": 16,
      "metadata": {
        "colab": {
          "base_uri": "https://localhost:8080/"
        },
        "id": "2erSXwOWWa2I",
        "outputId": "2f348b7e-176b-46ac-d635-8583f560620b"
      },
      "outputs": [
        {
          "output_type": "stream",
          "name": "stdout",
          "text": [
            "8 rows with missing values are removed\n"
          ]
        },
        {
          "output_type": "stream",
          "name": "stderr",
          "text": [
            "/usr/local/lib/python3.10/dist-packages/ipykernel/ipkernel.py:283: DeprecationWarning: `should_run_async` will not call `transform_cell` automatically in the future. Please pass the result to `transformed_cell` argument and any exception that happen during thetransform in `preprocessing_exc_tuple` in IPython 7.17 and above.\n",
            "  and should_run_async(code)\n"
          ]
        }
      ],
      "source": [
        "original_shape = data.shape\n",
        "data.dropna(subset=['content'], inplace=True)\n",
        "dropped_shape = data.shape\n",
        "print(f\"{original_shape[0] - dropped_shape[0]} rows with missing values are removed\")"
      ]
    },
    {
      "cell_type": "markdown",
      "metadata": {
        "id": "-zNHj8mtWa2I"
      },
      "source": [
        "## Remove duplicated values"
      ]
    },
    {
      "cell_type": "code",
      "execution_count": 17,
      "metadata": {
        "colab": {
          "base_uri": "https://localhost:8080/"
        },
        "id": "JjbdgbzfWa2I",
        "outputId": "c842210b-4519-416b-b028-e3a9ff0c3c6e"
      },
      "outputs": [
        {
          "output_type": "stream",
          "name": "stderr",
          "text": [
            "/usr/local/lib/python3.10/dist-packages/ipykernel/ipkernel.py:283: DeprecationWarning: `should_run_async` will not call `transform_cell` automatically in the future. Please pass the result to `transformed_cell` argument and any exception that happen during thetransform in `preprocessing_exc_tuple` in IPython 7.17 and above.\n",
            "  and should_run_async(code)\n"
          ]
        },
        {
          "output_type": "stream",
          "name": "stdout",
          "text": [
            "282395 duplicated rows are removed\n"
          ]
        }
      ],
      "source": [
        "data.drop_duplicates(subset=['content'], inplace=True)\n",
        "print(f'{dropped_shape[0] - data.shape[0]} duplicated rows are removed')"
      ]
    },
    {
      "cell_type": "markdown",
      "metadata": {
        "id": "GSix_YoaWa2I"
      },
      "source": [
        "## Data distribution after removing duplicates"
      ]
    },
    {
      "cell_type": "code",
      "execution_count": 18,
      "metadata": {
        "colab": {
          "base_uri": "https://localhost:8080/",
          "height": 662
        },
        "id": "3PjCTmetWa2I",
        "outputId": "9d936580-9bf1-43ee-c320-0c7ccfd3af61"
      },
      "outputs": [
        {
          "output_type": "stream",
          "name": "stderr",
          "text": [
            "/usr/local/lib/python3.10/dist-packages/ipykernel/ipkernel.py:283: DeprecationWarning: `should_run_async` will not call `transform_cell` automatically in the future. Please pass the result to `transformed_cell` argument and any exception that happen during thetransform in `preprocessing_exc_tuple` in IPython 7.17 and above.\n",
            "  and should_run_async(code)\n"
          ]
        },
        {
          "output_type": "display_data",
          "data": {
            "text/plain": [
              "<Figure size 800x600 with 1 Axes>"
            ],
            "image/png": "[encoded data removed]"
          },
          "metadata": {}
        }
      ],
      "source": [
        "plot_value_counts(data, 'label')"
      ]
    },
    {
      "cell_type": "markdown",
      "metadata": {
        "id": "ofHK3QyKWa2I"
      },
      "source": [
        "- After removing duplicated data, new distribution of the labels is as follow\n",
        "  - 466,707 rows from class 0\n",
        "  - 93,225 rows from class 1"
      ]
    },
    {
      "cell_type": "markdown",
      "metadata": {
        "id": "iQW-4bahWa2J"
      },
      "source": [
        "## Remove mentions from texts"
      ]
    },
    {
      "cell_type": "code",
      "execution_count": 19,
      "metadata": {
        "colab": {
          "base_uri": "https://localhost:8080/",
          "height": 261
        },
        "id": "czbfUwL1Wa2J",
        "outputId": "0ff0b76b-d114-470a-ad7f-4a62fcfdd154"
      },
      "outputs": [
        {
          "output_type": "stream",
          "name": "stderr",
          "text": [
            "/usr/local/lib/python3.10/dist-packages/ipykernel/ipkernel.py:283: DeprecationWarning: `should_run_async` will not call `transform_cell` automatically in the future. Please pass the result to `transformed_cell` argument and any exception that happen during thetransform in `preprocessing_exc_tuple` in IPython 7.17 and above.\n",
            "  and should_run_async(code)\n"
          ]
        },
        {
          "output_type": "execute_result",
          "data": {
            "text/plain": [
              "                                             content  label\n",
              "0  `- this is not ``creative``.  those are the di...      0\n",
              "1  `  :: the term ``standard model`` is itself le...      0\n",
              "2    true or false, the situation as of march 200...      0\n",
              "3   next, maybe you could work on being less cond...      0\n",
              "4               this page will need disambiguation.       0"
            ],
            "text/html": [
              "\n",
              "  <div id=\"df-e7ed4e21-39e2-4ba9-ab9b-07d58a7f2e6c\" class=\"colab-df-container\">\n",
              "    <div>\n",
              "<style scoped>\n",
              "    .dataframe tbody tr th:only-of-type {\n",
              "        vertical-align: middle;\n",
              "    }\n",
              "\n",
              "    .dataframe tbody tr th {\n",
              "        vertical-align: top;\n",
              "    }\n",
              "\n",
              "    .dataframe thead th {\n",
              "        text-align: right;\n",
              "    }\n",
              "</style>\n",
              "<table border=\"1\" class=\"dataframe\">\n",
              "  <thead>\n",
              "    <tr style=\"text-align: right;\">\n",
              "      <th></th>\n",
              "      <th>content</th>\n",
              "      <th>label</th>\n",
              "    </tr>\n",
              "  </thead>\n",
              "  <tbody>\n",
              "    <tr>\n",
              "      <th>0</th>\n",
              "      <td>`- this is not ``creative``.  those are the di...</td>\n",
              "      <td>0</td>\n",
              "    </tr>\n",
              "    <tr>\n",
              "      <th>1</th>\n",
              "      <td>`  :: the term ``standard model`` is itself le...</td>\n",
              "      <td>0</td>\n",
              "    </tr>\n",
              "    <tr>\n",
              "      <th>2</th>\n",
              "      <td>true or false, the situation as of march 200...</td>\n",
              "      <td>0</td>\n",
              "    </tr>\n",
              "    <tr>\n",
              "      <th>3</th>\n",
              "      <td>next, maybe you could work on being less cond...</td>\n",
              "      <td>0</td>\n",
              "    </tr>\n",
              "    <tr>\n",
              "      <th>4</th>\n",
              "      <td>this page will need disambiguation.</td>\n",
              "      <td>0</td>\n",
              "    </tr>\n",
              "  </tbody>\n",
              "</table>\n",
              "</div>\n",
              "    <div class=\"colab-df-buttons\">\n",
              "\n",
              "  <div class=\"colab-df-container\">\n",
              "    <button class=\"colab-df-convert\" onclick=\"convertToInteractive('df-e7ed4e21-39e2-4ba9-ab9b-07d58a7f2e6c')\"\n",
              "            title=\"Convert this dataframe to an interactive table.\"\n",
              "            style=\"display:none;\">\n",
              "\n",
              "  <svg xmlns=\"http://www.w3.org/2000/svg\" height=\"24px\" viewBox=\"0 -960 960 960\">\n",
              "    <path d=\"M120-120v-720h720v720H120Zm60-500h600v-160H180v160Zm220 220h160v-160H400v160Zm0 220h160v-160H400v160ZM180-400h160v-160H180v160Zm440 0h160v-160H620v160ZM180-180h160v-160H180v160Zm440 0h160v-160H620v160Z\"/>\n",
              "  </svg>\n",
              "    </button>\n",
              "\n",
              "  <style>\n",
              "    .colab-df-container {\n",
              "      display:flex;\n",
              "      gap: 12px;\n",
              "    }\n",
              "\n",
              "    .colab-df-convert {\n",
              "      background-color: #E8F0FE;\n",
              "      border: none;\n",
              "      border-radius: 50%;\n",
              "      cursor: pointer;\n",
              "      display: none;\n",
              "      fill: #1967D2;\n",
              "      height: 32px;\n",
              "      padding: 0 0 0 0;\n",
              "      width: 32px;\n",
              "    }\n",
              "\n",
              "    .colab-df-convert:hover {\n",
              "      background-color: #E2EBFA;\n",
              "      box-shadow: 0px 1px 2px rgba(60, 64, 67, 0.3), 0px 1px 3px 1px rgba(60, 64, 67, 0.15);\n",
              "      fill: #174EA6;\n",
              "    }\n",
              "\n",
              "    .colab-df-buttons div {\n",
              "      margin-bottom: 4px;\n",
              "    }\n",
              "\n",
              "    [theme=dark] .colab-df-convert {\n",
              "      background-color: #3B4455;\n",
              "      fill: #D2E3FC;\n",
              "    }\n",
              "\n",
              "    [theme=dark] .colab-df-convert:hover {\n",
              "      background-color: #434B5C;\n",
              "      box-shadow: 0px 1px 3px 1px rgba(0, 0, 0, 0.15);\n",
              "      filter: drop-shadow(0px 1px 2px rgba(0, 0, 0, 0.3));\n",
              "      fill: #FFFFFF;\n",
              "    }\n",
              "  </style>\n",
              "\n",
              "    <script>\n",
              "      const buttonEl =\n",
              "        document.querySelector('#df-e7ed4e21-39e2-4ba9-ab9b-07d58a7f2e6c button.colab-df-convert');\n",
              "      buttonEl.style.display =\n",
              "        google.colab.kernel.accessAllowed ? 'block' : 'none';\n",
              "\n",
              "      async function convertToInteractive(key) {\n",
              "        const element = document.querySelector('#df-e7ed4e21-39e2-4ba9-ab9b-07d58a7f2e6c');\n",
              "        const dataTable =\n",
              "          await google.colab.kernel.invokeFunction('convertToInteractive',\n",
              "                                                    [key], {});\n",
              "        if (!dataTable) return;\n",
              "\n",
              "        const docLinkHtml = 'Like what you see? Visit the ' +\n",
              "          '<a target=\"_blank\" href=https://colab.research.google.com/notebooks/data_table.ipynb>data table notebook</a>'\n",
              "          + ' to learn more about interactive tables.';\n",
              "        element.innerHTML = '';\n",
              "        dataTable['output_type'] = 'display_data';\n",
              "        await google.colab.output.renderOutput(dataTable, element);\n",
              "        const docLink = document.createElement('div');\n",
              "        docLink.innerHTML = docLinkHtml;\n",
              "        element.appendChild(docLink);\n",
              "      }\n",
              "    </script>\n",
              "  </div>\n",
              "\n",
              "\n",
              "<div id=\"df-8b750350-2c6c-4da9-8ac1-e1c17323cdc2\">\n",
              "  <button class=\"colab-df-quickchart\" onclick=\"quickchart('df-8b750350-2c6c-4da9-8ac1-e1c17323cdc2')\"\n",
              "            title=\"Suggest charts\"\n",
              "            style=\"display:none;\">\n",
              "\n",
              "<svg xmlns=\"http://www.w3.org/2000/svg\" height=\"24px\"viewBox=\"0 0 24 24\"\n",
              "     width=\"24px\">\n",
              "    <g>\n",
              "        <path d=\"M19 3H5c-1.1 0-2 .9-2 2v14c0 1.1.9 2 2 2h14c1.1 0 2-.9 2-2V5c0-1.1-.9-2-2-2zM9 17H7v-7h2v7zm4 0h-2V7h2v10zm4 0h-2v-4h2v4z\"/>\n",
              "    </g>\n",
              "</svg>\n",
              "  </button>\n",
              "\n",
              "<style>\n",
              "  .colab-df-quickchart {\n",
              "      --bg-color: #E8F0FE;\n",
              "      --fill-color: #1967D2;\n",
              "      --hover-bg-color: #E2EBFA;\n",
              "      --hover-fill-color: #174EA6;\n",
              "      --disabled-fill-color: #AAA;\n",
              "      --disabled-bg-color: #DDD;\n",
              "  }\n",
              "\n",
              "  [theme=dark] .colab-df-quickchart {\n",
              "      --bg-color: #3B4455;\n",
              "      --fill-color: #D2E3FC;\n",
              "      --hover-bg-color: #434B5C;\n",
              "      --hover-fill-color: #FFFFFF;\n",
              "      --disabled-bg-color: #3B4455;\n",
              "      --disabled-fill-color: #666;\n",
              "  }\n",
              "\n",
              "  .colab-df-quickchart {\n",
              "    background-color: var(--bg-color);\n",
              "    border: none;\n",
              "    border-radius: 50%;\n",
              "    cursor: pointer;\n",
              "    display: none;\n",
              "    fill: var(--fill-color);\n",
              "    height: 32px;\n",
              "    padding: 0;\n",
              "    width: 32px;\n",
              "  }\n",
              "\n",
              "  .colab-df-quickchart:hover {\n",
              "    background-color: var(--hover-bg-color);\n",
              "    box-shadow: 0 1px 2px rgba(60, 64, 67, 0.3), 0 1px 3px 1px rgba(60, 64, 67, 0.15);\n",
              "    fill: var(--button-hover-fill-color);\n",
              "  }\n",
              "\n",
              "  .colab-df-quickchart-complete:disabled,\n",
              "  .colab-df-quickchart-complete:disabled:hover {\n",
              "    background-color: var(--disabled-bg-color);\n",
              "    fill: var(--disabled-fill-color);\n",
              "    box-shadow: none;\n",
              "  }\n",
              "\n",
              "  .colab-df-spinner {\n",
              "    border: 2px solid var(--fill-color);\n",
              "    border-color: transparent;\n",
              "    border-bottom-color: var(--fill-color);\n",
              "    animation:\n",
              "      spin 1s steps(1) infinite;\n",
              "  }\n",
              "\n",
              "  @keyframes spin {\n",
              "    0% {\n",
              "      border-color: transparent;\n",
              "      border-bottom-color: var(--fill-color);\n",
              "      border-left-color: var(--fill-color);\n",
              "    }\n",
              "    20% {\n",
              "      border-color: transparent;\n",
              "      border-left-color: var(--fill-color);\n",
              "      border-top-color: var(--fill-color);\n",
              "    }\n",
              "    30% {\n",
              "      border-color: transparent;\n",
              "      border-left-color: var(--fill-color);\n",
              "      border-top-color: var(--fill-color);\n",
              "      border-right-color: var(--fill-color);\n",
              "    }\n",
              "    40% {\n",
              "      border-color: transparent;\n",
              "      border-right-color: var(--fill-color);\n",
              "      border-top-color: var(--fill-color);\n",
              "    }\n",
              "    60% {\n",
              "      border-color: transparent;\n",
              "      border-right-color: var(--fill-color);\n",
              "    }\n",
              "    80% {\n",
              "      border-color: transparent;\n",
              "      border-right-color: var(--fill-color);\n",
              "      border-bottom-color: var(--fill-color);\n",
              "    }\n",
              "    90% {\n",
              "      border-color: transparent;\n",
              "      border-bottom-color: var(--fill-color);\n",
              "    }\n",
              "  }\n",
              "</style>\n",
              "\n",
              "  <script>\n",
              "    async function quickchart(key) {\n",
              "      const quickchartButtonEl =\n",
              "        document.querySelector('#' + key + ' button');\n",
              "      quickchartButtonEl.disabled = true;  // To prevent multiple clicks.\n",
              "      quickchartButtonEl.classList.add('colab-df-spinner');\n",
              "      try {\n",
              "        const charts = await google.colab.kernel.invokeFunction(\n",
              "            'suggestCharts', [key], {});\n",
              "      } catch (error) {\n",
              "        console.error('Error during call to suggestCharts:', error);\n",
              "      }\n",
              "      quickchartButtonEl.classList.remove('colab-df-spinner');\n",
              "      quickchartButtonEl.classList.add('colab-df-quickchart-complete');\n",
              "    }\n",
              "    (() => {\n",
              "      let quickchartButtonEl =\n",
              "        document.querySelector('#df-8b750350-2c6c-4da9-8ac1-e1c17323cdc2 button');\n",
              "      quickchartButtonEl.style.display =\n",
              "        google.colab.kernel.accessAllowed ? 'block' : 'none';\n",
              "    })();\n",
              "  </script>\n",
              "</div>\n",
              "    </div>\n",
              "  </div>\n"
            ]
          },
          "metadata": {},
          "execution_count": 19
        }
      ],
      "source": [
        "def remove_mentions(tweet):\n",
        "    return re.sub(r'@\\w+', '', tweet)\n",
        "\n",
        "data['content'] = data['content'].apply(remove_mentions)\n",
        "data.head()"
      ]
    },
    {
      "cell_type": "markdown",
      "metadata": {
        "id": "dxZL20-lWa2J"
      },
      "source": [
        "## Remove links"
      ]
    },
    {
      "cell_type": "code",
      "execution_count": 20,
      "metadata": {
        "colab": {
          "base_uri": "https://localhost:8080/",
          "height": 261
        },
        "id": "N6aGfStPWa2J",
        "outputId": "b03ba001-ed23-4b76-8c60-ffc4ea931772"
      },
      "outputs": [
        {
          "output_type": "stream",
          "name": "stderr",
          "text": [
            "/usr/local/lib/python3.10/dist-packages/ipykernel/ipkernel.py:283: DeprecationWarning: `should_run_async` will not call `transform_cell` automatically in the future. Please pass the result to `transformed_cell` argument and any exception that happen during thetransform in `preprocessing_exc_tuple` in IPython 7.17 and above.\n",
            "  and should_run_async(code)\n"
          ]
        },
        {
          "output_type": "execute_result",
          "data": {
            "text/plain": [
              "                                             content  label\n",
              "0  `- this is not ``creative``.  those are the di...      0\n",
              "1  `  :: the term ``standard model`` is itself le...      0\n",
              "2    true or false, the situation as of march 200...      0\n",
              "3   next, maybe you could work on being less cond...      0\n",
              "4               this page will need disambiguation.       0"
            ],
            "text/html": [
              "\n",
              "  <div id=\"df-d9264710-c8de-4f8a-be02-d1e858d8f8ae\" class=\"colab-df-container\">\n",
              "    <div>\n",
              "<style scoped>\n",
              "    .dataframe tbody tr th:only-of-type {\n",
              "        vertical-align: middle;\n",
              "    }\n",
              "\n",
              "    .dataframe tbody tr th {\n",
              "        vertical-align: top;\n",
              "    }\n",
              "\n",
              "    .dataframe thead th {\n",
              "        text-align: right;\n",
              "    }\n",
              "</style>\n",
              "<table border=\"1\" class=\"dataframe\">\n",
              "  <thead>\n",
              "    <tr style=\"text-align: right;\">\n",
              "      <th></th>\n",
              "      <th>content</th>\n",
              "      <th>label</th>\n",
              "    </tr>\n",
              "  </thead>\n",
              "  <tbody>\n",
              "    <tr>\n",
              "      <th>0</th>\n",
              "      <td>`- this is not ``creative``.  those are the di...</td>\n",
              "      <td>0</td>\n",
              "    </tr>\n",
              "    <tr>\n",
              "      <th>1</th>\n",
              "      <td>`  :: the term ``standard model`` is itself le...</td>\n",
              "      <td>0</td>\n",
              "    </tr>\n",
              "    <tr>\n",
              "      <th>2</th>\n",
              "      <td>true or false, the situation as of march 200...</td>\n",
              "      <td>0</td>\n",
              "    </tr>\n",
              "    <tr>\n",
              "      <th>3</th>\n",
              "      <td>next, maybe you could work on being less cond...</td>\n",
              "      <td>0</td>\n",
              "    </tr>\n",
              "    <tr>\n",
              "      <th>4</th>\n",
              "      <td>this page will need disambiguation.</td>\n",
              "      <td>0</td>\n",
              "    </tr>\n",
              "  </tbody>\n",
              "</table>\n",
              "</div>\n",
              "    <div class=\"colab-df-buttons\">\n",
              "\n",
              "  <div class=\"colab-df-container\">\n",
              "    <button class=\"colab-df-convert\" onclick=\"convertToInteractive('df-d9264710-c8de-4f8a-be02-d1e858d8f8ae')\"\n",
              "            title=\"Convert this dataframe to an interactive table.\"\n",
              "            style=\"display:none;\">\n",
              "\n",
              "  <svg xmlns=\"http://www.w3.org/2000/svg\" height=\"24px\" viewBox=\"0 -960 960 960\">\n",
              "    <path d=\"M120-120v-720h720v720H120Zm60-500h600v-160H180v160Zm220 220h160v-160H400v160Zm0 220h160v-160H400v160ZM180-400h160v-160H180v160Zm440 0h160v-160H620v160ZM180-180h160v-160H180v160Zm440 0h160v-160H620v160Z\"/>\n",
              "  </svg>\n",
              "    </button>\n",
              "\n",
              "  <style>\n",
              "    .colab-df-container {\n",
              "      display:flex;\n",
              "      gap: 12px;\n",
              "    }\n",
              "\n",
              "    .colab-df-convert {\n",
              "      background-color: #E8F0FE;\n",
              "      border: none;\n",
              "      border-radius: 50%;\n",
              "      cursor: pointer;\n",
              "      display: none;\n",
              "      fill: #1967D2;\n",
              "      height: 32px;\n",
              "      padding: 0 0 0 0;\n",
              "      width: 32px;\n",
              "    }\n",
              "\n",
              "    .colab-df-convert:hover {\n",
              "      background-color: #E2EBFA;\n",
              "      box-shadow: 0px 1px 2px rgba(60, 64, 67, 0.3), 0px 1px 3px 1px rgba(60, 64, 67, 0.15);\n",
              "      fill: #174EA6;\n",
              "    }\n",
              "\n",
              "    .colab-df-buttons div {\n",
              "      margin-bottom: 4px;\n",
              "    }\n",
              "\n",
              "    [theme=dark] .colab-df-convert {\n",
              "      background-color: #3B4455;\n",
              "      fill: #D2E3FC;\n",
              "    }\n",
              "\n",
              "    [theme=dark] .colab-df-convert:hover {\n",
              "      background-color: #434B5C;\n",
              "      box-shadow: 0px 1px 3px 1px rgba(0, 0, 0, 0.15);\n",
              "      filter: drop-shadow(0px 1px 2px rgba(0, 0, 0, 0.3));\n",
              "      fill: #FFFFFF;\n",
              "    }\n",
              "  </style>\n",
              "\n",
              "    <script>\n",
              "      const buttonEl =\n",
              "        document.querySelector('#df-d9264710-c8de-4f8a-be02-d1e858d8f8ae button.colab-df-convert');\n",
              "      buttonEl.style.display =\n",
              "        google.colab.kernel.accessAllowed ? 'block' : 'none';\n",
              "\n",
              "      async function convertToInteractive(key) {\n",
              "        const element = document.querySelector('#df-d9264710-c8de-4f8a-be02-d1e858d8f8ae');\n",
              "        const dataTable =\n",
              "          await google.colab.kernel.invokeFunction('convertToInteractive',\n",
              "                                                    [key], {});\n",
              "        if (!dataTable) return;\n",
              "\n",
              "        const docLinkHtml = 'Like what you see? Visit the ' +\n",
              "          '<a target=\"_blank\" href=https://colab.research.google.com/notebooks/data_table.ipynb>data table notebook</a>'\n",
              "          + ' to learn more about interactive tables.';\n",
              "        element.innerHTML = '';\n",
              "        dataTable['output_type'] = 'display_data';\n",
              "        await google.colab.output.renderOutput(dataTable, element);\n",
              "        const docLink = document.createElement('div');\n",
              "        docLink.innerHTML = docLinkHtml;\n",
              "        element.appendChild(docLink);\n",
              "      }\n",
              "    </script>\n",
              "  </div>\n",
              "\n",
              "\n",
              "<div id=\"df-67b0ff03-4637-4b9e-84ec-f042290de2e9\">\n",
              "  <button class=\"colab-df-quickchart\" onclick=\"quickchart('df-67b0ff03-4637-4b9e-84ec-f042290de2e9')\"\n",
              "            title=\"Suggest charts\"\n",
              "            style=\"display:none;\">\n",
              "\n",
              "<svg xmlns=\"http://www.w3.org/2000/svg\" height=\"24px\"viewBox=\"0 0 24 24\"\n",
              "     width=\"24px\">\n",
              "    <g>\n",
              "        <path d=\"M19 3H5c-1.1 0-2 .9-2 2v14c0 1.1.9 2 2 2h14c1.1 0 2-.9 2-2V5c0-1.1-.9-2-2-2zM9 17H7v-7h2v7zm4 0h-2V7h2v10zm4 0h-2v-4h2v4z\"/>\n",
              "    </g>\n",
              "</svg>\n",
              "  </button>\n",
              "\n",
              "<style>\n",
              "  .colab-df-quickchart {\n",
              "      --bg-color: #E8F0FE;\n",
              "      --fill-color: #1967D2;\n",
              "      --hover-bg-color: #E2EBFA;\n",
              "      --hover-fill-color: #174EA6;\n",
              "      --disabled-fill-color: #AAA;\n",
              "      --disabled-bg-color: #DDD;\n",
              "  }\n",
              "\n",
              "  [theme=dark] .colab-df-quickchart {\n",
              "      --bg-color: #3B4455;\n",
              "      --fill-color: #D2E3FC;\n",
              "      --hover-bg-color: #434B5C;\n",
              "      --hover-fill-color: #FFFFFF;\n",
              "      --disabled-bg-color: #3B4455;\n",
              "      --disabled-fill-color: #666;\n",
              "  }\n",
              "\n",
              "  .colab-df-quickchart {\n",
              "    background-color: var(--bg-color);\n",
              "    border: none;\n",
              "    border-radius: 50%;\n",
              "    cursor: pointer;\n",
              "    display: none;\n",
              "    fill: var(--fill-color);\n",
              "    height: 32px;\n",
              "    padding: 0;\n",
              "    width: 32px;\n",
              "  }\n",
              "\n",
              "  .colab-df-quickchart:hover {\n",
              "    background-color: var(--hover-bg-color);\n",
              "    box-shadow: 0 1px 2px rgba(60, 64, 67, 0.3), 0 1px 3px 1px rgba(60, 64, 67, 0.15);\n",
              "    fill: var(--button-hover-fill-color);\n",
              "  }\n",
              "\n",
              "  .colab-df-quickchart-complete:disabled,\n",
              "  .colab-df-quickchart-complete:disabled:hover {\n",
              "    background-color: var(--disabled-bg-color);\n",
              "    fill: var(--disabled-fill-color);\n",
              "    box-shadow: none;\n",
              "  }\n",
              "\n",
              "  .colab-df-spinner {\n",
              "    border: 2px solid var(--fill-color);\n",
              "    border-color: transparent;\n",
              "    border-bottom-color: var(--fill-color);\n",
              "    animation:\n",
              "      spin 1s steps(1) infinite;\n",
              "  }\n",
              "\n",
              "  @keyframes spin {\n",
              "    0% {\n",
              "      border-color: transparent;\n",
              "      border-bottom-color: var(--fill-color);\n",
              "      border-left-color: var(--fill-color);\n",
              "    }\n",
              "    20% {\n",
              "      border-color: transparent;\n",
              "      border-left-color: var(--fill-color);\n",
              "      border-top-color: var(--fill-color);\n",
              "    }\n",
              "    30% {\n",
              "      border-color: transparent;\n",
              "      border-left-color: var(--fill-color);\n",
              "      border-top-color: var(--fill-color);\n",
              "      border-right-color: var(--fill-color);\n",
              "    }\n",
              "    40% {\n",
              "      border-color: transparent;\n",
              "      border-right-color: var(--fill-color);\n",
              "      border-top-color: var(--fill-color);\n",
              "    }\n",
              "    60% {\n",
              "      border-color: transparent;\n",
              "      border-right-color: var(--fill-color);\n",
              "    }\n",
              "    80% {\n",
              "      border-color: transparent;\n",
              "      border-right-color: var(--fill-color);\n",
              "      border-bottom-color: var(--fill-color);\n",
              "    }\n",
              "    90% {\n",
              "      border-color: transparent;\n",
              "      border-bottom-color: var(--fill-color);\n",
              "    }\n",
              "  }\n",
              "</style>\n",
              "\n",
              "  <script>\n",
              "    async function quickchart(key) {\n",
              "      const quickchartButtonEl =\n",
              "        document.querySelector('#' + key + ' button');\n",
              "      quickchartButtonEl.disabled = true;  // To prevent multiple clicks.\n",
              "      quickchartButtonEl.classList.add('colab-df-spinner');\n",
              "      try {\n",
              "        const charts = await google.colab.kernel.invokeFunction(\n",
              "            'suggestCharts', [key], {});\n",
              "      } catch (error) {\n",
              "        console.error('Error during call to suggestCharts:', error);\n",
              "      }\n",
              "      quickchartButtonEl.classList.remove('colab-df-spinner');\n",
              "      quickchartButtonEl.classList.add('colab-df-quickchart-complete');\n",
              "    }\n",
              "    (() => {\n",
              "      let quickchartButtonEl =\n",
              "        document.querySelector('#df-67b0ff03-4637-4b9e-84ec-f042290de2e9 button');\n",
              "      quickchartButtonEl.style.display =\n",
              "        google.colab.kernel.accessAllowed ? 'block' : 'none';\n",
              "    })();\n",
              "  </script>\n",
              "</div>\n",
              "    </div>\n",
              "  </div>\n"
            ]
          },
          "metadata": {},
          "execution_count": 20
        }
      ],
      "source": [
        "def remove_urls(tweet):\n",
        "    return re.sub(r'http\\S+|https\\S+|www\\S+', '', tweet)\n",
        "\n",
        "data['content'] = data['content'].apply(remove_urls)\n",
        "data.head()"
      ]
    },
    {
      "cell_type": "markdown",
      "metadata": {
        "id": "CROSe_xCWa2M"
      },
      "source": [
        "## Remove hashtags"
      ]
    },
    {
      "cell_type": "code",
      "execution_count": 21,
      "metadata": {
        "colab": {
          "base_uri": "https://localhost:8080/",
          "height": 261
        },
        "id": "xsRk92BuWa2M",
        "outputId": "9b2f38e4-5aef-425d-d3d4-b8c37a004902"
      },
      "outputs": [
        {
          "output_type": "stream",
          "name": "stderr",
          "text": [
            "/usr/local/lib/python3.10/dist-packages/ipykernel/ipkernel.py:283: DeprecationWarning: `should_run_async` will not call `transform_cell` automatically in the future. Please pass the result to `transformed_cell` argument and any exception that happen during thetransform in `preprocessing_exc_tuple` in IPython 7.17 and above.\n",
            "  and should_run_async(code)\n"
          ]
        },
        {
          "output_type": "execute_result",
          "data": {
            "text/plain": [
              "                                             content  label\n",
              "0  `- this is not ``creative``.  those are the di...      0\n",
              "1  `  :: the term ``standard model`` is itself le...      0\n",
              "2    true or false, the situation as of march 200...      0\n",
              "3   next, maybe you could work on being less cond...      0\n",
              "4               this page will need disambiguation.       0"
            ],
            "text/html": [
              "\n",
              "  <div id=\"df-14842830-bca0-403f-99c4-4c47e001b21f\" class=\"colab-df-container\">\n",
              "    <div>\n",
              "<style scoped>\n",
              "    .dataframe tbody tr th:only-of-type {\n",
              "        vertical-align: middle;\n",
              "    }\n",
              "\n",
              "    .dataframe tbody tr th {\n",
              "        vertical-align: top;\n",
              "    }\n",
              "\n",
              "    .dataframe thead th {\n",
              "        text-align: right;\n",
              "    }\n",
              "</style>\n",
              "<table border=\"1\" class=\"dataframe\">\n",
              "  <thead>\n",
              "    <tr style=\"text-align: right;\">\n",
              "      <th></th>\n",
              "      <th>content</th>\n",
              "      <th>label</th>\n",
              "    </tr>\n",
              "  </thead>\n",
              "  <tbody>\n",
              "    <tr>\n",
              "      <th>0</th>\n",
              "      <td>`- this is not ``creative``.  those are the di...</td>\n",
              "      <td>0</td>\n",
              "    </tr>\n",
              "    <tr>\n",
              "      <th>1</th>\n",
              "      <td>`  :: the term ``standard model`` is itself le...</td>\n",
              "      <td>0</td>\n",
              "    </tr>\n",
              "    <tr>\n",
              "      <th>2</th>\n",
              "      <td>true or false, the situation as of march 200...</td>\n",
              "      <td>0</td>\n",
              "    </tr>\n",
              "    <tr>\n",
              "      <th>3</th>\n",
              "      <td>next, maybe you could work on being less cond...</td>\n",
              "      <td>0</td>\n",
              "    </tr>\n",
              "    <tr>\n",
              "      <th>4</th>\n",
              "      <td>this page will need disambiguation.</td>\n",
              "      <td>0</td>\n",
              "    </tr>\n",
              "  </tbody>\n",
              "</table>\n",
              "</div>\n",
              "    <div class=\"colab-df-buttons\">\n",
              "\n",
              "  <div class=\"colab-df-container\">\n",
              "    <button class=\"colab-df-convert\" onclick=\"convertToInteractive('df-14842830-bca0-403f-99c4-4c47e001b21f')\"\n",
              "            title=\"Convert this dataframe to an interactive table.\"\n",
              "            style=\"display:none;\">\n",
              "\n",
              "  <svg xmlns=\"http://www.w3.org/2000/svg\" height=\"24px\" viewBox=\"0 -960 960 960\">\n",
              "    <path d=\"M120-120v-720h720v720H120Zm60-500h600v-160H180v160Zm220 220h160v-160H400v160Zm0 220h160v-160H400v160ZM180-400h160v-160H180v160Zm440 0h160v-160H620v160ZM180-180h160v-160H180v160Zm440 0h160v-160H620v160Z\"/>\n",
              "  </svg>\n",
              "    </button>\n",
              "\n",
              "  <style>\n",
              "    .colab-df-container {\n",
              "      display:flex;\n",
              "      gap: 12px;\n",
              "    }\n",
              "\n",
              "    .colab-df-convert {\n",
              "      background-color: #E8F0FE;\n",
              "      border: none;\n",
              "      border-radius: 50%;\n",
              "      cursor: pointer;\n",
              "      display: none;\n",
              "      fill: #1967D2;\n",
              "      height: 32px;\n",
              "      padding: 0 0 0 0;\n",
              "      width: 32px;\n",
              "    }\n",
              "\n",
              "    .colab-df-convert:hover {\n",
              "      background-color: #E2EBFA;\n",
              "      box-shadow: 0px 1px 2px rgba(60, 64, 67, 0.3), 0px 1px 3px 1px rgba(60, 64, 67, 0.15);\n",
              "      fill: #174EA6;\n",
              "    }\n",
              "\n",
              "    .colab-df-buttons div {\n",
              "      margin-bottom: 4px;\n",
              "    }\n",
              "\n",
              "    [theme=dark] .colab-df-convert {\n",
              "      background-color: #3B4455;\n",
              "      fill: #D2E3FC;\n",
              "    }\n",
              "\n",
              "    [theme=dark] .colab-df-convert:hover {\n",
              "      background-color: #434B5C;\n",
              "      box-shadow: 0px 1px 3px 1px rgba(0, 0, 0, 0.15);\n",
              "      filter: drop-shadow(0px 1px 2px rgba(0, 0, 0, 0.3));\n",
              "      fill: #FFFFFF;\n",
              "    }\n",
              "  </style>\n",
              "\n",
              "    <script>\n",
              "      const buttonEl =\n",
              "        document.querySelector('#df-14842830-bca0-403f-99c4-4c47e001b21f button.colab-df-convert');\n",
              "      buttonEl.style.display =\n",
              "        google.colab.kernel.accessAllowed ? 'block' : 'none';\n",
              "\n",
              "      async function convertToInteractive(key) {\n",
              "        const element = document.querySelector('#df-14842830-bca0-403f-99c4-4c47e001b21f');\n",
              "        const dataTable =\n",
              "          await google.colab.kernel.invokeFunction('convertToInteractive',\n",
              "                                                    [key], {});\n",
              "        if (!dataTable) return;\n",
              "\n",
              "        const docLinkHtml = 'Like what you see? Visit the ' +\n",
              "          '<a target=\"_blank\" href=https://colab.research.google.com/notebooks/data_table.ipynb>data table notebook</a>'\n",
              "          + ' to learn more about interactive tables.';\n",
              "        element.innerHTML = '';\n",
              "        dataTable['output_type'] = 'display_data';\n",
              "        await google.colab.output.renderOutput(dataTable, element);\n",
              "        const docLink = document.createElement('div');\n",
              "        docLink.innerHTML = docLinkHtml;\n",
              "        element.appendChild(docLink);\n",
              "      }\n",
              "    </script>\n",
              "  </div>\n",
              "\n",
              "\n",
              "<div id=\"df-5c4c706e-dd9b-48c1-b6dd-f8bc2ad4b574\">\n",
              "  <button class=\"colab-df-quickchart\" onclick=\"quickchart('df-5c4c706e-dd9b-48c1-b6dd-f8bc2ad4b574')\"\n",
              "            title=\"Suggest charts\"\n",
              "            style=\"display:none;\">\n",
              "\n",
              "<svg xmlns=\"http://www.w3.org/2000/svg\" height=\"24px\"viewBox=\"0 0 24 24\"\n",
              "     width=\"24px\">\n",
              "    <g>\n",
              "        <path d=\"M19 3H5c-1.1 0-2 .9-2 2v14c0 1.1.9 2 2 2h14c1.1 0 2-.9 2-2V5c0-1.1-.9-2-2-2zM9 17H7v-7h2v7zm4 0h-2V7h2v10zm4 0h-2v-4h2v4z\"/>\n",
              "    </g>\n",
              "</svg>\n",
              "  </button>\n",
              "\n",
              "<style>\n",
              "  .colab-df-quickchart {\n",
              "      --bg-color: #E8F0FE;\n",
              "      --fill-color: #1967D2;\n",
              "      --hover-bg-color: #E2EBFA;\n",
              "      --hover-fill-color: #174EA6;\n",
              "      --disabled-fill-color: #AAA;\n",
              "      --disabled-bg-color: #DDD;\n",
              "  }\n",
              "\n",
              "  [theme=dark] .colab-df-quickchart {\n",
              "      --bg-color: #3B4455;\n",
              "      --fill-color: #D2E3FC;\n",
              "      --hover-bg-color: #434B5C;\n",
              "      --hover-fill-color: #FFFFFF;\n",
              "      --disabled-bg-color: #3B4455;\n",
              "      --disabled-fill-color: #666;\n",
              "  }\n",
              "\n",
              "  .colab-df-quickchart {\n",
              "    background-color: var(--bg-color);\n",
              "    border: none;\n",
              "    border-radius: 50%;\n",
              "    cursor: pointer;\n",
              "    display: none;\n",
              "    fill: var(--fill-color);\n",
              "    height: 32px;\n",
              "    padding: 0;\n",
              "    width: 32px;\n",
              "  }\n",
              "\n",
              "  .colab-df-quickchart:hover {\n",
              "    background-color: var(--hover-bg-color);\n",
              "    box-shadow: 0 1px 2px rgba(60, 64, 67, 0.3), 0 1px 3px 1px rgba(60, 64, 67, 0.15);\n",
              "    fill: var(--button-hover-fill-color);\n",
              "  }\n",
              "\n",
              "  .colab-df-quickchart-complete:disabled,\n",
              "  .colab-df-quickchart-complete:disabled:hover {\n",
              "    background-color: var(--disabled-bg-color);\n",
              "    fill: var(--disabled-fill-color);\n",
              "    box-shadow: none;\n",
              "  }\n",
              "\n",
              "  .colab-df-spinner {\n",
              "    border: 2px solid var(--fill-color);\n",
              "    border-color: transparent;\n",
              "    border-bottom-color: var(--fill-color);\n",
              "    animation:\n",
              "      spin 1s steps(1) infinite;\n",
              "  }\n",
              "\n",
              "  @keyframes spin {\n",
              "    0% {\n",
              "      border-color: transparent;\n",
              "      border-bottom-color: var(--fill-color);\n",
              "      border-left-color: var(--fill-color);\n",
              "    }\n",
              "    20% {\n",
              "      border-color: transparent;\n",
              "      border-left-color: var(--fill-color);\n",
              "      border-top-color: var(--fill-color);\n",
              "    }\n",
              "    30% {\n",
              "      border-color: transparent;\n",
              "      border-left-color: var(--fill-color);\n",
              "      border-top-color: var(--fill-color);\n",
              "      border-right-color: var(--fill-color);\n",
              "    }\n",
              "    40% {\n",
              "      border-color: transparent;\n",
              "      border-right-color: var(--fill-color);\n",
              "      border-top-color: var(--fill-color);\n",
              "    }\n",
              "    60% {\n",
              "      border-color: transparent;\n",
              "      border-right-color: var(--fill-color);\n",
              "    }\n",
              "    80% {\n",
              "      border-color: transparent;\n",
              "      border-right-color: var(--fill-color);\n",
              "      border-bottom-color: var(--fill-color);\n",
              "    }\n",
              "    90% {\n",
              "      border-color: transparent;\n",
              "      border-bottom-color: var(--fill-color);\n",
              "    }\n",
              "  }\n",
              "</style>\n",
              "\n",
              "  <script>\n",
              "    async function quickchart(key) {\n",
              "      const quickchartButtonEl =\n",
              "        document.querySelector('#' + key + ' button');\n",
              "      quickchartButtonEl.disabled = true;  // To prevent multiple clicks.\n",
              "      quickchartButtonEl.classList.add('colab-df-spinner');\n",
              "      try {\n",
              "        const charts = await google.colab.kernel.invokeFunction(\n",
              "            'suggestCharts', [key], {});\n",
              "      } catch (error) {\n",
              "        console.error('Error during call to suggestCharts:', error);\n",
              "      }\n",
              "      quickchartButtonEl.classList.remove('colab-df-spinner');\n",
              "      quickchartButtonEl.classList.add('colab-df-quickchart-complete');\n",
              "    }\n",
              "    (() => {\n",
              "      let quickchartButtonEl =\n",
              "        document.querySelector('#df-5c4c706e-dd9b-48c1-b6dd-f8bc2ad4b574 button');\n",
              "      quickchartButtonEl.style.display =\n",
              "        google.colab.kernel.accessAllowed ? 'block' : 'none';\n",
              "    })();\n",
              "  </script>\n",
              "</div>\n",
              "    </div>\n",
              "  </div>\n"
            ]
          },
          "metadata": {},
          "execution_count": 21
        }
      ],
      "source": [
        "def remove_hashtags(tweet):\n",
        "    return re.sub(r'#\\w+', '', tweet)\n",
        "\n",
        "data['content'] = data['content'].apply(remove_hashtags)\n",
        "data.head()"
      ]
    },
    {
      "cell_type": "markdown",
      "metadata": {
        "id": "Sufpg5spWa2M"
      },
      "source": [
        "## Apply contraction"
      ]
    },
    {
      "cell_type": "code",
      "execution_count": 22,
      "metadata": {
        "colab": {
          "base_uri": "https://localhost:8080/",
          "height": 261
        },
        "id": "yyzNtldiWa2N",
        "outputId": "fc622ae7-83a1-4380-be81-330d0bce92fa"
      },
      "outputs": [
        {
          "output_type": "stream",
          "name": "stderr",
          "text": [
            "/usr/local/lib/python3.10/dist-packages/ipykernel/ipkernel.py:283: DeprecationWarning: `should_run_async` will not call `transform_cell` automatically in the future. Please pass the result to `transformed_cell` argument and any exception that happen during thetransform in `preprocessing_exc_tuple` in IPython 7.17 and above.\n",
            "  and should_run_async(code)\n"
          ]
        },
        {
          "output_type": "execute_result",
          "data": {
            "text/plain": [
              "                                             content  label\n",
              "0  `- this is not ``creative``.  those are the di...      0\n",
              "1  `  :: the term ``standard model`` is itself le...      0\n",
              "2    true or false, the situation as of march 200...      0\n",
              "3   next, maybe you could work on being less cond...      0\n",
              "4               this page will need disambiguation.       0"
            ],
            "text/html": [
              "\n",
              "  <div id=\"df-2781c95e-95c4-44d6-81f9-09c25fb22cb7\" class=\"colab-df-container\">\n",
              "    <div>\n",
              "<style scoped>\n",
              "    .dataframe tbody tr th:only-of-type {\n",
              "        vertical-align: middle;\n",
              "    }\n",
              "\n",
              "    .dataframe tbody tr th {\n",
              "        vertical-align: top;\n",
              "    }\n",
              "\n",
              "    .dataframe thead th {\n",
              "        text-align: right;\n",
              "    }\n",
              "</style>\n",
              "<table border=\"1\" class=\"dataframe\">\n",
              "  <thead>\n",
              "    <tr style=\"text-align: right;\">\n",
              "      <th></th>\n",
              "      <th>content</th>\n",
              "      <th>label</th>\n",
              "    </tr>\n",
              "  </thead>\n",
              "  <tbody>\n",
              "    <tr>\n",
              "      <th>0</th>\n",
              "      <td>`- this is not ``creative``.  those are the di...</td>\n",
              "      <td>0</td>\n",
              "    </tr>\n",
              "    <tr>\n",
              "      <th>1</th>\n",
              "      <td>`  :: the term ``standard model`` is itself le...</td>\n",
              "      <td>0</td>\n",
              "    </tr>\n",
              "    <tr>\n",
              "      <th>2</th>\n",
              "      <td>true or false, the situation as of march 200...</td>\n",
              "      <td>0</td>\n",
              "    </tr>\n",
              "    <tr>\n",
              "      <th>3</th>\n",
              "      <td>next, maybe you could work on being less cond...</td>\n",
              "      <td>0</td>\n",
              "    </tr>\n",
              "    <tr>\n",
              "      <th>4</th>\n",
              "      <td>this page will need disambiguation.</td>\n",
              "      <td>0</td>\n",
              "    </tr>\n",
              "  </tbody>\n",
              "</table>\n",
              "</div>\n",
              "    <div class=\"colab-df-buttons\">\n",
              "\n",
              "  <div class=\"colab-df-container\">\n",
              "    <button class=\"colab-df-convert\" onclick=\"convertToInteractive('df-2781c95e-95c4-44d6-81f9-09c25fb22cb7')\"\n",
              "            title=\"Convert this dataframe to an interactive table.\"\n",
              "            style=\"display:none;\">\n",
              "\n",
              "  <svg xmlns=\"http://www.w3.org/2000/svg\" height=\"24px\" viewBox=\"0 -960 960 960\">\n",
              "    <path d=\"M120-120v-720h720v720H120Zm60-500h600v-160H180v160Zm220 220h160v-160H400v160Zm0 220h160v-160H400v160ZM180-400h160v-160H180v160Zm440 0h160v-160H620v160ZM180-180h160v-160H180v160Zm440 0h160v-160H620v160Z\"/>\n",
              "  </svg>\n",
              "    </button>\n",
              "\n",
              "  <style>\n",
              "    .colab-df-container {\n",
              "      display:flex;\n",
              "      gap: 12px;\n",
              "    }\n",
              "\n",
              "    .colab-df-convert {\n",
              "      background-color: #E8F0FE;\n",
              "      border: none;\n",
              "      border-radius: 50%;\n",
              "      cursor: pointer;\n",
              "      display: none;\n",
              "      fill: #1967D2;\n",
              "      height: 32px;\n",
              "      padding: 0 0 0 0;\n",
              "      width: 32px;\n",
              "    }\n",
              "\n",
              "    .colab-df-convert:hover {\n",
              "      background-color: #E2EBFA;\n",
              "      box-shadow: 0px 1px 2px rgba(60, 64, 67, 0.3), 0px 1px 3px 1px rgba(60, 64, 67, 0.15);\n",
              "      fill: #174EA6;\n",
              "    }\n",
              "\n",
              "    .colab-df-buttons div {\n",
              "      margin-bottom: 4px;\n",
              "    }\n",
              "\n",
              "    [theme=dark] .colab-df-convert {\n",
              "      background-color: #3B4455;\n",
              "      fill: #D2E3FC;\n",
              "    }\n",
              "\n",
              "    [theme=dark] .colab-df-convert:hover {\n",
              "      background-color: #434B5C;\n",
              "      box-shadow: 0px 1px 3px 1px rgba(0, 0, 0, 0.15);\n",
              "      filter: drop-shadow(0px 1px 2px rgba(0, 0, 0, 0.3));\n",
              "      fill: #FFFFFF;\n",
              "    }\n",
              "  </style>\n",
              "\n",
              "    <script>\n",
              "      const buttonEl =\n",
              "        document.querySelector('#df-2781c95e-95c4-44d6-81f9-09c25fb22cb7 button.colab-df-convert');\n",
              "      buttonEl.style.display =\n",
              "        google.colab.kernel.accessAllowed ? 'block' : 'none';\n",
              "\n",
              "      async function convertToInteractive(key) {\n",
              "        const element = document.querySelector('#df-2781c95e-95c4-44d6-81f9-09c25fb22cb7');\n",
              "        const dataTable =\n",
              "          await google.colab.kernel.invokeFunction('convertToInteractive',\n",
              "                                                    [key], {});\n",
              "        if (!dataTable) return;\n",
              "\n",
              "        const docLinkHtml = 'Like what you see? Visit the ' +\n",
              "          '<a target=\"_blank\" href=https://colab.research.google.com/notebooks/data_table.ipynb>data table notebook</a>'\n",
              "          + ' to learn more about interactive tables.';\n",
              "        element.innerHTML = '';\n",
              "        dataTable['output_type'] = 'display_data';\n",
              "        await google.colab.output.renderOutput(dataTable, element);\n",
              "        const docLink = document.createElement('div');\n",
              "        docLink.innerHTML = docLinkHtml;\n",
              "        element.appendChild(docLink);\n",
              "      }\n",
              "    </script>\n",
              "  </div>\n",
              "\n",
              "\n",
              "<div id=\"df-dcf20f57-7aa8-4412-ae9d-831baa4645e9\">\n",
              "  <button class=\"colab-df-quickchart\" onclick=\"quickchart('df-dcf20f57-7aa8-4412-ae9d-831baa4645e9')\"\n",
              "            title=\"Suggest charts\"\n",
              "            style=\"display:none;\">\n",
              "\n",
              "<svg xmlns=\"http://www.w3.org/2000/svg\" height=\"24px\"viewBox=\"0 0 24 24\"\n",
              "     width=\"24px\">\n",
              "    <g>\n",
              "        <path d=\"M19 3H5c-1.1 0-2 .9-2 2v14c0 1.1.9 2 2 2h14c1.1 0 2-.9 2-2V5c0-1.1-.9-2-2-2zM9 17H7v-7h2v7zm4 0h-2V7h2v10zm4 0h-2v-4h2v4z\"/>\n",
              "    </g>\n",
              "</svg>\n",
              "  </button>\n",
              "\n",
              "<style>\n",
              "  .colab-df-quickchart {\n",
              "      --bg-color: #E8F0FE;\n",
              "      --fill-color: #1967D2;\n",
              "      --hover-bg-color: #E2EBFA;\n",
              "      --hover-fill-color: #174EA6;\n",
              "      --disabled-fill-color: #AAA;\n",
              "      --disabled-bg-color: #DDD;\n",
              "  }\n",
              "\n",
              "  [theme=dark] .colab-df-quickchart {\n",
              "      --bg-color: #3B4455;\n",
              "      --fill-color: #D2E3FC;\n",
              "      --hover-bg-color: #434B5C;\n",
              "      --hover-fill-color: #FFFFFF;\n",
              "      --disabled-bg-color: #3B4455;\n",
              "      --disabled-fill-color: #666;\n",
              "  }\n",
              "\n",
              "  .colab-df-quickchart {\n",
              "    background-color: var(--bg-color);\n",
              "    border: none;\n",
              "    border-radius: 50%;\n",
              "    cursor: pointer;\n",
              "    display: none;\n",
              "    fill: var(--fill-color);\n",
              "    height: 32px;\n",
              "    padding: 0;\n",
              "    width: 32px;\n",
              "  }\n",
              "\n",
              "  .colab-df-quickchart:hover {\n",
              "    background-color: var(--hover-bg-color);\n",
              "    box-shadow: 0 1px 2px rgba(60, 64, 67, 0.3), 0 1px 3px 1px rgba(60, 64, 67, 0.15);\n",
              "    fill: var(--button-hover-fill-color);\n",
              "  }\n",
              "\n",
              "  .colab-df-quickchart-complete:disabled,\n",
              "  .colab-df-quickchart-complete:disabled:hover {\n",
              "    background-color: var(--disabled-bg-color);\n",
              "    fill: var(--disabled-fill-color);\n",
              "    box-shadow: none;\n",
              "  }\n",
              "\n",
              "  .colab-df-spinner {\n",
              "    border: 2px solid var(--fill-color);\n",
              "    border-color: transparent;\n",
              "    border-bottom-color: var(--fill-color);\n",
              "    animation:\n",
              "      spin 1s steps(1) infinite;\n",
              "  }\n",
              "\n",
              "  @keyframes spin {\n",
              "    0% {\n",
              "      border-color: transparent;\n",
              "      border-bottom-color: var(--fill-color);\n",
              "      border-left-color: var(--fill-color);\n",
              "    }\n",
              "    20% {\n",
              "      border-color: transparent;\n",
              "      border-left-color: var(--fill-color);\n",
              "      border-top-color: var(--fill-color);\n",
              "    }\n",
              "    30% {\n",
              "      border-color: transparent;\n",
              "      border-left-color: var(--fill-color);\n",
              "      border-top-color: var(--fill-color);\n",
              "      border-right-color: var(--fill-color);\n",
              "    }\n",
              "    40% {\n",
              "      border-color: transparent;\n",
              "      border-right-color: var(--fill-color);\n",
              "      border-top-color: var(--fill-color);\n",
              "    }\n",
              "    60% {\n",
              "      border-color: transparent;\n",
              "      border-right-color: var(--fill-color);\n",
              "    }\n",
              "    80% {\n",
              "      border-color: transparent;\n",
              "      border-right-color: var(--fill-color);\n",
              "      border-bottom-color: var(--fill-color);\n",
              "    }\n",
              "    90% {\n",
              "      border-color: transparent;\n",
              "      border-bottom-color: var(--fill-color);\n",
              "    }\n",
              "  }\n",
              "</style>\n",
              "\n",
              "  <script>\n",
              "    async function quickchart(key) {\n",
              "      const quickchartButtonEl =\n",
              "        document.querySelector('#' + key + ' button');\n",
              "      quickchartButtonEl.disabled = true;  // To prevent multiple clicks.\n",
              "      quickchartButtonEl.classList.add('colab-df-spinner');\n",
              "      try {\n",
              "        const charts = await google.colab.kernel.invokeFunction(\n",
              "            'suggestCharts', [key], {});\n",
              "      } catch (error) {\n",
              "        console.error('Error during call to suggestCharts:', error);\n",
              "      }\n",
              "      quickchartButtonEl.classList.remove('colab-df-spinner');\n",
              "      quickchartButtonEl.classList.add('colab-df-quickchart-complete');\n",
              "    }\n",
              "    (() => {\n",
              "      let quickchartButtonEl =\n",
              "        document.querySelector('#df-dcf20f57-7aa8-4412-ae9d-831baa4645e9 button');\n",
              "      quickchartButtonEl.style.display =\n",
              "        google.colab.kernel.accessAllowed ? 'block' : 'none';\n",
              "    })();\n",
              "  </script>\n",
              "</div>\n",
              "    </div>\n",
              "  </div>\n"
            ]
          },
          "metadata": {},
          "execution_count": 22
        }
      ],
      "source": [
        "data['content'] = data['content'].apply(contractions.fix)\n",
        "data.head()"
      ]
    },
    {
      "cell_type": "markdown",
      "metadata": {
        "id": "2yxRpVAyWa2N"
      },
      "source": [
        "- Contraction converts words like \"It's\" to its original expanded form \"It is\"\n",
        "- This part was important to be done before removing punctuation as removing punctuation can directly effect the process of contraction\n",
        "- E.g. row indexed 1, had \"it's\" after :: If\" which is now converted to \"it is\""
      ]
    },
    {
      "cell_type": "markdown",
      "metadata": {
        "id": "Ib6pst0TWa2N"
      },
      "source": [
        "## Remove non-alphabetic characters"
      ]
    },
    {
      "cell_type": "code",
      "execution_count": 23,
      "metadata": {
        "colab": {
          "base_uri": "https://localhost:8080/",
          "height": 261
        },
        "id": "1eXIu9JtWa2N",
        "outputId": "a049336f-1f33-47fd-eb73-27fc7f0fe632"
      },
      "outputs": [
        {
          "output_type": "stream",
          "name": "stderr",
          "text": [
            "/usr/local/lib/python3.10/dist-packages/ipykernel/ipkernel.py:283: DeprecationWarning: `should_run_async` will not call `transform_cell` automatically in the future. Please pass the result to `transformed_cell` argument and any exception that happen during thetransform in `preprocessing_exc_tuple` in IPython 7.17 and above.\n",
            "  and should_run_async(code)\n"
          ]
        },
        {
          "output_type": "execute_result",
          "data": {
            "text/plain": [
              "                                             content  label\n",
              "0   this is not creative  those are the dictionar...      0\n",
              "1     the term standard model is itself less npov...      0\n",
              "2    true or false the situation as of march  was...      0\n",
              "3   next maybe you could work on being less conde...      0\n",
              "4                this page will need disambiguation       0"
            ],
            "text/html": [
              "\n",
              "  <div id=\"df-affbdb11-73e0-4ba0-ac11-35ed2cbc20fe\" class=\"colab-df-container\">\n",
              "    <div>\n",
              "<style scoped>\n",
              "    .dataframe tbody tr th:only-of-type {\n",
              "        vertical-align: middle;\n",
              "    }\n",
              "\n",
              "    .dataframe tbody tr th {\n",
              "        vertical-align: top;\n",
              "    }\n",
              "\n",
              "    .dataframe thead th {\n",
              "        text-align: right;\n",
              "    }\n",
              "</style>\n",
              "<table border=\"1\" class=\"dataframe\">\n",
              "  <thead>\n",
              "    <tr style=\"text-align: right;\">\n",
              "      <th></th>\n",
              "      <th>content</th>\n",
              "      <th>label</th>\n",
              "    </tr>\n",
              "  </thead>\n",
              "  <tbody>\n",
              "    <tr>\n",
              "      <th>0</th>\n",
              "      <td>this is not creative  those are the dictionar...</td>\n",
              "      <td>0</td>\n",
              "    </tr>\n",
              "    <tr>\n",
              "      <th>1</th>\n",
              "      <td>the term standard model is itself less npov...</td>\n",
              "      <td>0</td>\n",
              "    </tr>\n",
              "    <tr>\n",
              "      <th>2</th>\n",
              "      <td>true or false the situation as of march  was...</td>\n",
              "      <td>0</td>\n",
              "    </tr>\n",
              "    <tr>\n",
              "      <th>3</th>\n",
              "      <td>next maybe you could work on being less conde...</td>\n",
              "      <td>0</td>\n",
              "    </tr>\n",
              "    <tr>\n",
              "      <th>4</th>\n",
              "      <td>this page will need disambiguation</td>\n",
              "      <td>0</td>\n",
              "    </tr>\n",
              "  </tbody>\n",
              "</table>\n",
              "</div>\n",
              "    <div class=\"colab-df-buttons\">\n",
              "\n",
              "  <div class=\"colab-df-container\">\n",
              "    <button class=\"colab-df-convert\" onclick=\"convertToInteractive('df-affbdb11-73e0-4ba0-ac11-35ed2cbc20fe')\"\n",
              "            title=\"Convert this dataframe to an interactive table.\"\n",
              "            style=\"display:none;\">\n",
              "\n",
              "  <svg xmlns=\"http://www.w3.org/2000/svg\" height=\"24px\" viewBox=\"0 -960 960 960\">\n",
              "    <path d=\"M120-120v-720h720v720H120Zm60-500h600v-160H180v160Zm220 220h160v-160H400v160Zm0 220h160v-160H400v160ZM180-400h160v-160H180v160Zm440 0h160v-160H620v160ZM180-180h160v-160H180v160Zm440 0h160v-160H620v160Z\"/>\n",
              "  </svg>\n",
              "    </button>\n",
              "\n",
              "  <style>\n",
              "    .colab-df-container {\n",
              "      display:flex;\n",
              "      gap: 12px;\n",
              "    }\n",
              "\n",
              "    .colab-df-convert {\n",
              "      background-color: #E8F0FE;\n",
              "      border: none;\n",
              "      border-radius: 50%;\n",
              "      cursor: pointer;\n",
              "      display: none;\n",
              "      fill: #1967D2;\n",
              "      height: 32px;\n",
              "      padding: 0 0 0 0;\n",
              "      width: 32px;\n",
              "    }\n",
              "\n",
              "    .colab-df-convert:hover {\n",
              "      background-color: #E2EBFA;\n",
              "      box-shadow: 0px 1px 2px rgba(60, 64, 67, 0.3), 0px 1px 3px 1px rgba(60, 64, 67, 0.15);\n",
              "      fill: #174EA6;\n",
              "    }\n",
              "\n",
              "    .colab-df-buttons div {\n",
              "      margin-bottom: 4px;\n",
              "    }\n",
              "\n",
              "    [theme=dark] .colab-df-convert {\n",
              "      background-color: #3B4455;\n",
              "      fill: #D2E3FC;\n",
              "    }\n",
              "\n",
              "    [theme=dark] .colab-df-convert:hover {\n",
              "      background-color: #434B5C;\n",
              "      box-shadow: 0px 1px 3px 1px rgba(0, 0, 0, 0.15);\n",
              "      filter: drop-shadow(0px 1px 2px rgba(0, 0, 0, 0.3));\n",
              "      fill: #FFFFFF;\n",
              "    }\n",
              "  </style>\n",
              "\n",
              "    <script>\n",
              "      const buttonEl =\n",
              "        document.querySelector('#df-affbdb11-73e0-4ba0-ac11-35ed2cbc20fe button.colab-df-convert');\n",
              "      buttonEl.style.display =\n",
              "        google.colab.kernel.accessAllowed ? 'block' : 'none';\n",
              "\n",
              "      async function convertToInteractive(key) {\n",
              "        const element = document.querySelector('#df-affbdb11-73e0-4ba0-ac11-35ed2cbc20fe');\n",
              "        const dataTable =\n",
              "          await google.colab.kernel.invokeFunction('convertToInteractive',\n",
              "                                                    [key], {});\n",
              "        if (!dataTable) return;\n",
              "\n",
              "        const docLinkHtml = 'Like what you see? Visit the ' +\n",
              "          '<a target=\"_blank\" href=https://colab.research.google.com/notebooks/data_table.ipynb>data table notebook</a>'\n",
              "          + ' to learn more about interactive tables.';\n",
              "        element.innerHTML = '';\n",
              "        dataTable['output_type'] = 'display_data';\n",
              "        await google.colab.output.renderOutput(dataTable, element);\n",
              "        const docLink = document.createElement('div');\n",
              "        docLink.innerHTML = docLinkHtml;\n",
              "        element.appendChild(docLink);\n",
              "      }\n",
              "    </script>\n",
              "  </div>\n",
              "\n",
              "\n",
              "<div id=\"df-25d80545-bc68-4130-9dab-fed0a58c657f\">\n",
              "  <button class=\"colab-df-quickchart\" onclick=\"quickchart('df-25d80545-bc68-4130-9dab-fed0a58c657f')\"\n",
              "            title=\"Suggest charts\"\n",
              "            style=\"display:none;\">\n",
              "\n",
              "<svg xmlns=\"http://www.w3.org/2000/svg\" height=\"24px\"viewBox=\"0 0 24 24\"\n",
              "     width=\"24px\">\n",
              "    <g>\n",
              "        <path d=\"M19 3H5c-1.1 0-2 .9-2 2v14c0 1.1.9 2 2 2h14c1.1 0 2-.9 2-2V5c0-1.1-.9-2-2-2zM9 17H7v-7h2v7zm4 0h-2V7h2v10zm4 0h-2v-4h2v4z\"/>\n",
              "    </g>\n",
              "</svg>\n",
              "  </button>\n",
              "\n",
              "<style>\n",
              "  .colab-df-quickchart {\n",
              "      --bg-color: #E8F0FE;\n",
              "      --fill-color: #1967D2;\n",
              "      --hover-bg-color: #E2EBFA;\n",
              "      --hover-fill-color: #174EA6;\n",
              "      --disabled-fill-color: #AAA;\n",
              "      --disabled-bg-color: #DDD;\n",
              "  }\n",
              "\n",
              "  [theme=dark] .colab-df-quickchart {\n",
              "      --bg-color: #3B4455;\n",
              "      --fill-color: #D2E3FC;\n",
              "      --hover-bg-color: #434B5C;\n",
              "      --hover-fill-color: #FFFFFF;\n",
              "      --disabled-bg-color: #3B4455;\n",
              "      --disabled-fill-color: #666;\n",
              "  }\n",
              "\n",
              "  .colab-df-quickchart {\n",
              "    background-color: var(--bg-color);\n",
              "    border: none;\n",
              "    border-radius: 50%;\n",
              "    cursor: pointer;\n",
              "    display: none;\n",
              "    fill: var(--fill-color);\n",
              "    height: 32px;\n",
              "    padding: 0;\n",
              "    width: 32px;\n",
              "  }\n",
              "\n",
              "  .colab-df-quickchart:hover {\n",
              "    background-color: var(--hover-bg-color);\n",
              "    box-shadow: 0 1px 2px rgba(60, 64, 67, 0.3), 0 1px 3px 1px rgba(60, 64, 67, 0.15);\n",
              "    fill: var(--button-hover-fill-color);\n",
              "  }\n",
              "\n",
              "  .colab-df-quickchart-complete:disabled,\n",
              "  .colab-df-quickchart-complete:disabled:hover {\n",
              "    background-color: var(--disabled-bg-color);\n",
              "    fill: var(--disabled-fill-color);\n",
              "    box-shadow: none;\n",
              "  }\n",
              "\n",
              "  .colab-df-spinner {\n",
              "    border: 2px solid var(--fill-color);\n",
              "    border-color: transparent;\n",
              "    border-bottom-color: var(--fill-color);\n",
              "    animation:\n",
              "      spin 1s steps(1) infinite;\n",
              "  }\n",
              "\n",
              "  @keyframes spin {\n",
              "    0% {\n",
              "      border-color: transparent;\n",
              "      border-bottom-color: var(--fill-color);\n",
              "      border-left-color: var(--fill-color);\n",
              "    }\n",
              "    20% {\n",
              "      border-color: transparent;\n",
              "      border-left-color: var(--fill-color);\n",
              "      border-top-color: var(--fill-color);\n",
              "    }\n",
              "    30% {\n",
              "      border-color: transparent;\n",
              "      border-left-color: var(--fill-color);\n",
              "      border-top-color: var(--fill-color);\n",
              "      border-right-color: var(--fill-color);\n",
              "    }\n",
              "    40% {\n",
              "      border-color: transparent;\n",
              "      border-right-color: var(--fill-color);\n",
              "      border-top-color: var(--fill-color);\n",
              "    }\n",
              "    60% {\n",
              "      border-color: transparent;\n",
              "      border-right-color: var(--fill-color);\n",
              "    }\n",
              "    80% {\n",
              "      border-color: transparent;\n",
              "      border-right-color: var(--fill-color);\n",
              "      border-bottom-color: var(--fill-color);\n",
              "    }\n",
              "    90% {\n",
              "      border-color: transparent;\n",
              "      border-bottom-color: var(--fill-color);\n",
              "    }\n",
              "  }\n",
              "</style>\n",
              "\n",
              "  <script>\n",
              "    async function quickchart(key) {\n",
              "      const quickchartButtonEl =\n",
              "        document.querySelector('#' + key + ' button');\n",
              "      quickchartButtonEl.disabled = true;  // To prevent multiple clicks.\n",
              "      quickchartButtonEl.classList.add('colab-df-spinner');\n",
              "      try {\n",
              "        const charts = await google.colab.kernel.invokeFunction(\n",
              "            'suggestCharts', [key], {});\n",
              "      } catch (error) {\n",
              "        console.error('Error during call to suggestCharts:', error);\n",
              "      }\n",
              "      quickchartButtonEl.classList.remove('colab-df-spinner');\n",
              "      quickchartButtonEl.classList.add('colab-df-quickchart-complete');\n",
              "    }\n",
              "    (() => {\n",
              "      let quickchartButtonEl =\n",
              "        document.querySelector('#df-25d80545-bc68-4130-9dab-fed0a58c657f button');\n",
              "      quickchartButtonEl.style.display =\n",
              "        google.colab.kernel.accessAllowed ? 'block' : 'none';\n",
              "    })();\n",
              "  </script>\n",
              "</div>\n",
              "    </div>\n",
              "  </div>\n"
            ]
          },
          "metadata": {},
          "execution_count": 23
        }
      ],
      "source": [
        "def clean_text(tweet):\n",
        "    cleaned_text = re.sub(r'[^a-zA-Z\\s]', '', tweet)\n",
        "    return cleaned_text\n",
        "\n",
        "data['content'] = data['content'].apply(clean_text)\n",
        "data.head()"
      ]
    },
    {
      "cell_type": "markdown",
      "metadata": {
        "id": "s7n74WKbWa2N"
      },
      "source": [
        "## Lemmatizing"
      ]
    },
    {
      "cell_type": "code",
      "execution_count": 24,
      "metadata": {
        "colab": {
          "base_uri": "https://localhost:8080/",
          "height": 293,
          "referenced_widgets": [
            "506af6d4905f486f9851545ca488ab6b",
            "c9a235dea56c46e4bb372252607d6c07",
            "6043061571be488c977b1e97d8d49550",
            "1ac3265d767c4db29346657c6ecc1ad7",
            "8f03a1a29f5744c9a773d876260a4e6f",
            "27e6d28a32654450960525f3c5115e69",
            "bdd3c95544bd451c935e4a47ab93b8f5",
            "545d71d5ff7a4e8db56c3e120671106a",
            "493afdf3917e460b8fb88d8bd55f50fe",
            "e39bc5b9240347e2b454b440717f1d1e",
            "99eb25b484044040b76553f0569b6b75"
          ]
        },
        "id": "dALv1YLOWa2N",
        "outputId": "56e1c203-4af4-4a13-8194-66a637a4f270"
      },
      "outputs": [
        {
          "output_type": "stream",
          "name": "stderr",
          "text": [
            "/usr/local/lib/python3.10/dist-packages/ipykernel/ipkernel.py:283: DeprecationWarning: `should_run_async` will not call `transform_cell` automatically in the future. Please pass the result to `transformed_cell` argument and any exception that happen during thetransform in `preprocessing_exc_tuple` in IPython 7.17 and above.\n",
            "  and should_run_async(code)\n"
          ]
        },
        {
          "output_type": "display_data",
          "data": {
            "text/plain": [
              "Pandas Apply:   0%|          | 0/559932 [00:00<?, ?it/s]"
            ],
            "application/vnd.jupyter.widget-view+json": {
              "version_major": 2,
              "version_minor": 0,
              "model_id": "506af6d4905f486f9851545ca488ab6b"
            }
          },
          "metadata": {}
        },
        {
          "output_type": "execute_result",
          "data": {
            "text/plain": [
              "                                             content  label\n",
              "0  this is not creative those are the dictionary ...      0\n",
              "1  the term standard model is itself le npov than...      0\n",
              "2  true or false the situation a of march wa such...      0\n",
              "3  next maybe you could work on being le condesce...      0\n",
              "4                 this page will need disambiguation      0"
            ],
            "text/html": [
              "\n",
              "  <div id=\"df-a0689be5-f389-45e8-a1cf-5c883bea0e4f\" class=\"colab-df-container\">\n",
              "    <div>\n",
              "<style scoped>\n",
              "    .dataframe tbody tr th:only-of-type {\n",
              "        vertical-align: middle;\n",
              "    }\n",
              "\n",
              "    .dataframe tbody tr th {\n",
              "        vertical-align: top;\n",
              "    }\n",
              "\n",
              "    .dataframe thead th {\n",
              "        text-align: right;\n",
              "    }\n",
              "</style>\n",
              "<table border=\"1\" class=\"dataframe\">\n",
              "  <thead>\n",
              "    <tr style=\"text-align: right;\">\n",
              "      <th></th>\n",
              "      <th>content</th>\n",
              "      <th>label</th>\n",
              "    </tr>\n",
              "  </thead>\n",
              "  <tbody>\n",
              "    <tr>\n",
              "      <th>0</th>\n",
              "      <td>this is not creative those are the dictionary ...</td>\n",
              "      <td>0</td>\n",
              "    </tr>\n",
              "    <tr>\n",
              "      <th>1</th>\n",
              "      <td>the term standard model is itself le npov than...</td>\n",
              "      <td>0</td>\n",
              "    </tr>\n",
              "    <tr>\n",
              "      <th>2</th>\n",
              "      <td>true or false the situation a of march wa such...</td>\n",
              "      <td>0</td>\n",
              "    </tr>\n",
              "    <tr>\n",
              "      <th>3</th>\n",
              "      <td>next maybe you could work on being le condesce...</td>\n",
              "      <td>0</td>\n",
              "    </tr>\n",
              "    <tr>\n",
              "      <th>4</th>\n",
              "      <td>this page will need disambiguation</td>\n",
              "      <td>0</td>\n",
              "    </tr>\n",
              "  </tbody>\n",
              "</table>\n",
              "</div>\n",
              "    <div class=\"colab-df-buttons\">\n",
              "\n",
              "  <div class=\"colab-df-container\">\n",
              "    <button class=\"colab-df-convert\" onclick=\"convertToInteractive('df-a0689be5-f389-45e8-a1cf-5c883bea0e4f')\"\n",
              "            title=\"Convert this dataframe to an interactive table.\"\n",
              "            style=\"display:none;\">\n",
              "\n",
              "  <svg xmlns=\"http://www.w3.org/2000/svg\" height=\"24px\" viewBox=\"0 -960 960 960\">\n",
              "    <path d=\"M120-120v-720h720v720H120Zm60-500h600v-160H180v160Zm220 220h160v-160H400v160Zm0 220h160v-160H400v160ZM180-400h160v-160H180v160Zm440 0h160v-160H620v160ZM180-180h160v-160H180v160Zm440 0h160v-160H620v160Z\"/>\n",
              "  </svg>\n",
              "    </button>\n",
              "\n",
              "  <style>\n",
              "    .colab-df-container {\n",
              "      display:flex;\n",
              "      gap: 12px;\n",
              "    }\n",
              "\n",
              "    .colab-df-convert {\n",
              "      background-color: #E8F0FE;\n",
              "      border: none;\n",
              "      border-radius: 50%;\n",
              "      cursor: pointer;\n",
              "      display: none;\n",
              "      fill: #1967D2;\n",
              "      height: 32px;\n",
              "      padding: 0 0 0 0;\n",
              "      width: 32px;\n",
              "    }\n",
              "\n",
              "    .colab-df-convert:hover {\n",
              "      background-color: #E2EBFA;\n",
              "      box-shadow: 0px 1px 2px rgba(60, 64, 67, 0.3), 0px 1px 3px 1px rgba(60, 64, 67, 0.15);\n",
              "      fill: #174EA6;\n",
              "    }\n",
              "\n",
              "    .colab-df-buttons div {\n",
              "      margin-bottom: 4px;\n",
              "    }\n",
              "\n",
              "    [theme=dark] .colab-df-convert {\n",
              "      background-color: #3B4455;\n",
              "      fill: #D2E3FC;\n",
              "    }\n",
              "\n",
              "    [theme=dark] .colab-df-convert:hover {\n",
              "      background-color: #434B5C;\n",
              "      box-shadow: 0px 1px 3px 1px rgba(0, 0, 0, 0.15);\n",
              "      filter: drop-shadow(0px 1px 2px rgba(0, 0, 0, 0.3));\n",
              "      fill: #FFFFFF;\n",
              "    }\n",
              "  </style>\n",
              "\n",
              "    <script>\n",
              "      const buttonEl =\n",
              "        document.querySelector('#df-a0689be5-f389-45e8-a1cf-5c883bea0e4f button.colab-df-convert');\n",
              "      buttonEl.style.display =\n",
              "        google.colab.kernel.accessAllowed ? 'block' : 'none';\n",
              "\n",
              "      async function convertToInteractive(key) {\n",
              "        const element = document.querySelector('#df-a0689be5-f389-45e8-a1cf-5c883bea0e4f');\n",
              "        const dataTable =\n",
              "          await google.colab.kernel.invokeFunction('convertToInteractive',\n",
              "                                                    [key], {});\n",
              "        if (!dataTable) return;\n",
              "\n",
              "        const docLinkHtml = 'Like what you see? Visit the ' +\n",
              "          '<a target=\"_blank\" href=https://colab.research.google.com/notebooks/data_table.ipynb>data table notebook</a>'\n",
              "          + ' to learn more about interactive tables.';\n",
              "        element.innerHTML = '';\n",
              "        dataTable['output_type'] = 'display_data';\n",
              "        await google.colab.output.renderOutput(dataTable, element);\n",
              "        const docLink = document.createElement('div');\n",
              "        docLink.innerHTML = docLinkHtml;\n",
              "        element.appendChild(docLink);\n",
              "      }\n",
              "    </script>\n",
              "  </div>\n",
              "\n",
              "\n",
              "<div id=\"df-61469e48-7c86-48b0-9991-1b5053a5a0e4\">\n",
              "  <button class=\"colab-df-quickchart\" onclick=\"quickchart('df-61469e48-7c86-48b0-9991-1b5053a5a0e4')\"\n",
              "            title=\"Suggest charts\"\n",
              "            style=\"display:none;\">\n",
              "\n",
              "<svg xmlns=\"http://www.w3.org/2000/svg\" height=\"24px\"viewBox=\"0 0 24 24\"\n",
              "     width=\"24px\">\n",
              "    <g>\n",
              "        <path d=\"M19 3H5c-1.1 0-2 .9-2 2v14c0 1.1.9 2 2 2h14c1.1 0 2-.9 2-2V5c0-1.1-.9-2-2-2zM9 17H7v-7h2v7zm4 0h-2V7h2v10zm4 0h-2v-4h2v4z\"/>\n",
              "    </g>\n",
              "</svg>\n",
              "  </button>\n",
              "\n",
              "<style>\n",
              "  .colab-df-quickchart {\n",
              "      --bg-color: #E8F0FE;\n",
              "      --fill-color: #1967D2;\n",
              "      --hover-bg-color: #E2EBFA;\n",
              "      --hover-fill-color: #174EA6;\n",
              "      --disabled-fill-color: #AAA;\n",
              "      --disabled-bg-color: #DDD;\n",
              "  }\n",
              "\n",
              "  [theme=dark] .colab-df-quickchart {\n",
              "      --bg-color: #3B4455;\n",
              "      --fill-color: #D2E3FC;\n",
              "      --hover-bg-color: #434B5C;\n",
              "      --hover-fill-color: #FFFFFF;\n",
              "      --disabled-bg-color: #3B4455;\n",
              "      --disabled-fill-color: #666;\n",
              "  }\n",
              "\n",
              "  .colab-df-quickchart {\n",
              "    background-color: var(--bg-color);\n",
              "    border: none;\n",
              "    border-radius: 50%;\n",
              "    cursor: pointer;\n",
              "    display: none;\n",
              "    fill: var(--fill-color);\n",
              "    height: 32px;\n",
              "    padding: 0;\n",
              "    width: 32px;\n",
              "  }\n",
              "\n",
              "  .colab-df-quickchart:hover {\n",
              "    background-color: var(--hover-bg-color);\n",
              "    box-shadow: 0 1px 2px rgba(60, 64, 67, 0.3), 0 1px 3px 1px rgba(60, 64, 67, 0.15);\n",
              "    fill: var(--button-hover-fill-color);\n",
              "  }\n",
              "\n",
              "  .colab-df-quickchart-complete:disabled,\n",
              "  .colab-df-quickchart-complete:disabled:hover {\n",
              "    background-color: var(--disabled-bg-color);\n",
              "    fill: var(--disabled-fill-color);\n",
              "    box-shadow: none;\n",
              "  }\n",
              "\n",
              "  .colab-df-spinner {\n",
              "    border: 2px solid var(--fill-color);\n",
              "    border-color: transparent;\n",
              "    border-bottom-color: var(--fill-color);\n",
              "    animation:\n",
              "      spin 1s steps(1) infinite;\n",
              "  }\n",
              "\n",
              "  @keyframes spin {\n",
              "    0% {\n",
              "      border-color: transparent;\n",
              "      border-bottom-color: var(--fill-color);\n",
              "      border-left-color: var(--fill-color);\n",
              "    }\n",
              "    20% {\n",
              "      border-color: transparent;\n",
              "      border-left-color: var(--fill-color);\n",
              "      border-top-color: var(--fill-color);\n",
              "    }\n",
              "    30% {\n",
              "      border-color: transparent;\n",
              "      border-left-color: var(--fill-color);\n",
              "      border-top-color: var(--fill-color);\n",
              "      border-right-color: var(--fill-color);\n",
              "    }\n",
              "    40% {\n",
              "      border-color: transparent;\n",
              "      border-right-color: var(--fill-color);\n",
              "      border-top-color: var(--fill-color);\n",
              "    }\n",
              "    60% {\n",
              "      border-color: transparent;\n",
              "      border-right-color: var(--fill-color);\n",
              "    }\n",
              "    80% {\n",
              "      border-color: transparent;\n",
              "      border-right-color: var(--fill-color);\n",
              "      border-bottom-color: var(--fill-color);\n",
              "    }\n",
              "    90% {\n",
              "      border-color: transparent;\n",
              "      border-bottom-color: var(--fill-color);\n",
              "    }\n",
              "  }\n",
              "</style>\n",
              "\n",
              "  <script>\n",
              "    async function quickchart(key) {\n",
              "      const quickchartButtonEl =\n",
              "        document.querySelector('#' + key + ' button');\n",
              "      quickchartButtonEl.disabled = true;  // To prevent multiple clicks.\n",
              "      quickchartButtonEl.classList.add('colab-df-spinner');\n",
              "      try {\n",
              "        const charts = await google.colab.kernel.invokeFunction(\n",
              "            'suggestCharts', [key], {});\n",
              "      } catch (error) {\n",
              "        console.error('Error during call to suggestCharts:', error);\n",
              "      }\n",
              "      quickchartButtonEl.classList.remove('colab-df-spinner');\n",
              "      quickchartButtonEl.classList.add('colab-df-quickchart-complete');\n",
              "    }\n",
              "    (() => {\n",
              "      let quickchartButtonEl =\n",
              "        document.querySelector('#df-61469e48-7c86-48b0-9991-1b5053a5a0e4 button');\n",
              "      quickchartButtonEl.style.display =\n",
              "        google.colab.kernel.accessAllowed ? 'block' : 'none';\n",
              "    })();\n",
              "  </script>\n",
              "</div>\n",
              "    </div>\n",
              "  </div>\n"
            ]
          },
          "metadata": {},
          "execution_count": 24
        }
      ],
      "source": [
        "# Google Colab V100 = 3m 54s\n",
        "def lemmatizing_words(tweet):\n",
        "    lemmatizer = WordNetLemmatizer()\n",
        "    words = word_tokenize(tweet)\n",
        "    lemmatized_words = [lemmatizer.lemmatize(word) for word in words]\n",
        "    return ' '.join(lemmatized_words)\n",
        "\n",
        "data.loc[:, ['content']] = data.loc[:, 'content'].swifter.apply(lemmatizing_words)\n",
        "data.head()"
      ]
    },
    {
      "cell_type": "markdown",
      "metadata": {
        "id": "b5vV9diRWa2N"
      },
      "source": [
        "- Lemmatizing is converting words into their root format. E.g. \"works\" is converted to \"work\"\n",
        "- Stemming could have been also used but since lemmatizing has shown better accuracy of converting words to their original root compare to stemming, we decided to use lemmatizing instead. Below is an example table of the conversion problems with stemming and how it is handled by lemmatizing\n",
        "\n",
        "| Original Word  | Lemmatization  | Stemming    |\n",
        "|-----------------|----------------|-------------|\n",
        "| **Jumps**       | Jump           | Jump        |\n",
        "| **Happily**     | Happy          | Happi       |\n",
        "| **Quickly**     | Quick          | Quick       |\n",
        "| **Beautifully** | Beautiful      | Beauti      |\n",
        "| **Discoveries** | Discovery      | Discoveri   |\n",
        "| **Libraries**   | Library        | Librari     |\n",
        "| **Universally** | Universal      | Univers     |\n",
        "| **Machines**    | Machine        | Machin      |\n",
        "| **Harmonizing** | Harmonize      | Harmon      |\n",
        "| **Paintings**   | Painting       | Paint       |\n",
        "| **Unhappily**   | Unhappy        | Unhappi     |\n",
        "\n",
        "- As you can see Stemming has problems when converting the word to its root. Especially, when root has been changed more than just adding a 's' as plural form\n",
        "- Lemmatizing has also some problems like this specially with the superlative adjectives like better but we decided to accept this at this point"
      ]
    },
    {
      "cell_type": "markdown",
      "metadata": {
        "id": "Xe8rQFc-Wa2N"
      },
      "source": [
        "## Removing stop words"
      ]
    },
    {
      "cell_type": "code",
      "execution_count": 25,
      "metadata": {
        "colab": {
          "base_uri": "https://localhost:8080/",
          "height": 310,
          "referenced_widgets": [
            "74ebb7ddaff149aea1988a49332cc5b1",
            "1551c6fc051046768290ea446e7e546a",
            "e128dfd93af9418894148ccdce7c6359",
            "db6ab6329a334b17b53445303b4045aa",
            "151277391715469496cffa0ace01e0c0",
            "4f2413e66cd74662ba7cc8512a19e401",
            "eecf830b9da54ae0a189687c292ccf95",
            "7d5909424e6f43adbb0d038d17d444d6",
            "15de952ca51642efbd2418c12c8454d5",
            "011a1feed08d4bc4bf683a0616b864b3",
            "dbadd9a9d41f42229d3e01b64756dc51"
          ]
        },
        "id": "o5OBbtWkWa2N",
        "outputId": "99e734f3-ee48-4c80-e533-85d305161db0"
      },
      "outputs": [
        {
          "output_type": "stream",
          "name": "stderr",
          "text": [
            "/usr/local/lib/python3.10/dist-packages/ipykernel/ipkernel.py:283: DeprecationWarning: `should_run_async` will not call `transform_cell` automatically in the future. Please pass the result to `transformed_cell` argument and any exception that happen during thetransform in `preprocessing_exc_tuple` in IPython 7.17 and above.\n",
            "  and should_run_async(code)\n"
          ]
        },
        {
          "output_type": "display_data",
          "data": {
            "text/plain": [
              "Pandas Apply:   0%|          | 0/559932 [00:00<?, ?it/s]"
            ],
            "application/vnd.jupyter.widget-view+json": {
              "version_major": 2,
              "version_minor": 0,
              "model_id": "74ebb7ddaff149aea1988a49332cc5b1"
            }
          },
          "metadata": {}
        },
        {
          "output_type": "stream",
          "name": "stdout",
          "text": [
            "(559932, 3)\n"
          ]
        },
        {
          "output_type": "execute_result",
          "data": {
            "text/plain": [
              "                                             content  label  \\\n",
              "0  this is not creative those are the dictionary ...      0   \n",
              "1  the term standard model is itself le npov than...      0   \n",
              "2  true or false the situation a of march wa such...      0   \n",
              "3  next maybe you could work on being le condesce...      0   \n",
              "4                 this page will need disambiguation      0   \n",
              "\n",
              "                                     content_cleaned  \n",
              "0  not creative dictionary definition term insura...  \n",
              "1  term standard model le npov think would prefer...  \n",
              "2  true false situation march wa saudi proposal l...  \n",
              "3  next maybe could work le condescending suggest...  \n",
              "4                           page need disambiguation  "
            ],
            "text/html": [
              "\n",
              "  <div id=\"df-9c8d6e07-2ac5-49cc-a6be-97ca0694ef97\" class=\"colab-df-container\">\n",
              "    <div>\n",
              "<style scoped>\n",
              "    .dataframe tbody tr th:only-of-type {\n",
              "        vertical-align: middle;\n",
              "    }\n",
              "\n",
              "    .dataframe tbody tr th {\n",
              "        vertical-align: top;\n",
              "    }\n",
              "\n",
              "    .dataframe thead th {\n",
              "        text-align: right;\n",
              "    }\n",
              "</style>\n",
              "<table border=\"1\" class=\"dataframe\">\n",
              "  <thead>\n",
              "    <tr style=\"text-align: right;\">\n",
              "      <th></th>\n",
              "      <th>content</th>\n",
              "      <th>label</th>\n",
              "      <th>content_cleaned</th>\n",
              "    </tr>\n",
              "  </thead>\n",
              "  <tbody>\n",
              "    <tr>\n",
              "      <th>0</th>\n",
              "      <td>this is not creative those are the dictionary ...</td>\n",
              "      <td>0</td>\n",
              "      <td>not creative dictionary definition term insura...</td>\n",
              "    </tr>\n",
              "    <tr>\n",
              "      <th>1</th>\n",
              "      <td>the term standard model is itself le npov than...</td>\n",
              "      <td>0</td>\n",
              "      <td>term standard model le npov think would prefer...</td>\n",
              "    </tr>\n",
              "    <tr>\n",
              "      <th>2</th>\n",
              "      <td>true or false the situation a of march wa such...</td>\n",
              "      <td>0</td>\n",
              "      <td>true false situation march wa saudi proposal l...</td>\n",
              "    </tr>\n",
              "    <tr>\n",
              "      <th>3</th>\n",
              "      <td>next maybe you could work on being le condesce...</td>\n",
              "      <td>0</td>\n",
              "      <td>next maybe could work le condescending suggest...</td>\n",
              "    </tr>\n",
              "    <tr>\n",
              "      <th>4</th>\n",
              "      <td>this page will need disambiguation</td>\n",
              "      <td>0</td>\n",
              "      <td>page need disambiguation</td>\n",
              "    </tr>\n",
              "  </tbody>\n",
              "</table>\n",
              "</div>\n",
              "    <div class=\"colab-df-buttons\">\n",
              "\n",
              "  <div class=\"colab-df-container\">\n",
              "    <button class=\"colab-df-convert\" onclick=\"convertToInteractive('df-9c8d6e07-2ac5-49cc-a6be-97ca0694ef97')\"\n",
              "            title=\"Convert this dataframe to an interactive table.\"\n",
              "            style=\"display:none;\">\n",
              "\n",
              "  <svg xmlns=\"http://www.w3.org/2000/svg\" height=\"24px\" viewBox=\"0 -960 960 960\">\n",
              "    <path d=\"M120-120v-720h720v720H120Zm60-500h600v-160H180v160Zm220 220h160v-160H400v160Zm0 220h160v-160H400v160ZM180-400h160v-160H180v160Zm440 0h160v-160H620v160ZM180-180h160v-160H180v160Zm440 0h160v-160H620v160Z\"/>\n",
              "  </svg>\n",
              "    </button>\n",
              "\n",
              "  <style>\n",
              "    .colab-df-container {\n",
              "      display:flex;\n",
              "      gap: 12px;\n",
              "    }\n",
              "\n",
              "    .colab-df-convert {\n",
              "      background-color: #E8F0FE;\n",
              "      border: none;\n",
              "      border-radius: 50%;\n",
              "      cursor: pointer;\n",
              "      display: none;\n",
              "      fill: #1967D2;\n",
              "      height: 32px;\n",
              "      padding: 0 0 0 0;\n",
              "      width: 32px;\n",
              "    }\n",
              "\n",
              "    .colab-df-convert:hover {\n",
              "      background-color: #E2EBFA;\n",
              "      box-shadow: 0px 1px 2px rgba(60, 64, 67, 0.3), 0px 1px 3px 1px rgba(60, 64, 67, 0.15);\n",
              "      fill: #174EA6;\n",
              "    }\n",
              "\n",
              "    .colab-df-buttons div {\n",
              "      margin-bottom: 4px;\n",
              "    }\n",
              "\n",
              "    [theme=dark] .colab-df-convert {\n",
              "      background-color: #3B4455;\n",
              "      fill: #D2E3FC;\n",
              "    }\n",
              "\n",
              "    [theme=dark] .colab-df-convert:hover {\n",
              "      background-color: #434B5C;\n",
              "      box-shadow: 0px 1px 3px 1px rgba(0, 0, 0, 0.15);\n",
              "      filter: drop-shadow(0px 1px 2px rgba(0, 0, 0, 0.3));\n",
              "      fill: #FFFFFF;\n",
              "    }\n",
              "  </style>\n",
              "\n",
              "    <script>\n",
              "      const buttonEl =\n",
              "        document.querySelector('#df-9c8d6e07-2ac5-49cc-a6be-97ca0694ef97 button.colab-df-convert');\n",
              "      buttonEl.style.display =\n",
              "        google.colab.kernel.accessAllowed ? 'block' : 'none';\n",
              "\n",
              "      async function convertToInteractive(key) {\n",
              "        const element = document.querySelector('#df-9c8d6e07-2ac5-49cc-a6be-97ca0694ef97');\n",
              "        const dataTable =\n",
              "          await google.colab.kernel.invokeFunction('convertToInteractive',\n",
              "                                                    [key], {});\n",
              "        if (!dataTable) return;\n",
              "\n",
              "        const docLinkHtml = 'Like what you see? Visit the ' +\n",
              "          '<a target=\"_blank\" href=https://colab.research.google.com/notebooks/data_table.ipynb>data table notebook</a>'\n",
              "          + ' to learn more about interactive tables.';\n",
              "        element.innerHTML = '';\n",
              "        dataTable['output_type'] = 'display_data';\n",
              "        await google.colab.output.renderOutput(dataTable, element);\n",
              "        const docLink = document.createElement('div');\n",
              "        docLink.innerHTML = docLinkHtml;\n",
              "        element.appendChild(docLink);\n",
              "      }\n",
              "    </script>\n",
              "  </div>\n",
              "\n",
              "\n",
              "<div id=\"df-5acbfc3a-5ad0-4f7b-9b9d-e6723fb78652\">\n",
              "  <button class=\"colab-df-quickchart\" onclick=\"quickchart('df-5acbfc3a-5ad0-4f7b-9b9d-e6723fb78652')\"\n",
              "            title=\"Suggest charts\"\n",
              "            style=\"display:none;\">\n",
              "\n",
              "<svg xmlns=\"http://www.w3.org/2000/svg\" height=\"24px\"viewBox=\"0 0 24 24\"\n",
              "     width=\"24px\">\n",
              "    <g>\n",
              "        <path d=\"M19 3H5c-1.1 0-2 .9-2 2v14c0 1.1.9 2 2 2h14c1.1 0 2-.9 2-2V5c0-1.1-.9-2-2-2zM9 17H7v-7h2v7zm4 0h-2V7h2v10zm4 0h-2v-4h2v4z\"/>\n",
              "    </g>\n",
              "</svg>\n",
              "  </button>\n",
              "\n",
              "<style>\n",
              "  .colab-df-quickchart {\n",
              "      --bg-color: #E8F0FE;\n",
              "      --fill-color: #1967D2;\n",
              "      --hover-bg-color: #E2EBFA;\n",
              "      --hover-fill-color: #174EA6;\n",
              "      --disabled-fill-color: #AAA;\n",
              "      --disabled-bg-color: #DDD;\n",
              "  }\n",
              "\n",
              "  [theme=dark] .colab-df-quickchart {\n",
              "      --bg-color: #3B4455;\n",
              "      --fill-color: #D2E3FC;\n",
              "      --hover-bg-color: #434B5C;\n",
              "      --hover-fill-color: #FFFFFF;\n",
              "      --disabled-bg-color: #3B4455;\n",
              "      --disabled-fill-color: #666;\n",
              "  }\n",
              "\n",
              "  .colab-df-quickchart {\n",
              "    background-color: var(--bg-color);\n",
              "    border: none;\n",
              "    border-radius: 50%;\n",
              "    cursor: pointer;\n",
              "    display: none;\n",
              "    fill: var(--fill-color);\n",
              "    height: 32px;\n",
              "    padding: 0;\n",
              "    width: 32px;\n",
              "  }\n",
              "\n",
              "  .colab-df-quickchart:hover {\n",
              "    background-color: var(--hover-bg-color);\n",
              "    box-shadow: 0 1px 2px rgba(60, 64, 67, 0.3), 0 1px 3px 1px rgba(60, 64, 67, 0.15);\n",
              "    fill: var(--button-hover-fill-color);\n",
              "  }\n",
              "\n",
              "  .colab-df-quickchart-complete:disabled,\n",
              "  .colab-df-quickchart-complete:disabled:hover {\n",
              "    background-color: var(--disabled-bg-color);\n",
              "    fill: var(--disabled-fill-color);\n",
              "    box-shadow: none;\n",
              "  }\n",
              "\n",
              "  .colab-df-spinner {\n",
              "    border: 2px solid var(--fill-color);\n",
              "    border-color: transparent;\n",
              "    border-bottom-color: var(--fill-color);\n",
              "    animation:\n",
              "      spin 1s steps(1) infinite;\n",
              "  }\n",
              "\n",
              "  @keyframes spin {\n",
              "    0% {\n",
              "      border-color: transparent;\n",
              "      border-bottom-color: var(--fill-color);\n",
              "      border-left-color: var(--fill-color);\n",
              "    }\n",
              "    20% {\n",
              "      border-color: transparent;\n",
              "      border-left-color: var(--fill-color);\n",
              "      border-top-color: var(--fill-color);\n",
              "    }\n",
              "    30% {\n",
              "      border-color: transparent;\n",
              "      border-left-color: var(--fill-color);\n",
              "      border-top-color: var(--fill-color);\n",
              "      border-right-color: var(--fill-color);\n",
              "    }\n",
              "    40% {\n",
              "      border-color: transparent;\n",
              "      border-right-color: var(--fill-color);\n",
              "      border-top-color: var(--fill-color);\n",
              "    }\n",
              "    60% {\n",
              "      border-color: transparent;\n",
              "      border-right-color: var(--fill-color);\n",
              "    }\n",
              "    80% {\n",
              "      border-color: transparent;\n",
              "      border-right-color: var(--fill-color);\n",
              "      border-bottom-color: var(--fill-color);\n",
              "    }\n",
              "    90% {\n",
              "      border-color: transparent;\n",
              "      border-bottom-color: var(--fill-color);\n",
              "    }\n",
              "  }\n",
              "</style>\n",
              "\n",
              "  <script>\n",
              "    async function quickchart(key) {\n",
              "      const quickchartButtonEl =\n",
              "        document.querySelector('#' + key + ' button');\n",
              "      quickchartButtonEl.disabled = true;  // To prevent multiple clicks.\n",
              "      quickchartButtonEl.classList.add('colab-df-spinner');\n",
              "      try {\n",
              "        const charts = await google.colab.kernel.invokeFunction(\n",
              "            'suggestCharts', [key], {});\n",
              "      } catch (error) {\n",
              "        console.error('Error during call to suggestCharts:', error);\n",
              "      }\n",
              "      quickchartButtonEl.classList.remove('colab-df-spinner');\n",
              "      quickchartButtonEl.classList.add('colab-df-quickchart-complete');\n",
              "    }\n",
              "    (() => {\n",
              "      let quickchartButtonEl =\n",
              "        document.querySelector('#df-5acbfc3a-5ad0-4f7b-9b9d-e6723fb78652 button');\n",
              "      quickchartButtonEl.style.display =\n",
              "        google.colab.kernel.accessAllowed ? 'block' : 'none';\n",
              "    })();\n",
              "  </script>\n",
              "</div>\n",
              "    </div>\n",
              "  </div>\n"
            ]
          },
          "metadata": {},
          "execution_count": 25
        }
      ],
      "source": [
        "# Google Colab V100 = 3m 37s\n",
        "def remove_stopwords(tweet):\n",
        "    stop_words = set(stopwords.words('english'))\n",
        "    stop_words.discard('not')\n",
        "    words = nltk.word_tokenize(tweet)\n",
        "    filtered_words = [word for word in words if word.lower() not in stop_words]\n",
        "    return ' '.join(filtered_words)\n",
        "\n",
        "data['content_cleaned'] = data['content'].swifter.apply(remove_stopwords)\n",
        "print(data.shape)\n",
        "data.head()"
      ]
    },
    {
      "cell_type": "markdown",
      "metadata": {
        "id": "IRHEDl81Wa2O"
      },
      "source": [
        "- Stop words are the words that bring no value to the models later to understand the text.\n",
        "- We used `nltk` to remove predefined stop words from the contents\n",
        "- However, in stop words of nltk, `not` is also added. Since `not` can change the meaning of the content, we decided to exclude it from the stop words"
      ]
    },
    {
      "cell_type": "markdown",
      "metadata": {
        "id": "rdo9R1BVWa2O"
      },
      "source": [
        "## Remove too short and too long contents"
      ]
    },
    {
      "cell_type": "markdown",
      "metadata": {
        "id": "A_sHSTcoWa2O"
      },
      "source": [
        "- At this moment, we cleaned thee data and ended up with 559,932 samples in the dataset.\n",
        "- Since there are content that became too short, we will remove those samples that are less than `MIN_CHARS` value specified at the beginning of the code\n",
        "- For this project we decided to go with 200 as the value of the `MIN_CHARS`. This will result is giving longer content values to the models to do the predictions"
      ]
    },
    {
      "cell_type": "code",
      "execution_count": 26,
      "metadata": {
        "colab": {
          "base_uri": "https://localhost:8080/",
          "height": 278
        },
        "id": "6LYTn0OiWa2O",
        "outputId": "88fd06da-68ea-4d90-c903-5dda0043fa9e"
      },
      "outputs": [
        {
          "output_type": "stream",
          "name": "stderr",
          "text": [
            "/usr/local/lib/python3.10/dist-packages/ipykernel/ipkernel.py:283: DeprecationWarning: `should_run_async` will not call `transform_cell` automatically in the future. Please pass the result to `transformed_cell` argument and any exception that happen during thetransform in `preprocessing_exc_tuple` in IPython 7.17 and above.\n",
            "  and should_run_async(code)\n"
          ]
        },
        {
          "output_type": "stream",
          "name": "stdout",
          "text": [
            "(278030, 3)\n"
          ]
        },
        {
          "output_type": "execute_result",
          "data": {
            "text/plain": [
              "                                             content  label  \\\n",
              "2  true or false the situation a of march wa such...      0   \n",
              "3  next maybe you could work on being le condesce...      0   \n",
              "5  important note for all sysops there is a bug i...      0   \n",
              "6  i removed the following all name of early poli...      0   \n",
              "8  my apology i am english i watch cricket i know...      0   \n",
              "\n",
              "                                     content_cleaned  \n",
              "2  true false situation march wa saudi proposal l...  \n",
              "3  next maybe could work le condescending suggest...  \n",
              "5  important note sysops bug administrative move ...  \n",
              "6  removed following name early polish ruler fict...  \n",
              "8  apology english watch cricket know nothing may...  "
            ],
            "text/html": [
              "\n",
              "  <div id=\"df-168b6c79-73fe-4e18-aa80-d7a01130f14e\" class=\"colab-df-container\">\n",
              "    <div>\n",
              "<style scoped>\n",
              "    .dataframe tbody tr th:only-of-type {\n",
              "        vertical-align: middle;\n",
              "    }\n",
              "\n",
              "    .dataframe tbody tr th {\n",
              "        vertical-align: top;\n",
              "    }\n",
              "\n",
              "    .dataframe thead th {\n",
              "        text-align: right;\n",
              "    }\n",
              "</style>\n",
              "<table border=\"1\" class=\"dataframe\">\n",
              "  <thead>\n",
              "    <tr style=\"text-align: right;\">\n",
              "      <th></th>\n",
              "      <th>content</th>\n",
              "      <th>label</th>\n",
              "      <th>content_cleaned</th>\n",
              "    </tr>\n",
              "  </thead>\n",
              "  <tbody>\n",
              "    <tr>\n",
              "      <th>2</th>\n",
              "      <td>true or false the situation a of march wa such...</td>\n",
              "      <td>0</td>\n",
              "      <td>true false situation march wa saudi proposal l...</td>\n",
              "    </tr>\n",
              "    <tr>\n",
              "      <th>3</th>\n",
              "      <td>next maybe you could work on being le condesce...</td>\n",
              "      <td>0</td>\n",
              "      <td>next maybe could work le condescending suggest...</td>\n",
              "    </tr>\n",
              "    <tr>\n",
              "      <th>5</th>\n",
              "      <td>important note for all sysops there is a bug i...</td>\n",
              "      <td>0</td>\n",
              "      <td>important note sysops bug administrative move ...</td>\n",
              "    </tr>\n",
              "    <tr>\n",
              "      <th>6</th>\n",
              "      <td>i removed the following all name of early poli...</td>\n",
              "      <td>0</td>\n",
              "      <td>removed following name early polish ruler fict...</td>\n",
              "    </tr>\n",
              "    <tr>\n",
              "      <th>8</th>\n",
              "      <td>my apology i am english i watch cricket i know...</td>\n",
              "      <td>0</td>\n",
              "      <td>apology english watch cricket know nothing may...</td>\n",
              "    </tr>\n",
              "  </tbody>\n",
              "</table>\n",
              "</div>\n",
              "    <div class=\"colab-df-buttons\">\n",
              "\n",
              "  <div class=\"colab-df-container\">\n",
              "    <button class=\"colab-df-convert\" onclick=\"convertToInteractive('df-168b6c79-73fe-4e18-aa80-d7a01130f14e')\"\n",
              "            title=\"Convert this dataframe to an interactive table.\"\n",
              "            style=\"display:none;\">\n",
              "\n",
              "  <svg xmlns=\"http://www.w3.org/2000/svg\" height=\"24px\" viewBox=\"0 -960 960 960\">\n",
              "    <path d=\"M120-120v-720h720v720H120Zm60-500h600v-160H180v160Zm220 220h160v-160H400v160Zm0 220h160v-160H400v160ZM180-400h160v-160H180v160Zm440 0h160v-160H620v160ZM180-180h160v-160H180v160Zm440 0h160v-160H620v160Z\"/>\n",
              "  </svg>\n",
              "    </button>\n",
              "\n",
              "  <style>\n",
              "    .colab-df-container {\n",
              "      display:flex;\n",
              "      gap: 12px;\n",
              "    }\n",
              "\n",
              "    .colab-df-convert {\n",
              "      background-color: #E8F0FE;\n",
              "      border: none;\n",
              "      border-radius: 50%;\n",
              "      cursor: pointer;\n",
              "      display: none;\n",
              "      fill: #1967D2;\n",
              "      height: 32px;\n",
              "      padding: 0 0 0 0;\n",
              "      width: 32px;\n",
              "    }\n",
              "\n",
              "    .colab-df-convert:hover {\n",
              "      background-color: #E2EBFA;\n",
              "      box-shadow: 0px 1px 2px rgba(60, 64, 67, 0.3), 0px 1px 3px 1px rgba(60, 64, 67, 0.15);\n",
              "      fill: #174EA6;\n",
              "    }\n",
              "\n",
              "    .colab-df-buttons div {\n",
              "      margin-bottom: 4px;\n",
              "    }\n",
              "\n",
              "    [theme=dark] .colab-df-convert {\n",
              "      background-color: #3B4455;\n",
              "      fill: #D2E3FC;\n",
              "    }\n",
              "\n",
              "    [theme=dark] .colab-df-convert:hover {\n",
              "      background-color: #434B5C;\n",
              "      box-shadow: 0px 1px 3px 1px rgba(0, 0, 0, 0.15);\n",
              "      filter: drop-shadow(0px 1px 2px rgba(0, 0, 0, 0.3));\n",
              "      fill: #FFFFFF;\n",
              "    }\n",
              "  </style>\n",
              "\n",
              "    <script>\n",
              "      const buttonEl =\n",
              "        document.querySelector('#df-168b6c79-73fe-4e18-aa80-d7a01130f14e button.colab-df-convert');\n",
              "      buttonEl.style.display =\n",
              "        google.colab.kernel.accessAllowed ? 'block' : 'none';\n",
              "\n",
              "      async function convertToInteractive(key) {\n",
              "        const element = document.querySelector('#df-168b6c79-73fe-4e18-aa80-d7a01130f14e');\n",
              "        const dataTable =\n",
              "          await google.colab.kernel.invokeFunction('convertToInteractive',\n",
              "                                                    [key], {});\n",
              "        if (!dataTable) return;\n",
              "\n",
              "        const docLinkHtml = 'Like what you see? Visit the ' +\n",
              "          '<a target=\"_blank\" href=https://colab.research.google.com/notebooks/data_table.ipynb>data table notebook</a>'\n",
              "          + ' to learn more about interactive tables.';\n",
              "        element.innerHTML = '';\n",
              "        dataTable['output_type'] = 'display_data';\n",
              "        await google.colab.output.renderOutput(dataTable, element);\n",
              "        const docLink = document.createElement('div');\n",
              "        docLink.innerHTML = docLinkHtml;\n",
              "        element.appendChild(docLink);\n",
              "      }\n",
              "    </script>\n",
              "  </div>\n",
              "\n",
              "\n",
              "<div id=\"df-373dd226-4652-4e80-bbed-ff23d3ed63d6\">\n",
              "  <button class=\"colab-df-quickchart\" onclick=\"quickchart('df-373dd226-4652-4e80-bbed-ff23d3ed63d6')\"\n",
              "            title=\"Suggest charts\"\n",
              "            style=\"display:none;\">\n",
              "\n",
              "<svg xmlns=\"http://www.w3.org/2000/svg\" height=\"24px\"viewBox=\"0 0 24 24\"\n",
              "     width=\"24px\">\n",
              "    <g>\n",
              "        <path d=\"M19 3H5c-1.1 0-2 .9-2 2v14c0 1.1.9 2 2 2h14c1.1 0 2-.9 2-2V5c0-1.1-.9-2-2-2zM9 17H7v-7h2v7zm4 0h-2V7h2v10zm4 0h-2v-4h2v4z\"/>\n",
              "    </g>\n",
              "</svg>\n",
              "  </button>\n",
              "\n",
              "<style>\n",
              "  .colab-df-quickchart {\n",
              "      --bg-color: #E8F0FE;\n",
              "      --fill-color: #1967D2;\n",
              "      --hover-bg-color: #E2EBFA;\n",
              "      --hover-fill-color: #174EA6;\n",
              "      --disabled-fill-color: #AAA;\n",
              "      --disabled-bg-color: #DDD;\n",
              "  }\n",
              "\n",
              "  [theme=dark] .colab-df-quickchart {\n",
              "      --bg-color: #3B4455;\n",
              "      --fill-color: #D2E3FC;\n",
              "      --hover-bg-color: #434B5C;\n",
              "      --hover-fill-color: #FFFFFF;\n",
              "      --disabled-bg-color: #3B4455;\n",
              "      --disabled-fill-color: #666;\n",
              "  }\n",
              "\n",
              "  .colab-df-quickchart {\n",
              "    background-color: var(--bg-color);\n",
              "    border: none;\n",
              "    border-radius: 50%;\n",
              "    cursor: pointer;\n",
              "    display: none;\n",
              "    fill: var(--fill-color);\n",
              "    height: 32px;\n",
              "    padding: 0;\n",
              "    width: 32px;\n",
              "  }\n",
              "\n",
              "  .colab-df-quickchart:hover {\n",
              "    background-color: var(--hover-bg-color);\n",
              "    box-shadow: 0 1px 2px rgba(60, 64, 67, 0.3), 0 1px 3px 1px rgba(60, 64, 67, 0.15);\n",
              "    fill: var(--button-hover-fill-color);\n",
              "  }\n",
              "\n",
              "  .colab-df-quickchart-complete:disabled,\n",
              "  .colab-df-quickchart-complete:disabled:hover {\n",
              "    background-color: var(--disabled-bg-color);\n",
              "    fill: var(--disabled-fill-color);\n",
              "    box-shadow: none;\n",
              "  }\n",
              "\n",
              "  .colab-df-spinner {\n",
              "    border: 2px solid var(--fill-color);\n",
              "    border-color: transparent;\n",
              "    border-bottom-color: var(--fill-color);\n",
              "    animation:\n",
              "      spin 1s steps(1) infinite;\n",
              "  }\n",
              "\n",
              "  @keyframes spin {\n",
              "    0% {\n",
              "      border-color: transparent;\n",
              "      border-bottom-color: var(--fill-color);\n",
              "      border-left-color: var(--fill-color);\n",
              "    }\n",
              "    20% {\n",
              "      border-color: transparent;\n",
              "      border-left-color: var(--fill-color);\n",
              "      border-top-color: var(--fill-color);\n",
              "    }\n",
              "    30% {\n",
              "      border-color: transparent;\n",
              "      border-left-color: var(--fill-color);\n",
              "      border-top-color: var(--fill-color);\n",
              "      border-right-color: var(--fill-color);\n",
              "    }\n",
              "    40% {\n",
              "      border-color: transparent;\n",
              "      border-right-color: var(--fill-color);\n",
              "      border-top-color: var(--fill-color);\n",
              "    }\n",
              "    60% {\n",
              "      border-color: transparent;\n",
              "      border-right-color: var(--fill-color);\n",
              "    }\n",
              "    80% {\n",
              "      border-color: transparent;\n",
              "      border-right-color: var(--fill-color);\n",
              "      border-bottom-color: var(--fill-color);\n",
              "    }\n",
              "    90% {\n",
              "      border-color: transparent;\n",
              "      border-bottom-color: var(--fill-color);\n",
              "    }\n",
              "  }\n",
              "</style>\n",
              "\n",
              "  <script>\n",
              "    async function quickchart(key) {\n",
              "      const quickchartButtonEl =\n",
              "        document.querySelector('#' + key + ' button');\n",
              "      quickchartButtonEl.disabled = true;  // To prevent multiple clicks.\n",
              "      quickchartButtonEl.classList.add('colab-df-spinner');\n",
              "      try {\n",
              "        const charts = await google.colab.kernel.invokeFunction(\n",
              "            'suggestCharts', [key], {});\n",
              "      } catch (error) {\n",
              "        console.error('Error during call to suggestCharts:', error);\n",
              "      }\n",
              "      quickchartButtonEl.classList.remove('colab-df-spinner');\n",
              "      quickchartButtonEl.classList.add('colab-df-quickchart-complete');\n",
              "    }\n",
              "    (() => {\n",
              "      let quickchartButtonEl =\n",
              "        document.querySelector('#df-373dd226-4652-4e80-bbed-ff23d3ed63d6 button');\n",
              "      quickchartButtonEl.style.display =\n",
              "        google.colab.kernel.accessAllowed ? 'block' : 'none';\n",
              "    })();\n",
              "  </script>\n",
              "</div>\n",
              "    </div>\n",
              "  </div>\n"
            ]
          },
          "metadata": {},
          "execution_count": 26
        }
      ],
      "source": [
        "def remove_tweets_outside_length_range(df, min_tweet_length=MIN_CHARS, max_tweet_length=MAX_CHARS):\n",
        "    mask = (df['content_cleaned'].apply(len) >= min_tweet_length) & (df['content_cleaned'].apply(len) <= max_tweet_length)\n",
        "    return df[mask]\n",
        "\n",
        "filtered_data = remove_tweets_outside_length_range(data, min_tweet_length=50, max_tweet_length=280)\n",
        "print(filtered_data.shape)\n",
        "filtered_data.head()"
      ]
    },
    {
      "cell_type": "code",
      "execution_count": 27,
      "metadata": {
        "colab": {
          "base_uri": "https://localhost:8080/",
          "height": 662
        },
        "id": "4YD2pa6XWa2O",
        "outputId": "a51414c8-e970-4787-d1fd-59081b4ea56e"
      },
      "outputs": [
        {
          "output_type": "stream",
          "name": "stderr",
          "text": [
            "/usr/local/lib/python3.10/dist-packages/ipykernel/ipkernel.py:283: DeprecationWarning: `should_run_async` will not call `transform_cell` automatically in the future. Please pass the result to `transformed_cell` argument and any exception that happen during thetransform in `preprocessing_exc_tuple` in IPython 7.17 and above.\n",
            "  and should_run_async(code)\n"
          ]
        },
        {
          "output_type": "display_data",
          "data": {
            "text/plain": [
              "<Figure size 800x600 with 1 Axes>"
            ],
            "image/png": "[encoded data removed]"
          },
          "metadata": {}
        }
      ],
      "source": [
        "plot_value_counts(filtered_data, 'label')"
      ]
    },
    {
      "cell_type": "markdown",
      "metadata": {
        "id": "3Tzq494mWa2O"
      },
      "source": [
        "- After removing sample lower than the minimum character threshold, 131,330 total samples left in the dataset.\n",
        "- Distribution of labels across dataset:\n",
        "  - label 0: 9,534\n",
        "  - label 1: 121,796"
      ]
    },
    {
      "cell_type": "markdown",
      "metadata": {
        "id": "uKZZeDgBWa2P"
      },
      "source": [
        "## Generate Balanced Data"
      ]
    },
    {
      "cell_type": "markdown",
      "metadata": {
        "id": "clwri8RlWa2P"
      },
      "source": [
        "- In order to have a balanced and smaller dataset compare to the original dataset, we will take equal number of data from each label for the next steps"
      ]
    },
    {
      "cell_type": "code",
      "execution_count": 28,
      "metadata": {
        "colab": {
          "base_uri": "https://localhost:8080/",
          "height": 278
        },
        "id": "nQebc2gvWa2P",
        "outputId": "ef75ae7f-4852-47b1-d496-753bbcb0ec4c"
      },
      "outputs": [
        {
          "output_type": "stream",
          "name": "stderr",
          "text": [
            "/usr/local/lib/python3.10/dist-packages/ipykernel/ipkernel.py:283: DeprecationWarning: `should_run_async` will not call `transform_cell` automatically in the future. Please pass the result to `transformed_cell` argument and any exception that happen during thetransform in `preprocessing_exc_tuple` in IPython 7.17 and above.\n",
            "  and should_run_async(code)\n"
          ]
        },
        {
          "output_type": "stream",
          "name": "stdout",
          "text": [
            "(18000, 3)\n"
          ]
        },
        {
          "output_type": "execute_result",
          "data": {
            "text/plain": [
              "                                             content  label  \\\n",
              "0  i doubt that i use the same tone on editor who...      0   \n",
              "1  russia confirms syrian refugee proposal sent t...      0   \n",
              "2  fuck me by this estimate there is at least bil...      0   \n",
              "3  commentator i must be missing something becaus...      0   \n",
              "4  the vile creature is trying to portray herself...      1   \n",
              "\n",
              "                                     content_cleaned  \n",
              "0  doubt use tone editor violate blp others disgu...  \n",
              "1  russia confirms syrian refugee proposal sent u...  \n",
              "2  fuck estimate least billion jew planet guy way...  \n",
              "3  commentator must missing something section ing...  \n",
              "4  vile creature trying portray fierce bitch time...  "
            ],
            "text/html": [
              "\n",
              "  <div id=\"df-78d51c1d-2c0b-4073-9272-cfaa79659b4a\" class=\"colab-df-container\">\n",
              "    <div>\n",
              "<style scoped>\n",
              "    .dataframe tbody tr th:only-of-type {\n",
              "        vertical-align: middle;\n",
              "    }\n",
              "\n",
              "    .dataframe tbody tr th {\n",
              "        vertical-align: top;\n",
              "    }\n",
              "\n",
              "    .dataframe thead th {\n",
              "        text-align: right;\n",
              "    }\n",
              "</style>\n",
              "<table border=\"1\" class=\"dataframe\">\n",
              "  <thead>\n",
              "    <tr style=\"text-align: right;\">\n",
              "      <th></th>\n",
              "      <th>content</th>\n",
              "      <th>label</th>\n",
              "      <th>content_cleaned</th>\n",
              "    </tr>\n",
              "  </thead>\n",
              "  <tbody>\n",
              "    <tr>\n",
              "      <th>0</th>\n",
              "      <td>i doubt that i use the same tone on editor who...</td>\n",
              "      <td>0</td>\n",
              "      <td>doubt use tone editor violate blp others disgu...</td>\n",
              "    </tr>\n",
              "    <tr>\n",
              "      <th>1</th>\n",
              "      <td>russia confirms syrian refugee proposal sent t...</td>\n",
              "      <td>0</td>\n",
              "      <td>russia confirms syrian refugee proposal sent u...</td>\n",
              "    </tr>\n",
              "    <tr>\n",
              "      <th>2</th>\n",
              "      <td>fuck me by this estimate there is at least bil...</td>\n",
              "      <td>0</td>\n",
              "      <td>fuck estimate least billion jew planet guy way...</td>\n",
              "    </tr>\n",
              "    <tr>\n",
              "      <th>3</th>\n",
              "      <td>commentator i must be missing something becaus...</td>\n",
              "      <td>0</td>\n",
              "      <td>commentator must missing something section ing...</td>\n",
              "    </tr>\n",
              "    <tr>\n",
              "      <th>4</th>\n",
              "      <td>the vile creature is trying to portray herself...</td>\n",
              "      <td>1</td>\n",
              "      <td>vile creature trying portray fierce bitch time...</td>\n",
              "    </tr>\n",
              "  </tbody>\n",
              "</table>\n",
              "</div>\n",
              "    <div class=\"colab-df-buttons\">\n",
              "\n",
              "  <div class=\"colab-df-container\">\n",
              "    <button class=\"colab-df-convert\" onclick=\"convertToInteractive('df-78d51c1d-2c0b-4073-9272-cfaa79659b4a')\"\n",
              "            title=\"Convert this dataframe to an interactive table.\"\n",
              "            style=\"display:none;\">\n",
              "\n",
              "  <svg xmlns=\"http://www.w3.org/2000/svg\" height=\"24px\" viewBox=\"0 -960 960 960\">\n",
              "    <path d=\"M120-120v-720h720v720H120Zm60-500h600v-160H180v160Zm220 220h160v-160H400v160Zm0 220h160v-160H400v160ZM180-400h160v-160H180v160Zm440 0h160v-160H620v160ZM180-180h160v-160H180v160Zm440 0h160v-160H620v160Z\"/>\n",
              "  </svg>\n",
              "    </button>\n",
              "\n",
              "  <style>\n",
              "    .colab-df-container {\n",
              "      display:flex;\n",
              "      gap: 12px;\n",
              "    }\n",
              "\n",
              "    .colab-df-convert {\n",
              "      background-color: #E8F0FE;\n",
              "      border: none;\n",
              "      border-radius: 50%;\n",
              "      cursor: pointer;\n",
              "      display: none;\n",
              "      fill: #1967D2;\n",
              "      height: 32px;\n",
              "      padding: 0 0 0 0;\n",
              "      width: 32px;\n",
              "    }\n",
              "\n",
              "    .colab-df-convert:hover {\n",
              "      background-color: #E2EBFA;\n",
              "      box-shadow: 0px 1px 2px rgba(60, 64, 67, 0.3), 0px 1px 3px 1px rgba(60, 64, 67, 0.15);\n",
              "      fill: #174EA6;\n",
              "    }\n",
              "\n",
              "    .colab-df-buttons div {\n",
              "      margin-bottom: 4px;\n",
              "    }\n",
              "\n",
              "    [theme=dark] .colab-df-convert {\n",
              "      background-color: #3B4455;\n",
              "      fill: #D2E3FC;\n",
              "    }\n",
              "\n",
              "    [theme=dark] .colab-df-convert:hover {\n",
              "      background-color: #434B5C;\n",
              "      box-shadow: 0px 1px 3px 1px rgba(0, 0, 0, 0.15);\n",
              "      filter: drop-shadow(0px 1px 2px rgba(0, 0, 0, 0.3));\n",
              "      fill: #FFFFFF;\n",
              "    }\n",
              "  </style>\n",
              "\n",
              "    <script>\n",
              "      const buttonEl =\n",
              "        document.querySelector('#df-78d51c1d-2c0b-4073-9272-cfaa79659b4a button.colab-df-convert');\n",
              "      buttonEl.style.display =\n",
              "        google.colab.kernel.accessAllowed ? 'block' : 'none';\n",
              "\n",
              "      async function convertToInteractive(key) {\n",
              "        const element = document.querySelector('#df-78d51c1d-2c0b-4073-9272-cfaa79659b4a');\n",
              "        const dataTable =\n",
              "          await google.colab.kernel.invokeFunction('convertToInteractive',\n",
              "                                                    [key], {});\n",
              "        if (!dataTable) return;\n",
              "\n",
              "        const docLinkHtml = 'Like what you see? Visit the ' +\n",
              "          '<a target=\"_blank\" href=https://colab.research.google.com/notebooks/data_table.ipynb>data table notebook</a>'\n",
              "          + ' to learn more about interactive tables.';\n",
              "        element.innerHTML = '';\n",
              "        dataTable['output_type'] = 'display_data';\n",
              "        await google.colab.output.renderOutput(dataTable, element);\n",
              "        const docLink = document.createElement('div');\n",
              "        docLink.innerHTML = docLinkHtml;\n",
              "        element.appendChild(docLink);\n",
              "      }\n",
              "    </script>\n",
              "  </div>\n",
              "\n",
              "\n",
              "<div id=\"df-b2931dcf-c610-4454-8ad7-02492264e95c\">\n",
              "  <button class=\"colab-df-quickchart\" onclick=\"quickchart('df-b2931dcf-c610-4454-8ad7-02492264e95c')\"\n",
              "            title=\"Suggest charts\"\n",
              "            style=\"display:none;\">\n",
              "\n",
              "<svg xmlns=\"http://www.w3.org/2000/svg\" height=\"24px\"viewBox=\"0 0 24 24\"\n",
              "     width=\"24px\">\n",
              "    <g>\n",
              "        <path d=\"M19 3H5c-1.1 0-2 .9-2 2v14c0 1.1.9 2 2 2h14c1.1 0 2-.9 2-2V5c0-1.1-.9-2-2-2zM9 17H7v-7h2v7zm4 0h-2V7h2v10zm4 0h-2v-4h2v4z\"/>\n",
              "    </g>\n",
              "</svg>\n",
              "  </button>\n",
              "\n",
              "<style>\n",
              "  .colab-df-quickchart {\n",
              "      --bg-color: #E8F0FE;\n",
              "      --fill-color: #1967D2;\n",
              "      --hover-bg-color: #E2EBFA;\n",
              "      --hover-fill-color: #174EA6;\n",
              "      --disabled-fill-color: #AAA;\n",
              "      --disabled-bg-color: #DDD;\n",
              "  }\n",
              "\n",
              "  [theme=dark] .colab-df-quickchart {\n",
              "      --bg-color: #3B4455;\n",
              "      --fill-color: #D2E3FC;\n",
              "      --hover-bg-color: #434B5C;\n",
              "      --hover-fill-color: #FFFFFF;\n",
              "      --disabled-bg-color: #3B4455;\n",
              "      --disabled-fill-color: #666;\n",
              "  }\n",
              "\n",
              "  .colab-df-quickchart {\n",
              "    background-color: var(--bg-color);\n",
              "    border: none;\n",
              "    border-radius: 50%;\n",
              "    cursor: pointer;\n",
              "    display: none;\n",
              "    fill: var(--fill-color);\n",
              "    height: 32px;\n",
              "    padding: 0;\n",
              "    width: 32px;\n",
              "  }\n",
              "\n",
              "  .colab-df-quickchart:hover {\n",
              "    background-color: var(--hover-bg-color);\n",
              "    box-shadow: 0 1px 2px rgba(60, 64, 67, 0.3), 0 1px 3px 1px rgba(60, 64, 67, 0.15);\n",
              "    fill: var(--button-hover-fill-color);\n",
              "  }\n",
              "\n",
              "  .colab-df-quickchart-complete:disabled,\n",
              "  .colab-df-quickchart-complete:disabled:hover {\n",
              "    background-color: var(--disabled-bg-color);\n",
              "    fill: var(--disabled-fill-color);\n",
              "    box-shadow: none;\n",
              "  }\n",
              "\n",
              "  .colab-df-spinner {\n",
              "    border: 2px solid var(--fill-color);\n",
              "    border-color: transparent;\n",
              "    border-bottom-color: var(--fill-color);\n",
              "    animation:\n",
              "      spin 1s steps(1) infinite;\n",
              "  }\n",
              "\n",
              "  @keyframes spin {\n",
              "    0% {\n",
              "      border-color: transparent;\n",
              "      border-bottom-color: var(--fill-color);\n",
              "      border-left-color: var(--fill-color);\n",
              "    }\n",
              "    20% {\n",
              "      border-color: transparent;\n",
              "      border-left-color: var(--fill-color);\n",
              "      border-top-color: var(--fill-color);\n",
              "    }\n",
              "    30% {\n",
              "      border-color: transparent;\n",
              "      border-left-color: var(--fill-color);\n",
              "      border-top-color: var(--fill-color);\n",
              "      border-right-color: var(--fill-color);\n",
              "    }\n",
              "    40% {\n",
              "      border-color: transparent;\n",
              "      border-right-color: var(--fill-color);\n",
              "      border-top-color: var(--fill-color);\n",
              "    }\n",
              "    60% {\n",
              "      border-color: transparent;\n",
              "      border-right-color: var(--fill-color);\n",
              "    }\n",
              "    80% {\n",
              "      border-color: transparent;\n",
              "      border-right-color: var(--fill-color);\n",
              "      border-bottom-color: var(--fill-color);\n",
              "    }\n",
              "    90% {\n",
              "      border-color: transparent;\n",
              "      border-bottom-color: var(--fill-color);\n",
              "    }\n",
              "  }\n",
              "</style>\n",
              "\n",
              "  <script>\n",
              "    async function quickchart(key) {\n",
              "      const quickchartButtonEl =\n",
              "        document.querySelector('#' + key + ' button');\n",
              "      quickchartButtonEl.disabled = true;  // To prevent multiple clicks.\n",
              "      quickchartButtonEl.classList.add('colab-df-spinner');\n",
              "      try {\n",
              "        const charts = await google.colab.kernel.invokeFunction(\n",
              "            'suggestCharts', [key], {});\n",
              "      } catch (error) {\n",
              "        console.error('Error during call to suggestCharts:', error);\n",
              "      }\n",
              "      quickchartButtonEl.classList.remove('colab-df-spinner');\n",
              "      quickchartButtonEl.classList.add('colab-df-quickchart-complete');\n",
              "    }\n",
              "    (() => {\n",
              "      let quickchartButtonEl =\n",
              "        document.querySelector('#df-b2931dcf-c610-4454-8ad7-02492264e95c button');\n",
              "      quickchartButtonEl.style.display =\n",
              "        google.colab.kernel.accessAllowed ? 'block' : 'none';\n",
              "    })();\n",
              "  </script>\n",
              "</div>\n",
              "    </div>\n",
              "  </div>\n"
            ]
          },
          "metadata": {},
          "execution_count": 28
        }
      ],
      "source": [
        "def sample_dataframe(df, target_column, num_samples_per_class=500, random_state=1):\n",
        "    sampled_dfs = [\n",
        "        df[df[target_column] == target_value].sample(n=num_samples_per_class, random_state=random_state)\n",
        "        for target_value in df[target_column].unique()\n",
        "    ]\n",
        "\n",
        "    total_samples = num_samples_per_class * len(df[target_column].unique())\n",
        "    sampled_df = pd.concat(sampled_dfs, ignore_index=True)\n",
        "    sampled_df = sampled_df.sample(n=total_samples, random_state=random_state)\n",
        "\n",
        "    return sampled_df\n",
        "\n",
        "df = sample_dataframe(filtered_data, 'label', num_samples_per_class=SAMPLES_PER_CLASS)\n",
        "df.reset_index(inplace=True, drop=True)\n",
        "print(df.shape)\n",
        "df.head()"
      ]
    },
    {
      "cell_type": "markdown",
      "metadata": {
        "id": "N0FcHEMXWa2P"
      },
      "source": [
        "## Check distribution"
      ]
    },
    {
      "cell_type": "code",
      "execution_count": 29,
      "metadata": {
        "colab": {
          "base_uri": "https://localhost:8080/",
          "height": 662
        },
        "id": "ex09_-f2Wa2P",
        "outputId": "fed13698-16a6-4843-c8eb-53e27462f115"
      },
      "outputs": [
        {
          "output_type": "stream",
          "name": "stderr",
          "text": [
            "/usr/local/lib/python3.10/dist-packages/ipykernel/ipkernel.py:283: DeprecationWarning: `should_run_async` will not call `transform_cell` automatically in the future. Please pass the result to `transformed_cell` argument and any exception that happen during thetransform in `preprocessing_exc_tuple` in IPython 7.17 and above.\n",
            "  and should_run_async(code)\n"
          ]
        },
        {
          "output_type": "display_data",
          "data": {
            "text/plain": [
              "<Figure size 800x600 with 1 Axes>"
            ],
            "image/png": "[encoded data removed]"
          },
          "metadata": {}
        }
      ],
      "source": [
        "plot_value_counts(df, 'label')"
      ]
    },
    {
      "cell_type": "markdown",
      "metadata": {
        "id": "KSPSrFhxWa2P"
      },
      "source": [
        "- Now we have equal number of data from each classes to feed our model.\n",
        "- This solves the imbalanced problem of the original dataset.\n",
        "- Since the imbalanced problem is solved, we can decide on the evaluation metric of the models. In this case, accuracy score will be focused on for the model evaluation. However, classification report will be generated to have a brief look at other metrics as well.\n",
        "- From this point, we are going to do the final steps of preprocessing"
      ]
    },
    {
      "cell_type": "markdown",
      "source": [
        "## Separete hate speech data from not hate speech for Topic Modeling part"
      ],
      "metadata": {
        "id": "s8tCbTxkoKMZ"
      }
    },
    {
      "cell_type": "code",
      "source": [
        "def topic_modeling_clean_text(text_column):\n",
        "    # Removing the word 'not' from the cleaned content\n",
        "    text_column = text_column.apply(lambda x: ' '.join([word for word in x.split() if word.lower() != 'not']))\n",
        "\n",
        "    # Removing words less than 3 characters from the cleaned content\n",
        "    text_column = text_column.apply(lambda x: ' '.join([word for word in x.split() if len(word) >= 3 and word.isalpha()]))\n",
        "\n",
        "    return text_column\n",
        "hate_speech_data = df[df['label'] == 1]\n",
        "\n",
        "# Assuming 'hate_speech_data' is the name of your DataFrame and 'content_cleaned' is the text column\n",
        "hate_speech_data['content_cleaned'] = topic_modeling_clean_text(hate_speech_data['content_cleaned'])\n",
        "\n",
        "\n",
        "not_hate_speech_data = df[df['label'] == 0]\n",
        "not_hate_speech_data['content_cleaned'] = topic_modeling_clean_text(not_hate_speech_data['content_cleaned'])"
      ],
      "metadata": {
        "colab": {
          "base_uri": "https://localhost:8080/"
        },
        "id": "6r1dHsZYoWo9",
        "outputId": "37df182c-81bb-4631-d899-778f84452bf3"
      },
      "execution_count": 30,
      "outputs": [
        {
          "output_type": "stream",
          "name": "stderr",
          "text": [
            "/usr/local/lib/python3.10/dist-packages/ipykernel/ipkernel.py:283: DeprecationWarning: `should_run_async` will not call `transform_cell` automatically in the future. Please pass the result to `transformed_cell` argument and any exception that happen during thetransform in `preprocessing_exc_tuple` in IPython 7.17 and above.\n",
            "  and should_run_async(code)\n",
            "<ipython-input-30-e3f066ff4147>:12: SettingWithCopyWarning: \n",
            "A value is trying to be set on a copy of a slice from a DataFrame.\n",
            "Try using .loc[row_indexer,col_indexer] = value instead\n",
            "\n",
            "See the caveats in the documentation: https://pandas.pydata.org/pandas-docs/stable/user_guide/indexing.html#returning-a-view-versus-a-copy\n",
            "  hate_speech_data['content_cleaned'] = topic_modeling_clean_text(hate_speech_data['content_cleaned'])\n",
            "<ipython-input-30-e3f066ff4147>:16: SettingWithCopyWarning: \n",
            "A value is trying to be set on a copy of a slice from a DataFrame.\n",
            "Try using .loc[row_indexer,col_indexer] = value instead\n",
            "\n",
            "See the caveats in the documentation: https://pandas.pydata.org/pandas-docs/stable/user_guide/indexing.html#returning-a-view-versus-a-copy\n",
            "  not_hate_speech_data['content_cleaned'] = topic_modeling_clean_text(not_hate_speech_data['content_cleaned'])\n"
          ]
        }
      ]
    },
    {
      "cell_type": "markdown",
      "metadata": {
        "id": "_2tbtN9hWa2P"
      },
      "source": [
        "## Separate contents from lables"
      ]
    },
    {
      "cell_type": "code",
      "execution_count": 31,
      "metadata": {
        "colab": {
          "base_uri": "https://localhost:8080/"
        },
        "id": "EXKHo90HWa2P",
        "outputId": "4746f999-ad4d-47ab-e0d7-ae4ba2baf1da"
      },
      "outputs": [
        {
          "output_type": "stream",
          "name": "stderr",
          "text": [
            "/usr/local/lib/python3.10/dist-packages/ipykernel/ipkernel.py:283: DeprecationWarning: `should_run_async` will not call `transform_cell` automatically in the future. Please pass the result to `transformed_cell` argument and any exception that happen during thetransform in `preprocessing_exc_tuple` in IPython 7.17 and above.\n",
            "  and should_run_async(code)\n"
          ]
        }
      ],
      "source": [
        "X = df.loc[:, 'content_cleaned']\n",
        "y = df.loc[:, 'label']"
      ]
    },
    {
      "cell_type": "markdown",
      "metadata": {
        "id": "vby8AOEKWa2P"
      },
      "source": [
        "## Splitting the dataset into train, and test sets\n",
        "- Train set will be used in the model training\n",
        "- Test set will be used as the final model evaluation set"
      ]
    },
    {
      "cell_type": "code",
      "execution_count": 32,
      "metadata": {
        "colab": {
          "base_uri": "https://localhost:8080/"
        },
        "id": "pPcB4jUqWa2Q",
        "outputId": "0434842e-0fbf-48f0-c1e8-e8c7f845264f"
      },
      "outputs": [
        {
          "output_type": "stream",
          "name": "stderr",
          "text": [
            "/usr/local/lib/python3.10/dist-packages/ipykernel/ipkernel.py:283: DeprecationWarning: `should_run_async` will not call `transform_cell` automatically in the future. Please pass the result to `transformed_cell` argument and any exception that happen during thetransform in `preprocessing_exc_tuple` in IPython 7.17 and above.\n",
            "  and should_run_async(code)\n"
          ]
        }
      ],
      "source": [
        "X_train, X_test, y_train, y_test = train_test_split(X, y, test_size=.2, random_state=1)"
      ]
    },
    {
      "cell_type": "code",
      "execution_count": 33,
      "metadata": {
        "colab": {
          "base_uri": "https://localhost:8080/"
        },
        "id": "32YIh-Y2Wa2Q",
        "outputId": "b1c13583-b133-48e7-e6f0-6e6bd9e05f21"
      },
      "outputs": [
        {
          "output_type": "stream",
          "name": "stdout",
          "text": [
            "Number of samples in train set:  14400\n",
            "Number of samples in test set:  3600\n"
          ]
        },
        {
          "output_type": "stream",
          "name": "stderr",
          "text": [
            "/usr/local/lib/python3.10/dist-packages/ipykernel/ipkernel.py:283: DeprecationWarning: `should_run_async` will not call `transform_cell` automatically in the future. Please pass the result to `transformed_cell` argument and any exception that happen during thetransform in `preprocessing_exc_tuple` in IPython 7.17 and above.\n",
            "  and should_run_async(code)\n"
          ]
        }
      ],
      "source": [
        "print('Number of samples in train set: ', X_train.shape[0])\n",
        "print('Number of samples in test set: ', X_test.shape[0])"
      ]
    },
    {
      "cell_type": "markdown",
      "metadata": {
        "id": "9IGCvrTbWa2Q"
      },
      "source": [
        "## Feature extraction using TF-IDF"
      ]
    },
    {
      "cell_type": "code",
      "execution_count": 34,
      "metadata": {
        "colab": {
          "base_uri": "https://localhost:8080/"
        },
        "id": "VBBY2KPqWa2Q",
        "outputId": "46b359d3-4d69-4c03-eefb-9bbf30d18160"
      },
      "outputs": [
        {
          "output_type": "stream",
          "name": "stderr",
          "text": [
            "/usr/local/lib/python3.10/dist-packages/ipykernel/ipkernel.py:283: DeprecationWarning: `should_run_async` will not call `transform_cell` automatically in the future. Please pass the result to `transformed_cell` argument and any exception that happen during thetransform in `preprocessing_exc_tuple` in IPython 7.17 and above.\n",
            "  and should_run_async(code)\n"
          ]
        }
      ],
      "source": [
        "vectorizer = TfidfVectorizer(max_features=5000)\n",
        "X_train_tfidf = vectorizer.fit_transform(X_train)\n",
        "X_test_tfidf = vectorizer.transform(X_test)\n",
        "\n",
        "# Vectorizing all contents\n",
        "data_to_list = df['content'].tolist()\n",
        "X_tfidf = vectorizer.fit_transform(data_to_list)"
      ]
    },
    {
      "cell_type": "markdown",
      "metadata": {
        "id": "4I_QEMqdWa2Q"
      },
      "source": [
        "- TF-IDF is the multiplication of two different scores. The first one is the score that is calculated by TF which measures how often a phrase appears in the text. The second score is the IDF which is how important the phrase is."
      ]
    },
    {
      "cell_type": "markdown",
      "metadata": {
        "id": "-N6Uv66QWa2Q"
      },
      "source": [
        "# Sentiment Analysis"
      ]
    },
    {
      "cell_type": "markdown",
      "source": [
        "- At this part, we want to investigate general language used in the content.\n",
        "- As we are dealing with hate speech recognition task, we would expect negative language usage in hate speech contents and positiv or neutral language in not hate speech contents.\n",
        "- However, it is necessary to mention that neither classes, necessarily needs to be identified as expected. In the normal life, it is possible that impolite language is used to express feeling but not hate speech and also vise versa."
      ],
      "metadata": {
        "id": "zxlEZoy4yO3m"
      }
    },
    {
      "cell_type": "code",
      "source": [
        "def batch_use_hugging_face_model(encoded_inputs, model, config):\n",
        "    output = model(**encoded_inputs)\n",
        "    scores = softmax(output.logits.detach().cpu().numpy(), axis=1)\n",
        "    ranking = np.argsort(scores, axis=1)[:, ::-1]\n",
        "\n",
        "    results_list = [dict() for _ in range(len(encoded_inputs['input_ids']))]\n",
        "\n",
        "    for i in range(len(encoded_inputs['input_ids'])):\n",
        "        for j in range(scores.shape[1]):\n",
        "            class_label = config.id2label[ranking[i][j]]\n",
        "            score = scores[i][ranking[i][j]]\n",
        "            results_list[i][class_label] = score\n",
        "\n",
        "    return [next(iter(results)) for results in results_list]"
      ],
      "metadata": {
        "colab": {
          "base_uri": "https://localhost:8080/"
        },
        "id": "IdLq5Uhv1Hsn",
        "outputId": "c4a5fd91-1da0-4829-a640-026ae5a90bc6"
      },
      "execution_count": 35,
      "outputs": [
        {
          "output_type": "stream",
          "name": "stderr",
          "text": [
            "/usr/local/lib/python3.10/dist-packages/ipykernel/ipkernel.py:283: DeprecationWarning: `should_run_async` will not call `transform_cell` automatically in the future. Please pass the result to `transformed_cell` argument and any exception that happen during thetransform in `preprocessing_exc_tuple` in IPython 7.17 and above.\n",
            "  and should_run_async(code)\n"
          ]
        }
      ]
    },
    {
      "cell_type": "code",
      "source": [
        "# Google Colab v100 = 2m 43s\n",
        "# Move model loading outside the loop\n",
        "tokenizer = AutoTokenizer.from_pretrained(SENTIMENT_MODEL)\n",
        "config = AutoConfig.from_pretrained(SENTIMENT_MODEL)\n",
        "config.pooler_dense = None\n",
        "model = AutoModelForSequenceClassification.from_pretrained(SENTIMENT_MODEL).to(DEVICE)\n",
        "\n",
        "# Tokenize and pad the input texts outside the loop\n",
        "max_seq_length = 512  # or any suitable value\n",
        "encoded_inputs = tokenizer(df['content'].tolist(), return_tensors='pt', padding=True, truncation=True, max_length=max_seq_length).to(DEVICE)\n",
        "\n",
        "batch_size = 15\n",
        "num_samples = len(encoded_inputs['input_ids'])\n",
        "results = []\n",
        "\n",
        "for start in tqdm(range(0, num_samples, batch_size), desc=\"Processing Batches\", unit=\"batch\"):\n",
        "    end = min(start + batch_size, num_samples)\n",
        "    batch_inputs = {key: value[start:end] for key, value in encoded_inputs.items()}\n",
        "    batch_results = batch_use_hugging_face_model(batch_inputs, model, config)\n",
        "    results.extend(batch_results)\n",
        "\n",
        "# Ensure the results are in the same order as the original DataFrame\n",
        "results_with_indices = list(zip(df.index, results))\n",
        "sorted_results = [result for index, result in sorted(results_with_indices, key=lambda x: x[0])]"
      ],
      "metadata": {
        "colab": {
          "base_uri": "https://localhost:8080/"
        },
        "id": "1pzPn0n81Kp9",
        "outputId": "e09c4d5c-4438-44cb-8cb1-d0ba0e448b01"
      },
      "execution_count": 36,
      "outputs": [
        {
          "output_type": "stream",
          "name": "stderr",
          "text": [
            "/usr/local/lib/python3.10/dist-packages/ipykernel/ipkernel.py:283: DeprecationWarning: `should_run_async` will not call `transform_cell` automatically in the future. Please pass the result to `transformed_cell` argument and any exception that happen during thetransform in `preprocessing_exc_tuple` in IPython 7.17 and above.\n",
            "  and should_run_async(code)\n",
            "/usr/local/lib/python3.10/dist-packages/huggingface_hub/utils/_token.py:72: UserWarning: \n",
            "The secret `HF_TOKEN` does not exist in your Colab secrets.\n",
            "To authenticate with the Hugging Face Hub, create a token in your settings tab (https://huggingface.co/settings/tokens), set it as secret in your Google Colab and restart your session.\n",
            "You will be able to reuse this secret in all of your notebooks.\n",
            "Please note that authentication is recommended but still optional to access public models or datasets.\n",
            "  warnings.warn(\n",
            "Processing Batches: 100%|██████████| 1200/1200 [02:43<00:00,  7.35batch/s]\n"
          ]
        }
      ]
    },
    {
      "cell_type": "code",
      "source": [
        "df['sentiment'] = results\n",
        "df.head()"
      ],
      "metadata": {
        "colab": {
          "base_uri": "https://localhost:8080/",
          "height": 261
        },
        "id": "tLI2RFJ89ELR",
        "outputId": "7bbe68b5-3d81-4a98-b706-4e1c268cdded"
      },
      "execution_count": 37,
      "outputs": [
        {
          "output_type": "stream",
          "name": "stderr",
          "text": [
            "/usr/local/lib/python3.10/dist-packages/ipykernel/ipkernel.py:283: DeprecationWarning: `should_run_async` will not call `transform_cell` automatically in the future. Please pass the result to `transformed_cell` argument and any exception that happen during thetransform in `preprocessing_exc_tuple` in IPython 7.17 and above.\n",
            "  and should_run_async(code)\n"
          ]
        },
        {
          "output_type": "execute_result",
          "data": {
            "text/plain": [
              "                                             content  label  \\\n",
              "0  i doubt that i use the same tone on editor who...      0   \n",
              "1  russia confirms syrian refugee proposal sent t...      0   \n",
              "2  fuck me by this estimate there is at least bil...      0   \n",
              "3  commentator i must be missing something becaus...      0   \n",
              "4  the vile creature is trying to portray herself...      1   \n",
              "\n",
              "                                     content_cleaned sentiment  \n",
              "0  doubt use tone editor violate blp others disgu...  negative  \n",
              "1  russia confirms syrian refugee proposal sent u...  negative  \n",
              "2  fuck estimate least billion jew planet guy way...  negative  \n",
              "3  commentator must missing something section ing...  negative  \n",
              "4  vile creature trying portray fierce bitch time...  negative  "
            ],
            "text/html": [
              "\n",
              "  <div id=\"df-f832f339-bf64-4656-b919-ecd33e5ce4de\" class=\"colab-df-container\">\n",
              "    <div>\n",
              "<style scoped>\n",
              "    .dataframe tbody tr th:only-of-type {\n",
              "        vertical-align: middle;\n",
              "    }\n",
              "\n",
              "    .dataframe tbody tr th {\n",
              "        vertical-align: top;\n",
              "    }\n",
              "\n",
              "    .dataframe thead th {\n",
              "        text-align: right;\n",
              "    }\n",
              "</style>\n",
              "<table border=\"1\" class=\"dataframe\">\n",
              "  <thead>\n",
              "    <tr style=\"text-align: right;\">\n",
              "      <th></th>\n",
              "      <th>content</th>\n",
              "      <th>label</th>\n",
              "      <th>content_cleaned</th>\n",
              "      <th>sentiment</th>\n",
              "    </tr>\n",
              "  </thead>\n",
              "  <tbody>\n",
              "    <tr>\n",
              "      <th>0</th>\n",
              "      <td>i doubt that i use the same tone on editor who...</td>\n",
              "      <td>0</td>\n",
              "      <td>doubt use tone editor violate blp others disgu...</td>\n",
              "      <td>negative</td>\n",
              "    </tr>\n",
              "    <tr>\n",
              "      <th>1</th>\n",
              "      <td>russia confirms syrian refugee proposal sent t...</td>\n",
              "      <td>0</td>\n",
              "      <td>russia confirms syrian refugee proposal sent u...</td>\n",
              "      <td>negative</td>\n",
              "    </tr>\n",
              "    <tr>\n",
              "      <th>2</th>\n",
              "      <td>fuck me by this estimate there is at least bil...</td>\n",
              "      <td>0</td>\n",
              "      <td>fuck estimate least billion jew planet guy way...</td>\n",
              "      <td>negative</td>\n",
              "    </tr>\n",
              "    <tr>\n",
              "      <th>3</th>\n",
              "      <td>commentator i must be missing something becaus...</td>\n",
              "      <td>0</td>\n",
              "      <td>commentator must missing something section ing...</td>\n",
              "      <td>negative</td>\n",
              "    </tr>\n",
              "    <tr>\n",
              "      <th>4</th>\n",
              "      <td>the vile creature is trying to portray herself...</td>\n",
              "      <td>1</td>\n",
              "      <td>vile creature trying portray fierce bitch time...</td>\n",
              "      <td>negative</td>\n",
              "    </tr>\n",
              "  </tbody>\n",
              "</table>\n",
              "</div>\n",
              "    <div class=\"colab-df-buttons\">\n",
              "\n",
              "  <div class=\"colab-df-container\">\n",
              "    <button class=\"colab-df-convert\" onclick=\"convertToInteractive('df-f832f339-bf64-4656-b919-ecd33e5ce4de')\"\n",
              "            title=\"Convert this dataframe to an interactive table.\"\n",
              "            style=\"display:none;\">\n",
              "\n",
              "  <svg xmlns=\"http://www.w3.org/2000/svg\" height=\"24px\" viewBox=\"0 -960 960 960\">\n",
              "    <path d=\"M120-120v-720h720v720H120Zm60-500h600v-160H180v160Zm220 220h160v-160H400v160Zm0 220h160v-160H400v160ZM180-400h160v-160H180v160Zm440 0h160v-160H620v160ZM180-180h160v-160H180v160Zm440 0h160v-160H620v160Z\"/>\n",
              "  </svg>\n",
              "    </button>\n",
              "\n",
              "  <style>\n",
              "    .colab-df-container {\n",
              "      display:flex;\n",
              "      gap: 12px;\n",
              "    }\n",
              "\n",
              "    .colab-df-convert {\n",
              "      background-color: #E8F0FE;\n",
              "      border: none;\n",
              "      border-radius: 50%;\n",
              "      cursor: pointer;\n",
              "      display: none;\n",
              "      fill: #1967D2;\n",
              "      height: 32px;\n",
              "      padding: 0 0 0 0;\n",
              "      width: 32px;\n",
              "    }\n",
              "\n",
              "    .colab-df-convert:hover {\n",
              "      background-color: #E2EBFA;\n",
              "      box-shadow: 0px 1px 2px rgba(60, 64, 67, 0.3), 0px 1px 3px 1px rgba(60, 64, 67, 0.15);\n",
              "      fill: #174EA6;\n",
              "    }\n",
              "\n",
              "    .colab-df-buttons div {\n",
              "      margin-bottom: 4px;\n",
              "    }\n",
              "\n",
              "    [theme=dark] .colab-df-convert {\n",
              "      background-color: #3B4455;\n",
              "      fill: #D2E3FC;\n",
              "    }\n",
              "\n",
              "    [theme=dark] .colab-df-convert:hover {\n",
              "      background-color: #434B5C;\n",
              "      box-shadow: 0px 1px 3px 1px rgba(0, 0, 0, 0.15);\n",
              "      filter: drop-shadow(0px 1px 2px rgba(0, 0, 0, 0.3));\n",
              "      fill: #FFFFFF;\n",
              "    }\n",
              "  </style>\n",
              "\n",
              "    <script>\n",
              "      const buttonEl =\n",
              "        document.querySelector('#df-f832f339-bf64-4656-b919-ecd33e5ce4de button.colab-df-convert');\n",
              "      buttonEl.style.display =\n",
              "        google.colab.kernel.accessAllowed ? 'block' : 'none';\n",
              "\n",
              "      async function convertToInteractive(key) {\n",
              "        const element = document.querySelector('#df-f832f339-bf64-4656-b919-ecd33e5ce4de');\n",
              "        const dataTable =\n",
              "          await google.colab.kernel.invokeFunction('convertToInteractive',\n",
              "                                                    [key], {});\n",
              "        if (!dataTable) return;\n",
              "\n",
              "        const docLinkHtml = 'Like what you see? Visit the ' +\n",
              "          '<a target=\"_blank\" href=https://colab.research.google.com/notebooks/data_table.ipynb>data table notebook</a>'\n",
              "          + ' to learn more about interactive tables.';\n",
              "        element.innerHTML = '';\n",
              "        dataTable['output_type'] = 'display_data';\n",
              "        await google.colab.output.renderOutput(dataTable, element);\n",
              "        const docLink = document.createElement('div');\n",
              "        docLink.innerHTML = docLinkHtml;\n",
              "        element.appendChild(docLink);\n",
              "      }\n",
              "    </script>\n",
              "  </div>\n",
              "\n",
              "\n",
              "<div id=\"df-1593a23d-d864-478c-9ad8-7f04c126050d\">\n",
              "  <button class=\"colab-df-quickchart\" onclick=\"quickchart('df-1593a23d-d864-478c-9ad8-7f04c126050d')\"\n",
              "            title=\"Suggest charts\"\n",
              "            style=\"display:none;\">\n",
              "\n",
              "<svg xmlns=\"http://www.w3.org/2000/svg\" height=\"24px\"viewBox=\"0 0 24 24\"\n",
              "     width=\"24px\">\n",
              "    <g>\n",
              "        <path d=\"M19 3H5c-1.1 0-2 .9-2 2v14c0 1.1.9 2 2 2h14c1.1 0 2-.9 2-2V5c0-1.1-.9-2-2-2zM9 17H7v-7h2v7zm4 0h-2V7h2v10zm4 0h-2v-4h2v4z\"/>\n",
              "    </g>\n",
              "</svg>\n",
              "  </button>\n",
              "\n",
              "<style>\n",
              "  .colab-df-quickchart {\n",
              "      --bg-color: #E8F0FE;\n",
              "      --fill-color: #1967D2;\n",
              "      --hover-bg-color: #E2EBFA;\n",
              "      --hover-fill-color: #174EA6;\n",
              "      --disabled-fill-color: #AAA;\n",
              "      --disabled-bg-color: #DDD;\n",
              "  }\n",
              "\n",
              "  [theme=dark] .colab-df-quickchart {\n",
              "      --bg-color: #3B4455;\n",
              "      --fill-color: #D2E3FC;\n",
              "      --hover-bg-color: #434B5C;\n",
              "      --hover-fill-color: #FFFFFF;\n",
              "      --disabled-bg-color: #3B4455;\n",
              "      --disabled-fill-color: #666;\n",
              "  }\n",
              "\n",
              "  .colab-df-quickchart {\n",
              "    background-color: var(--bg-color);\n",
              "    border: none;\n",
              "    border-radius: 50%;\n",
              "    cursor: pointer;\n",
              "    display: none;\n",
              "    fill: var(--fill-color);\n",
              "    height: 32px;\n",
              "    padding: 0;\n",
              "    width: 32px;\n",
              "  }\n",
              "\n",
              "  .colab-df-quickchart:hover {\n",
              "    background-color: var(--hover-bg-color);\n",
              "    box-shadow: 0 1px 2px rgba(60, 64, 67, 0.3), 0 1px 3px 1px rgba(60, 64, 67, 0.15);\n",
              "    fill: var(--button-hover-fill-color);\n",
              "  }\n",
              "\n",
              "  .colab-df-quickchart-complete:disabled,\n",
              "  .colab-df-quickchart-complete:disabled:hover {\n",
              "    background-color: var(--disabled-bg-color);\n",
              "    fill: var(--disabled-fill-color);\n",
              "    box-shadow: none;\n",
              "  }\n",
              "\n",
              "  .colab-df-spinner {\n",
              "    border: 2px solid var(--fill-color);\n",
              "    border-color: transparent;\n",
              "    border-bottom-color: var(--fill-color);\n",
              "    animation:\n",
              "      spin 1s steps(1) infinite;\n",
              "  }\n",
              "\n",
              "  @keyframes spin {\n",
              "    0% {\n",
              "      border-color: transparent;\n",
              "      border-bottom-color: var(--fill-color);\n",
              "      border-left-color: var(--fill-color);\n",
              "    }\n",
              "    20% {\n",
              "      border-color: transparent;\n",
              "      border-left-color: var(--fill-color);\n",
              "      border-top-color: var(--fill-color);\n",
              "    }\n",
              "    30% {\n",
              "      border-color: transparent;\n",
              "      border-left-color: var(--fill-color);\n",
              "      border-top-color: var(--fill-color);\n",
              "      border-right-color: var(--fill-color);\n",
              "    }\n",
              "    40% {\n",
              "      border-color: transparent;\n",
              "      border-right-color: var(--fill-color);\n",
              "      border-top-color: var(--fill-color);\n",
              "    }\n",
              "    60% {\n",
              "      border-color: transparent;\n",
              "      border-right-color: var(--fill-color);\n",
              "    }\n",
              "    80% {\n",
              "      border-color: transparent;\n",
              "      border-right-color: var(--fill-color);\n",
              "      border-bottom-color: var(--fill-color);\n",
              "    }\n",
              "    90% {\n",
              "      border-color: transparent;\n",
              "      border-bottom-color: var(--fill-color);\n",
              "    }\n",
              "  }\n",
              "</style>\n",
              "\n",
              "  <script>\n",
              "    async function quickchart(key) {\n",
              "      const quickchartButtonEl =\n",
              "        document.querySelector('#' + key + ' button');\n",
              "      quickchartButtonEl.disabled = true;  // To prevent multiple clicks.\n",
              "      quickchartButtonEl.classList.add('colab-df-spinner');\n",
              "      try {\n",
              "        const charts = await google.colab.kernel.invokeFunction(\n",
              "            'suggestCharts', [key], {});\n",
              "      } catch (error) {\n",
              "        console.error('Error during call to suggestCharts:', error);\n",
              "      }\n",
              "      quickchartButtonEl.classList.remove('colab-df-spinner');\n",
              "      quickchartButtonEl.classList.add('colab-df-quickchart-complete');\n",
              "    }\n",
              "    (() => {\n",
              "      let quickchartButtonEl =\n",
              "        document.querySelector('#df-1593a23d-d864-478c-9ad8-7f04c126050d button');\n",
              "      quickchartButtonEl.style.display =\n",
              "        google.colab.kernel.accessAllowed ? 'block' : 'none';\n",
              "    })();\n",
              "  </script>\n",
              "</div>\n",
              "    </div>\n",
              "  </div>\n"
            ]
          },
          "metadata": {},
          "execution_count": 37
        }
      ]
    },
    {
      "cell_type": "code",
      "source": [
        "# Count the occurrences of each sentiment\n",
        "sentiment_counts = df['sentiment'].value_counts()\n",
        "\n",
        "# Plotting\n",
        "fig, ax = plt.subplots(figsize=(8, 8))\n",
        "ax.pie(sentiment_counts, labels=sentiment_counts.index, autopct='%1.1f%%', startangle=90)\n",
        "ax.set_title('Distribution of Sentiments Across All Labels')\n",
        "plt.show()"
      ],
      "metadata": {
        "colab": {
          "base_uri": "https://localhost:8080/",
          "height": 730
        },
        "id": "32k628n0OQzY",
        "outputId": "0ad6cf52-385b-4a4f-b3bf-8fa31291438c"
      },
      "execution_count": 38,
      "outputs": [
        {
          "output_type": "stream",
          "name": "stderr",
          "text": [
            "/usr/local/lib/python3.10/dist-packages/ipykernel/ipkernel.py:283: DeprecationWarning: `should_run_async` will not call `transform_cell` automatically in the future. Please pass the result to `transformed_cell` argument and any exception that happen during thetransform in `preprocessing_exc_tuple` in IPython 7.17 and above.\n",
            "  and should_run_async(code)\n"
          ]
        },
        {
          "output_type": "display_data",
          "data": {
            "text/plain": [
              "<Figure size 800x800 with 1 Axes>"
            ],
            "image/png": "[encoded data removed]"
          },
          "metadata": {}
        }
      ]
    },
    {
      "cell_type": "markdown",
      "source": [
        "- Result of the sentiment analysis shows that the majority of contents are using negative language for both hate speech contents and not hate speech contents.\n",
        "- This shows that our initial assumption could be wrong and the case mentioned earlier is applied in here. That means although the language used in the content is not positive but the content is not hate speech"
      ],
      "metadata": {
        "id": "LxdpVpRm6mw5"
      }
    },
    {
      "cell_type": "code",
      "source": [
        "# Count the occurrences of each combination of label and sentiment\n",
        "counts = df.groupby(['label', 'sentiment']).size().unstack()\n",
        "\n",
        "# Plotting\n",
        "fig, ax = plt.subplots(figsize=(10, 6))\n",
        "bar_width = 0.2\n",
        "labels = df['label'].unique()\n",
        "\n",
        "for i, sentiment in enumerate(df['sentiment'].unique()):\n",
        "    positions = np.arange(len(labels)) + i * bar_width\n",
        "    ax.bar(positions, counts[sentiment], bar_width, label=sentiment)\n",
        "\n",
        "ax.set_xticks(positions + bar_width / 2)\n",
        "ax.set_xticklabels(labels)\n",
        "ax.set_xlabel('Label')\n",
        "ax.set_ylabel('Count')\n",
        "ax.set_title('Grouped Bar Chart of Label-Sentiment Relationship')\n",
        "ax.legend()\n",
        "\n",
        "plt.show()"
      ],
      "metadata": {
        "colab": {
          "base_uri": "https://localhost:8080/",
          "height": 619
        },
        "id": "S7kxq0BMNyEu",
        "outputId": "15f18615-b37a-4542-aaa1-91260c4a2386"
      },
      "execution_count": 39,
      "outputs": [
        {
          "output_type": "stream",
          "name": "stderr",
          "text": [
            "/usr/local/lib/python3.10/dist-packages/ipykernel/ipkernel.py:283: DeprecationWarning: `should_run_async` will not call `transform_cell` automatically in the future. Please pass the result to `transformed_cell` argument and any exception that happen during thetransform in `preprocessing_exc_tuple` in IPython 7.17 and above.\n",
            "  and should_run_async(code)\n"
          ]
        },
        {
          "output_type": "display_data",
          "data": {
            "text/plain": [
              "<Figure size 1000x600 with 1 Axes>"
            ],
            "image/png": "[encoded data removed]"
          },
          "metadata": {}
        }
      ]
    },
    {
      "cell_type": "markdown",
      "source": [
        "- Above plot shows clearly that the negative language is used mostly in the not hate speech contetnts.\n",
        "- Also we can see that the positive language and neural language is used in both classes but in the not hate speech contetnt, we can see that there are more which kind of makes sense.\n",
        "- Also, negative language is widely used in the hate speech contents. Almost all of hate speech contents used negative language to express the content.\n",
        "- As final result, sentiment analysis alone is not sufficient in hate speech recognition task."
      ],
      "metadata": {
        "id": "XlpSiN3d7G4c"
      }
    },
    {
      "cell_type": "markdown",
      "metadata": {
        "id": "fp9bTnlKWa2R"
      },
      "source": [
        "# Topic Modeling"
      ]
    },
    {
      "cell_type": "markdown",
      "source": [
        "- At this part, topic modeling technique will be used to extract topics from the contents.\n",
        "- Topic modeling helps us to understand the relationship between hate speech or not hate speech contents with each other as well as identifying keywords used in each topic"
      ],
      "metadata": {
        "id": "4Gcff0gT7ztx"
      }
    },
    {
      "cell_type": "code",
      "source": [
        "def generate_ldavis(df, text_column, max_topics=5):\n",
        "    # Tokenize the cleaned content\n",
        "    tokenized_text = [nltk.word_tokenize(text) for text in df[text_column]]\n",
        "\n",
        "    # Create a dictionary representation of the documents.\n",
        "    dictionary = corpora.Dictionary(tokenized_text)\n",
        "\n",
        "    # Convert the tokenized documents into a document-term matrix\n",
        "    corpus = [dictionary.doc2bow(text) for text in tokenized_text]\n",
        "\n",
        "    # Build the LDA model\n",
        "    lda_model = gensim.models.LdaMulticore(corpus=corpus,\n",
        "                                           id2word=dictionary,\n",
        "                                           num_topics=max_topics,\n",
        "                                           passes=15)\n",
        "\n",
        "    # Print the topics and their representative words\n",
        "    topics = lda_model.print_topics(num_words=5)\n",
        "    topics_string_list = list()\n",
        "\n",
        "    for topic in topics:\n",
        "        topic_id, words = topic\n",
        "        topics_list = [word.split('*')[1].strip().strip('\"') for word in words.split('+')]\n",
        "        topics_string = ', '.join(topics_list)\n",
        "        topics_string_list.append(topics_string)\n",
        "\n",
        "    # Visualize the topics\n",
        "    vis_data = gensimvis.prepare(lda_model, corpus, dictionary, sort_topics=False, n_jobs=1)\n",
        "    return pyLDAvis.display(vis_data)"
      ],
      "metadata": {
        "colab": {
          "base_uri": "https://localhost:8080/"
        },
        "id": "EhEhlfdUu-XU",
        "outputId": "2a13f0af-d620-48e5-f9d2-9d9172c3c23a"
      },
      "execution_count": 40,
      "outputs": [
        {
          "output_type": "stream",
          "name": "stderr",
          "text": [
            "/usr/local/lib/python3.10/dist-packages/ipykernel/ipkernel.py:283: DeprecationWarning: `should_run_async` will not call `transform_cell` automatically in the future. Please pass the result to `transformed_cell` argument and any exception that happen during thetransform in `preprocessing_exc_tuple` in IPython 7.17 and above.\n",
            "  and should_run_async(code)\n"
          ]
        }
      ]
    },
    {
      "cell_type": "markdown",
      "source": [
        "## Topic modeling for hate speech data"
      ],
      "metadata": {
        "id": "qky0bxwY8TOK"
      }
    },
    {
      "cell_type": "code",
      "source": [
        "generate_ldavis(hate_speech_data, 'content_cleaned', max_topics=10)"
      ],
      "metadata": {
        "colab": {
          "base_uri": "https://localhost:8080/",
          "height": 916
        },
        "id": "ddZtkGm224BQ",
        "outputId": "48515f47-23e8-4a1d-c914-b7c6ef95315e"
      },
      "execution_count": 41,
      "outputs": [
        {
          "output_type": "stream",
          "name": "stderr",
          "text": [
            "/usr/local/lib/python3.10/dist-packages/ipykernel/ipkernel.py:283: DeprecationWarning: `should_run_async` will not call `transform_cell` automatically in the future. Please pass the result to `transformed_cell` argument and any exception that happen during thetransform in `preprocessing_exc_tuple` in IPython 7.17 and above.\n",
            "  and should_run_async(code)\n"
          ]
        },
        {
          "output_type": "execute_result",
          "data": {
            "text/plain": [
              "<IPython.core.display.HTML object>"
            ],
            "text/html": [
              "\n",
              "<link rel=\"stylesheet\" type=\"text/css\" href=\"https://cdn.jsdelivr.net/gh/bmabey/pyLDAvis@3.4.0/pyLDAvis/js/ldavis.v1.0.0.css\">\n",
              "\n",
              "\n",
              "<div id=\"ldavis_el164491359520776256486057615415\" style=\"background-color:white;\"></div>\n",
              "<script type=\"text/javascript\">\n",
              "\n",
              "var ldavis_el164491359520776256486057615415_data = {\"mdsDat\": {\"x\": [0.12665643375013744, -0.0050083337413077186, -0.10674764960449161, 0.01961687212562052, -0.05687959523326059, 0.01768395200369009, -0.004976874626593222, 0.003962370939495295, 0.013810415637017983, -0.008117591250308203], \"y\": [-0.03473992504353036, 0.02861951094002714, -0.10921652775000545, -0.0521215120571818, 0.09939746206093884, 0.00976170794808036, 0.054512533323913696, 0.011817121020076949, -0.02063218636036348, 0.012601815918044075], \"topics\": [1, 2, 3, 4, 5, 6, 7, 8, 9, 10], \"cluster\": [1, 1, 1, 1, 1, 1, 1, 1, 1, 1], \"Freq\": [12.077227225030047, 11.454141764524465, 6.813334436502233, 8.184684048643556, 10.874273988709444, 10.018378438052686, 12.138949145194381, 8.791971874595347, 7.994356420981302, 11.652682657766542]}, \"tinfo\": {\"Term\": [\"like\", \"fuck\", \"shit\", \"fucking\", \"page\", \"woman\", \"dont\", \"bitch\", \"country\", \"everyone\", \"people\", \"time\", \"opinion\", \"white\", \"common\", \"world\", \"getting\", \"black\", \"allowed\", \"wikipedia\", \"little\", \"really\", \"wrong\", \"actually\", \"stop\", \"take\", \"know\", \"article\", \"illegal\", \"american\", \"dont\", \"disliking\", \"expressed\", \"differing\", \"informing\", \"royal\", \"doesnt\", \"disagree\", \"exhaust\", \"knowledge\", \"gokdel\", \"picturesque\", \"coastline\", \"countryside\", \"melodic\", \"amon\", \"amarth\", \"common\", \"existing\", \"data\", \"explanation\", \"merely\", \"galatasaray\", \"dummasses\", \"vbutt\", \"impact\", \"fattyjwoods\", \"bodom\", \"norther\", \"kalmah\", \"bored\", \"random\", \"explain\", \"incredible\", \"arguing\", \"ridiculous\", \"butt\", \"annoying\", \"metal\", \"getting\", \"everyone\", \"argument\", \"opinion\", \"obvious\", \"aware\", \"already\", \"wrong\", \"people\", \"sense\", \"anyone\", \"think\", \"know\", \"nothing\", \"like\", \"really\", \"even\", \"would\", \"want\", \"stop\", \"doe\", \"see\", \"reason\", \"fact\", \"fuck\", \"need\", \"get\", \"block\", \"say\", \"fucking\", \"wikipedia\", \"right\", \"make\", \"let\", \"shit\", \"page\", \"cougar\", \"jewranger\", \"drmies\", \"lyric\", \"persib\", \"facebuster\", \"gravitation\", \"jill\", \"tosh\", \"mestizo\", \"kannadigas\", \"rational\", \"eric\", \"sidewalk\", \"rinkin\", \"census\", \"missile\", \"fagot\", \"kadi\", \"blasphemy\", \"problematic\", \"youe\", \"burger\", \"ecw\", \"hatred\", \"happier\", \"handed\", \"feminine\", \"sexism\", \"attached\", \"neighbor\", \"declared\", \"usually\", \"smart\", \"islam\", \"fuking\", \"bigotry\", \"jesi\", \"honey\", \"pomo\", \"marry\", \"faggot\", \"toward\", \"tell\", \"sean\", \"manner\", \"woman\", \"make\", \"raped\", \"men\", \"exactly\", \"fuck\", \"want\", \"even\", \"shame\", \"lie\", \"attention\", \"old\", \"attack\", \"watch\", \"rape\", \"would\", \"find\", \"get\", \"personal\", \"whore\", \"nice\", \"life\", \"say\", \"stupid\", \"one\", \"hey\", \"day\", \"call\", \"know\", \"girl\", \"think\", \"child\", \"idiot\", \"bitch\", \"little\", \"fucking\", \"people\", \"wikipedia\", \"time\", \"year\", \"dee\", \"durr\", \"lazlo\", \"thor\", \"mountain\", \"stalker\", \"sheffield\", \"trollish\", \"naconkantari\", \"disruptively\", \"bolivia\", \"nag\", \"thracian\", \"pimply\", \"bom\", \"jebite\", \"diaper\", \"bloke\", \"wrist\", \"limp\", \"ufc\", \"notability\", \"apathetic\", \"sockpuppeting\", \"washer\", \"nigerian\", \"pouzdano\", \"boob\", \"analyst\", \"oces\", \"wikzilla\", \"skill\", \"neka\", \"slur\", \"page\", \"chick\", \"vandalize\", \"hrvatska\", \"road\", \"alone\", \"college\", \"news\", \"floor\", \"trae\", \"california\", \"stop\", \"vandalizing\", \"across\", \"sexist\", \"bitch\", \"talk\", \"like\", \"got\", \"lame\", \"leave\", \"cunt\", \"border\", \"blocked\", \"illegal\", \"gun\", \"play\", \"way\", \"show\", \"time\", \"deal\", \"never\", \"people\", \"hoe\", \"get\", \"banned\", \"left\", \"anything\", \"something\", \"fuck\", \"fucking\", \"back\", \"wikipedia\", \"one\", \"shit\", \"old\", \"well\", \"come\", \"would\", \"landscape\", \"poorly\", \"dishonest\", \"hidden\", \"cottage\", \"festival\", \"barranquilla\", \"reset\", \"friendliest\", \"loveliest\", \"unconstructive\", \"pulling\", \"willingly\", \"ruling\", \"welsh\", \"oooh\", \"phanatical\", \"spare\", \"foreskin\", \"perry\", \"patrolling\", \"returning\", \"epic\", \"malicious\", \"whiney\", \"marxist\", \"lovely\", \"flash\", \"quoting\", \"antifascist\", \"wonderful\", \"dumber\", \"nowadays\", \"bono\", \"film\", \"youre\", \"warning\", \"smug\", \"christ\", \"court\", \"dangerous\", \"particularly\", \"wikipedia\", \"friendly\", \"ball\", \"wish\", \"article\", \"best\", \"sock\", \"good\", \"retard\", \"written\", \"ruin\", \"world\", \"account\", \"fuck\", \"looking\", \"little\", \"editing\", \"much\", \"big\", \"please\", \"people\", \"stupid\", \"fucking\", \"would\", \"love\", \"page\", \"idiot\", \"friend\", \"use\", \"black\", \"die\", \"know\", \"one\", \"stop\", \"like\", \"country\", \"take\", \"get\", \"come\", \"really\", \"want\", \"right\", \"padding\", \"styleverticalalign\", \"ching\", \"chong\", \"stylebackgroundcolor\", \"ancestral\", \"goof\", \"stylefontsize\", \"xlarge\", \"disproportionally\", \"rowspan\", \"snollygosters\", \"machine\", \"root\", \"splatter\", \"primarily\", \"inlaws\", \"bong\", \"advert\", \"barnstar\", \"celebrated\", \"supermarket\", \"tesco\", \"lab\", \"located\", \"urge\", \"height\", \"solid\", \"skip\", \"terri\", \"trout\", \"middle\", \"slap\", \"crime\", \"negative\", \"slavery\", \"white\", \"pas\", \"black\", \"racist\", \"must\", \"school\", \"arab\", \"immigrant\", \"woman\", \"bitch\", \"right\", \"life\", \"race\", \"need\", \"thing\", \"think\", \"never\", \"get\", \"know\", \"hell\", \"year\", \"man\", \"going\", \"men\", \"back\", \"head\", \"time\", \"like\", \"fucking\", \"would\", \"really\", \"people\", \"something\", \"hate\", \"fggt\", \"descriptive\", \"fabulous\", \"uuuuuu\", \"uuuuu\", \"booker\", \"francisco\", \"parody\", \"vill\", \"gray\", \"coverage\", \"cccc\", \"fffffffff\", \"renault\", \"kamala\", \"promotion\", \"chimping\", \"sneaky\", \"shape\", \"abracadabra\", \"dashiel\", \"mlau\", \"pederast\", \"ovechkin\", \"unlock\", \"oak\", \"thrash\", \"impression\", \"maggie\", \"verl\", \"targeting\", \"beauty\", \"towards\", \"bisexual\", \"homophobia\", \"shower\", \"alternative\", \"san\", \"sockpuppet\", \"hysterical\", \"take\", \"communist\", \"inferior\", \"doe\", \"eat\", \"world\", \"talk\", \"shit\", \"woman\", \"career\", \"england\", \"user\", \"calling\", \"know\", \"care\", \"make\", \"really\", \"top\", \"time\", \"abuse\", \"right\", \"people\", \"good\", \"maybe\", \"like\", \"page\", \"gay\", \"fuck\", \"end\", \"think\", \"actually\", \"black\", \"jew\", \"stop\", \"get\", \"would\", \"wikipedia\", \"article\", \"say\", \"white\", \"stupid\", \"fucking\", \"allows\", \"express\", \"canyon\", \"everglades\", \"switzerland\", \"payer\", \"guise\", \"battery\", \"bedbug\", \"dancing\", \"pavement\", \"robber\", \"accent\", \"thats\", \"johnson\", \"caravan\", \"hardworking\", \"puberty\", \"teski\", \"trafficking\", \"imperialist\", \"jacko\", \"iud\", \"downfall\", \"creator\", \"slick\", \"comeback\", \"prohibit\", \"insect\", \"medal\", \"allowed\", \"easy\", \"speech\", \"unsigned\", \"preceding\", \"surprised\", \"penis\", \"correctness\", \"shithole\", \"strict\", \"dislike\", \"boris\", \"tax\", \"country\", \"fight\", \"family\", \"natural\", \"land\", \"violence\", \"going\", \"free\", \"love\", \"live\", \"whole\", \"sort\", \"freedom\", \"monkey\", \"get\", \"illegal\", \"feel\", \"like\", \"say\", \"refugee\", \"many\", \"alien\", \"keep\", \"know\", \"comment\", \"come\", \"people\", \"one\", \"wikipedia\", \"white\", \"think\", \"another\", \"want\", \"doe\", \"fuck\", \"would\", \"time\", \"junk\", \"jeffrey\", \"kalifornia\", \"improved\", \"integrity\", \"snowflake\", \"peneltized\", \"coal\", \"connect\", \"srca\", \"warraq\", \"negotiated\", \"snafu\", \"invention\", \"ninnyhammers\", \"wisconsin\", \"lassie\", \"teabagger\", \"sits\", \"regularly\", \"indonesia\", \"scope\", \"constructed\", \"focusing\", \"abroad\", \"caucasian\", \"hungary\", \"adhere\", \"halfwayconscious\", \"inchon\", \"knight\", \"asia\", \"respect\", \"time\", \"bout\", \"blame\", \"one\", \"antithetical\", \"icc\", \"thousand\", \"belong\", \"fat\", \"may\", \"awful\", \"darky\", \"jew\", \"thank\", \"fool\", \"bringing\", \"occur\", \"doctor\", \"two\", \"see\", \"simply\", \"please\", \"call\", \"made\", \"attack\", \"people\", \"game\", \"least\", \"human\", \"world\", \"name\", \"think\", \"living\", \"like\", \"get\", \"cunt\", \"done\", \"day\", \"really\", \"woman\", \"going\", \"white\", \"come\", \"would\", \"mean\", \"make\", \"black\", \"want\", \"page\", \"stop\", \"fucking\", \"know\", \"happend\", \"washout\", \"undermine\", \"setaju\", \"dugo\", \"soviet\", \"wikipeida\", \"assholery\", \"surrender\", \"berry\", \"perseveration\", \"ashwariya\", \"corrupted\", \"gandu\", \"melania\", \"demo\", \"joseon\", \"huck\", \"skunk\", \"draggingcyberthugs\", \"wikipedidiots\", \"crediablity\", \"awhile\", \"undoubtedly\", \"teaming\", \"interference\", \"phenomenon\", \"existed\", \"north\", \"proportion\", \"paying\", \"damage\", \"cultural\", \"position\", \"actually\", \"behavior\", \"worker\", \"primitive\", \"history\", \"voted\", \"covid\", \"influence\", \"president\", \"complete\", \"foreign\", \"noone\", \"people\", \"population\", \"like\", \"mentally\", \"fucking\", \"article\", \"american\", \"way\", \"high\", \"seen\", \"simple\", \"vote\", \"work\", \"country\", \"please\", \"user\", \"world\", \"bad\", \"around\", \"someone\", \"muslim\", \"one\", \"even\", \"would\", \"look\", \"call\", \"need\", \"amp\", \"year\", \"think\", \"black\", \"woman\", \"get\", \"still\", \"want\", \"fuck\", \"right\", \"andre\", \"mindless\", \"cleanliness\", \"btch\", \"semiprotected\", \"teh\", \"mtv\", \"wanker\", \"licker\", \"opposite\", \"kannadiga\", \"accusin\", \"pokemon\", \"filter\", \"awake\", \"cross\", \"wikipeen\", \"rambo\", \"wth\", \"fukng\", \"pebble\", \"squeak\", \"rapper\", \"norice\", \"chukk\", \"jerking\", \"spoiling\", \"civilian\", \"jam\", \"dreadstar\", \"tennis\", \"curry\", \"nerd\", \"fuckng\", \"irish\", \"laid\", \"jerk\", \"butter\", \"kat\", \"stink\", \"shit\", \"cock\", \"fucking\", \"piece\", \"mother\", \"asshole\", \"bitch\", \"fuck\", \"acting\", \"motherfucking\", \"fuckin\", \"like\", \"dick\", \"ever\", \"little\", \"give\", \"american\", \"award\", \"stop\", \"motherfucker\", \"get\", \"look\", \"everything\", \"life\", \"would\", \"stupid\", \"want\", \"hell\", \"suck\", \"every\", \"one\", \"see\", \"idiot\", \"page\", \"going\", \"people\", \"let\", \"think\"], \"Freq\": [1183.0, 802.0, 477.0, 667.0, 444.0, 539.0, 81.0, 421.0, 325.0, 217.0, 908.0, 418.0, 147.0, 334.0, 70.0, 231.0, 164.0, 331.0, 76.0, 419.0, 240.0, 322.0, 209.0, 125.0, 458.0, 253.0, 584.0, 273.0, 133.0, 134.0, 79.41584917795673, 21.778009503151093, 16.633080675575282, 13.988938141715415, 26.915164504712443, 10.403879073627914, 18.359175163630027, 40.530939343225256, 15.769104054081938, 37.78309681555651, 7.057173971941747, 7.042957678870871, 7.042967506125043, 7.04291696596073, 6.176245337001861, 5.30451922364724, 5.303894491060597, 61.26009256011139, 16.517315621430203, 4.3785251408974055, 26.702712372521354, 22.120546402709184, 3.5710187296627507, 3.570899632701477, 3.570290810907303, 3.569858411723739, 3.5673945787134964, 3.5653170503851066, 3.5649878373703476, 3.563345048047944, 18.30198990363921, 25.790316401758535, 37.217574839192984, 18.088837696579493, 18.264754905546337, 43.530363321410725, 26.829835860631217, 35.26277113275991, 21.40882857771054, 98.13484784919773, 124.51896251332376, 32.6822764484201, 82.37833391160345, 30.37546424126515, 25.640502251730215, 82.7165112540251, 98.79124104099543, 230.24360279200127, 38.638374913214264, 63.126245074624165, 153.0479718011525, 146.95064165497348, 71.07351744557715, 192.0721965347408, 87.18718936507938, 83.42291300248121, 105.95085805414102, 88.5297757270399, 84.59757873258391, 70.56023902424943, 67.84591772852555, 47.03316733615039, 47.51895190809202, 84.20614328812435, 60.78252544451541, 79.96583098972309, 49.52806570072391, 61.06553538980286, 69.74216223124168, 61.94290889855493, 54.89500436711972, 54.308087054530496, 50.49622806316092, 52.550393732632706, 50.851263358167735, 7.8744296634313775, 5.277862940325912, 5.277847406577928, 4.327038675607193, 3.5467017332350315, 3.546668002810836, 3.546617629085228, 3.5449604000859387, 3.5396514088461153, 3.5348652391813222, 3.5360080792116304, 3.4351265939420843, 6.12787495590896, 2.681086289711968, 2.6809038791284894, 2.6803084927593015, 2.6777221237198376, 2.6770180011147566, 2.677010899972821, 2.6763447240949594, 2.676035380599377, 2.6750942573821854, 2.6730426930947684, 2.6731824968266316, 39.545233325987866, 4.59430302318435, 5.261317279615278, 3.2709941278960963, 7.807678041591225, 2.5630943810371978, 5.123687384827477, 7.3858324857825455, 15.780913881561384, 14.9832017763362, 63.14020118695617, 6.185985819477242, 8.707121106190037, 4.412249715909704, 4.391259627989941, 4.402289032880499, 7.0436249053208115, 79.26849938145055, 22.566154417295877, 79.849344387239, 7.32595965137142, 7.766486092506584, 164.66833774461068, 121.70077652346674, 16.27489594390448, 67.99623188611453, 17.4649621186572, 177.57092801244102, 110.27223419754749, 83.98617143112995, 27.138897485920108, 34.695117878062106, 13.137774762890723, 40.80765303592542, 39.40979679641552, 26.249403121173483, 27.226310767865485, 109.53282779347245, 34.47529137772358, 117.15797009395875, 31.613616391261246, 27.0933152558336, 30.643973212769666, 58.446992571245936, 63.76831849461186, 57.678773283766006, 73.43472665142272, 35.074570947977605, 41.428612392509734, 39.864177565467614, 65.65788265575989, 38.72325839405322, 63.47919550069191, 35.24557709750685, 43.36842423399615, 51.461286798661135, 42.21523073874557, 59.73942170700458, 63.50277129191908, 48.0133237811165, 46.0983552846928, 39.24832748050618, 5.670229240377478, 4.8922160262625765, 4.87251575308275, 4.074737057572276, 4.070852812720961, 14.171408487164758, 3.2787028798336686, 6.49666866271411, 3.224059979043545, 3.12220553805051, 2.4855278315547054, 2.485516215516273, 2.4855040714760936, 2.485501695468232, 2.4854813674009755, 2.4854649993468203, 2.4854610393337184, 2.4844567800110515, 2.4820791881446107, 2.480481982860138, 2.4777469338110234, 2.4744192028009766, 2.472266011676983, 2.4504835636081244, 2.447285721027823, 5.294212796298953, 2.325232573205856, 8.662821173591682, 3.3447271222798123, 1.6832541251721516, 6.496677110742061, 6.303531431705138, 12.298808051526178, 3.8375214487266938, 113.65314479792886, 7.184917883838127, 12.631973985830587, 4.088611623477314, 7.235439730993437, 22.369005209526552, 6.963523055336781, 16.393605215468817, 5.136258433695132, 3.257217960749207, 5.39382085385966, 60.28581174811651, 8.417997323573667, 9.170690213914384, 26.08500124817734, 52.69977410514367, 39.53846041595308, 92.31307982472804, 33.16825450765045, 7.849333634107324, 22.865210691259495, 26.55991981148092, 12.843518941742893, 20.367460411265906, 21.095051042553923, 17.81166373122146, 14.024222720189641, 27.069306328824307, 17.614844744031124, 30.240421460695867, 12.07531969609824, 22.874714722704297, 38.91524516999883, 15.255142632780224, 35.720264359165895, 11.336228130758526, 15.485761123798747, 17.843622620959838, 17.41736047463965, 25.963803727186278, 24.519545764750802, 19.334868514858396, 19.08655985331062, 19.240812395666694, 18.884590737080696, 15.889423739346697, 16.10414409776506, 16.234137071856537, 16.11924177971687, 5.932126400360562, 5.108938342741314, 4.280869222112492, 4.2754984988282905, 4.242343677746299, 4.926400667087505, 3.4431321652971407, 3.434687428384728, 3.4335657131053527, 3.433532413669578, 4.0835158346389, 3.337703614535211, 3.3232085287113136, 2.6068720177427593, 2.606859173674675, 2.6068330098322807, 2.606573115664498, 2.6067935262155766, 2.606297047485053, 2.5984777056902337, 2.594753877358194, 2.594973495065564, 2.5824552857454797, 2.5784230412106712, 2.556993110033622, 5.123370001068498, 8.137617167676995, 2.467057518187632, 4.912464377509653, 2.4484848371687766, 12.504484878345737, 4.282889387882811, 5.895529369031937, 4.251723653097749, 10.480632701917202, 4.189201266762519, 32.048493313319206, 5.036671272948531, 10.652455253413745, 9.035666796842083, 10.50340697888709, 7.245306458414526, 101.64634883611498, 7.0074431973400655, 19.73433532436116, 21.336345174198616, 64.1793256657718, 28.06277538445014, 14.95761435253009, 60.95303276635103, 31.5591958439735, 12.2866799288319, 10.979449369969645, 43.7679411390438, 21.794489594258604, 91.53943601903245, 19.654110957968207, 43.15606368954991, 25.108786876819178, 40.02770791925427, 29.096582690480574, 40.483604468830734, 82.11994026292953, 45.757808862733334, 66.33798156951511, 59.29931555264294, 34.45598797216825, 43.66678696728538, 32.76580248494986, 24.900830948994987, 25.240332967902756, 36.23392920673934, 21.001158762167222, 43.15392237726087, 40.662190928576784, 35.288656537721245, 45.99818892687738, 30.69711214254474, 27.702047988042224, 33.020631332845205, 27.451811290908925, 27.82520388986056, 28.22125025353833, 27.530347217339372, 33.21559850616684, 23.848269193636817, 28.476794774234058, 27.56982941005283, 11.144909088469245, 11.907031042237964, 10.316970135299565, 11.049809751929867, 11.04944823119105, 11.045776562522002, 12.41368845304488, 6.877468567848983, 6.867461437840963, 12.666045097440824, 5.184275653782874, 4.3327784418393644, 4.33277591372231, 4.296806285621481, 7.749827380374686, 9.80353652808048, 3.494054751990935, 3.494057490784411, 3.493999344092154, 3.4835519003637807, 3.484104504616645, 3.4653429266011866, 11.052479443539585, 14.8727339789467, 3.3951706135443134, 4.724856952847923, 6.045812861256114, 35.201356923677544, 10.24752528792517, 33.88604166577114, 7.403533490578824, 12.149456400137526, 122.62916945221473, 12.598994376917188, 104.38151044245025, 48.403494298792666, 48.11243049687854, 37.53713820363973, 20.111253754959996, 36.484504420180485, 103.17809975785121, 85.11103594718054, 71.90499515933303, 68.65796925572177, 29.743566813868295, 62.17585690264271, 53.67312171245784, 75.21105765240466, 48.3565117714489, 87.34492062654905, 73.94346650284471, 38.535103983909046, 44.84761676167071, 41.04606355082258, 51.67125076225212, 40.256970801609086, 45.84043866643948, 29.57095709384448, 49.561435955457995, 64.41496635725751, 53.593664678841314, 51.7093612841454, 43.91002578748935, 49.59109919556598, 35.90583528048301, 35.66070568004065, 24.605468563310257, 6.0446683809302835, 6.044617528187111, 5.189093880201678, 5.187992588351453, 4.326287420654003, 4.997636407669332, 4.20733664335213, 3.4988154656445523, 3.4975682147757556, 3.487443472429056, 3.4854644855230106, 3.4843721220170063, 3.484796412461947, 3.4819762202547246, 3.4813372613595988, 3.467600033303276, 3.4560556842254258, 3.3409301201389656, 2.6449356034679954, 2.644920852290587, 2.6449072656798154, 2.6447995432658438, 2.644775087366456, 2.6438717718446103, 2.6438319824844947, 2.643148770057143, 2.6378917221608855, 2.6362036828197835, 2.6358094770129794, 9.26669353005512, 13.432856919937322, 15.925888198055654, 9.285543205650207, 4.908009030111626, 4.297145693305292, 7.770566230662951, 6.696319499649523, 9.761653760450002, 14.150479962294968, 87.81489573122822, 13.242824488780434, 7.423609997854199, 95.99573102451596, 20.808644377010165, 59.938157930336224, 64.77576153162036, 94.33552482605094, 102.21803851844652, 7.498351884650976, 8.492388700315535, 36.194948480254, 23.15994013156332, 95.33360501708101, 39.95920672510216, 65.76091658572935, 54.804077401713776, 13.471789159007761, 63.882920898490745, 17.40774489787151, 54.32607093242808, 95.38022494871467, 44.38198547907548, 25.12022099189887, 98.81333634104745, 57.17040227691316, 36.24778564497657, 74.80120826853747, 20.98404829844414, 56.84890114166757, 27.083009552393904, 42.232515333828616, 30.35921499976326, 47.9040169688281, 58.27359159438028, 52.682858090337916, 43.45785061126212, 36.28101461303414, 39.23329041552977, 37.58000640115823, 35.386124342622466, 38.18905301401002, 17.50655679876919, 23.403843517332188, 4.453785590458752, 4.453771950132857, 4.445853505773107, 4.444563789441984, 4.438455745577671, 4.410355263166943, 3.590348257780502, 3.5848004079899907, 3.581327298803629, 3.5692022249736413, 3.5530704230011807, 14.960863717803326, 11.96413021369084, 6.942511496572745, 3.438991673985386, 2.7150259680436135, 2.7150015095282165, 2.714958001592174, 2.7149213138190786, 2.714884155689918, 2.7148594619964883, 2.7138550166189863, 2.713927686631079, 2.712645025640937, 2.7101756562979795, 2.7100157352357686, 2.7098800375109224, 2.7096958931113475, 58.49944439875878, 24.989596311697014, 43.32010593288466, 12.504716083841956, 11.850231611048065, 13.00293133891644, 42.26120649298771, 5.280465537343963, 47.82194027684065, 5.198223779321839, 16.701141649597332, 8.985997410537708, 16.590735911095663, 154.67134667137424, 23.520550145684954, 45.984921390954796, 8.278111532223178, 14.058446096567309, 22.659108063435813, 119.57498757597033, 45.811980872856005, 82.07647113791947, 45.562266956350555, 30.816664513979735, 18.972775184116514, 17.255717790555483, 19.5308112642912, 166.67817486796318, 44.012398566921526, 47.81801938868009, 185.63361460893606, 84.58595244612808, 35.944971745615234, 47.85725461022527, 26.466969661489593, 45.25069181013353, 81.93312918629947, 42.23483268769279, 52.54135381091906, 97.30616404272307, 65.46521076955727, 57.068252488884106, 49.832840392955944, 60.27470741469169, 37.05047030161609, 51.290432448065204, 47.11590571999924, 54.447372050163864, 49.31108381681192, 43.91143381536306, 5.079556038153621, 3.4209267395658483, 3.417809963685067, 4.042786381115476, 5.915704667396837, 5.891143151662594, 2.5884009492235145, 2.5883825531258466, 2.58832617249318, 2.5878688250650512, 2.585676453092074, 2.585491299775733, 2.583878064210814, 2.5836717894490024, 2.577405533513808, 2.5801484257429164, 2.579745755605078, 2.577361246612015, 2.5743047690513667, 2.572471631985623, 2.566394958056949, 5.095116411432731, 2.5389924375727024, 2.5298173838609146, 2.505109891684993, 5.004397759126619, 4.229665523952598, 4.206531749798458, 1.7528125492879763, 1.7528062469211827, 3.4147061332063475, 3.404981751578092, 20.817838999814136, 115.0990141719143, 9.131653910705253, 14.124530602664734, 110.36675295160293, 6.437963066814634, 6.41328640513573, 11.892694230831392, 11.341852383659623, 21.64573016588386, 21.25960697722909, 8.039946351993237, 3.4171252200496562, 35.53970452048959, 18.137518030906264, 17.544009501210436, 3.402845419569306, 3.4121773511139835, 10.409893811746509, 25.035099421906118, 52.08245939388337, 12.393957913451636, 39.55602504909373, 34.668307264772594, 26.268256619596286, 26.684261884232985, 82.42317325612235, 16.553449138171292, 18.17711597180456, 18.851976133408865, 33.92220514893367, 26.459995738902446, 49.819461395274764, 13.231559493742129, 70.8539519186589, 57.17334368084709, 26.244573347191437, 18.73840407710381, 26.817506863651317, 33.67413036519936, 41.60932116102905, 34.09601965574194, 33.113670765632115, 29.439558533865082, 41.19739029135728, 24.340522731623697, 32.69966318093474, 30.14414270127876, 33.26703698787726, 29.395628652634507, 28.286850877960724, 27.897900140960722, 27.33336342108074, 5.015441781111175, 5.011003810473232, 4.176874730145634, 3.3705394205627908, 3.3704601213038172, 3.36584062970588, 3.3648701430716454, 3.3599631916599293, 3.219937117737422, 2.548063459270169, 2.5480219510643, 2.5479917491980895, 2.5479832307230046, 2.547957055772289, 2.5479503958735856, 2.547941102991675, 2.5479330491606853, 2.5479229818719484, 2.5478930897684684, 2.5471649924707447, 2.5470005084609206, 2.5466526449147207, 2.5428530952640602, 2.5398663630178784, 3.803280432984915, 2.5220322384611933, 2.5014323973664423, 2.4555131702170945, 7.145817302722685, 4.159001730366288, 11.20141434820117, 7.204688948679526, 6.636198136827587, 7.1394132680351134, 48.97898410063671, 8.775281398552394, 9.557199351151466, 4.978848890247665, 33.52534523812855, 8.889902282143995, 8.701216510196598, 7.323640934767093, 20.906181566471346, 14.378254177262871, 11.211826093094208, 6.504321610578259, 126.34180968825316, 10.641711505009694, 133.45833334909065, 9.784449963503878, 81.03815294909484, 45.635008692779124, 29.20048012449999, 41.13744713981916, 14.432565496303274, 17.808565414276945, 9.864639480564456, 16.530377830410597, 27.369204990311847, 40.3457382068387, 33.3248519304251, 23.93369097847856, 31.016115957957453, 22.37702422191199, 24.323139551704834, 25.486100356078985, 25.681902616993796, 40.081448645291054, 31.75511318663711, 41.98887337101035, 27.77663219240852, 24.315940665851144, 29.256413361196586, 20.340450740546963, 24.734804307952906, 33.73026691382532, 28.14613700200296, 31.35025825425339, 34.230112446051926, 22.328996130094318, 27.793493197347765, 28.416849803527462, 25.003549496614127, 9.848267068588028, 9.51050181143204, 5.526385072551025, 4.62633362000864, 4.61217006576289, 4.607496440527857, 4.602219140581275, 31.222832686006466, 4.532777585149687, 13.583923577386496, 3.7188667212245803, 3.7188554333653516, 3.711390772057441, 3.7104200161637766, 3.7099513442486027, 8.173279698222425, 3.6994780169418857, 3.6569749375594864, 4.378324904295239, 2.81122057123597, 2.8106326995273414, 2.811071797251336, 2.807489933760899, 2.807029840618739, 2.8066623079222537, 2.803712113034252, 2.803768326573211, 2.8018651935072594, 2.800707736421953, 2.8002483205513466, 5.5243202973409185, 8.173316722400696, 22.05176854095373, 4.767613820657614, 9.721726554519833, 7.747211775892503, 28.069075253761373, 4.574781966911364, 13.756988132051521, 7.271936463069912, 196.14539850162083, 32.529616409534455, 233.8189194525163, 56.524061644889535, 41.966140300668094, 66.41321966080493, 138.8625579290936, 225.9622949086348, 17.550571225325243, 11.057955336117326, 34.81082593551934, 283.84941341590775, 57.278278471341366, 66.02298120972424, 76.87529161732768, 64.30348445587694, 47.839334463189104, 13.58890378087818, 104.61884126545188, 22.47472372322276, 127.25335050574307, 60.00938052685855, 33.0394917199791, 68.34976117795831, 96.50019390286742, 65.00699441261617, 78.8107350515353, 41.758873532540235, 45.948327267135376, 42.30719980666137, 67.04162652343784, 54.0865775775707, 44.33285581182442, 50.31058096897522, 39.859153915219466, 42.80752829728478, 37.60272349781333, 39.178342488845956], \"Total\": [1183.0, 802.0, 477.0, 667.0, 444.0, 539.0, 81.0, 421.0, 325.0, 217.0, 908.0, 418.0, 147.0, 334.0, 70.0, 231.0, 164.0, 331.0, 76.0, 419.0, 240.0, 322.0, 209.0, 125.0, 458.0, 253.0, 584.0, 273.0, 133.0, 134.0, 81.01380122434102, 22.636148720141996, 17.409312075301017, 14.794452355025934, 28.73652837126778, 11.302863226770478, 20.054502882062145, 44.35224682415568, 17.389281296494445, 41.69046622410304, 7.822982370300952, 7.822440586210661, 7.822459101442836, 7.822413762281479, 6.951115437718718, 6.079562708418427, 6.0795519921072865, 70.40145032839692, 19.133054584879567, 5.206659273502089, 32.08019495766711, 26.83791808017862, 4.336826916263047, 4.336708260395894, 4.336823101619084, 4.336766998983053, 4.3366312713392245, 4.33663041197957, 4.336633696157192, 4.336550190455122, 22.53374874610369, 32.10030302647879, 46.732352409949634, 22.5059164666871, 23.339576046395177, 57.91262054091103, 36.52558090699203, 49.40069930909973, 29.4415588811654, 164.29211537067047, 217.07711426499463, 49.15785440728587, 147.4240904117368, 45.67944822802566, 37.314830071355445, 159.14113359615845, 209.54476625557407, 908.6315589455127, 68.98607845255364, 140.89888690115544, 552.0090251824398, 584.578549379689, 216.6781419139014, 1183.8158266454986, 322.94883445709013, 324.48228063487255, 624.2920039365035, 463.26809669571986, 458.9047988614976, 357.65459430040664, 332.33132387359194, 137.24529523126475, 147.73094395782533, 802.5573222852493, 317.5079355676938, 796.8181904972275, 171.19516505219167, 376.36806636908614, 667.4899751154564, 419.82107517107164, 335.83884447879575, 397.31411847374153, 243.89341340585509, 477.6953765905611, 444.2127336529366, 8.640835497348261, 6.04426758517356, 6.044252180275031, 5.174431060573771, 4.313106197451083, 4.313072563875412, 4.313031906520137, 4.31296943402934, 4.312767343351754, 4.311171859987922, 4.3127018866468845, 4.311807319345715, 7.7096412562218735, 3.4474906598544837, 3.4473098912616384, 3.447414451033033, 3.446473183600735, 3.447186595737926, 3.4473103282118567, 3.4474409625966675, 3.44710688261326, 3.4472087467456953, 3.4458725177029166, 3.447287008724375, 51.0810350825045, 6.0176346843061586, 6.8929559796802335, 4.314250434150194, 10.36670378952905, 3.446527817482561, 6.954780295744621, 10.260058926837562, 23.226655869054678, 22.53747595038163, 110.87500056259424, 8.719481916782902, 12.852149266548986, 6.011779136200742, 6.015308850795901, 6.046664532907093, 10.354346077830773, 174.1219015617112, 41.68669501478879, 195.32582195285124, 11.142731826184553, 11.981116866941283, 539.6836836561375, 397.31411847374153, 30.803874896349967, 199.0895758226608, 35.185168327163375, 802.5573222852493, 463.26809669571986, 324.48228063487255, 69.4684730604116, 98.3208672893102, 25.795544366715767, 136.21368430759497, 129.98484646587787, 73.40093151682656, 77.5673983268834, 624.2920039365035, 111.20361534808434, 796.8181904972275, 108.49399770496426, 85.12078489484412, 105.04654250170535, 321.8907483831377, 376.36806636908614, 324.5319773425761, 533.7259081425401, 136.46648376632308, 195.3924441234638, 187.1738436594415, 584.578549379689, 176.91099495741415, 552.0090251824398, 144.7790427871409, 241.84726310035595, 421.6644618806447, 240.39492504763774, 667.4899751154564, 908.6315589455127, 419.82107517107164, 418.04106892009514, 224.70388762042242, 6.469202999322985, 5.66495559177758, 5.666504214761063, 4.86362640601158, 4.863080593053893, 17.023298813479386, 4.057665386493052, 8.137898688705778, 4.064517297834875, 4.06732542090897, 3.258267052834501, 3.2582555102250135, 3.2582433855685036, 3.2582410050085615, 3.2582207927224927, 3.2582045299073052, 3.2582005565099736, 3.258277297908049, 3.258136315407761, 3.2583139274036466, 3.2582057839444096, 3.2575068402809984, 3.2581580194742426, 3.259541535501339, 3.259858658450712, 7.366162237457709, 3.270961548584639, 12.296060861628145, 4.878175116194238, 2.4559932174985395, 9.800473467405872, 9.899558264868668, 22.281293906805416, 5.72824726128243, 444.2127336529366, 13.17541579122369, 29.02010085808277, 6.566036834722386, 14.90342095586364, 84.90093377245422, 15.07518180243771, 58.699619255512175, 9.91671756702816, 4.924431313363917, 10.721283633646342, 458.9047988614976, 21.553305451141785, 25.018676725190144, 134.20487789687888, 421.6644618806447, 266.76345648888525, 1183.8158266454986, 247.64378228004318, 20.00285077602121, 134.3095434868959, 177.11046523964148, 48.810129051739125, 122.13410455523531, 133.2996140483484, 96.94294197337733, 62.90930451550404, 269.58932230479854, 114.35597922669656, 418.04106892009514, 48.947487782711086, 239.99317556170493, 908.6315589455127, 89.00753449218028, 796.8181904972275, 43.268161541392566, 103.7397551241232, 155.61705036172452, 175.79422450449857, 802.5573222852493, 667.4899751154564, 277.0199419726544, 419.82107517107164, 533.7259081425401, 477.6953765905611, 136.21368430759497, 175.6215126767564, 254.58750053586863, 624.2920039365035, 6.741845930534504, 5.900541615401775, 5.056792229414655, 5.058449564942284, 5.05747802505834, 5.901451324974855, 4.216975257879258, 4.216197928131282, 4.2172763639368425, 4.217300892046105, 5.0604524623523, 4.209553433276809, 4.207521120250469, 3.3756897779506585, 3.375676964720218, 3.3756508711363216, 3.3753938443562355, 3.3756837746614154, 3.3751217160343736, 3.3758938106790133, 3.3743698735758656, 3.3748721580549845, 3.37374829415386, 3.375698495951013, 3.373552413190942, 6.804195095186187, 11.011679682446621, 3.3763004491369477, 6.759362587014311, 3.3868475508390707, 17.70488077563334, 5.96398432614802, 8.480911621687607, 5.928275705134259, 16.828436049254343, 5.964741588118466, 75.40601494763938, 7.657583510318369, 19.787296830365033, 16.074803032796908, 20.22120608865688, 12.67254255247315, 419.82107517107164, 12.509201258406758, 50.35961499559034, 56.949105548044045, 273.0195801532279, 87.23196177060542, 35.696163447982094, 265.6836809735933, 109.77749188436343, 27.94734777282987, 25.616884683667056, 231.2585682636096, 76.97536506388332, 802.5573222852493, 65.753151076503, 240.39492504763774, 99.75352439070662, 217.72691198996657, 130.0001749664053, 228.88455032103673, 908.6315589455127, 324.5319773425761, 667.4899751154564, 624.2920039365035, 230.82207509766525, 444.2127336529366, 241.84726310035595, 134.9569135793108, 141.25532174317382, 331.9877396239371, 94.82958881169188, 584.578549379689, 533.7259081425401, 458.9047988614976, 1183.8158266454986, 325.27042960542354, 253.6456742770656, 796.8181904972275, 254.58750053586863, 322.94883445709013, 463.26809669571986, 335.83884447879575, 34.11161143984004, 24.7301510105411, 29.835784031519943, 28.98864687763795, 11.937854389453122, 12.788338958014394, 11.084651137142066, 11.937459790408392, 11.937464459672047, 11.93536204325659, 13.643016958897814, 7.673142575171341, 7.669722462412555, 14.497341793327113, 5.9682133536211, 5.114663292358292, 5.1146604437338095, 5.113495438361891, 9.376566202596797, 11.926150819053479, 4.262134448670308, 4.262143159803743, 4.262135010403239, 4.261046884080599, 4.262020605066328, 4.259484705372883, 13.626214940932604, 18.67436195064799, 4.263241770456774, 5.949966192153363, 7.725161468188977, 52.48145223061852, 14.4385238064258, 57.25722879092326, 10.251048170453183, 18.83015373829984, 334.4837864554441, 21.24749595968859, 331.9877396239371, 125.75354341456537, 140.0424006603019, 105.63151711971108, 43.10363305879732, 106.93322861370768, 539.6836836561375, 421.6644618806447, 335.83884447879575, 321.8907483831377, 82.84468307258469, 317.5079355676938, 272.1346062228522, 552.0090251824398, 239.99317556170493, 796.8181904972275, 584.578549379689, 157.58917713502242, 224.70388762042242, 205.8793515674094, 348.1923495512654, 199.0895758226608, 277.0199419726544, 104.06333868571491, 418.04106892009514, 1183.8158266454986, 667.4899751154564, 624.2920039365035, 322.94883445709013, 908.6315589455127, 175.79422450449857, 205.04725362352372, 25.615923364526047, 6.827347924959458, 6.827298202234938, 5.97365118021454, 5.973679378390692, 5.119247094401478, 5.96463056195254, 5.112847675547756, 4.266393481826854, 4.265162942100513, 4.265036568645984, 4.266076020254525, 4.266049983256586, 4.2666156233580965, 4.26550038379064, 4.264852520163457, 4.263360996856775, 4.26523130708246, 4.2618941110907125, 3.4125135250516254, 3.4124988309793394, 3.4124852781341137, 3.4123777900176226, 3.4123535362590256, 3.412543380922128, 3.412505552026389, 3.412554734787399, 3.4124049794638456, 3.4115253044572253, 3.412213277343096, 12.853188034577077, 19.68490515179166, 23.80953440019821, 13.659970232009842, 6.894392469087179, 5.981526744229161, 11.943503405617987, 10.256627587854311, 16.15507784153299, 25.449309251829018, 253.6456742770656, 24.74627129881234, 12.05504086123986, 357.65459430040664, 48.845989386631885, 231.2585682636096, 266.76345648888525, 477.6953765905611, 539.6836836561375, 12.768461004715464, 15.377388353834606, 133.7899121907553, 69.75507290123528, 584.578549379689, 164.58374772727672, 397.31411847374153, 322.94883445709013, 32.39504549983153, 418.04106892009514, 49.62555285899468, 335.83884447879575, 908.6315589455127, 265.6836809735933, 97.07068648866723, 1183.8158266454986, 444.2127336529366, 194.0539529556057, 802.5573222852493, 72.00725838021462, 552.0090251824398, 125.52677616651495, 331.9877396239371, 161.17857670374593, 458.9047988614976, 796.8181904972275, 624.2920039365035, 419.82107517107164, 273.0195801532279, 376.36806636908614, 334.4837864554441, 324.5319773425761, 667.4899751154564, 18.37700736273757, 27.016220100033944, 5.232923429964209, 5.232907847730934, 5.232121817664959, 5.231605053117025, 5.232382502652222, 5.228723827029471, 4.355672611517675, 4.353246376969361, 4.356385238334558, 4.35514535663151, 4.354576663005956, 18.34299285929144, 14.761468873374978, 8.7568982722297, 4.359641299484108, 3.4803310042713447, 3.4803066100371627, 3.480263213332262, 3.4802266445373697, 3.4801895891988748, 3.480164896430614, 3.479171457860484, 3.4801672461178508, 3.479743842398167, 3.4798904309752747, 3.480108567356828, 3.4800744320997317, 3.480134048181509, 76.67440959612048, 33.052330759638956, 58.14385289943028, 16.53689857857567, 15.66372296392175, 17.383581492776162, 59.91463841231167, 6.975178657101312, 71.4855826037468, 6.938985659356188, 24.238478501752777, 13.033350745278169, 26.0463081169816, 325.27042960542354, 39.95493543413423, 87.77456687781208, 12.122984488421293, 23.4771371047172, 42.476366821138, 348.1923495512654, 105.09331318020229, 230.82207509766525, 108.59392467789363, 68.5766223439358, 36.240578436678966, 32.63233700992816, 40.42062400537519, 796.8181904972275, 133.2996140483484, 150.79490187670686, 1183.8158266454986, 376.36806636908614, 105.51436823427039, 182.9101331055036, 65.22566518269055, 173.46983295852124, 584.578549379689, 164.65229285501414, 254.58750053586863, 908.6315589455127, 533.7259081425401, 419.82107517107164, 334.4837864554441, 552.0090251824398, 155.0187025243353, 463.26809669571986, 357.65459430040664, 802.5573222852493, 624.2920039365035, 418.04106892009514, 5.864852557487444, 4.1934059349749075, 4.193654227483935, 5.031052454668353, 7.50008625497775, 7.551704202983876, 3.3578088833432074, 3.3577905630018523, 3.357735067391937, 3.357812292582464, 3.3577362474519585, 3.3577375000464937, 3.3579179063352487, 3.3580724801829405, 3.3538832453975034, 3.357684150255547, 3.3581031455658525, 3.355480072700516, 3.3557079719467935, 3.3560493794359, 3.354205507114983, 6.72719066735406, 3.3578989437534448, 3.3582727035220827, 3.3565966297080685, 6.7343516565637325, 5.8496056257537425, 5.8290865249243256, 2.5222202835657175, 2.522213998164382, 4.993275680741639, 5.028137756381003, 46.077882294024214, 418.04106892009514, 17.539528662982896, 30.830242215179208, 533.7259081425401, 11.809187839738065, 11.860361573396181, 28.809744984378497, 28.297929032957974, 73.89921694147934, 72.63759247596138, 17.78805092145735, 5.0546962949125325, 161.17857670374593, 59.449201131897645, 57.56481808316254, 5.040437665873155, 5.064571088280472, 27.424217886220013, 103.87413118856577, 332.33132387359194, 36.73368836704377, 228.88455032103673, 187.1738436594415, 126.52274664290057, 129.98484646587787, 908.6315589455127, 61.125135991011554, 72.2947646376185, 80.20665030486528, 231.2585682636096, 154.36212609163746, 552.0090251824398, 43.31649205640411, 1183.8158266454986, 796.8181904972275, 177.11046523964148, 88.82892275906923, 195.3924441234638, 322.94883445709013, 539.6836836561375, 348.1923495512654, 334.4837864554441, 254.58750053586863, 624.2920039365035, 165.32569109004294, 397.31411847374153, 331.9877396239371, 463.26809669571986, 444.2127336529366, 458.9047988614976, 667.4899751154564, 584.578549379689, 5.786157888585178, 5.786249828225973, 4.9639879214388145, 4.141255255014424, 4.14117630594587, 4.140871643633933, 4.1404493994450124, 4.141869537566103, 4.1537342378207995, 3.3187791823154007, 3.318737805252648, 3.3187077133624054, 3.3186992037656444, 3.3186731432463006, 3.3186664962387273, 3.3186571915112197, 3.3186492290518235, 3.3186391936841475, 3.3186093131137935, 3.318823209920462, 3.3188248291207234, 3.318804450322498, 3.3190474528358145, 3.318732134839032, 4.987599143523701, 3.3194102245031196, 3.316107843984749, 3.3196841819670535, 9.95704713220683, 5.815783967044077, 17.633636208365285, 10.841536978975327, 10.044335707648463, 11.644453643851065, 125.52677616651495, 15.145423703213666, 16.831897902093747, 7.542173344414485, 81.91704084929431, 15.769885332229105, 16.015907111076586, 13.272896618104587, 58.89658132824803, 35.441361777514466, 26.150974663494974, 12.649594075125712, 908.6315589455127, 25.956602063619272, 1183.8158266454986, 23.4717947475749, 667.4899751154564, 273.0195801532279, 134.6118484295203, 269.58932230479854, 47.17615579193082, 67.69102409158396, 25.68697717235566, 63.004146632711986, 155.71005515738872, 325.27042960542354, 228.88455032103673, 133.7899121907553, 231.2585682636096, 124.05698930384355, 154.66504811776173, 172.5922336968838, 191.9793967308608, 533.7259081425401, 324.48228063487255, 624.2920039365035, 258.90820160163844, 187.1738436594415, 317.5079355676938, 129.8106006045791, 224.70388762042242, 552.0090251824398, 331.9877396239371, 539.6836836561375, 796.8181904972275, 172.04078295140783, 463.26809669571986, 802.5573222852493, 335.83884447879575, 10.820191730055653, 10.781553457183833, 6.295529203267801, 5.3885404345597845, 5.38758611180237, 5.3873925061107295, 5.385986123006786, 36.752736845849654, 5.382163773586633, 16.176448375101128, 4.481072572485197, 4.481061282265556, 4.4806318282214965, 4.479997528481436, 4.4800490577914935, 9.882710167342966, 4.479793864245956, 4.476200767373733, 5.376306605787403, 3.573426410262647, 3.572846084986167, 3.573465752001262, 3.5731646339881538, 3.573090242356825, 3.573045318364744, 3.572835019122227, 3.573045667696563, 3.572681194116437, 3.5717800154491575, 3.572520817929008, 7.114774840219116, 10.712918126617168, 31.249762656919742, 6.267608794878424, 13.375457882645238, 10.68535034856456, 45.901701100367376, 6.235287258144828, 22.136834214727962, 10.641134168659537, 477.6953765905611, 63.105363533497574, 667.4899751154564, 123.21670953677315, 87.45088235731879, 153.9311732058182, 421.6644618806447, 802.5573222852493, 31.696984132676498, 17.669829102218795, 77.1539878679969, 1183.8158266454986, 148.47806116447788, 189.46438325695595, 240.39492504763774, 191.81258248548903, 134.6118484295203, 23.785851897289685, 458.9047988614976, 52.044689562639746, 796.8181904972275, 258.90820160163844, 99.30082417592065, 321.8907483831377, 624.2920039365035, 324.5319773425761, 463.26809669571986, 157.58917713502242, 189.34719961475287, 171.65783022062274, 533.7259081425401, 332.33132387359194, 241.84726310035595, 444.2127336529366, 348.1923495512654, 908.6315589455127, 243.89341340585509, 552.0090251824398], \"Category\": [\"Default\", \"Default\", \"Default\", \"Default\", \"Default\", \"Default\", \"Default\", \"Default\", \"Default\", \"Default\", \"Default\", \"Default\", \"Default\", \"Default\", \"Default\", \"Default\", \"Default\", \"Default\", \"Default\", \"Default\", \"Default\", \"Default\", \"Default\", \"Default\", \"Default\", \"Default\", \"Default\", \"Default\", \"Default\", \"Default\", \"Topic1\", \"Topic1\", \"Topic1\", \"Topic1\", \"Topic1\", \"Topic1\", \"Topic1\", \"Topic1\", \"Topic1\", \"Topic1\", \"Topic1\", \"Topic1\", \"Topic1\", \"Topic1\", \"Topic1\", \"Topic1\", \"Topic1\", \"Topic1\", \"Topic1\", \"Topic1\", \"Topic1\", \"Topic1\", \"Topic1\", \"Topic1\", \"Topic1\", \"Topic1\", \"Topic1\", \"Topic1\", \"Topic1\", \"Topic1\", \"Topic1\", \"Topic1\", \"Topic1\", \"Topic1\", \"Topic1\", \"Topic1\", \"Topic1\", \"Topic1\", \"Topic1\", \"Topic1\", \"Topic1\", \"Topic1\", \"Topic1\", \"Topic1\", \"Topic1\", \"Topic1\", \"Topic1\", \"Topic1\", \"Topic1\", \"Topic1\", \"Topic1\", \"Topic1\", \"Topic1\", \"Topic1\", \"Topic1\", \"Topic1\", \"Topic1\", \"Topic1\", \"Topic1\", \"Topic1\", \"Topic1\", \"Topic1\", \"Topic1\", \"Topic1\", \"Topic1\", \"Topic1\", \"Topic1\", \"Topic1\", \"Topic1\", \"Topic1\", \"Topic1\", \"Topic1\", \"Topic1\", \"Topic1\", \"Topic1\", \"Topic2\", \"Topic2\", \"Topic2\", \"Topic2\", \"Topic2\", \"Topic2\", \"Topic2\", \"Topic2\", \"Topic2\", \"Topic2\", \"Topic2\", \"Topic2\", \"Topic2\", \"Topic2\", \"Topic2\", \"Topic2\", \"Topic2\", \"Topic2\", \"Topic2\", \"Topic2\", \"Topic2\", \"Topic2\", \"Topic2\", \"Topic2\", \"Topic2\", \"Topic2\", \"Topic2\", \"Topic2\", \"Topic2\", \"Topic2\", \"Topic2\", \"Topic2\", \"Topic2\", \"Topic2\", \"Topic2\", \"Topic2\", \"Topic2\", \"Topic2\", \"Topic2\", \"Topic2\", \"Topic2\", \"Topic2\", \"Topic2\", \"Topic2\", \"Topic2\", \"Topic2\", \"Topic2\", \"Topic2\", \"Topic2\", \"Topic2\", \"Topic2\", \"Topic2\", \"Topic2\", \"Topic2\", \"Topic2\", \"Topic2\", \"Topic2\", \"Topic2\", \"Topic2\", \"Topic2\", \"Topic2\", \"Topic2\", \"Topic2\", \"Topic2\", \"Topic2\", \"Topic2\", \"Topic2\", \"Topic2\", \"Topic2\", \"Topic2\", \"Topic2\", \"Topic2\", \"Topic2\", \"Topic2\", \"Topic2\", \"Topic2\", \"Topic2\", \"Topic2\", \"Topic2\", \"Topic2\", \"Topic2\", \"Topic2\", \"Topic2\", \"Topic2\", \"Topic2\", \"Topic2\", \"Topic3\", \"Topic3\", \"Topic3\", \"Topic3\", \"Topic3\", \"Topic3\", \"Topic3\", \"Topic3\", \"Topic3\", \"Topic3\", \"Topic3\", \"Topic3\", \"Topic3\", \"Topic3\", \"Topic3\", \"Topic3\", \"Topic3\", \"Topic3\", \"Topic3\", \"Topic3\", \"Topic3\", \"Topic3\", \"Topic3\", \"Topic3\", \"Topic3\", \"Topic3\", \"Topic3\", \"Topic3\", \"Topic3\", \"Topic3\", \"Topic3\", \"Topic3\", \"Topic3\", \"Topic3\", \"Topic3\", \"Topic3\", \"Topic3\", \"Topic3\", \"Topic3\", \"Topic3\", \"Topic3\", \"Topic3\", \"Topic3\", \"Topic3\", \"Topic3\", \"Topic3\", \"Topic3\", \"Topic3\", \"Topic3\", \"Topic3\", \"Topic3\", \"Topic3\", \"Topic3\", \"Topic3\", \"Topic3\", \"Topic3\", \"Topic3\", \"Topic3\", \"Topic3\", \"Topic3\", \"Topic3\", \"Topic3\", \"Topic3\", \"Topic3\", \"Topic3\", \"Topic3\", \"Topic3\", \"Topic3\", \"Topic3\", \"Topic3\", \"Topic3\", \"Topic3\", \"Topic3\", \"Topic3\", \"Topic3\", \"Topic3\", \"Topic3\", \"Topic3\", \"Topic3\", \"Topic3\", \"Topic3\", \"Topic3\", \"Topic3\", \"Topic4\", \"Topic4\", \"Topic4\", \"Topic4\", \"Topic4\", \"Topic4\", \"Topic4\", \"Topic4\", \"Topic4\", \"Topic4\", \"Topic4\", \"Topic4\", \"Topic4\", \"Topic4\", \"Topic4\", \"Topic4\", \"Topic4\", \"Topic4\", \"Topic4\", \"Topic4\", \"Topic4\", \"Topic4\", \"Topic4\", \"Topic4\", \"Topic4\", \"Topic4\", \"Topic4\", \"Topic4\", \"Topic4\", \"Topic4\", \"Topic4\", \"Topic4\", \"Topic4\", \"Topic4\", \"Topic4\", \"Topic4\", \"Topic4\", \"Topic4\", \"Topic4\", \"Topic4\", \"Topic4\", \"Topic4\", \"Topic4\", \"Topic4\", \"Topic4\", \"Topic4\", \"Topic4\", \"Topic4\", \"Topic4\", \"Topic4\", \"Topic4\", \"Topic4\", \"Topic4\", \"Topic4\", \"Topic4\", \"Topic4\", \"Topic4\", \"Topic4\", \"Topic4\", \"Topic4\", \"Topic4\", \"Topic4\", \"Topic4\", \"Topic4\", \"Topic4\", \"Topic4\", \"Topic4\", \"Topic4\", \"Topic4\", \"Topic4\", \"Topic4\", \"Topic4\", \"Topic4\", \"Topic4\", \"Topic4\", \"Topic4\", \"Topic4\", \"Topic4\", \"Topic4\", \"Topic4\", \"Topic4\", \"Topic4\", \"Topic4\", \"Topic4\", \"Topic5\", \"Topic5\", \"Topic5\", \"Topic5\", \"Topic5\", \"Topic5\", \"Topic5\", \"Topic5\", \"Topic5\", \"Topic5\", \"Topic5\", \"Topic5\", \"Topic5\", \"Topic5\", \"Topic5\", \"Topic5\", \"Topic5\", \"Topic5\", \"Topic5\", \"Topic5\", \"Topic5\", \"Topic5\", \"Topic5\", \"Topic5\", \"Topic5\", \"Topic5\", \"Topic5\", \"Topic5\", \"Topic5\", \"Topic5\", \"Topic5\", \"Topic5\", \"Topic5\", \"Topic5\", \"Topic5\", \"Topic5\", \"Topic5\", \"Topic5\", \"Topic5\", \"Topic5\", \"Topic5\", \"Topic5\", \"Topic5\", \"Topic5\", \"Topic5\", \"Topic5\", \"Topic5\", \"Topic5\", \"Topic5\", \"Topic5\", \"Topic5\", \"Topic5\", \"Topic5\", \"Topic5\", \"Topic5\", \"Topic5\", \"Topic5\", \"Topic5\", \"Topic5\", \"Topic5\", \"Topic5\", \"Topic5\", \"Topic5\", \"Topic5\", \"Topic5\", \"Topic5\", \"Topic5\", \"Topic5\", \"Topic5\", \"Topic5\", \"Topic6\", \"Topic6\", \"Topic6\", \"Topic6\", \"Topic6\", \"Topic6\", \"Topic6\", \"Topic6\", \"Topic6\", \"Topic6\", \"Topic6\", \"Topic6\", \"Topic6\", \"Topic6\", \"Topic6\", \"Topic6\", \"Topic6\", \"Topic6\", \"Topic6\", \"Topic6\", \"Topic6\", \"Topic6\", \"Topic6\", \"Topic6\", \"Topic6\", \"Topic6\", \"Topic6\", \"Topic6\", \"Topic6\", \"Topic6\", \"Topic6\", \"Topic6\", \"Topic6\", \"Topic6\", \"Topic6\", \"Topic6\", \"Topic6\", \"Topic6\", \"Topic6\", \"Topic6\", \"Topic6\", \"Topic6\", \"Topic6\", \"Topic6\", \"Topic6\", \"Topic6\", \"Topic6\", \"Topic6\", \"Topic6\", \"Topic6\", \"Topic6\", \"Topic6\", \"Topic6\", \"Topic6\", \"Topic6\", \"Topic6\", \"Topic6\", \"Topic6\", \"Topic6\", \"Topic6\", \"Topic6\", \"Topic6\", \"Topic6\", \"Topic6\", \"Topic6\", \"Topic6\", \"Topic6\", \"Topic6\", \"Topic6\", \"Topic6\", \"Topic6\", \"Topic6\", \"Topic6\", \"Topic6\", \"Topic6\", \"Topic6\", \"Topic6\", \"Topic6\", \"Topic6\", \"Topic6\", \"Topic6\", \"Topic6\", \"Topic7\", \"Topic7\", \"Topic7\", \"Topic7\", \"Topic7\", \"Topic7\", \"Topic7\", \"Topic7\", \"Topic7\", \"Topic7\", \"Topic7\", \"Topic7\", \"Topic7\", \"Topic7\", \"Topic7\", \"Topic7\", \"Topic7\", \"Topic7\", \"Topic7\", \"Topic7\", \"Topic7\", \"Topic7\", \"Topic7\", \"Topic7\", \"Topic7\", \"Topic7\", \"Topic7\", \"Topic7\", \"Topic7\", \"Topic7\", \"Topic7\", \"Topic7\", \"Topic7\", \"Topic7\", \"Topic7\", \"Topic7\", \"Topic7\", \"Topic7\", \"Topic7\", \"Topic7\", \"Topic7\", \"Topic7\", \"Topic7\", \"Topic7\", \"Topic7\", \"Topic7\", \"Topic7\", \"Topic7\", \"Topic7\", \"Topic7\", \"Topic7\", \"Topic7\", \"Topic7\", \"Topic7\", \"Topic7\", \"Topic7\", \"Topic7\", \"Topic7\", \"Topic7\", \"Topic7\", \"Topic7\", \"Topic7\", \"Topic7\", \"Topic7\", \"Topic7\", \"Topic7\", \"Topic7\", \"Topic7\", \"Topic7\", \"Topic7\", \"Topic7\", \"Topic7\", \"Topic7\", \"Topic7\", \"Topic7\", \"Topic7\", \"Topic7\", \"Topic7\", \"Topic7\", \"Topic7\", \"Topic8\", \"Topic8\", \"Topic8\", \"Topic8\", \"Topic8\", \"Topic8\", \"Topic8\", \"Topic8\", \"Topic8\", \"Topic8\", \"Topic8\", \"Topic8\", \"Topic8\", \"Topic8\", \"Topic8\", \"Topic8\", \"Topic8\", \"Topic8\", \"Topic8\", \"Topic8\", \"Topic8\", \"Topic8\", \"Topic8\", \"Topic8\", \"Topic8\", \"Topic8\", \"Topic8\", \"Topic8\", \"Topic8\", \"Topic8\", \"Topic8\", \"Topic8\", \"Topic8\", \"Topic8\", \"Topic8\", \"Topic8\", \"Topic8\", \"Topic8\", \"Topic8\", \"Topic8\", \"Topic8\", \"Topic8\", \"Topic8\", \"Topic8\", \"Topic8\", \"Topic8\", \"Topic8\", \"Topic8\", \"Topic8\", \"Topic8\", \"Topic8\", \"Topic8\", \"Topic8\", \"Topic8\", \"Topic8\", \"Topic8\", \"Topic8\", \"Topic8\", \"Topic8\", \"Topic8\", \"Topic8\", \"Topic8\", \"Topic8\", \"Topic8\", \"Topic8\", \"Topic8\", \"Topic8\", \"Topic8\", \"Topic8\", \"Topic8\", \"Topic8\", \"Topic8\", \"Topic8\", \"Topic8\", \"Topic8\", \"Topic8\", \"Topic8\", \"Topic8\", \"Topic8\", \"Topic8\", \"Topic8\", \"Topic8\", \"Topic8\", \"Topic8\", \"Topic8\", \"Topic9\", \"Topic9\", \"Topic9\", \"Topic9\", \"Topic9\", \"Topic9\", \"Topic9\", \"Topic9\", \"Topic9\", \"Topic9\", \"Topic9\", \"Topic9\", \"Topic9\", \"Topic9\", \"Topic9\", \"Topic9\", \"Topic9\", \"Topic9\", \"Topic9\", \"Topic9\", \"Topic9\", \"Topic9\", \"Topic9\", \"Topic9\", \"Topic9\", \"Topic9\", \"Topic9\", \"Topic9\", \"Topic9\", \"Topic9\", \"Topic9\", \"Topic9\", \"Topic9\", \"Topic9\", \"Topic9\", \"Topic9\", \"Topic9\", \"Topic9\", \"Topic9\", \"Topic9\", \"Topic9\", \"Topic9\", \"Topic9\", \"Topic9\", \"Topic9\", \"Topic9\", \"Topic9\", \"Topic9\", \"Topic9\", \"Topic9\", \"Topic9\", \"Topic9\", \"Topic9\", \"Topic9\", \"Topic9\", \"Topic9\", \"Topic9\", \"Topic9\", \"Topic9\", \"Topic9\", \"Topic9\", \"Topic9\", \"Topic9\", \"Topic9\", \"Topic9\", \"Topic9\", \"Topic9\", \"Topic9\", \"Topic9\", \"Topic9\", \"Topic9\", \"Topic9\", \"Topic9\", \"Topic9\", \"Topic9\", \"Topic9\", \"Topic9\", \"Topic9\", \"Topic9\", \"Topic9\", \"Topic9\", \"Topic9\", \"Topic9\", \"Topic10\", \"Topic10\", \"Topic10\", \"Topic10\", \"Topic10\", \"Topic10\", \"Topic10\", \"Topic10\", \"Topic10\", \"Topic10\", \"Topic10\", \"Topic10\", \"Topic10\", \"Topic10\", \"Topic10\", \"Topic10\", \"Topic10\", \"Topic10\", \"Topic10\", \"Topic10\", \"Topic10\", \"Topic10\", \"Topic10\", \"Topic10\", \"Topic10\", \"Topic10\", \"Topic10\", \"Topic10\", \"Topic10\", \"Topic10\", \"Topic10\", \"Topic10\", \"Topic10\", \"Topic10\", \"Topic10\", \"Topic10\", \"Topic10\", \"Topic10\", \"Topic10\", \"Topic10\", \"Topic10\", \"Topic10\", \"Topic10\", \"Topic10\", \"Topic10\", \"Topic10\", \"Topic10\", \"Topic10\", \"Topic10\", \"Topic10\", \"Topic10\", \"Topic10\", \"Topic10\", \"Topic10\", \"Topic10\", \"Topic10\", \"Topic10\", \"Topic10\", \"Topic10\", \"Topic10\", \"Topic10\", \"Topic10\", \"Topic10\", \"Topic10\", \"Topic10\", \"Topic10\", \"Topic10\", \"Topic10\", \"Topic10\", \"Topic10\", \"Topic10\", \"Topic10\", \"Topic10\", \"Topic10\", \"Topic10\", \"Topic10\", \"Topic10\", \"Topic10\"], \"logprob\": [30.0, 29.0, 28.0, 27.0, 26.0, 25.0, 24.0, 23.0, 22.0, 21.0, 20.0, 19.0, 18.0, 17.0, 16.0, 15.0, 14.0, 13.0, 12.0, 11.0, 10.0, 9.0, 8.0, 7.0, 6.0, 5.0, 4.0, 3.0, 2.0, 1.0, -5.3106, -6.6044, -6.8739, -7.047, -6.3926, -7.3431, -6.7751, -5.9832, -6.9272, -6.0534, -7.7312, -7.7332, -7.7332, -7.7333, -7.8646, -8.0167, -8.0168, -5.5701, -6.8809, -8.2086, -6.4005, -6.5888, -8.4124, -8.4125, -8.4126, -8.4128, -8.4134, -8.414, -8.4141, -8.4146, -6.7783, -6.4353, -6.0685, -6.79, -6.7803, -5.9118, -6.3958, -6.1225, -6.6215, -5.0989, -4.8608, -6.1984, -5.274, -6.2716, -6.4411, -5.2699, -5.0923, -4.2461, -6.031, -5.5401, -4.6545, -4.6952, -5.4216, -4.4274, -5.2172, -5.2614, -5.0223, -5.2019, -5.2474, -5.4288, -5.468, -5.8344, -5.8241, -5.252, -5.578, -5.3037, -5.7827, -5.5733, -5.4405, -5.5591, -5.6799, -5.6906, -5.7634, -5.7235, -5.7564, -7.5687, -7.9688, -7.9688, -8.1674, -8.3663, -8.3663, -8.3663, -8.3668, -8.3683, -8.3696, -8.3693, -8.3983, -7.8195, -8.6461, -8.6462, -8.6464, -8.6473, -8.6476, -8.6476, -8.6479, -8.648, -8.6483, -8.6491, -8.649, -5.9549, -8.1075, -7.9719, -8.4472, -7.5772, -8.6911, -7.9984, -7.6327, -6.8735, -6.9254, -5.4869, -7.81, -7.4682, -8.1479, -8.1527, -8.1502, -7.6802, -5.2595, -6.5159, -5.2522, -7.6409, -7.5825, -4.5284, -4.8307, -6.8427, -5.4129, -6.7721, -4.4529, -4.9294, -5.2017, -6.3313, -6.0857, -7.0568, -5.9234, -5.9583, -6.3647, -6.3281, -4.9361, -6.0921, -4.8688, -6.1787, -6.333, -6.2099, -5.5642, -5.4771, -5.5774, -5.3359, -6.0748, -5.9083, -5.9468, -5.4478, -5.9759, -5.4816, -6.07, -5.8626, -5.6915, -5.8895, -5.5423, -5.4812, -5.7608, -5.8015, -5.9624, -7.3776, -7.5252, -7.5292, -7.708, -7.709, -6.4616, -7.9254, -7.2415, -7.9422, -7.9743, -8.2024, -8.2024, -8.2024, -8.2024, -8.2024, -8.2024, -8.2024, -8.2028, -8.2037, -8.2044, -8.2055, -8.2068, -8.2077, -8.2166, -8.2179, -7.4462, -8.269, -6.9538, -7.9055, -8.5921, -7.2415, -7.2717, -6.6033, -7.768, -4.3797, -7.1409, -6.5766, -7.7046, -7.1338, -6.0052, -7.1722, -6.3159, -7.4765, -7.932, -7.4276, -5.0137, -6.9825, -6.8968, -5.8515, -5.1482, -5.4356, -4.5877, -5.6112, -7.0524, -5.9832, -5.8334, -6.56, -6.0989, -6.0638, -6.233, -6.4721, -5.8144, -6.2441, -5.7037, -6.6217, -5.9828, -5.4515, -6.3879, -5.5371, -6.6848, -6.3729, -6.2312, -6.2554, -5.8561, -5.9134, -6.1509, -6.1639, -6.1558, -6.1745, -6.3472, -6.3338, -6.3257, -6.3328, -7.5158, -7.6652, -7.8421, -7.8433, -7.8511, -7.7016, -8.0598, -8.0623, -8.0626, -8.0626, -7.8893, -8.0909, -8.0953, -8.3381, -8.3381, -8.3381, -8.3382, -8.3381, -8.3383, -8.3413, -8.3427, -8.3426, -8.3475, -8.349, -8.3574, -7.6624, -7.1997, -8.3932, -7.7044, -8.4008, -6.7701, -7.8416, -7.522, -7.8489, -6.9467, -7.8637, -5.829, -7.6795, -6.9304, -7.095, -6.9445, -7.3159, -4.6747, -7.3492, -6.3139, -6.2358, -5.1345, -5.9618, -6.591, -5.1861, -5.8444, -6.7877, -6.9002, -5.5173, -6.2146, -4.7795, -6.3179, -5.5314, -6.073, -5.6066, -5.9256, -5.5953, -4.888, -5.4729, -5.1015, -5.2136, -5.7565, -5.5196, -5.8068, -6.0813, -6.0678, -5.7062, -6.2516, -5.5314, -5.5909, -5.7327, -5.4676, -5.8721, -5.9747, -5.7991, -5.9838, -5.9703, -5.9561, -5.9809, -6.0773, -6.4086, -6.2313, -6.2636, -7.1694, -7.1032, -7.2466, -7.1779, -7.178, -7.1783, -7.0616, -7.6521, -7.6536, -7.0414, -7.9347, -8.1141, -8.1141, -8.1225, -7.5327, -7.2976, -8.3293, -8.3293, -8.3293, -8.3323, -8.3321, -8.3375, -7.1777, -6.8808, -8.358, -8.0275, -7.781, -6.0193, -7.2533, -6.0574, -7.5784, -7.0831, -4.7712, -7.0467, -4.9323, -5.7008, -5.7068, -5.955, -6.5791, -5.9835, -4.9439, -5.1364, -5.305, -5.3512, -6.1877, -5.4504, -5.5974, -5.2601, -5.7018, -5.1105, -5.2771, -5.9288, -5.7771, -5.8657, -5.6355, -5.8851, -5.7552, -6.1936, -5.6771, -5.415, -5.5989, -5.6347, -5.7982, -5.6765, -5.9995, -6.0063, -6.2954, -7.6992, -7.6992, -7.8518, -7.852, -8.0337, -7.8894, -8.0615, -8.246, -8.2463, -8.2492, -8.2498, -8.2501, -8.25, -8.2508, -8.251, -8.2549, -8.2582, -8.2921, -8.5257, -8.5257, -8.5257, -8.5258, -8.5258, -8.5261, -8.5261, -8.5264, -8.5284, -8.529, -8.5292, -7.272, -6.9007, -6.7304, -7.2699, -7.9075, -8.0404, -7.448, -7.5968, -7.2199, -6.8486, -5.0231, -6.9149, -7.4937, -4.9341, -6.463, -5.4051, -5.3274, -4.9515, -4.8713, -7.4837, -7.3592, -5.9095, -6.356, -4.941, -5.8105, -5.3124, -5.4946, -6.8978, -5.3413, -6.6415, -5.5034, -4.9405, -5.7055, -6.2747, -4.9051, -5.4523, -5.908, -5.1835, -6.4546, -5.458, -6.1995, -5.7552, -6.0853, -5.6292, -5.4332, -5.5341, -5.7266, -5.9071, -5.8289, -5.8719, -5.9321, -5.8558, -6.8278, -6.5375, -8.1966, -8.1966, -8.1984, -8.1987, -8.2001, -8.2064, -8.4121, -8.4137, -8.4146, -8.418, -8.4226, -6.9849, -7.2085, -7.7527, -8.4552, -8.6916, -8.6916, -8.6916, -8.6916, -8.6916, -8.6916, -8.692, -8.692, -8.6925, -8.6934, -8.6934, -8.6935, -8.6935, -5.6214, -6.4719, -5.9218, -7.1643, -7.218, -7.1252, -5.9465, -8.0264, -5.8229, -8.0421, -6.8749, -7.4947, -6.8815, -4.6491, -6.5325, -5.8621, -7.5768, -7.0472, -6.5698, -4.9064, -5.8658, -5.2827, -5.8713, -6.2623, -6.7474, -6.8422, -6.7184, -4.5743, -5.9059, -5.823, -4.4666, -5.2526, -6.1084, -5.8222, -6.4145, -5.8782, -5.2845, -5.9471, -5.7288, -5.1125, -5.5089, -5.6461, -5.7817, -5.5915, -6.0781, -5.7529, -5.8378, -5.6931, -5.7922, -5.9082, -7.7426, -8.1379, -8.1388, -7.9709, -7.5902, -7.5943, -8.4168, -8.4168, -8.4168, -8.417, -8.4178, -8.4179, -8.4185, -8.4186, -8.421, -8.4199, -8.4201, -8.421, -8.4222, -8.4229, -8.4253, -7.7395, -8.436, -8.4396, -8.4495, -7.7575, -7.9257, -7.9312, -8.8066, -8.8066, -8.1397, -8.1426, -6.332, -4.622, -7.156, -6.7199, -4.664, -7.5056, -7.5094, -6.8919, -6.9393, -6.293, -6.311, -7.2834, -8.139, -5.7971, -6.4698, -6.5031, -8.1432, -8.1404, -7.025, -6.1475, -5.415, -6.8506, -5.6901, -5.822, -6.0994, -6.0837, -4.9559, -6.5612, -6.4676, -6.4312, -5.8437, -6.0922, -5.4594, -6.7852, -5.1072, -5.3217, -6.1003, -6.4372, -6.0787, -5.8511, -5.6395, -5.8386, -5.8678, -5.9855, -5.6494, -6.1757, -5.8804, -5.9618, -5.8632, -5.9869, -6.0254, -6.0392, -6.0597, -7.6602, -7.6611, -7.8431, -8.0576, -8.0576, -8.059, -8.0593, -8.0608, -8.1033, -8.3374, -8.3374, -8.3374, -8.3374, -8.3374, -8.3374, -8.3374, -8.3374, -8.3374, -8.3374, -8.3377, -8.3378, -8.3379, -8.3394, -8.3406, -7.9368, -8.3476, -8.3558, -8.3744, -7.3062, -7.8474, -6.8567, -7.298, -7.3802, -7.3071, -5.3813, -7.1008, -7.0154, -7.6675, -5.7604, -7.0878, -7.1092, -7.2816, -6.2326, -6.607, -6.8557, -7.4002, -4.4337, -6.9079, -4.3789, -6.9919, -4.8778, -5.452, -5.8985, -5.5558, -6.6032, -6.393, -6.9837, -6.4675, -5.9633, -5.5752, -5.7664, -6.0974, -5.8382, -6.1647, -6.0813, -6.0346, -6.0269, -5.5818, -5.8146, -5.5353, -5.9485, -6.0816, -5.8966, -6.2601, -6.0645, -5.7543, -5.9353, -5.8275, -5.7396, -6.1668, -5.9479, -5.9257, -6.0537, -7.3622, -7.3971, -7.94, -8.1177, -8.1208, -8.1218, -8.123, -6.2083, -8.1382, -7.0406, -8.3361, -8.3361, -8.3381, -8.3383, -8.3385, -7.5486, -8.3413, -8.3529, -8.1728, -8.6159, -8.6161, -8.6159, -8.6172, -8.6174, -8.6175, -8.6185, -8.6185, -8.6192, -8.6196, -8.6198, -7.9403, -7.5486, -6.5561, -8.0876, -7.3751, -7.6022, -6.3148, -8.1289, -7.0279, -7.6655, -4.3706, -6.1673, -4.1949, -5.6148, -5.9126, -5.4536, -4.716, -4.2291, -6.7844, -7.2463, -6.0996, -4.001, -5.6016, -5.4595, -5.3073, -5.4859, -5.7816, -7.0402, -4.9992, -6.5371, -4.8033, -5.555, -6.1518, -5.4249, -5.0799, -5.475, -5.2824, -5.9176, -5.822, -5.9045, -5.4442, -5.6589, -5.8578, -5.7313, -5.9641, -5.8928, -6.0224, -5.9814], \"loglift\": [30.0, 29.0, 28.0, 27.0, 26.0, 25.0, 24.0, 23.0, 22.0, 21.0, 20.0, 19.0, 18.0, 17.0, 16.0, 15.0, 14.0, 13.0, 12.0, 11.0, 10.0, 9.0, 8.0, 7.0, 6.0, 5.0, 4.0, 3.0, 2.0, 1.0, 2.0939, 2.0752, 2.0682, 2.0579, 2.0484, 2.031, 2.0255, 2.0238, 2.016, 2.0154, 2.0108, 2.0089, 2.0089, 2.0089, 1.9957, 1.9775, 1.9774, 1.9748, 1.9668, 1.9406, 1.9304, 1.9205, 1.9196, 1.9196, 1.9194, 1.9192, 1.9186, 1.918, 1.9179, 1.9175, 1.9058, 1.895, 1.8862, 1.8954, 1.8687, 1.8284, 1.8054, 1.7767, 1.7952, 1.5985, 1.5581, 1.7056, 1.5319, 1.7058, 1.7386, 1.4595, 1.3619, 0.741, 1.5342, 1.3109, 0.831, 0.7331, 0.9992, 0.2952, 0.8044, 0.7555, 0.3402, 0.4589, 0.4229, 0.4907, 0.525, 1.0429, 0.9796, -0.1407, 0.4606, -0.1852, 0.8736, 0.2952, -0.1449, 0.2002, 0.3026, 0.1238, 0.539, -0.0934, -0.0536, 2.0739, 2.0312, 2.0312, 1.988, 1.9712, 1.9712, 1.9712, 1.9707, 1.9693, 1.9683, 1.9683, 1.9395, 1.9372, 1.9154, 1.9154, 1.9151, 1.9144, 1.914, 1.9139, 1.9136, 1.9136, 1.9132, 1.9129, 1.9125, 1.9109, 1.8969, 1.8967, 1.89, 1.8833, 1.8707, 1.8613, 1.8381, 1.7803, 1.7586, 1.6038, 1.8235, 1.7774, 1.8575, 1.8521, 1.8494, 1.7815, 1.3799, 1.5531, 1.2723, 1.7475, 1.7333, 0.9798, 0.9837, 1.5288, 1.0925, 1.4664, 0.6584, 0.7315, 0.8152, 1.2269, 1.1252, 1.4921, 0.9615, 0.9734, 1.1385, 1.1199, 0.4264, 0.9957, 0.2497, 0.9337, 1.022, 0.9349, 0.4607, 0.3915, 0.4393, 0.1833, 0.8082, 0.6158, 0.6203, -0.0196, 0.6476, 0.004, 0.754, 0.4482, 0.0634, 0.4273, -0.2467, -0.494, -0.0015, -0.038, 0.4219, 2.5545, 2.5396, 2.5353, 2.5093, 2.5085, 2.5029, 2.4731, 2.461, 2.4546, 2.4218, 2.4156, 2.4156, 2.4156, 2.4156, 2.4156, 2.4156, 2.4156, 2.4151, 2.4142, 2.4135, 2.4125, 2.4113, 2.4103, 2.401, 2.3996, 2.356, 2.345, 2.3361, 2.3089, 2.3085, 2.2751, 2.2349, 2.092, 2.2857, 1.3231, 2.0799, 1.8545, 2.2126, 1.9637, 1.3525, 1.9139, 1.4107, 2.0284, 2.273, 1.9993, 0.6565, 1.7461, 1.6827, 1.0483, 0.6067, 0.7772, 0.135, 0.6759, 1.7508, 0.9158, 0.7889, 1.3512, 0.8951, 0.8427, 0.992, 1.1854, 0.3878, 0.8157, 0.0599, 1.2867, 0.3357, -0.4643, 0.9225, -0.4186, 1.3469, 0.7843, 0.5205, 0.3744, -0.7448, -0.6178, 0.0241, -0.4046, -0.6366, -0.5443, 0.5377, 0.297, -0.0662, -0.9703, 2.375, 2.3589, 2.3363, 2.3347, 2.3272, 2.3223, 2.3002, 2.2979, 2.2973, 2.2973, 2.2884, 2.2708, 2.267, 2.2445, 2.2445, 2.2445, 2.2444, 2.2444, 2.2444, 2.2412, 2.2402, 2.2401, 2.2356, 2.2335, 2.2258, 2.2192, 2.2004, 2.1892, 2.1838, 2.1785, 2.1552, 2.1718, 2.1393, 2.1705, 2.0294, 2.1495, 1.6473, 2.084, 1.8837, 1.9268, 1.8479, 1.9438, 1.0846, 1.9234, 1.5661, 1.5212, 1.055, 1.3688, 1.6331, 1.0307, 1.2563, 1.6811, 1.6557, 0.8383, 1.2411, 0.3319, 1.2953, 0.7854, 1.1234, 0.8092, 1.006, 0.7706, 0.0991, 0.5439, 0.1941, 0.1489, 0.6009, 0.1832, 0.504, 0.8129, 0.7808, 0.2878, 0.9954, -0.1032, -0.0717, -0.0624, -0.745, 0.1424, 0.2885, -0.6806, 0.2757, 0.0514, -0.2953, 0.0016, 2.1922, 2.1825, 2.1722, 2.1686, 2.15, 2.1474, 2.147, 2.1415, 2.1415, 2.1413, 2.1243, 2.1093, 2.1083, 2.0837, 2.078, 2.0529, 2.0529, 2.0448, 2.0282, 2.0228, 2.0201, 2.0201, 2.02, 2.0173, 2.0172, 2.0124, 2.0094, 1.9911, 1.9911, 1.9882, 1.9737, 1.8194, 1.8759, 1.6942, 1.8933, 1.7806, 1.2153, 1.6961, 1.0617, 1.264, 1.1504, 1.1841, 1.4564, 1.1435, 0.5642, 0.6185, 0.6775, 0.6737, 1.1944, 0.5882, 0.5954, 0.2255, 0.6168, 0.008, 0.1512, 0.8103, 0.6073, 0.6062, 0.3109, 0.6203, 0.4198, 0.9606, 0.0864, -0.6924, -0.3033, -0.2722, 0.2234, -0.6894, 0.6304, 0.4696, 2.2605, 2.179, 2.179, 2.1599, 2.1597, 2.1325, 2.1239, 2.1058, 2.1024, 2.1023, 2.0995, 2.0987, 2.0983, 2.0983, 2.0978, 2.0978, 2.0942, 2.0904, 2.0573, 2.0459, 2.0459, 2.0459, 2.0459, 2.0459, 2.0455, 2.0455, 2.0453, 2.0433, 2.0429, 2.0426, 1.9736, 1.9186, 1.8986, 1.9147, 1.9609, 1.97, 1.8709, 1.8744, 1.797, 1.7138, 1.24, 1.6755, 1.8159, 0.9855, 1.4474, 0.9505, 0.8853, 0.6786, 0.6369, 1.7685, 1.707, 0.9934, 1.1982, 0.4872, 0.8852, 0.502, 0.527, 1.4233, 0.4222, 1.2532, 0.4791, 0.0467, 0.5113, 0.949, -0.1825, 0.2505, 0.623, -0.0722, 1.0677, 0.0276, 0.7671, 0.2388, 0.6313, 0.0411, -0.3147, -0.1716, 0.0327, 0.2825, 0.0397, 0.1146, 0.0847, -0.5602, 2.0602, 1.9652, 1.9475, 1.9475, 1.9459, 1.9457, 1.9442, 1.9385, 1.9155, 1.9145, 1.9128, 1.9097, 1.9053, 1.9049, 1.8986, 1.8766, 1.8715, 1.8604, 1.8604, 1.8604, 1.8604, 1.8604, 1.8604, 1.8603, 1.8601, 1.8597, 1.8588, 1.8586, 1.8586, 1.8585, 1.8382, 1.8291, 1.8144, 1.8293, 1.8298, 1.8184, 1.7597, 1.8304, 1.7067, 1.8199, 1.7363, 1.7369, 1.6577, 1.3654, 1.5789, 1.4623, 1.7273, 1.5959, 1.4804, 1.0399, 1.2784, 1.0748, 1.2402, 1.3089, 1.4616, 1.4716, 1.3814, 0.5442, 1.0006, 0.9602, 0.256, 0.616, 1.0319, 0.768, 1.2068, 0.765, 0.1438, 0.7482, 0.5307, -0.1253, 0.0104, 0.1132, 0.2048, -0.1059, 0.6775, -0.0921, 0.0818, -0.5818, -0.4297, -0.1447, 2.2876, 2.2277, 2.2268, 2.2126, 2.194, 2.183, 2.1711, 2.1711, 2.1711, 2.1709, 2.1701, 2.17, 2.1693, 2.1692, 2.168, 2.1679, 2.1676, 2.1675, 2.1662, 2.1654, 2.1636, 2.1535, 2.1518, 2.1481, 2.1387, 2.1344, 2.1071, 2.1051, 2.0674, 2.0674, 2.0513, 2.0415, 1.6368, 1.1415, 1.7786, 1.6507, 0.8553, 1.8247, 1.8165, 1.5465, 1.517, 1.2034, 1.2027, 1.6372, 2.0398, 0.9195, 1.2442, 1.2431, 2.0385, 2.0364, 1.4627, 1.0084, 0.578, 1.3448, 0.6758, 0.7451, 0.8593, 0.848, 0.0313, 1.125, 1.0507, 0.9833, 0.5119, 0.6677, 0.0262, 1.2454, -0.3845, -0.2032, 0.522, 0.8752, 0.4454, 0.1706, -0.1313, 0.1078, 0.1187, 0.274, -0.2869, 0.5156, -0.066, 0.0322, -0.2024, -0.2841, -0.3551, -0.7436, -0.6315, 2.3835, 2.3826, 2.3538, 2.3205, 2.3205, 2.3192, 2.319, 2.3172, 2.2718, 2.2622, 2.2622, 2.2622, 2.2622, 2.2622, 2.2622, 2.2622, 2.2622, 2.2622, 2.2622, 2.2618, 2.2617, 2.2616, 2.26, 2.259, 2.2553, 2.2517, 2.2445, 2.2249, 2.1947, 2.1911, 2.0727, 2.1178, 2.112, 2.0372, 1.5853, 1.9807, 1.9605, 2.1111, 1.633, 1.9532, 1.9163, 1.9318, 1.4907, 1.6243, 1.6795, 1.8613, 0.5535, 1.6348, 0.3437, 1.6514, 0.4178, 0.7376, 0.9982, 0.6465, 1.342, 1.1912, 1.5694, 1.1884, 0.7879, 0.4393, 0.5995, 0.8055, 0.5174, 0.8137, 0.6766, 0.6136, 0.5148, -0.0625, 0.2023, -0.1728, 0.2942, 0.4855, 0.142, 0.673, 0.3199, -0.2687, 0.0587, -0.3193, -0.6211, 0.4846, -0.2871, -0.8144, -0.0712, 2.0555, 2.0242, 2.0193, 1.9971, 1.9942, 1.9933, 1.9924, 1.9866, 1.9779, 1.975, 1.9632, 1.9632, 1.9613, 1.9612, 1.961, 1.9597, 1.9582, 1.9475, 1.9443, 1.9097, 1.9097, 1.9097, 1.9085, 1.9083, 1.9082, 1.9072, 1.9072, 1.9066, 1.9064, 1.9061, 1.8966, 1.8791, 1.801, 1.8761, 1.8306, 1.8281, 1.6578, 1.84, 1.6739, 1.7689, 1.2595, 1.487, 1.1007, 1.3704, 1.4154, 1.309, 1.0389, 0.8822, 1.5585, 1.6809, 1.3538, 0.7216, 1.1971, 1.0954, 1.0095, 1.0567, 1.1151, 1.5898, 0.6711, 1.3099, 0.3152, 0.6877, 1.0492, 0.6001, 0.2826, 0.5417, 0.3784, 0.8216, 0.7336, 0.7491, 0.0751, 0.3341, 0.4531, -0.0285, -0.0178, -0.9056, 0.28, -0.4958]}, \"token.table\": {\"Topic\": [6, 8, 1, 2, 3, 4, 5, 6, 7, 9, 10, 7, 1, 2, 3, 4, 6, 7, 9, 10, 10, 1, 2, 3, 4, 6, 7, 8, 9, 2, 3, 4, 7, 8, 9, 10, 1, 2, 3, 4, 5, 6, 7, 8, 9, 3, 8, 5, 6, 2, 3, 5, 7, 10, 1, 2, 5, 7, 8, 7, 1, 2, 3, 5, 6, 7, 8, 9, 10, 1, 2, 3, 4, 5, 6, 7, 8, 9, 10, 5, 6, 1, 1, 2, 3, 4, 7, 8, 9, 10, 1, 1, 2, 3, 4, 5, 6, 7, 8, 9, 10, 3, 9, 5, 10, 1, 3, 4, 5, 7, 8, 10, 1, 2, 3, 4, 5, 6, 7, 8, 9, 10, 4, 6, 8, 1, 2, 3, 4, 5, 6, 7, 8, 9, 10, 1, 2, 3, 4, 5, 6, 7, 8, 9, 10, 3, 1, 3, 4, 5, 6, 9, 1, 6, 8, 9, 1, 4, 6, 8, 1, 2, 3, 4, 5, 6, 7, 8, 9, 10, 1, 2, 3, 4, 5, 6, 7, 8, 9, 10, 9, 4, 8, 1, 2, 3, 4, 5, 6, 7, 9, 10, 9, 2, 1, 2, 3, 4, 5, 6, 7, 8, 9, 10, 1, 2, 4, 6, 7, 8, 10, 2, 5, 9, 10, 1, 2, 4, 7, 9, 2, 3, 5, 8, 9, 10, 9, 1, 2, 3, 4, 5, 6, 7, 8, 9, 10, 1, 2, 3, 4, 5, 6, 7, 8, 9, 10, 1, 2, 3, 4, 5, 6, 8, 10, 2, 3, 5, 6, 7, 8, 9, 10, 4, 5, 4, 7, 1, 3, 6, 10, 7, 1, 2, 7, 9, 5, 7, 8, 9, 10, 9, 1, 2, 4, 5, 6, 7, 8, 9, 10, 1, 2, 3, 4, 5, 6, 7, 8, 9, 10, 2, 5, 8, 9, 2, 4, 6, 1, 2, 3, 4, 5, 6, 7, 8, 9, 10, 1, 3, 4, 5, 6, 7, 8, 9, 10, 5, 6, 7, 8, 10, 2, 1, 2, 3, 4, 5, 6, 7, 8, 9, 10, 1, 2, 3, 4, 5, 6, 7, 8, 9, 10, 3, 1, 3, 3, 5, 1, 4, 2, 3, 9, 10, 6, 2, 3, 4, 5, 6, 7, 8, 9, 10, 1, 4, 5, 1, 5, 7, 8, 2, 3, 5, 8, 5, 8, 10, 2, 1, 5, 7, 9, 5, 10, 3, 5, 6, 7, 8, 9, 1, 2, 3, 4, 5, 6, 7, 8, 9, 10, 1, 2, 3, 4, 5, 6, 7, 8, 9, 10, 7, 7, 10, 1, 2, 3, 4, 5, 6, 7, 8, 9, 10, 4, 6, 7, 8, 9, 1, 8, 6, 5, 2, 3, 7, 8, 1, 2, 3, 4, 5, 6, 7, 8, 9, 10, 6, 5, 5, 4, 6, 10, 10, 10, 10, 8, 1, 2, 3, 4, 5, 6, 8, 9, 10, 1, 2, 3, 7, 10, 1, 2, 3, 4, 5, 6, 7, 8, 9, 10, 7, 1, 2, 3, 4, 5, 6, 7, 8, 9, 10, 1, 2, 9, 3, 4, 5, 6, 9, 10, 1, 2, 4, 6, 7, 8, 9, 8, 8, 1, 7, 9, 4, 2, 1, 2, 3, 4, 5, 6, 7, 8, 9, 10, 1, 2, 3, 4, 6, 7, 6, 2, 4, 7, 9, 10, 7, 9, 1, 2, 5, 6, 7, 8, 9, 10, 7, 10, 2, 8, 9, 10, 1, 2, 3, 4, 5, 6, 7, 8, 9, 10, 1, 8, 10, 2, 4, 9, 7, 3, 4, 6, 7, 8, 9, 2, 8, 6, 1, 1, 2, 3, 4, 5, 6, 7, 8, 9, 10, 1, 2, 3, 5, 6, 7, 8, 9, 10, 2, 9, 3, 9, 6, 3, 1, 2, 3, 4, 5, 6, 7, 8, 9, 10, 1, 2, 3, 4, 5, 6, 7, 8, 9, 10, 1, 1, 5, 6, 4, 3, 5, 6, 7, 9, 1, 5, 3, 1, 2, 4, 6, 7, 8, 9, 10, 1, 2, 3, 4, 5, 6, 7, 8, 9, 10, 1, 10, 1, 2, 3, 4, 5, 6, 7, 8, 9, 10, 1, 7, 9, 10, 2, 9, 4, 10, 1, 3, 2, 3, 7, 1, 2, 3, 4, 6, 8, 10, 2, 1, 2, 3, 4, 5, 6, 7, 8, 9, 10, 1, 2, 3, 4, 5, 6, 7, 8, 9, 10, 3, 6, 7, 8, 10, 4, 2, 3, 1, 2, 3, 4, 5, 6, 7, 8, 9, 10, 1, 2, 4, 5, 6, 7, 8, 9, 10, 7, 1, 2, 3, 4, 5, 6, 7, 8, 9, 10, 1, 2, 3, 4, 5, 6, 7, 8, 9, 10, 1, 2, 3, 4, 5, 6, 7, 8, 9, 10, 1, 2, 3, 4, 6, 7, 8, 1, 6, 9, 1, 2, 1, 3, 6, 7, 1, 2, 4, 6, 8, 4, 7, 8, 1, 6, 2, 1, 2, 3, 4, 5, 6, 7, 8, 9, 10, 1, 2, 3, 4, 5, 6, 7, 8, 9, 10, 2, 1, 2, 4, 5, 6, 7, 8, 10, 1, 2, 3, 4, 5, 6, 7, 8, 9, 10, 1, 1, 2, 3, 4, 5, 6, 7, 8, 9, 10, 2, 4, 6, 6, 2, 3, 4, 5, 6, 7, 8, 10, 2, 4, 6, 9, 10, 10, 1, 2, 3, 4, 5, 6, 7, 8, 9, 10, 4, 1, 3, 4, 7, 9, 8, 1, 3, 4, 5, 6, 7, 8, 9, 10, 4, 5, 6, 7, 8, 9, 4, 6, 1, 2, 3, 4, 5, 7, 8, 9, 2, 3, 4, 5, 7, 8, 9, 1, 2, 3, 4, 5, 6, 7, 8, 9, 10, 4, 1, 3, 4, 9, 1, 2, 3, 4, 5, 6, 7, 8, 9, 10, 1, 2, 3, 4, 5, 6, 7, 8, 9, 10, 1, 2, 3, 4, 5, 6, 7, 8, 9, 10, 7, 10, 2, 10, 10, 1, 2, 3, 4, 5, 6, 8, 9, 10, 9, 1, 2, 4, 5, 6, 7, 8, 9, 10, 1, 2, 3, 4, 5, 6, 7, 8, 9, 10, 1, 2, 3, 4, 5, 6, 7, 8, 9, 10, 1, 2, 3, 4, 5, 6, 7, 8, 9, 10, 1, 2, 3, 4, 5, 6, 7, 8, 9, 10, 1, 2, 3, 4, 5, 6, 7, 8, 9, 10, 1, 1, 2, 3, 4, 5, 6, 7, 8, 9, 10, 5, 1, 2, 3, 4, 5, 6, 7, 8, 9, 10, 2, 6, 7, 3, 4, 5, 6, 7, 8, 9, 10, 8, 2, 5, 9, 2, 4, 7, 1, 2, 3, 4, 5, 6, 7, 8, 9, 10, 1, 2, 5, 6, 8, 9, 10, 1, 2, 3, 5, 6, 7, 8, 9, 10, 1, 5, 9, 1, 2, 3, 4, 5, 6, 7, 8, 9, 10, 1, 2, 3, 4, 5, 6, 7, 8, 9, 10, 4, 1, 2, 3, 4, 6, 7, 8, 9, 1, 2, 3, 4, 6, 7, 8, 9, 10, 1, 2, 3, 4, 5, 6, 7, 8, 9, 10, 6, 10, 2, 4, 3, 5, 9, 1, 2, 5, 6, 7, 8, 9, 10, 8, 9, 2, 3, 5, 6, 8, 10, 1, 3, 6, 8, 10, 1, 2, 3, 4, 5, 6, 7, 8, 9, 10, 1, 2, 3, 5, 7, 8, 9, 10, 1, 2, 3, 4, 5, 6, 7, 8, 9, 10, 1, 7, 6, 8, 8, 1, 2, 3, 5, 6, 8, 5, 6, 10, 4, 8, 9, 1, 7, 5, 7, 3, 8, 9, 8, 1, 4, 5, 10, 1, 2, 5, 6, 7, 8, 9, 10, 7, 7, 10, 3, 8, 1, 2, 3, 4, 5, 6, 7, 10, 10, 2, 8, 1, 2, 3, 4, 5, 6, 7, 8, 9, 10, 2, 2, 3, 6, 7, 9, 8, 2, 8, 1, 6, 10, 2, 1, 2, 4, 8, 10, 1, 2, 3, 4, 5, 6, 7, 8, 9, 10, 3, 8, 1, 2, 3, 4, 5, 6, 7, 8, 9, 10, 1, 3, 10, 5, 2, 9, 10, 2, 3, 4, 5, 7, 1, 2, 4, 5, 6, 7, 4, 8, 3, 2, 3, 4, 5, 6, 7, 8, 9, 10, 1, 2, 3, 5, 6, 7, 8, 9, 10, 1, 2, 3, 4, 5, 6, 7, 8, 9, 10, 1, 2, 3, 4, 5, 6, 7, 8, 9, 10, 10, 1, 2, 3, 4, 5, 6, 7, 8, 9, 10, 1, 2, 3, 4, 5, 6, 7, 8, 9, 10, 1, 2, 3, 4, 5, 6, 7, 8, 9, 10, 3, 1, 2, 3, 4, 5, 6, 7, 8, 9, 10, 1, 2, 3, 4, 5, 6, 7, 8, 9, 10, 2, 4, 6, 7, 8, 9, 10, 5, 1, 2, 3, 4, 5, 6, 7, 8, 9, 10, 1, 2, 3, 4, 5, 6, 8, 10, 1, 2, 3, 4, 5, 6, 7, 8, 9, 10, 4, 2, 4, 7, 2, 5, 1, 2, 3, 4, 5, 6, 7, 8, 9, 10, 6, 1, 2, 3, 4, 5, 6, 7, 8, 9, 10, 4, 1, 2, 3, 4, 5, 6, 7, 8, 9, 10, 2, 5, 8, 9, 1, 2, 3, 4, 5, 6, 7, 8, 9, 10, 1, 2, 7, 4, 10, 1, 2, 3, 4, 6, 7, 8, 9, 10, 1, 2, 3, 5, 6, 7, 8, 9, 10, 1, 2, 3, 4, 5, 6, 7, 8, 9, 10, 7, 9, 1, 1, 2, 3, 4, 5, 6, 7, 8, 9, 10, 2, 3, 4, 5, 6, 7, 9, 10, 1, 4, 8, 2, 1, 4, 5, 6, 2, 3, 5, 6, 8, 10, 10, 2, 6, 2, 3, 5, 6, 7, 8, 1, 3, 4, 5, 6, 7, 8, 9, 10, 2, 3, 4, 5, 7, 9, 10, 2, 3, 10, 3, 10, 1, 2, 3, 4, 5, 6, 7, 8, 9, 10, 1, 2, 4, 5, 6, 7, 8, 9, 10, 1, 2, 4, 5, 6, 7, 8, 9, 10, 3, 3, 1, 2, 3, 4, 5, 6, 7, 8, 9, 10, 2, 4, 7, 9, 1, 2, 3, 4, 5, 6, 7, 8, 9, 10, 5, 6, 7, 8, 2, 10, 3, 4, 5, 7, 1, 2, 7, 8, 9, 10, 1, 2, 3, 4, 5, 6, 7, 8, 9, 10, 1, 2, 3, 4, 5, 6, 7, 8, 9, 10, 1, 2, 3, 4, 5, 6, 7, 8, 9, 10, 3, 7, 8, 1, 2, 9, 10, 2, 4, 9, 1, 3, 1, 2, 3, 4, 5, 6, 7, 8, 9, 10, 1, 4, 7, 6, 1, 4, 6, 9, 10, 7, 8, 3, 1, 2, 3, 4, 5, 6, 7, 8, 9, 1, 2, 3, 4, 5, 6, 7, 8, 9, 10, 4, 1, 2, 4, 7, 8, 9, 10, 2, 10, 6, 5, 1, 2, 3, 4, 5, 6, 7, 8, 9, 10, 6, 1, 2, 4, 5, 8, 9, 2, 3, 5, 6, 8, 10, 4, 7, 7, 1, 2, 8, 9, 10, 10, 6, 8, 1, 2, 3, 4, 6, 7, 8, 1, 2, 3, 4, 5, 6, 7, 8, 9, 10, 4, 9, 2, 1, 2, 3, 4, 5, 6, 7, 8, 9, 10, 4, 9, 1, 1, 3, 4, 5, 6, 8, 9, 10, 3, 1, 2, 3, 4, 5, 6, 7, 8, 9, 10, 1, 2, 3, 4, 5, 6, 7, 8, 9, 10, 10, 1, 2, 4, 2, 3, 5, 6, 8, 9, 1, 3, 6, 9, 3, 1, 6, 7, 9, 2, 5, 6, 7, 8, 9, 10, 5, 6, 9, 10, 2, 7, 6, 6, 9, 7, 4, 2, 4, 1, 2, 3, 4, 5, 6, 7, 8, 9, 10, 1, 2, 3, 4, 5, 6, 7, 8, 9, 10, 10, 1, 2, 5, 8, 1, 2, 3, 4, 5, 6, 7, 8, 10, 2, 3, 4, 5, 6, 7, 9, 10, 2, 1, 2, 3, 4, 5, 6, 7, 8, 9, 10, 1, 2, 3, 4, 5, 6, 7, 8, 9, 10, 1, 2, 3, 4, 5, 6, 7, 8, 9, 10, 8, 6, 4, 1, 2, 3, 6, 7, 8, 9, 10, 1, 2, 3, 4, 7, 8, 9, 10, 4, 1, 4, 6, 8, 9, 1, 2, 3, 4, 5, 6, 7, 8, 9, 10, 2, 1, 2, 3, 5, 6, 8, 9, 10, 7, 5, 6, 5, 6, 1, 2, 4, 5, 6, 7, 9, 10, 4, 1, 2, 5, 6, 1, 2, 3, 4, 5, 6, 7, 8, 9, 10, 1, 2, 3, 4, 5, 6, 7, 9, 10, 2, 8, 2, 3, 6, 1, 2, 3, 4, 5, 6, 7, 8, 9, 10, 1, 2, 3, 5, 6, 7, 8, 9, 10, 10, 1, 2, 5, 6, 7, 8, 10, 9, 2, 5, 7, 1, 2, 3, 5, 6, 7, 8, 9, 10, 2, 3, 4, 6, 8, 9, 10, 6, 3, 1, 2, 3, 4, 5, 6, 7, 8, 9, 10, 1, 5, 7, 8, 9, 10, 1, 2, 3, 4, 5, 6, 7, 8, 9, 10, 1, 6, 2, 1, 2, 4, 5, 9, 10, 1, 2, 4, 5, 6, 7, 8, 8, 1, 3, 5, 10, 5, 9, 5, 6, 8, 1, 5, 8, 7, 1, 3, 2, 5, 7, 8, 10, 4, 6, 10, 8, 6, 5, 6, 8, 2, 3, 4, 6, 7, 10, 2, 3, 4, 6, 10, 3, 5, 8, 9, 1, 2, 3, 4, 5, 6, 7, 8, 9, 10, 1, 2, 3, 4, 5, 6, 7, 8, 10, 1, 2, 3, 6, 7, 8, 9, 9, 4, 2, 3, 4, 5, 7, 8, 9, 5, 10, 10, 8, 1, 3, 6, 8, 1, 2, 3, 4, 5, 6, 7, 8, 9, 10, 5, 8, 10, 1, 2, 3, 4, 5, 6, 7, 8, 9, 10, 7, 8, 1, 2, 3, 4, 5, 6, 7, 8, 9, 10, 5, 5, 5, 1, 2, 3, 4, 5, 6, 7, 8, 9, 10, 5, 2, 4, 7, 9, 7, 1, 2, 3, 4, 5, 6, 7, 8, 9, 10, 1, 2, 3, 4, 5, 6, 7, 8, 9, 10, 5, 6, 10, 5, 7, 9, 10, 8, 7, 9, 10, 1, 2, 3, 4, 5, 6, 7, 8, 9, 10, 9, 10, 5, 9, 5, 7, 1, 2, 3, 4, 5, 6, 7, 8, 9, 10, 1, 6, 7, 1, 2, 3, 4, 5, 6, 7, 8, 9, 10, 1, 2, 3, 4, 5, 6, 7, 8, 9, 10, 3, 2, 3, 4, 5, 7, 8, 10, 3, 6, 1, 2, 3, 4, 5, 6, 7, 8, 9, 10, 1, 2, 4, 5, 6, 7, 8, 9, 10, 2, 2, 3, 7, 1, 3, 6, 9, 2, 3, 7, 1, 3, 5, 10, 1, 2, 3, 4, 5, 6, 7, 8, 9, 10, 3, 4, 9, 9, 6, 1, 6, 7, 9, 5, 1, 2, 3, 4, 5, 6, 7, 8, 9, 10, 1, 2, 3, 4, 5, 6, 7, 8, 9, 10, 1, 2, 5, 6, 7, 9, 6, 6, 1, 2, 3, 4, 8, 10, 2, 3, 4, 6, 9, 1, 6, 6, 1, 2, 4, 5, 6, 7, 8, 9, 10, 2, 4, 5, 7, 9, 3, 5, 9, 4, 9, 10, 1, 2, 3, 4, 5, 6, 7, 8, 9, 10, 1, 2, 3, 4, 5, 6, 7, 8, 10, 8, 3, 9, 1, 2, 3, 5, 6, 7, 8, 9, 10, 1, 2, 3, 5, 6, 7, 8, 9, 10, 1, 2, 3, 4, 5, 6, 7, 8, 9, 10, 4, 4, 1, 2, 3, 4, 5, 6, 7, 8, 9, 10, 2, 3, 4, 5, 6, 7, 8, 9, 1, 2, 3, 4, 5, 7, 8, 9, 10, 1, 2, 3, 4, 5, 6, 7, 8, 9, 10, 9, 10, 9, 3, 4, 5, 4, 8, 1, 3, 4, 5, 6, 7, 8, 9, 10, 1, 2, 3, 4, 5, 6, 7, 8, 9, 10, 4, 6, 8, 1, 2, 3, 4, 5, 6, 7, 8, 9, 10, 1, 3, 4, 5, 9, 10, 1, 2, 4, 5, 6, 7, 8, 9, 10, 1, 2, 3, 4, 5, 6, 7, 8, 9, 10, 3, 1, 4, 5, 6, 7, 8, 9, 10, 1, 2, 3, 4, 5, 6, 7, 8, 9, 10, 10, 5, 1, 2, 3, 4, 5, 6, 7, 8, 9, 10, 2, 4, 10], \"Freq\": [0.8791173948401025, 0.8937624418281435, 0.12090545403188378, 0.08060363602125585, 0.020150909005313963, 0.040301818010627925, 0.040301818010627925, 0.34256545309033737, 0.12090545403188378, 0.14105636303719774, 0.06045272701594189, 0.9185737924840685, 0.025982338613661164, 0.07794701584098349, 0.05196467722732233, 0.28580572475027277, 0.18187637029562814, 0.025982338613661164, 0.025982338613661164, 0.32477923267076453, 0.8926456810199349, 0.11991041864254312, 0.11991041864254312, 0.3597312559276294, 0.039970139547514376, 0.039970139547514376, 0.07994027909502875, 0.11991041864254312, 0.07994027909502875, 0.09464622840591616, 0.0630974856039441, 0.03154874280197205, 0.15774371400986026, 0.03154874280197205, 0.0630974856039441, 0.5678773704354969, 0.07169785025038193, 0.07169785025038193, 0.03186571122239197, 0.055764994639185946, 0.03186571122239197, 0.21509355075114578, 0.1035635614727739, 0.03186571122239197, 0.3903549624743016, 0.1715534665207225, 0.68621386608289, 0.853190797904721, 0.10664884973809012, 0.27596498938851455, 0.16864527129298112, 0.10731971809553344, 0.3986160957834099, 0.030662776598723837, 0.07825296642784431, 0.06521080535653692, 0.013042161071307385, 0.7564453421358284, 0.07825296642784431, 0.9794848336676398, 0.07067060082143262, 0.058892167351193854, 0.2591255363452529, 0.09422746776191016, 0.04711373388095508, 0.29446083675596924, 0.058892167351193854, 0.03533530041071631, 0.08244903429167139, 0.521549634116742, 0.10682341903595921, 0.05655357478374311, 0.012567461063054024, 0.012567461063054024, 0.07540476637832415, 0.043986113720689085, 0.043986113720689085, 0.08797222744137817, 0.043986113720689085, 0.25118258002830723, 0.6698202134088193, 0.8224290221534739, 0.052001366013966, 0.07428766573423715, 0.04457259944054229, 0.01485753314684743, 0.2154342306292877, 0.022286299720271144, 0.2154342306292877, 0.3565807955243383, 0.8224275724759699, 0.1078494355221876, 0.07703531108727686, 0.06933177997854917, 0.02311059332618306, 0.07703531108727686, 0.14636709106582604, 0.04622118665236612, 0.13866355995709834, 0.15407062217455372, 0.1617741532832814, 0.6149840726383113, 0.2049946908794371, 0.9383548590162801, 0.9241980409850432, 0.7084919948400996, 0.06072788527200854, 0.06072788527200854, 0.02024262842400285, 0.02024262842400285, 0.02024262842400285, 0.10121314212001424, 0.07741001443433061, 0.2128775396944092, 0.05805751082574796, 0.10321335257910749, 0.03225417268097109, 0.10966418711530171, 0.23868087783918607, 0.051606676289553746, 0.025803338144776873, 0.09031168350671905, 0.5905196410462916, 0.4233991420794356, 0.5080789704953227, 0.4471291532927175, 0.028389152590013813, 0.02129186444251036, 0.09226474591754488, 0.04258372888502072, 0.02129186444251036, 0.14194576295006905, 0.07097288147503453, 0.04968101703252417, 0.09226474591754488, 0.14137268344864545, 0.14137268344864545, 0.11566855918525538, 0.044982217460932644, 0.07711237279017025, 0.05140824852678017, 0.0642603106584752, 0.13494665238279793, 0.019278093197542562, 0.2056329941071207, 0.6138437694077014, 0.1159995027142965, 0.0695997016285779, 0.2087991048857337, 0.463998010857186, 0.023199900542859298, 0.1159995027142965, 0.7712222348948845, 0.04284567971638247, 0.04284567971638247, 0.08569135943276494, 0.6713067605959008, 0.10171314554483345, 0.12205577465380014, 0.08137051643586676, 0.25215781118372305, 0.0711214339236142, 0.012931169804293489, 0.12931169804293488, 0.0581902641193207, 0.10991494333649465, 0.10991494333649465, 0.06465584902146744, 0.15517403765152188, 0.03879350941288047, 0.06592933733872783, 0.058603855412202505, 0.05494111444893985, 0.23441542164881002, 0.08058030119177845, 0.13185867467745566, 0.07691756022851579, 0.06592933733872783, 0.16848608431008222, 0.06592933733872783, 0.9039663203604329, 0.19888078816674046, 0.5966423645002215, 0.1039425586564375, 0.05197127932821875, 0.03248204958013672, 0.019489229748082034, 0.05197127932821875, 0.13642460823657424, 0.06496409916027344, 0.09744614874041016, 0.4287630544578047, 0.7243105976155148, 0.8704412553360102, 0.06923884010096959, 0.30003497377086824, 0.04615922673397973, 0.04615922673397973, 0.053852431189643016, 0.10001165792362275, 0.04615922673397973, 0.20771652030290877, 0.03846602227831644, 0.08462524901229616, 0.07753276967399916, 0.5039630028809945, 0.03876638483699958, 0.03876638483699958, 0.15506553934799833, 0.15506553934799833, 0.8928473658214491, 0.0420417988104074, 0.29429259167285177, 0.0840835976208148, 0.5885851833457035, 0.6967739086653051, 0.1339949824356356, 0.026798996487127122, 0.10719598594850849, 0.053597992974254244, 0.056217513903882584, 0.11243502780776517, 0.11243502780776517, 0.44974011123106067, 0.056217513903882584, 0.16865254171164773, 0.9038737898841372, 0.1516136336644889, 0.06858711999107832, 0.06858711999107832, 0.09746590735574287, 0.16605302734682117, 0.11551514945865822, 0.11912499787924129, 0.08663636209399365, 0.021659090523498414, 0.104685604196909, 0.19345947483231749, 0.07254730306211905, 0.04836486870807937, 0.05642568015942593, 0.13703379467289153, 0.03224324580538625, 0.13703379467289153, 0.040304057256732806, 0.17733785192962437, 0.09672973741615874, 0.11914308718455016, 0.09928590598712514, 0.05957154359227508, 0.39714362394850056, 0.07942872478970012, 0.03971436239485006, 0.07942872478970012, 0.13900026838197518, 0.023111682224892967, 0.2542285044738226, 0.11555841112446483, 0.16178177557425077, 0.1386700933493578, 0.0693350466746789, 0.046223364449785934, 0.18489345779914373, 0.0838493504880366, 0.838493504880366, 0.7114103869579538, 0.7650050246146715, 0.10160069274288405, 0.10160069274288405, 0.6604045028287464, 0.10160069274288405, 0.9183426663938946, 0.19807963506253298, 0.06602654502084433, 0.13205309004168866, 0.594238905187599, 0.14135310026897333, 0.28270620053794665, 0.38872102573967665, 0.03533827506724333, 0.14135310026897333, 0.903946853706308, 0.022927376152096817, 0.045854752304193634, 0.32098326612935546, 0.11463688076048409, 0.1261005688365325, 0.09170950460838727, 0.1261005688365325, 0.022927376152096817, 0.1261005688365325, 0.08461527073207882, 0.13076905476775819, 0.02307689201783968, 0.2230766228391169, 0.13076905476775819, 0.030769189357119572, 0.16153824412487774, 0.05384608137495925, 0.030769189357119572, 0.13076905476775819, 0.7002719788996543, 0.07780799765551716, 0.15561599531103432, 0.07780799765551716, 0.1464132033987407, 0.1464132033987407, 0.6588594152943331, 0.059288847555468024, 0.12094924901315476, 0.1256923568175922, 0.02608709292440593, 0.20158208168859126, 0.023715539022187208, 0.059288847555468024, 0.04980263194659314, 0.004743107804437442, 0.3296459924084022, 0.0873526234217266, 0.030121594283354, 0.1084377394200744, 0.3132645805468816, 0.1265106959900868, 0.0632553479950434, 0.090364782850062, 0.0843404639933912, 0.090364782850062, 0.2270497893316441, 0.032435684190234876, 0.032435684190234876, 0.4540995786632882, 0.2270497893316441, 0.8702106961507913, 0.2920643231060683, 0.09346058339394185, 0.07593672400757775, 0.0700954375454564, 0.0876192969318205, 0.0350477187727282, 0.11098444278030596, 0.052571578159092296, 0.0175238593863641, 0.16939730740151962, 0.13919126080227434, 0.12281581835494794, 0.1637544244732639, 0.15556670324960073, 0.05731404856564237, 0.13100353957861113, 0.02456316367098959, 0.09006493346029516, 0.03275088489465278, 0.07368949101296876, 0.6138212979245457, 0.9223751207735718, 0.6138232279825306, 0.6138319430246, 0.7822437798597901, 0.16868311288794097, 0.6747324515517639, 0.08132685835352868, 0.7319417251817582, 0.08132685835352868, 0.08132685835352868, 0.7813649011735512, 0.061462652492067296, 0.2663381607989583, 0.020487550830689098, 0.38926346578309284, 0.040975101661378195, 0.08195020332275639, 0.020487550830689098, 0.061462652492067296, 0.061462652492067296, 0.7988018417535777, 0.08875576019484196, 0.08875576019484196, 0.07672624020820497, 0.15345248041640994, 0.6905361618738447, 0.07672624020820497, 0.11402814969714618, 0.1710422245457193, 0.1710422245457193, 0.5131266736371578, 0.19839547005423983, 0.5951864101627196, 0.9278950507510618, 0.8706067866955962, 0.7392079558913034, 0.027378072440418642, 0.19164650708293052, 0.027378072440418642, 0.16037753492331128, 0.8018876746165564, 0.4663620673469194, 0.09327241346938388, 0.09327241346938388, 0.09327241346938388, 0.09327241346938388, 0.09327241346938388, 0.08013940252940552, 0.21370507341174805, 0.05876889518823072, 0.03739838784705591, 0.03739838784705591, 0.03739838784705591, 0.08548202936469923, 0.18699193923527954, 0.12822304404704885, 0.13356567088234253, 0.028671749835768322, 0.18636637393249408, 0.08601524950730496, 0.028671749835768322, 0.057343499671536645, 0.3297251231113357, 0.14335874917884162, 0.028671749835768322, 0.11468699934307329, 0.014335874917884161, 0.7643910814929235, 0.7993697976598334, 0.11419568537997621, 0.12151868137758641, 0.12151868137758641, 0.0060759340688793205, 0.13367054951534504, 0.06683527475767252, 0.24303736275517282, 0.048607472551034564, 0.07291120882655185, 0.030379670344396602, 0.15189835172198302, 0.07831797423594702, 0.5482258196516292, 0.15663594847189405, 0.07831797423594702, 0.07831797423594702, 0.14849239407112572, 0.7424619703556286, 0.7032223490056354, 0.7038726807259528, 0.8702173883099656, 0.5312925307953308, 0.15179786594152309, 0.22769679891228461, 0.08979200131273865, 0.24174769584198866, 0.027628308096227277, 0.006907077024056819, 0.19339815667359092, 0.08288492428868183, 0.04834953916839773, 0.041442462144340914, 0.09669907833679546, 0.15886277155330683, 0.7036701799851791, 0.9384703941555371, 0.9658953768414558, 0.555912214503181, 0.1516124221372312, 0.2526873702287186, 0.8396199131817879, 0.8397054864398369, 0.9530572897486678, 0.8934446457309747, 0.8948592647430864, 0.15846513576760876, 0.03169302715352175, 0.11092559503732613, 0.03169302715352175, 0.03169302715352175, 0.03169302715352175, 0.0633860543070435, 0.5229349480331089, 0.06633419172684846, 0.26533676690739383, 0.46433934208793926, 0.06633419172684846, 0.06633419172684846, 0.10998183312638753, 0.12176560096135762, 0.06284676178650717, 0.10605391051473083, 0.047135071339880374, 0.05499091656319376, 0.20817989841780496, 0.11390975573804422, 0.04320714872822368, 0.13747729140798443, 0.8620961089166304, 0.21256916252493077, 0.15790852073280573, 0.054660641792125056, 0.07288085572283341, 0.018220213930708353, 0.06680745107926396, 0.25508299502991694, 0.054660641792125056, 0.04251383250498616, 0.06680745107926396, 0.8664594225752082, 0.07102126414550887, 0.028408505658203548, 0.08082025675100342, 0.08082025675100342, 0.04041012837550171, 0.5253316688815222, 0.04041012837550171, 0.16164051350200684, 0.19750934075115317, 0.14107810053653796, 0.14107810053653796, 0.05643124021461519, 0.028215620107307594, 0.028215620107307594, 0.39501868150230635, 0.8934594123086068, 0.8934158085908962, 0.143365503474512, 0.71682751737256, 0.9039686382531974, 0.7909080336446659, 0.9258363965446486, 0.061487298505005325, 0.04304110895350373, 0.030743649252502663, 0.09530531268275826, 0.0368923791030032, 0.021520554476751864, 0.4765265634137913, 0.027669284327252398, 0.12297459701001065, 0.0830078529817572, 0.8948644513989996, 0.12441832076694587, 0.06220916038347293, 0.5598824434512565, 0.1866274811504188, 0.06220916038347293, 0.7033937345471357, 0.12487584912482427, 0.062437924562412137, 0.12487584912482427, 0.5619413210617092, 0.062437924562412137, 0.8620275371381992, 0.903939971428109, 0.017465043648052448, 0.13972034918441958, 0.5938114840337833, 0.017465043648052448, 0.06986017459220979, 0.08732521824026224, 0.034930087296104896, 0.017465043648052448, 0.10118681850090691, 0.8094945480072553, 0.09955859990208508, 0.09955859990208508, 0.6969101993145956, 0.09955859990208508, 0.07340051861085786, 0.07904671235015462, 0.15244723096101248, 0.1355086497431222, 0.0677543248715611, 0.05081574365367083, 0.07904671235015462, 0.14680103722171572, 0.05081574365367083, 0.16373961843960602, 0.09334524806228228, 0.09334524806228228, 0.7467619844982583, 0.18447568862962335, 0.09223784431481168, 0.6456649102036818, 0.918854494696603, 0.049453034384578654, 0.5439833782303652, 0.19781213753831461, 0.049453034384578654, 0.09890606876915731, 0.049453034384578654, 0.19783582269947322, 0.5935074680984197, 0.8791211802815598, 0.7682469295344404, 0.07165067238297984, 0.20983411197872667, 0.025589525851064228, 0.10747600857446976, 0.15353715510638538, 0.07676857755319269, 0.030707431021277074, 0.13818343959574683, 0.015353715510638537, 0.1688908706170239, 0.02043005770672491, 0.26559075018742384, 0.2451606924806989, 0.06129017312017473, 0.16344046165379927, 0.08172023082689964, 0.08172023082689964, 0.04086011541344982, 0.04086011541344982, 0.6822572901301646, 0.19493065432290418, 0.9274712821081533, 0.9039800819661905, 0.878818549449511, 0.6138357554460376, 0.1347000347603194, 0.03367500869007985, 0.03367500869007985, 0.09429002433222358, 0.09429002433222358, 0.10102502607023955, 0.06061501564214373, 0.053880013904127756, 0.0067350017380159695, 0.3838950990669103, 0.021090463694527935, 0.09490708662537571, 0.0316356955417919, 0.22144986879254333, 0.11599755031990364, 0.07381662293084777, 0.18981417325075142, 0.0316356955417919, 0.04218092738905587, 0.17926894140348745, 0.9463006581141853, 0.9244176549285901, 0.022546772071429026, 0.04509354414285805, 0.7910152955726671, 0.04125671501730961, 0.12377014505192883, 0.08251343003461922, 0.7013641552942634, 0.04125671501730961, 0.9718967776715506, 0.9216310288815189, 0.7375854374911455, 0.03646412102430367, 0.07292824204860734, 0.03646412102430367, 0.03646412102430367, 0.1458564840972147, 0.3646412102430367, 0.07292824204860734, 0.18232060512151835, 0.19851555420077902, 0.07828782419185651, 0.005591987442275465, 0.027959937211377326, 0.07269583674958105, 0.2684153972292223, 0.13141170489347342, 0.0698998430284433, 0.05591987442275465, 0.09226779279754517, 0.8975540359118148, 0.04986411310621193, 0.18012151338812038, 0.19137910797487792, 0.045030378347030095, 0.09006075669406019, 0.033772783760272575, 0.06754556752054515, 0.07880316210730268, 0.21389429714839295, 0.05628797293378762, 0.05628797293378762, 0.9751424918482166, 0.8622742616556326, 0.9039348619211016, 0.839743182165444, 0.8272321952940894, 0.7244318469833372, 0.6706925741676948, 0.1676731435419237, 0.9223585631823995, 0.8826194519966349, 0.15127526213992834, 0.06051010485597134, 0.7563763106996417, 0.061417529620579996, 0.040945019747053335, 0.020472509873526668, 0.040945019747053335, 0.42992270734405996, 0.061417529620579996, 0.36850517772347996, 0.8702495592643189, 0.13032120999637709, 0.060148250767558656, 0.13032120999637709, 0.25061771153149437, 0.030074125383779328, 0.050123542306298875, 0.07017295922881843, 0.07017295922881843, 0.050123542306298875, 0.15037062691889663, 0.09721242215664448, 0.11109991103616512, 0.01388748887952064, 0.11109991103616512, 0.08332493327712384, 0.29163726646993343, 0.05554995551808256, 0.1388748887952064, 0.01388748887952064, 0.09721242215664448, 0.06503054855544657, 0.5202443884435726, 0.06503054855544657, 0.1950916456663397, 0.13006109711089314, 0.8892186785832532, 0.7782463282786147, 0.12970772137976913, 0.2557920877454529, 0.25887392012792826, 0.009245497147426009, 0.036981988589704036, 0.06471848003198206, 0.09245497147426009, 0.036981988589704036, 0.0678003124144574, 0.09861863623921077, 0.08012764194435874, 0.06861447928378761, 0.0844485898877386, 0.05805840554782028, 0.15834110603950988, 0.07917055301975494, 0.02639018433991831, 0.09500466362370592, 0.07917055301975494, 0.3483504332869217, 0.764393357649984, 0.08155759619008664, 0.18641736272019802, 0.017476627755018567, 0.011651085170012376, 0.12816193687013613, 0.16894073496517947, 0.046604340680049504, 0.06990651102007427, 0.04077879809504332, 0.2446727885702599, 0.5758322355778488, 0.12898642076943814, 0.009213315769245582, 0.013819973653868372, 0.0967398155770786, 0.027639947307736744, 0.032246605192359536, 0.046066578846227904, 0.004606657884622791, 0.07370652615396465, 0.10070409871205167, 0.0302112296136155, 0.0302112296136155, 0.060422459227231, 0.020140819742410332, 0.19133778755289815, 0.14098573819687232, 0.05035204935602584, 0.040281639484820664, 0.3323235257497705, 0.17052639749254597, 0.4831581262288802, 0.05684213249751532, 0.02842106624875766, 0.02842106624875766, 0.08526319874627299, 0.11368426499503063, 0.920107031865974, 0.057506689491623374, 0.6024669487730954, 0.888514686694864, 0.10453113961116048, 0.7917427240859899, 0.06419535600697215, 0.06419535600697215, 0.06419535600697215, 0.8416407704388669, 0.0311718803866247, 0.0311718803866247, 0.0311718803866247, 0.0623437607732494, 0.07402960120233426, 0.851340413826844, 0.03701480060116713, 0.9764889001052651, 0.8788249498221538, 0.9274131006981927, 0.32491500232817294, 0.07445968803353963, 0.04061437529102162, 0.02707625019401441, 0.06092156293653242, 0.06092156293653242, 0.12184312587306484, 0.10830500077605763, 0.10153593822755404, 0.08122875058204324, 0.08040344077587624, 0.4537051300924445, 0.022972411650250355, 0.028715514562812943, 0.034458617475375534, 0.06317413203818847, 0.097632749513564, 0.005743102912562589, 0.057431029125625886, 0.14357757281406472, 0.8702749087354819, 0.10253539630139773, 0.011392821811266414, 0.06835693086759849, 0.10253539630139773, 0.10253539630139773, 0.524069803318255, 0.02278564362253283, 0.05696410905633207, 0.05412777246567569, 0.06765971558209462, 0.027063886232837845, 0.013531943116418923, 0.09472360181493246, 0.04059582934925677, 0.05412777246567569, 0.2977027485612163, 0.10825554493135138, 0.25710691921195955, 0.922374937992995, 0.22547181354843898, 0.09947285891842896, 0.04642066749526685, 0.053052191423162115, 0.03315761963947632, 0.053052191423162115, 0.3183131485389727, 0.059683715351057376, 0.06631523927895264, 0.04642066749526685, 0.6953699248084863, 0.847249214585584, 0.7032266409850834, 0.9759554494381802, 0.05005639424188291, 0.05005639424188291, 0.025028197120941453, 0.10011278848376581, 0.025028197120941453, 0.6006767309025949, 0.05005639424188291, 0.10011278848376581, 0.05942322846122765, 0.5942322846122765, 0.05942322846122765, 0.17826968538368293, 0.05942322846122765, 0.8928576354272814, 0.03597005355877493, 0.30574545524958696, 0.09891764728663106, 0.008992513389693733, 0.1079101606763248, 0.134887700845406, 0.14388021423509972, 0.03597005355877493, 0.06294759372785613, 0.06294759372785613, 0.5923643437926981, 0.1008398185428689, 0.5041990927143445, 0.1008398185428689, 0.1008398185428689, 0.1008398185428689, 0.8933163756634969, 0.05211516512856812, 0.05211516512856812, 0.12160205196665895, 0.12160205196665895, 0.06948688683809083, 0.08685860854761353, 0.3126909907714087, 0.10423033025713624, 0.08685860854761353, 0.03823949251864534, 0.07647898503729068, 0.03823949251864534, 0.30591594014916274, 0.11471847755593603, 0.4206344177050988, 0.8888568331470055, 0.8382748852702178, 0.038061413033398675, 0.019030706516699337, 0.08563817932514702, 0.028546059775049006, 0.19030706516699336, 0.43770624988408474, 0.13321494561689537, 0.05709211955009801, 0.0612888987813381, 0.0612888987813381, 0.18386669634401429, 0.09193334817200714, 0.5209556396413738, 0.03064444939066905, 0.03064444939066905, 0.03704886150246482, 0.22229316901478896, 0.07409772300492964, 0.18524430751232412, 0.1704247629113382, 0.04445863380295779, 0.05927817840394372, 0.02963908920197186, 0.06668795070443669, 0.11114658450739448, 0.7113595935172456, 0.07994115526184807, 0.23982346578554423, 0.5595880868329365, 0.07994115526184807, 0.10466542098303137, 0.22179101113070934, 0.03239643982808114, 0.11463355631474864, 0.03488847366101046, 0.09345126873484944, 0.0672849134890916, 0.01495220299757591, 0.03488847366101046, 0.281599823121013, 0.038883278530368555, 0.15553311412147422, 0.02592218568691237, 0.07776655706073711, 0.0907276499041933, 0.012961092843456186, 0.06480546421728092, 0.02592218568691237, 0.038883278530368555, 0.4536382495209665, 0.10487048886073835, 0.08988899045206145, 0.03745374602169227, 0.0988778894972676, 0.0809000914068553, 0.05692969395297225, 0.01947594793127998, 0.041948195544295346, 0.12135013711028296, 0.35056706276303967, 0.15955048132824595, 0.7977524066412297, 0.6881142775755341, 0.22937142585851136, 0.8395303710142725, 0.9223333273919809, 0.03271976360582821, 0.09815929081748463, 0.08179940901457053, 0.03271976360582821, 0.13087905442331285, 0.2781179906495398, 0.13087905442331285, 0.21267846343788338, 0.9039757368408456, 0.15459618082020307, 0.10306412054680206, 0.07214488438276144, 0.12883015068350256, 0.1855154169842437, 0.15459618082020307, 0.02061282410936041, 0.030919236164040617, 0.14944297479286298, 0.10039931436565058, 0.14683399725976398, 0.04517969146454276, 0.04141471717583087, 0.109184254372645, 0.07278950291509667, 0.2095835687382956, 0.07153451148552604, 0.0426697086054015, 0.1593839115554703, 0.5964984976844179, 0.024346877456506853, 0.08521407109777399, 0.030433596820633565, 0.03652031618476028, 0.05478047427714042, 0.03652031618476028, 0.06695391300539384, 0.024346877456506853, 0.048693754913013705, 0.056525599228059234, 0.22044983698943102, 0.08478839884208884, 0.09044095876489477, 0.15261911791575994, 0.028262799614029617, 0.15261911791575994, 0.03391535953683554, 0.005652559922805923, 0.17522935760698363, 0.13554898048446298, 0.09905502420018449, 0.020853689305301997, 0.072987912568557, 0.026067111631627497, 0.08341475722120799, 0.09905502420018449, 0.08341475722120799, 0.0364939562842785, 0.33365902888483195, 0.06892741908583033, 0.03159173374767224, 0.025847782157186378, 0.043079636928643965, 0.1493427413526324, 0.10051915283350257, 0.3446370954291517, 0.09764717703825965, 0.025847782157186378, 0.11487903180971723, 0.894799408800241, 0.030110995039981894, 0.09033298511994568, 0.056458115699966054, 0.22959633717986194, 0.05269424131996831, 0.16561047271990043, 0.14679110081991173, 0.048930366939970577, 0.07527748759995473, 0.1016246082599389, 0.9021483740243611, 0.08479922171537728, 0.11306562895383637, 0.13325591983845, 0.10498951259999091, 0.14133203619229545, 0.06460893083076363, 0.0888372798923, 0.0726850471846091, 0.08479922171537728, 0.10902757077691363, 0.9274218430782027, 0.7033728935388704, 0.7644701047701415, 0.18567623009567005, 0.010315346116426115, 0.051576730582130574, 0.17536088397924393, 0.30946038349278343, 0.0722074228149828, 0.10315346116426115, 0.09283811504783503, 0.7929521513372958, 0.7253781998230535, 0.1450756399646107, 0.8641312761035962, 0.8308912491879701, 0.16617824983759402, 0.6881300074744684, 0.14143081405638014, 0.05852309547160557, 0.014630773867901393, 0.053646170848971775, 0.17556928641481673, 0.08778464320740836, 0.17556928641481673, 0.07803079396214076, 0.04389232160370418, 0.17069236179218292, 0.05873021161678681, 0.783069488223824, 0.0391534744111912, 0.0195767372055956, 0.0195767372055956, 0.0195767372055956, 0.05873021161678681, 0.10570485378353524, 0.048047660810697834, 0.038438128648558265, 0.288285964864187, 0.1153143859456748, 0.18258111108065175, 0.048047660810697834, 0.06726672513497696, 0.10570485378353524, 0.0733879514109263, 0.8072674655201894, 0.0733879514109263, 0.03807368062376009, 0.09518420155940023, 0.025382453749173393, 0.05711052093564013, 0.24747892405444058, 0.08883858812210688, 0.07614736124752018, 0.06980174781022683, 0.03807368062376009, 0.26651576436632063, 0.029311226387640773, 0.25647323089185675, 0.1025892923567427, 0.11724490555056309, 0.07327806596910193, 0.13190051874438347, 0.12457271214747327, 0.04396683958146116, 0.058622452775281546, 0.058622452775281546, 0.7907561296493107, 0.12718289354611342, 0.12718289354611342, 0.04239429784870448, 0.16957719139481792, 0.04239429784870448, 0.06359144677305671, 0.10598574462176119, 0.29676008494093137, 0.21973449984741564, 0.03662241664123594, 0.04882988885498125, 0.07324483328247187, 0.07324483328247187, 0.04882988885498125, 0.024414944427490624, 0.4150540552673406, 0.061037361068726564, 0.10111503538827593, 0.04494001572812264, 0.16852505898045989, 0.01123500393203066, 0.2696400943687358, 0.01123500393203066, 0.05617501966015329, 0.10111503538827593, 0.01123500393203066, 0.21346507470858253, 0.7252270627787458, 0.14504541255574918, 0.6649700122165381, 0.16624250305413452, 0.6091954859051779, 0.30459774295258896, 0.9039849844808184, 0.037403382245699175, 0.024935588163799448, 0.22442029347419504, 0.037403382245699175, 0.19948470531039558, 0.23688808755609475, 0.1496135289827967, 0.07480676449139835, 0.6838067821853522, 0.17095169554633804, 0.1178813919982678, 0.1178813919982678, 0.07858759466551186, 0.5501131626585831, 0.1178813919982678, 0.03929379733275593, 0.16862892312542757, 0.08431446156271379, 0.08431446156271379, 0.5058867693762827, 0.08431446156271379, 0.1075058682355696, 0.17779816669728818, 0.06202261628975169, 0.13644975583745372, 0.04134841085983446, 0.05788777520376825, 0.10337102714958615, 0.05788777520376825, 0.07029229846171858, 0.18193300778327162, 0.015003794379138943, 0.2100531213079452, 0.1575398409809589, 0.2100531213079452, 0.3300834763410567, 0.03750948594784736, 0.022505691568708415, 0.022505691568708415, 0.018703260211331743, 0.04675815052832936, 0.05610978063399523, 0.04675815052832936, 0.3366586838039714, 0.018703260211331743, 0.17768097200765157, 0.037406520422663486, 0.13092282147932222, 0.12157119137365634, 0.9223460704570887, 0.8620128245695887, 0.8791453587877948, 0.7950622729620657, 0.7929541273879064, 0.799789692041349, 0.04443276066896383, 0.04443276066896383, 0.04443276066896383, 0.04443276066896383, 0.8943995809548229, 0.16590570061280574, 0.5806699521448201, 0.16590570061280574, 0.15068300895766387, 0.2260245134364958, 0.5273905313518236, 0.9395706973078889, 0.034798914715106995, 0.7820656022044576, 0.8620505275198741, 0.13333179992914185, 0.7999907995748511, 0.903775007335548, 0.8933696391915181, 0.07476379566022244, 0.07476379566022244, 0.07476379566022244, 0.7476379566022243, 0.0811724911326523, 0.5682074379285661, 0.04509582840702906, 0.018038331362811622, 0.14430665090249298, 0.05411499408843487, 0.027057497044217435, 0.06313415976984069, 0.8620281191494434, 0.8620220028560535, 0.8399173484996233, 0.6138350068701486, 0.7154089173620515, 0.06535705492570491, 0.04357136995046994, 0.08714273990093988, 0.02178568497523497, 0.02178568497523497, 0.06535705492570491, 0.08714273990093988, 0.6099991793065791, 0.8396693337206035, 0.665360438129448, 0.166340109532362, 0.06824728338567312, 0.14269886526095288, 0.02481719395842659, 0.02481719395842659, 0.11788167130252629, 0.1861289546881994, 0.08065588036488641, 0.2233547456258393, 0.018612895468819942, 0.11167737281291965, 0.8272300869446743, 0.9274352765962098, 0.06774393582224623, 0.06774393582224623, 0.8129272298669549, 0.9039822508922206, 0.8525363512534824, 0.8702436724216007, 0.7153665603470386, 0.922392183723394, 0.703317250046518, 0.8926434319678079, 0.9274928119620136, 0.04517357768052874, 0.1355207330415862, 0.09034715536105747, 0.09034715536105747, 0.6324300875274024, 0.06917629304957795, 0.17294073262394485, 0.0807056752245076, 0.05188221978718346, 0.0403528376122538, 0.0403528376122538, 0.2594110989359173, 0.08647036631197243, 0.028823455437324143, 0.1614113504490152, 0.20026933498922544, 0.6008080049676764, 0.25146321252462206, 0.11290185052125888, 0.01197443869164867, 0.07355726624869897, 0.1265869233117145, 0.1625102393866605, 0.14027199610217012, 0.046187120667787726, 0.020527609185683433, 0.05474029116182249, 0.9114793726636373, 0.04797259856124407, 0.023986299280622035, 0.7040523330564823, 0.09358607508216492, 0.09358607508216492, 0.7486886006573193, 0.19997149630267075, 0.3999429926053415, 0.14997862222700306, 0.19997149630267075, 0.04999287407566769, 0.1277838940335369, 0.0851892626890246, 0.0425946313445123, 0.0851892626890246, 0.0425946313445123, 0.5963248388231722, 0.8899639745289033, 0.8933614811567943, 0.8823782371810753, 0.19365164365878737, 0.06916130130670978, 0.04149678078402586, 0.05532904104536782, 0.11065808209073565, 0.13832260261341955, 0.2489806847041552, 0.08299356156805172, 0.06916130130670978, 0.08934584757315325, 0.08190036027539048, 0.17124620784854375, 0.1042368221686788, 0.06700938567986495, 0.260592055421697, 0.09679133487091603, 0.014890974595525542, 0.1042368221686788, 0.04819753038762785, 0.05783703646515342, 0.14459259116288353, 0.04819753038762785, 0.2506271580156648, 0.05783703646515342, 0.14459259116288353, 0.14459259116288353, 0.01927901215505114, 0.08675555469773012, 0.20500758631311058, 0.15580576559796405, 0.016400606905048846, 0.02050075863131106, 0.06560242762019539, 0.08200303452524424, 0.13530500696665299, 0.09840364143029308, 0.06150227589393318, 0.15580576559796405, 0.9289943989697731, 0.020341561818357223, 0.3559773318212514, 0.04068312363671445, 0.07119546636425028, 0.05085390454589306, 0.030512342727535835, 0.05085390454589306, 0.15256171363767917, 0.12204937091014334, 0.11187859000096473, 0.034173085294477004, 0.1801853588254242, 0.040386373529836456, 0.06834617058895401, 0.2143584441199012, 0.08077274705967291, 0.07145281470663374, 0.04970630588287564, 0.05281295000055537, 0.2112518000022215, 0.16218739070591565, 0.013515615892159638, 0.07771479137991792, 0.03885739568995896, 0.05406246356863855, 0.08362787333273776, 0.15711903474635577, 0.05997554552145839, 0.11234855710357698, 0.23990218208583355, 0.6138143974339757, 0.04991785911296599, 0.17471250689538098, 0.004159821592747166, 0.17887232848812815, 0.04991785911296599, 0.10815536141142632, 0.06239732389120749, 0.04575803752021883, 0.004159821592747166, 0.3203062626415318, 0.06446032796736173, 0.07366894624841341, 0.009208618281051677, 0.03683447312420671, 0.06446032796736173, 0.05525170968631006, 0.4235964409283771, 0.11050341937262012, 0.02762585484315503, 0.14733789249682683, 0.20777305762158085, 0.09234358116514704, 0.13851537174772058, 0.06925768587386029, 0.3001166387867279, 0.11542947645643381, 0.04617179058257352, 0.7038914819965569, 0.16221965831975488, 0.12745830296552169, 0.023174236902822127, 0.050210846622781274, 0.10814643887983659, 0.08497220197701445, 0.08497220197701445, 0.023174236902822127, 0.10814643887983659, 0.23174236902822126, 0.12166717288867412, 0.12166717288867412, 0.0456251898332528, 0.3041679322216853, 0.06083358644433706, 0.07604198305542133, 0.16729236272192693, 0.12166717288867412, 0.12130555532070605, 0.11264087279779848, 0.02166170630726894, 0.14729960288942878, 0.04332341261453788, 0.0346587300916303, 0.3552519834392106, 0.03899107135308409, 0.0346587300916303, 0.08231448396762196, 0.7113554562013933, 0.09081266698976626, 0.72650133591813, 0.09081266698976626, 0.7730318470136225, 0.9126797005113677, 0.0553260199113199, 0.12645947408301692, 0.02371115139056567, 0.14226690834339403, 0.06322973704150846, 0.07903717130188558, 0.21340036251509104, 0.20549664538490248, 0.03951858565094279, 0.04742230278113134, 0.8793720498219493, 0.13591261294070742, 0.30706182923641306, 0.03523660335499822, 0.05788870551178279, 0.042787304073926405, 0.16611541581642017, 0.08305770790821008, 0.08305770790821008, 0.02265210215678457, 0.06795630647035371, 0.8887049609431514, 0.07285820499142515, 0.12143034165237525, 0.03400049566266507, 0.02914328199657006, 0.1991457603098954, 0.1457164099828503, 0.14085919631675528, 0.06800099132533013, 0.048572136660950095, 0.14085919631675528, 0.6677173830157587, 0.16692934575393967, 0.08346467287696983, 0.08346467287696983, 0.06560598801313174, 0.1257448103585025, 0.0765403193486537, 0.03280299400656587, 0.11481047902298054, 0.08747465068417565, 0.26242395205252694, 0.043737325342087824, 0.09294181635193663, 0.10387614768745858, 0.09657780341542334, 0.6760446239079634, 0.09657780341542334, 0.7348407754412254, 0.14696815508824507, 0.12390278495227457, 0.05506790442323314, 0.05506790442323314, 0.13766976105808285, 0.06883488052904142, 0.12390278495227457, 0.289106498221974, 0.013766976105808284, 0.11013580884646627, 0.12362125409920709, 0.11331948292427316, 0.06181062704960354, 0.05150885587466962, 0.25754427937334806, 0.19573365232374454, 0.05150885587466962, 0.07211239822453747, 0.08241416939947138, 0.27823866754590837, 0.08468133360092862, 0.04234066680046431, 0.024194666743122466, 0.06653533354358677, 0.1088760003440511, 0.12702200040139294, 0.1451680004587348, 0.03024333342890308, 0.10282733365827047, 0.8620357602511329, 0.9039775474275906, 0.8631708182318918, 0.11050302311958571, 0.34155479873326494, 0.030137188123523378, 0.02511432343626948, 0.20091458749015584, 0.09543442905782402, 0.06529724093430064, 0.07032010562155455, 0.02511432343626948, 0.030137188123523378, 0.04260432620318988, 0.08520865240637976, 0.08520865240637976, 0.12781297860956964, 0.17041730481275952, 0.04260432620318988, 0.42604326203189885, 0.04260432620318988, 0.8197357162457505, 0.03726071437480684, 0.11178214312442053, 0.9278219773895088, 0.7132774485468667, 0.03396559278794604, 0.03396559278794604, 0.2037935567276762, 0.01905435077531227, 0.01905435077531227, 0.6669022771359295, 0.07621740310124908, 0.01905435077531227, 0.17148915697781045, 0.9275101254853885, 0.8704550536690153, 0.8791246717525318, 0.04947969135098056, 0.02473984567549028, 0.09895938270196113, 0.14843907405294168, 0.49479691350980565, 0.19791876540392225, 0.09147992317919108, 0.03430497119219666, 0.09147992317919108, 0.12578489437138773, 0.03430497119219666, 0.03430497119219666, 0.011434990397398885, 0.0800449327817922, 0.4802695966907532, 0.05764276865153113, 0.07685702486870818, 0.2689995870404786, 0.09607128108588522, 0.019214256217177046, 0.05764276865153113, 0.422713636777895, 0.2263745719814416, 0.1131872859907208, 0.6225300729489643, 0.8225238968306096, 0.9283351062940903, 0.12860146568050493, 0.07807946130602084, 0.03674327590871569, 0.18371637954357845, 0.14238019414627331, 0.0826723707946103, 0.119415646703326, 0.06430073284025246, 0.022964547442947306, 0.14697310363486277, 0.1354311996117471, 0.14064009190450663, 0.026044461463797523, 0.07813338439139257, 0.1093867381479496, 0.1302223073189876, 0.10417784585519009, 0.1354311996117471, 0.14064009190450663, 0.10711041748266803, 0.07140694498844535, 0.07854763948728988, 0.34275333594453766, 0.08568833398613442, 0.049984861491911746, 0.08568833398613442, 0.049984861491911746, 0.12139180648035709, 0.7380950258467512, 0.6138254024964055, 0.13604373385951743, 0.09069582257301162, 0.025913092163717608, 0.15547855298230565, 0.025913092163717608, 0.08421754953208223, 0.08421754953208223, 0.16843509906416446, 0.07773927649115282, 0.14900027994137624, 0.0824879385893056, 0.0824879385893056, 0.6599035087144448, 0.0824879385893056, 0.19212118239165896, 0.09448582740573391, 0.04724291370286696, 0.04724291370286696, 0.1952707099718501, 0.06928960676420487, 0.12913063078783635, 0.07873818950477826, 0.09133629982554278, 0.05354196886324922, 0.6828569999481858, 0.09755099999259798, 0.09755099999259798, 0.8934587650042506, 0.7189299715275433, 0.14378599430550867, 0.5385683636772467, 0.04488069697310389, 0.3141648788117272, 0.08976139394620777, 0.06400048608232015, 0.06400048608232015, 0.06400048608232015, 0.03200024304116007, 0.03200024304116007, 0.7040053469055216, 0.12083676934615074, 0.06250177724800901, 0.09583605844694715, 0.1125031990464162, 0.20000568719362882, 0.10000284359681441, 0.12500355449601802, 0.06666856239787627, 0.0375010663488054, 0.07916891784747808, 0.10221531376349721, 0.034071771254499075, 0.2725741700359926, 0.20443062752699442, 0.08517942813624768, 0.10221531376349721, 0.017035885627249538, 0.051107656881748606, 0.051107656881748606, 0.051107656881748606, 0.06663712896487155, 0.29510728541585973, 0.05711753911274704, 0.06663712896487155, 0.07615671881699607, 0.19991138689461466, 0.1237546680776186, 0.009519589852124508, 0.019039179704249017, 0.09519589852124508, 0.6787795107979668, 0.13575590215959335, 0.894485520364153, 0.3952696007717789, 0.07905392015435578, 0.5533774410804905, 0.839609356751423, 0.10043138158555297, 0.10043138158555297, 0.7030196710988708, 0.9223744222493376, 0.6139664774510424, 0.32767495314876915, 0.0876876635186847, 0.05076654203713325, 0.07845738314829684, 0.05538168222232718, 0.03230598129635752, 0.07845738314829684, 0.08307252333349077, 0.09691794388907257, 0.11999364481504222, 0.11791185247618594, 0.7074711148571157, 0.11791185247618594, 0.87911944882216, 0.6567504898536435, 0.10945841497560724, 0.06567504898536435, 0.10945841497560724, 0.0437833659902429, 0.19745008660536364, 0.5923502598160909, 0.8143344964270812, 0.05138984409373101, 0.3009976582632816, 0.11746250078567089, 0.06607265669193987, 0.20555937637492405, 0.08075546929014873, 0.11012109448656646, 0.02202421889731329, 0.04404843779462658, 0.0899338017280226, 0.1367743234613677, 0.035598796517342275, 0.07681845564268597, 0.06370310955734934, 0.06557673042668313, 0.12178535650669726, 0.20609829562671844, 0.07494483477335216, 0.12553259824536486, 0.8887174990908142, 0.5562184563661501, 0.05426521525523416, 0.0678315190690427, 0.23741031674164945, 0.047482063348329884, 0.020349455720712808, 0.00678315190690427, 0.12363653341103047, 0.8654557338772132, 0.879158612412977, 0.9674125204609433, 0.1148098560358837, 0.07203755672839761, 0.25663379584491647, 0.09905164050154672, 0.05177699389853578, 0.12831689792245823, 0.06528403578511034, 0.06528403578511034, 0.03376760471643638, 0.11255868238812126, 0.7823428847939358, 0.07891076284489112, 0.07891076284489112, 0.5523753399142379, 0.07891076284489112, 0.07891076284489112, 0.07891076284489112, 0.09412873892502262, 0.09412873892502262, 0.611836803012647, 0.04706436946251131, 0.14119310838753393, 0.04706436946251131, 0.8890548791027639, 0.9181924419359194, 0.7645837098533984, 0.11341960196792608, 0.11341960196792608, 0.05670980098396304, 0.6238078108235935, 0.11341960196792608, 0.8396667330861567, 0.8791523637201105, 0.8934397710607774, 0.0667616480045059, 0.05007123600337943, 0.016690412001126476, 0.08345206000563238, 0.03338082400225295, 0.700997304047312, 0.03338082400225295, 0.2531279017723313, 0.07043559005838784, 0.04292168769183009, 0.09024559976230942, 0.055027804733115505, 0.10455282899291946, 0.10675394118224407, 0.09024559976230942, 0.13867006792745107, 0.04732391207047933, 0.8886535442880511, 0.903958123854143, 0.9274058687365222, 0.0645196983065885, 0.2949471922586903, 0.08295389782275665, 0.09217099758084073, 0.05530259854850444, 0.14747359612934516, 0.03686839903233629, 0.09217099758084073, 0.05530259854850444, 0.08295389782275665, 0.8887851724373126, 0.9046750410852432, 0.8948613828195189, 0.10550517092099625, 0.04057891189269087, 0.05681047664976721, 0.04057891189269087, 0.20289455946345433, 0.05681047664976721, 0.048694694271229036, 0.46259959557667585, 0.6138281351580819, 0.11127129848136924, 0.047687699349158244, 0.22254259696273848, 0.07947949891526375, 0.11127129848136924, 0.01589589978305275, 0.14306309804747475, 0.063583599132211, 0.047687699349158244, 0.14306309804747475, 0.07427325250286906, 0.12233241588707845, 0.04805916338420939, 0.1747605941243978, 0.04369014853109945, 0.04805916338420939, 0.0393211336779895, 0.1747605941243978, 0.14417749015262818, 0.1267014307401884, 0.8927312382164025, 0.16538043322195412, 0.6615217328878165, 0.8473798383099013, 0.11557753178351471, 0.07705168785567648, 0.26968090749486767, 0.11557753178351471, 0.03852584392783824, 0.42378428320622064, 0.1717555894995652, 0.0858777947497826, 0.0858777947497826, 0.6011445632484783, 0.6114409999302529, 0.06384178284455744, 0.06384178284455744, 0.7661013941346894, 0.06384178284455744, 0.033957828364492154, 0.16978914182246077, 0.05093674254673823, 0.10187348509347646, 0.06791565672898431, 0.3565571978271676, 0.20374697018695292, 0.7820651666310691, 0.132587777333515, 0.6629388866675751, 0.132587777333515, 0.8702950335342352, 0.8620420719456248, 0.7034240893012218, 0.17194586416322108, 0.6877834566528843, 0.8619869766174989, 0.7126646680108142, 0.14794294389845886, 0.7397147194922943, 0.012070780681529631, 0.1207078068152963, 0.06035390340764815, 0.024141561363059262, 0.3621234204458889, 0.048283122726118524, 0.2052032715860037, 0.07242468408917778, 0.07242468408917778, 0.03621234204458889, 0.10337680869272649, 0.1113288708998593, 0.05566443544992965, 0.06361649765706245, 0.3816989859423747, 0.039760311035664034, 0.1272329953141249, 0.06361649765706245, 0.02385618662139842, 0.039760311035664034, 0.8936149667716695, 0.8099612012557391, 0.09345706168335452, 0.031152353894451507, 0.06230470778890301, 0.14181215610254141, 0.3480843831607835, 0.02578402838228026, 0.03867604257342039, 0.23205625544052233, 0.06446007095570065, 0.07735208514684078, 0.01289201419114013, 0.05156805676456052, 0.5194151727286713, 0.03246344829554196, 0.19478068977325175, 0.06492689659108392, 0.06492689659108392, 0.06492689659108392, 0.03246344829554196, 0.8395918764738188, 0.6957639286291735, 0.2693925189303001, 0.006192931469662071, 0.018578794408986212, 0.08670104057526899, 0.13624449233256555, 0.17030561541570693, 0.12695509512807246, 0.10527983498425521, 0.0030964657348310355, 0.08050810910560692, 0.34245254032790556, 0.08743469114755037, 0.06557601836066278, 0.08743469114755037, 0.051003569836071044, 0.051003569836071044, 0.13843826098362141, 0.09472091540984623, 0.051003569836071044, 0.03643112131147932, 0.0473869112204572, 0.0473869112204572, 0.01895476448818288, 0.01895476448818288, 0.15163811590546303, 0.08529644019682295, 0.3411857607872918, 0.14216073366137158, 0.08529644019682295, 0.0473869112204572, 0.8939081821567993, 0.7031334117786805, 0.7115415478916263, 0.13021431761368366, 0.043404772537894556, 0.021702386268947278, 0.043404772537894556, 0.10851193134473638, 0.45575011164789286, 0.06510715880684183, 0.13021431761368366, 0.2095147156780332, 0.03643734185704925, 0.08198401917836082, 0.291498734856394, 0.10931202557114775, 0.08198401917836082, 0.10020269010688544, 0.08198401917836082, 0.8889225604708441, 0.7597653083047281, 0.017267393370562004, 0.10360436022337202, 0.08633696685281002, 0.017267393370562004, 0.16376902465037096, 0.09826141479022257, 0.0029776186300067447, 0.08337332164018885, 0.21438854136048563, 0.1607914060203642, 0.11017188931024956, 0.029776186300067446, 0.07444046575016862, 0.06252999123014163, 0.8702437827259176, 0.06709868847974515, 0.06709868847974515, 0.46969081935821605, 0.06709868847974515, 0.1341973769594903, 0.06709868847974515, 0.06709868847974515, 0.06709868847974515, 0.9184538453829707, 0.8967161142592144, 0.06897816263532419, 0.8795708483066674, 0.07329757069222229, 0.8847315763598124, 0.039036752998993084, 0.42940428298892397, 0.11711025899697926, 0.15614701199597233, 0.07807350599798617, 0.07807350599798617, 0.11711025899697926, 0.8887072560978233, 0.09749793403673734, 0.09749793403673734, 0.09749793403673734, 0.6824855382571614, 0.16207538697021182, 0.17004630764087797, 0.04251157691021949, 0.03985460335333078, 0.09033710093421643, 0.10362196871866002, 0.22584275233554105, 0.04782552402399693, 0.055796444694663085, 0.06376736536532925, 0.132536201142827, 0.028400614530605783, 0.03786748604080771, 0.1988043017142405, 0.3597411173876733, 0.028400614530605783, 0.09466871510201928, 0.1041355866122212, 0.028400614530605783, 0.14865046190125605, 0.7432523095062803, 0.6282121933106695, 0.08974459904438135, 0.1794891980887627, 0.20461507873349005, 0.06619899606083501, 0.03911758858140251, 0.07522613188731252, 0.06619899606083501, 0.09328040354026752, 0.09328040354026752, 0.15647035432561004, 0.04212663385689501, 0.16248844487659506, 0.014773007402680591, 0.17727608883216708, 0.07386503701340295, 0.029546014805361183, 0.014773007402680591, 0.19204909623484767, 0.19204909623484767, 0.26591413324825064, 0.04431902220804177, 0.9280594121821458, 0.5653314534587282, 0.08697406976288126, 0.04348703488144063, 0.014495678293813543, 0.04348703488144063, 0.05798271317525417, 0.17394813952576252, 0.7244180363834035, 0.7717014166142615, 0.09646267707678269, 0.09646267707678269, 0.03725646994621111, 0.24589270164499333, 0.19373364372029778, 0.08941552787090666, 0.09686682186014889, 0.06706164590318, 0.08941552787090666, 0.14157458579560223, 0.04470776393545333, 0.3886655170399398, 0.143950191496274, 0.10076513404739179, 0.0575800765985096, 0.0143950191496274, 0.071975095748137, 0.21592528724441098, 0.703912373654031, 0.7393413981316069, 0.11094936772944107, 0.050241223122765764, 0.03977430163885623, 0.03977430163885623, 0.048147838825983856, 0.19677812389749924, 0.029307380154946695, 0.02721399585816479, 0.048147838825983856, 0.41030332216925375, 0.04196650416391458, 0.01398883472130486, 0.6714640666226332, 0.01398883472130486, 0.12589951249174375, 0.12589951249174375, 0.06995698916749242, 0.25359408573216, 0.15740322562685796, 0.017489247291873105, 0.07870161281342898, 0.15740322562685796, 0.05246774187561932, 0.05246774187561932, 0.043723118229682764, 0.10493548375123864, 0.16718139745254454, 0.6687255898101782, 0.8701981516395546, 0.19465116375705752, 0.038930232751411505, 0.07786046550282301, 0.07786046550282301, 0.38930232751411503, 0.233581396508469, 0.1905607716289161, 0.10889186950223778, 0.05444593475111889, 0.08166890212667834, 0.027222967375559445, 0.1361148368777972, 0.32667560850671334, 0.8939991277785618, 0.1010146082526508, 0.6060876495159048, 0.1010146082526508, 0.1010146082526508, 0.7036898589212718, 0.9039931239104346, 0.6925915788946198, 0.06925915788946198, 0.20777747366838592, 0.26553155483962854, 0.6372757316151085, 0.05310631096792571, 0.8621324257973146, 0.17457346975209337, 0.6982938790083735, 0.6655581145388201, 0.08874108193850934, 0.08874108193850934, 0.04437054096925467, 0.08874108193850934, 0.652947498811165, 0.130589499762233, 0.130589499762233, 0.8934107633602419, 0.7033616195723007, 0.9122728961990766, 0.13242044088602858, 0.7945226453161716, 0.14007107534920957, 0.14007107534920957, 0.4202132260476287, 0.056028430139683824, 0.16808529041905146, 0.08404264520952573, 0.06190004219163254, 0.06190004219163254, 0.12380008438326508, 0.6190004219163254, 0.06190004219163254, 0.6135832227376071, 0.8032402948835158, 0.053549352992234386, 0.10709870598446877, 0.09270405543334065, 0.12746807622084338, 0.03476402078750274, 0.1216740727562596, 0.08111604850417307, 0.06952804157500549, 0.06373403811042169, 0.12746807622084338, 0.14485008661459478, 0.1332620796854272, 0.1592771325617895, 0.14221172550159775, 0.09670397334108648, 0.08532703530095866, 0.20478488472230078, 0.06826162824076693, 0.14221172550159775, 0.08532703530095866, 0.01137693804012782, 0.05518675711797709, 0.16556027135393128, 0.05518675711797709, 0.08278013567696564, 0.5242741926207823, 0.027593378558988545, 0.08278013567696564, 0.724485146650735, 0.8887088365677567, 0.0515961679593028, 0.017198722653100934, 0.0515961679593028, 0.03439744530620187, 0.7395450740833402, 0.06879489061240374, 0.017198722653100934, 0.8377716585762379, 0.8396198310932901, 0.8395211282827878, 0.8934388639374259, 0.05874302101824002, 0.8224022942553604, 0.05874302101824002, 0.05874302101824002, 0.18600240856284792, 0.15112695695731393, 0.04068802687312298, 0.12787665588695793, 0.005812575267588997, 0.09300120428142396, 0.13368923115454695, 0.12787665588695793, 0.12787665588695793, 0.011625150535177995, 0.18794989033128034, 0.09397494516564017, 0.6578246161594812, 0.18522360239177604, 0.06101483372905564, 0.1307460722765478, 0.07626854216131955, 0.05883573252444651, 0.10459685782123825, 0.04576112529679173, 0.06101483372905564, 0.04576112529679173, 0.22880562648395866, 0.7205664120746877, 0.14411328241493757, 0.13866122028553746, 0.17871890614580385, 0.04005768586026638, 0.1417425807363272, 0.05238312766342527, 0.10784761577764025, 0.04622040676184582, 0.055464488114214984, 0.0431390463110561, 0.2002884293013319, 0.9214386137695146, 0.9214690724100592, 0.9704752708452983, 0.07921955027863684, 0.13203258379772806, 0.02112521340763649, 0.08978215698245508, 0.12146997709390982, 0.0950634603343642, 0.07921955027863684, 0.0686569435748186, 0.07393824692672771, 0.24293995418781963, 0.7038712421236785, 0.05752554503314263, 0.17257663509942792, 0.7478320854308542, 0.7222416813970047, 0.7645081936920876, 0.11433272056641634, 0.11039021296067784, 0.019712538028692474, 0.11039021296067784, 0.12616024338363183, 0.3469406693049875, 0.08673516732624688, 0.015770030422953978, 0.02759755324016946, 0.03942507605738495, 0.09371598467439123, 0.044983672643707784, 0.14994557547902596, 0.022491836321853892, 0.048732312030683435, 0.24366156015341717, 0.1461969360920503, 0.08996734528741557, 0.026240475708829543, 0.13495101793112335, 0.155603418748694, 0.700215384369123, 0.077801709374347, 0.2687520998584886, 0.6526836710849008, 0.03839315712264122, 0.03839315712264122, 0.8940598468777605, 0.20049726756779968, 0.8019890702711987, 0.9280927636753171, 0.056316158764995426, 0.4095720637454213, 0.06655546035863096, 0.030717904780906597, 0.11263231752999085, 0.04095720637454213, 0.056316158764995426, 0.09727336513953756, 0.061435809561813194, 0.07679476195226649, 0.14055258563448828, 0.8433155138069297, 0.8403409092632912, 0.16806818185265826, 0.7038725879582522, 0.8619930184737276, 0.10092650339721188, 0.06728433559814126, 0.10092650339721188, 0.06728433559814126, 0.06728433559814126, 0.1513897550958178, 0.03364216779907063, 0.3027795101916356, 0.016821083899535315, 0.10092650339721188, 0.10903346118825545, 0.054516730594127726, 0.8177509589119158, 0.08084234601895543, 0.10656491066135035, 0.040421173009477715, 0.07349304183541402, 0.19843121295561789, 0.08819165020249684, 0.14698608367082805, 0.062469085560101924, 0.08451699811072613, 0.12126351902843314, 0.27716938133291075, 0.11412856878413973, 0.012680952087126636, 0.023550339590378038, 0.13586734379064253, 0.10325918128088832, 0.10869387503251403, 0.09057822919376168, 0.061593195851757945, 0.07065101877113411, 0.8224315903573282, 0.06942095464866002, 0.03471047732433001, 0.24297334127031006, 0.03471047732433001, 0.10413143197299002, 0.4165257278919601, 0.06942095464866002, 0.6138276866787951, 0.8791067786893384, 0.028705313645377015, 0.11003703564061189, 0.07176328411344253, 0.055018517820305944, 0.11960547352240422, 0.1530950061086774, 0.10525281669971571, 0.2750925891015297, 0.007176328411344254, 0.07176328411344253, 0.030868917903054047, 0.030868917903054047, 0.12347567161221619, 0.12347567161221619, 0.4012959327397026, 0.09260675370916215, 0.030868917903054047, 0.12347567161221619, 0.030868917903054047, 0.9274787350089976, 0.55173479192439, 0.023988469214103914, 0.43179244585387044, 0.16799992527223467, 0.08399996263611734, 0.6719997010889387, 0.08399996263611734, 0.2030691335436441, 0.6092074006309323, 0.8620037669873761, 0.12288184434980184, 0.737291066098811, 0.776682794878408, 0.12944713247973466, 0.16365961193109185, 0.17328664792703843, 0.02888110798783974, 0.06738925197162607, 0.00962703599594658, 0.11552443195135896, 0.06738925197162607, 0.2406758998986645, 0.10589739595541238, 0.03850814398378632, 0.6138347706137776, 0.7904431530102034, 0.8058037334709304, 0.9039596683645902, 0.8791097035634895, 0.060470831047820965, 0.060470831047820965, 0.7861208036216726, 0.060470831047820965, 0.704310546347501, 0.14866696518649802, 0.09911131012433201, 0.05663503435676115, 0.1769844823648786, 0.04247627576757086, 0.04247627576757086, 0.09911131012433201, 0.14158758589190287, 0.1274288273027126, 0.0637144136513563, 0.08221845593497658, 0.014948810169995741, 0.10464167118997018, 0.09716726610497231, 0.044846430509987226, 0.2690785830599233, 0.11959048135996593, 0.044846430509987226, 0.1793857220399489, 0.05232083559498509, 0.0430539809793419, 0.6888636956694704, 0.0430539809793419, 0.0430539809793419, 0.0861079619586838, 0.0861079619586838, 0.8370050823429026, 0.837009033363148, 0.10337662210999624, 0.06891774807333083, 0.44796536247665036, 0.20675324421999247, 0.13783549614666166, 0.034458874036665414, 0.23198297872844953, 0.37117276596551924, 0.1391897872370697, 0.046396595745689904, 0.18558638298275962, 0.9223341386709234, 0.8791947501991834, 0.7031700223570122, 0.02354250315736417, 0.07062750947209251, 0.02354250315736417, 0.02354250315736417, 0.04708500631472834, 0.5414775726193759, 0.1647975221015492, 0.02354250315736417, 0.07062750947209251, 0.06348788474698878, 0.15871971186747197, 0.14284774068072476, 0.3491833661084383, 0.26982351017470235, 0.12682400397120047, 0.31706000992800115, 0.5707080178704022, 0.10883543222310271, 0.027208858055775678, 0.843474599729046, 0.19211338021071692, 0.23744350363122316, 0.019427195751645532, 0.06044016456067498, 0.032378659586075886, 0.04748870072624463, 0.11008744259265801, 0.07123305108936695, 0.06044016456067498, 0.17052760715333298, 0.07956924927230666, 0.1458769569992289, 0.03978462463615333, 0.4243693294523022, 0.013261541545384444, 0.05304616618153778, 0.07956924927230666, 0.03978462463615333, 0.13261541545384445, 0.8934590983066555, 0.6135235326277995, 0.8641175456354203, 0.10899044241919553, 0.3542189378623855, 0.13623805302399442, 0.013623805302399442, 0.08174283181439665, 0.06811902651199721, 0.14986185832639387, 0.013623805302399442, 0.054495221209597766, 0.055640185864041576, 0.1446644832465081, 0.10015233455527484, 0.0778962602096582, 0.11869906317662203, 0.14837382897077753, 0.08902429738246652, 0.15208317469504698, 0.11128037172808315, 0.16512783404489015, 0.07971688540098144, 0.09110501188683594, 0.07971688540098144, 0.05694063242927246, 0.09679907512976318, 0.17082189728781738, 0.0740228221580542, 0.0740228221580542, 0.10249313837269043, 0.8887106294096021, 0.8892703099171327, 0.011958726138532374, 0.09865949064289209, 0.014948407673165466, 0.032886496880964025, 0.3677308287598705, 0.11360789831605755, 0.14948407673165467, 0.09865949064289209, 0.014948407673165466, 0.10463885371215827, 0.029164457677272278, 0.058328915354544555, 0.08749337303181684, 0.07291114419318069, 0.17498674606363368, 0.4520490939977203, 0.10207560187045298, 0.029164457677272278, 0.10573210774687232, 0.3171963232406169, 0.09398409577499761, 0.16447216760624583, 0.011748011971874701, 0.046992047887498806, 0.05874005985937351, 0.023496023943749403, 0.17622017957812053, 0.14768196183275412, 0.1143344220640677, 0.045257375400360136, 0.24296064688614388, 0.06431311241103808, 0.10242458643239398, 0.1357721262010804, 0.05002130965302962, 0.047639342526694876, 0.05002130965302962, 0.9039344209060918, 0.8928982272878051, 0.7245590298488181, 0.6122153200000616, 0.20407177333335388, 0.10203588666667694, 0.7130088986508554, 0.8934729610501558, 0.08779769149810164, 0.07023815319848131, 0.36875030429202693, 0.035119076599240656, 0.19315492129582362, 0.035119076599240656, 0.035119076599240656, 0.07023815319848131, 0.10535722979772198, 0.06485280370695892, 0.30573464604709205, 0.012970560741391784, 0.016676435238932294, 0.19085253662333623, 0.18899959937456598, 0.059293991960648156, 0.0778233644483507, 0.057441054711877895, 0.025941121482783568, 0.7342608043930735, 0.16944480101378617, 0.11296320067585745, 0.17982139927763907, 0.10275508530150804, 0.06422192831344252, 0.05779973548209827, 0.05137754265075402, 0.1862435921089833, 0.08348850680747529, 0.05779973548209827, 0.1733992064462948, 0.04495534981940977, 0.05941100675733117, 0.05941100675733117, 0.05941100675733117, 0.05941100675733117, 0.5941100675733118, 0.17823302027199353, 0.025944984633653242, 0.043241641056088735, 0.19026322064679044, 0.030269148739262116, 0.2594498463365324, 0.1297249231682662, 0.1470215795907017, 0.13404908727387507, 0.043241641056088735, 0.16979233969298319, 0.17619959779460517, 0.025629032406488027, 0.0945070569989246, 0.08329435532108609, 0.08489616984649159, 0.07848891174486958, 0.06567439554162557, 0.06727621006703106, 0.15537600896433365, 0.6138478585263542, 0.03578157069245011, 0.4293788483094013, 0.14312628276980044, 0.10734471207735033, 0.03578157069245011, 0.03578157069245011, 0.10734471207735033, 0.03578157069245011, 0.4724527449149139, 0.014316749845906482, 0.023861249743177472, 0.047722499486354944, 0.14793974840770033, 0.047722499486354944, 0.11453399876725186, 0.014316749845906482, 0.0763559991781679, 0.047722499486354944, 0.7440051867008742, 0.9214687119832647, 0.12905873728801615, 0.17356175014595274, 0.062304218001111245, 0.08010542314428588, 0.2002635578607147, 0.01335090385738098, 0.09345632700166687, 0.0667545192869049, 0.1112575321448415, 0.07565512185849223, 0.8702693165396849, 0.6706074254696708, 0.1676518563674177], \"Term\": [\"abracadabra\", \"abroad\", \"abuse\", \"abuse\", \"abuse\", \"abuse\", \"abuse\", \"abuse\", \"abuse\", \"abuse\", \"abuse\", \"accent\", \"account\", \"account\", \"account\", \"account\", \"account\", \"account\", \"account\", \"account\", \"accusin\", \"across\", \"across\", \"across\", \"across\", \"across\", \"across\", \"across\", \"across\", \"acting\", \"acting\", \"acting\", \"acting\", \"acting\", \"acting\", \"acting\", \"actually\", \"actually\", \"actually\", \"actually\", \"actually\", \"actually\", \"actually\", \"actually\", \"actually\", \"adhere\", \"adhere\", \"advert\", \"advert\", \"alien\", \"alien\", \"alien\", \"alien\", \"alien\", \"allowed\", \"allowed\", \"allowed\", \"allowed\", \"allowed\", \"allows\", \"alone\", \"alone\", \"alone\", \"alone\", \"alone\", \"alone\", \"alone\", \"alone\", \"alone\", \"already\", \"already\", \"already\", \"already\", \"already\", \"already\", \"already\", \"already\", \"already\", \"already\", \"alternative\", \"alternative\", \"amarth\", \"american\", \"american\", \"american\", \"american\", \"american\", \"american\", \"american\", \"american\", \"amon\", \"amp\", \"amp\", \"amp\", \"amp\", \"amp\", \"amp\", \"amp\", \"amp\", \"amp\", \"amp\", \"analyst\", \"analyst\", \"ancestral\", \"andre\", \"annoying\", \"annoying\", \"annoying\", \"annoying\", \"annoying\", \"annoying\", \"annoying\", \"another\", \"another\", \"another\", \"another\", \"another\", \"another\", \"another\", \"another\", \"another\", \"another\", \"antifascist\", \"antithetical\", \"antithetical\", \"anyone\", \"anyone\", \"anyone\", \"anyone\", \"anyone\", \"anyone\", \"anyone\", \"anyone\", \"anyone\", \"anyone\", \"anything\", \"anything\", \"anything\", \"anything\", \"anything\", \"anything\", \"anything\", \"anything\", \"anything\", \"anything\", \"apathetic\", \"arab\", \"arab\", \"arab\", \"arab\", \"arab\", \"arab\", \"arguing\", \"arguing\", \"arguing\", \"arguing\", \"argument\", \"argument\", \"argument\", \"argument\", \"around\", \"around\", \"around\", \"around\", \"around\", \"around\", \"around\", \"around\", \"around\", \"around\", \"article\", \"article\", \"article\", \"article\", \"article\", \"article\", \"article\", \"article\", \"article\", \"article\", \"ashwariya\", \"asia\", \"asia\", \"asshole\", \"asshole\", \"asshole\", \"asshole\", \"asshole\", \"asshole\", \"asshole\", \"asshole\", \"asshole\", \"assholery\", \"attached\", \"attack\", \"attack\", \"attack\", \"attack\", \"attack\", \"attack\", \"attack\", \"attack\", \"attack\", \"attack\", \"attention\", \"attention\", \"attention\", \"attention\", \"attention\", \"attention\", \"awake\", \"award\", \"award\", \"award\", \"award\", \"aware\", \"aware\", \"aware\", \"aware\", \"aware\", \"awful\", \"awful\", \"awful\", \"awful\", \"awful\", \"awful\", \"awhile\", \"back\", \"back\", \"back\", \"back\", \"back\", \"back\", \"back\", \"back\", \"back\", \"back\", \"bad\", \"bad\", \"bad\", \"bad\", \"bad\", \"bad\", \"bad\", \"bad\", \"bad\", \"bad\", \"ball\", \"ball\", \"ball\", \"ball\", \"ball\", \"ball\", \"ball\", \"ball\", \"banned\", \"banned\", \"banned\", \"banned\", \"banned\", \"banned\", \"banned\", \"banned\", \"barnstar\", \"barnstar\", \"barranquilla\", \"battery\", \"beauty\", \"beauty\", \"beauty\", \"beauty\", \"bedbug\", \"behavior\", \"behavior\", \"behavior\", \"behavior\", \"belong\", \"belong\", \"belong\", \"belong\", \"belong\", \"berry\", \"best\", \"best\", \"best\", \"best\", \"best\", \"best\", \"best\", \"best\", \"best\", \"big\", \"big\", \"big\", \"big\", \"big\", \"big\", \"big\", \"big\", \"big\", \"big\", \"bigotry\", \"bigotry\", \"bigotry\", \"bigotry\", \"bisexual\", \"bisexual\", \"bisexual\", \"bitch\", \"bitch\", \"bitch\", \"bitch\", \"bitch\", \"bitch\", \"bitch\", \"bitch\", \"bitch\", \"bitch\", \"black\", \"black\", \"black\", \"black\", \"black\", \"black\", \"black\", \"black\", \"black\", \"blame\", \"blame\", \"blame\", \"blame\", \"blame\", \"blasphemy\", \"block\", \"block\", \"block\", \"block\", \"block\", \"block\", \"block\", \"block\", \"block\", \"block\", \"blocked\", \"blocked\", \"blocked\", \"blocked\", \"blocked\", \"blocked\", \"blocked\", \"blocked\", \"blocked\", \"blocked\", \"bloke\", \"bodom\", \"bolivia\", \"bom\", \"bong\", \"bono\", \"bono\", \"boob\", \"boob\", \"boob\", \"boob\", \"booker\", \"border\", \"border\", \"border\", \"border\", \"border\", \"border\", \"border\", \"border\", \"border\", \"bored\", \"bored\", \"bored\", \"boris\", \"boris\", \"boris\", \"boris\", \"bout\", \"bout\", \"bout\", \"bout\", \"bringing\", \"bringing\", \"btch\", \"burger\", \"butt\", \"butt\", \"butt\", \"butt\", \"butter\", \"butter\", \"california\", \"california\", \"california\", \"california\", \"california\", \"california\", \"call\", \"call\", \"call\", \"call\", \"call\", \"call\", \"call\", \"call\", \"call\", \"call\", \"calling\", \"calling\", \"calling\", \"calling\", \"calling\", \"calling\", \"calling\", \"calling\", \"calling\", \"calling\", \"canyon\", \"caravan\", \"caravan\", \"care\", \"care\", \"care\", \"care\", \"care\", \"care\", \"care\", \"care\", \"care\", \"care\", \"career\", \"career\", \"career\", \"career\", \"career\", \"caucasian\", \"caucasian\", \"cccc\", \"celebrated\", \"census\", \"chick\", \"chick\", \"chick\", \"child\", \"child\", \"child\", \"child\", \"child\", \"child\", \"child\", \"child\", \"child\", \"child\", \"chimping\", \"ching\", \"chong\", \"christ\", \"christ\", \"christ\", \"chukk\", \"civilian\", \"cleanliness\", \"coal\", \"coastline\", \"cock\", \"cock\", \"cock\", \"cock\", \"cock\", \"cock\", \"cock\", \"cock\", \"college\", \"college\", \"college\", \"college\", \"college\", \"come\", \"come\", \"come\", \"come\", \"come\", \"come\", \"come\", \"come\", \"come\", \"come\", \"comeback\", \"comment\", \"comment\", \"comment\", \"comment\", \"comment\", \"comment\", \"comment\", \"comment\", \"comment\", \"comment\", \"common\", \"common\", \"common\", \"communist\", \"communist\", \"communist\", \"communist\", \"communist\", \"communist\", \"complete\", \"complete\", \"complete\", \"complete\", \"complete\", \"complete\", \"complete\", \"connect\", \"constructed\", \"correctness\", \"correctness\", \"corrupted\", \"cottage\", \"cougar\", \"country\", \"country\", \"country\", \"country\", \"country\", \"country\", \"country\", \"country\", \"country\", \"country\", \"countryside\", \"court\", \"court\", \"court\", \"court\", \"court\", \"coverage\", \"covid\", \"covid\", \"covid\", \"covid\", \"covid\", \"creator\", \"crediablity\", \"crime\", \"crime\", \"crime\", \"crime\", \"crime\", \"crime\", \"crime\", \"crime\", \"cross\", \"cross\", \"cultural\", \"cultural\", \"cultural\", \"cultural\", \"cunt\", \"cunt\", \"cunt\", \"cunt\", \"cunt\", \"cunt\", \"cunt\", \"cunt\", \"cunt\", \"cunt\", \"curry\", \"curry\", \"curry\", \"damage\", \"damage\", \"damage\", \"dancing\", \"dangerous\", \"dangerous\", \"dangerous\", \"dangerous\", \"dangerous\", \"dangerous\", \"darky\", \"darky\", \"dashiel\", \"data\", \"day\", \"day\", \"day\", \"day\", \"day\", \"day\", \"day\", \"day\", \"day\", \"day\", \"deal\", \"deal\", \"deal\", \"deal\", \"deal\", \"deal\", \"deal\", \"deal\", \"deal\", \"declared\", \"declared\", \"dee\", \"demo\", \"descriptive\", \"diaper\", \"dick\", \"dick\", \"dick\", \"dick\", \"dick\", \"dick\", \"dick\", \"dick\", \"dick\", \"dick\", \"die\", \"die\", \"die\", \"die\", \"die\", \"die\", \"die\", \"die\", \"die\", \"die\", \"differing\", \"disagree\", \"disagree\", \"disagree\", \"dishonest\", \"dislike\", \"dislike\", \"dislike\", \"dislike\", \"dislike\", \"disliking\", \"disproportionally\", \"disruptively\", \"doctor\", \"doctor\", \"doctor\", \"doctor\", \"doctor\", \"doctor\", \"doctor\", \"doctor\", \"doe\", \"doe\", \"doe\", \"doe\", \"doe\", \"doe\", \"doe\", \"doe\", \"doe\", \"doe\", \"doesnt\", \"doesnt\", \"done\", \"done\", \"done\", \"done\", \"done\", \"done\", \"done\", \"done\", \"done\", \"done\", \"dont\", \"downfall\", \"draggingcyberthugs\", \"dreadstar\", \"drmies\", \"dugo\", \"dumber\", \"dumber\", \"dummasses\", \"durr\", \"easy\", \"easy\", \"easy\", \"eat\", \"eat\", \"eat\", \"eat\", \"eat\", \"eat\", \"eat\", \"ecw\", \"editing\", \"editing\", \"editing\", \"editing\", \"editing\", \"editing\", \"editing\", \"editing\", \"editing\", \"editing\", \"end\", \"end\", \"end\", \"end\", \"end\", \"end\", \"end\", \"end\", \"end\", \"end\", \"england\", \"england\", \"england\", \"england\", \"england\", \"epic\", \"eric\", \"eric\", \"even\", \"even\", \"even\", \"even\", \"even\", \"even\", \"even\", \"even\", \"even\", \"even\", \"ever\", \"ever\", \"ever\", \"ever\", \"ever\", \"ever\", \"ever\", \"ever\", \"ever\", \"everglades\", \"every\", \"every\", \"every\", \"every\", \"every\", \"every\", \"every\", \"every\", \"every\", \"every\", \"everyone\", \"everyone\", \"everyone\", \"everyone\", \"everyone\", \"everyone\", \"everyone\", \"everyone\", \"everyone\", \"everyone\", \"everything\", \"everything\", \"everything\", \"everything\", \"everything\", \"everything\", \"everything\", \"everything\", \"everything\", \"everything\", \"exactly\", \"exactly\", \"exactly\", \"exactly\", \"exactly\", \"exactly\", \"exactly\", \"exhaust\", \"exhaust\", \"existed\", \"existing\", \"existing\", \"explain\", \"explain\", \"explain\", \"explain\", \"explanation\", \"explanation\", \"explanation\", \"explanation\", \"explanation\", \"express\", \"express\", \"express\", \"expressed\", \"fabulous\", \"facebuster\", \"fact\", \"fact\", \"fact\", \"fact\", \"fact\", \"fact\", \"fact\", \"fact\", \"fact\", \"fact\", \"faggot\", \"faggot\", \"faggot\", \"faggot\", \"faggot\", \"faggot\", \"faggot\", \"faggot\", \"faggot\", \"faggot\", \"fagot\", \"family\", \"family\", \"family\", \"family\", \"family\", \"family\", \"family\", \"family\", \"fat\", \"fat\", \"fat\", \"fat\", \"fat\", \"fat\", \"fat\", \"fat\", \"fat\", \"fat\", \"fattyjwoods\", \"feel\", \"feel\", \"feel\", \"feel\", \"feel\", \"feel\", \"feel\", \"feel\", \"feel\", \"feel\", \"feminine\", \"festival\", \"fffffffff\", \"fggt\", \"fight\", \"fight\", \"fight\", \"fight\", \"fight\", \"fight\", \"fight\", \"fight\", \"film\", \"film\", \"film\", \"film\", \"film\", \"filter\", \"find\", \"find\", \"find\", \"find\", \"find\", \"find\", \"find\", \"find\", \"find\", \"find\", \"flash\", \"floor\", \"floor\", \"floor\", \"floor\", \"floor\", \"focusing\", \"fool\", \"fool\", \"fool\", \"fool\", \"fool\", \"fool\", \"fool\", \"fool\", \"fool\", \"foreign\", \"foreign\", \"foreign\", \"foreign\", \"foreign\", \"foreign\", \"foreskin\", \"francisco\", \"free\", \"free\", \"free\", \"free\", \"free\", \"free\", \"free\", \"free\", \"freedom\", \"freedom\", \"freedom\", \"freedom\", \"freedom\", \"freedom\", \"freedom\", \"friend\", \"friend\", \"friend\", \"friend\", \"friend\", \"friend\", \"friend\", \"friend\", \"friend\", \"friend\", \"friendliest\", \"friendly\", \"friendly\", \"friendly\", \"friendly\", \"fuck\", \"fuck\", \"fuck\", \"fuck\", \"fuck\", \"fuck\", \"fuck\", \"fuck\", \"fuck\", \"fuck\", \"fuckin\", \"fuckin\", \"fuckin\", \"fuckin\", \"fuckin\", \"fuckin\", \"fuckin\", \"fuckin\", \"fuckin\", \"fuckin\", \"fucking\", \"fucking\", \"fucking\", \"fucking\", \"fucking\", \"fucking\", \"fucking\", \"fucking\", \"fucking\", \"fucking\", \"fuckng\", \"fuckng\", \"fuking\", \"fuking\", \"fukng\", \"galatasaray\", \"game\", \"game\", \"game\", \"game\", \"game\", \"game\", \"game\", \"game\", \"gandu\", \"gay\", \"gay\", \"gay\", \"gay\", \"gay\", \"gay\", \"gay\", \"gay\", \"gay\", \"get\", \"get\", \"get\", \"get\", \"get\", \"get\", \"get\", \"get\", \"get\", \"get\", \"getting\", \"getting\", \"getting\", \"getting\", \"getting\", \"getting\", \"getting\", \"getting\", \"getting\", \"getting\", \"girl\", \"girl\", \"girl\", \"girl\", \"girl\", \"girl\", \"girl\", \"girl\", \"girl\", \"girl\", \"give\", \"give\", \"give\", \"give\", \"give\", \"give\", \"give\", \"give\", \"give\", \"give\", \"going\", \"going\", \"going\", \"going\", \"going\", \"going\", \"going\", \"going\", \"going\", \"going\", \"gokdel\", \"good\", \"good\", \"good\", \"good\", \"good\", \"good\", \"good\", \"good\", \"good\", \"good\", \"goof\", \"got\", \"got\", \"got\", \"got\", \"got\", \"got\", \"got\", \"got\", \"got\", \"got\", \"gravitation\", \"gray\", \"guise\", \"gun\", \"gun\", \"gun\", \"gun\", \"gun\", \"gun\", \"gun\", \"gun\", \"halfwayconscious\", \"handed\", \"handed\", \"happend\", \"happier\", \"happier\", \"hardworking\", \"hate\", \"hate\", \"hate\", \"hate\", \"hate\", \"hate\", \"hate\", \"hate\", \"hate\", \"hate\", \"hatred\", \"hatred\", \"hatred\", \"hatred\", \"hatred\", \"hatred\", \"hatred\", \"head\", \"head\", \"head\", \"head\", \"head\", \"head\", \"head\", \"head\", \"head\", \"height\", \"height\", \"height\", \"hell\", \"hell\", \"hell\", \"hell\", \"hell\", \"hell\", \"hell\", \"hell\", \"hell\", \"hell\", \"hey\", \"hey\", \"hey\", \"hey\", \"hey\", \"hey\", \"hey\", \"hey\", \"hey\", \"hey\", \"hidden\", \"high\", \"high\", \"high\", \"high\", \"high\", \"high\", \"high\", \"high\", \"history\", \"history\", \"history\", \"history\", \"history\", \"history\", \"history\", \"history\", \"history\", \"hoe\", \"hoe\", \"hoe\", \"hoe\", \"hoe\", \"hoe\", \"hoe\", \"hoe\", \"hoe\", \"hoe\", \"homophobia\", \"homophobia\", \"honey\", \"honey\", \"hrvatska\", \"hrvatska\", \"huck\", \"human\", \"human\", \"human\", \"human\", \"human\", \"human\", \"human\", \"human\", \"hungary\", \"hungary\", \"hysterical\", \"hysterical\", \"hysterical\", \"hysterical\", \"hysterical\", \"hysterical\", \"icc\", \"icc\", \"icc\", \"icc\", \"icc\", \"idiot\", \"idiot\", \"idiot\", \"idiot\", \"idiot\", \"idiot\", \"idiot\", \"idiot\", \"idiot\", \"idiot\", \"illegal\", \"illegal\", \"illegal\", \"illegal\", \"illegal\", \"illegal\", \"illegal\", \"illegal\", \"immigrant\", \"immigrant\", \"immigrant\", \"immigrant\", \"immigrant\", \"immigrant\", \"immigrant\", \"immigrant\", \"immigrant\", \"immigrant\", \"impact\", \"imperialist\", \"impression\", \"improved\", \"inchon\", \"incredible\", \"incredible\", \"incredible\", \"incredible\", \"incredible\", \"indonesia\", \"inferior\", \"inferior\", \"inferior\", \"influence\", \"influence\", \"influence\", \"informing\", \"informing\", \"inlaws\", \"insect\", \"integrity\", \"integrity\", \"interference\", \"invention\", \"irish\", \"irish\", \"irish\", \"irish\", \"islam\", \"islam\", \"islam\", \"islam\", \"islam\", \"islam\", \"islam\", \"islam\", \"iud\", \"jacko\", \"jam\", \"jebite\", \"jeffrey\", \"jerk\", \"jerk\", \"jerk\", \"jerk\", \"jerk\", \"jerk\", \"jerk\", \"jerk\", \"jerking\", \"jesi\", \"jesi\", \"jew\", \"jew\", \"jew\", \"jew\", \"jew\", \"jew\", \"jew\", \"jew\", \"jew\", \"jew\", \"jewranger\", \"jill\", \"johnson\", \"johnson\", \"johnson\", \"joseon\", \"junk\", \"kadi\", \"kalifornia\", \"kalmah\", \"kamala\", \"kannadiga\", \"kannadigas\", \"kat\", \"kat\", \"kat\", \"kat\", \"kat\", \"keep\", \"keep\", \"keep\", \"keep\", \"keep\", \"keep\", \"keep\", \"keep\", \"keep\", \"keep\", \"knight\", \"knight\", \"know\", \"know\", \"know\", \"know\", \"know\", \"know\", \"know\", \"know\", \"know\", \"know\", \"knowledge\", \"knowledge\", \"knowledge\", \"lab\", \"laid\", \"laid\", \"laid\", \"lame\", \"lame\", \"lame\", \"lame\", \"lame\", \"land\", \"land\", \"land\", \"land\", \"land\", \"land\", \"landscape\", \"lassie\", \"lazlo\", \"least\", \"least\", \"least\", \"least\", \"least\", \"least\", \"least\", \"least\", \"least\", \"leave\", \"leave\", \"leave\", \"leave\", \"leave\", \"leave\", \"leave\", \"leave\", \"leave\", \"left\", \"left\", \"left\", \"left\", \"left\", \"left\", \"left\", \"left\", \"left\", \"left\", \"let\", \"let\", \"let\", \"let\", \"let\", \"let\", \"let\", \"let\", \"let\", \"let\", \"licker\", \"lie\", \"lie\", \"lie\", \"lie\", \"lie\", \"lie\", \"lie\", \"lie\", \"lie\", \"lie\", \"life\", \"life\", \"life\", \"life\", \"life\", \"life\", \"life\", \"life\", \"life\", \"life\", \"like\", \"like\", \"like\", \"like\", \"like\", \"like\", \"like\", \"like\", \"like\", \"like\", \"limp\", \"little\", \"little\", \"little\", \"little\", \"little\", \"little\", \"little\", \"little\", \"little\", \"little\", \"live\", \"live\", \"live\", \"live\", \"live\", \"live\", \"live\", \"live\", \"live\", \"live\", \"living\", \"living\", \"living\", \"living\", \"living\", \"living\", \"living\", \"located\", \"look\", \"look\", \"look\", \"look\", \"look\", \"look\", \"look\", \"look\", \"look\", \"look\", \"looking\", \"looking\", \"looking\", \"looking\", \"looking\", \"looking\", \"looking\", \"looking\", \"love\", \"love\", \"love\", \"love\", \"love\", \"love\", \"love\", \"love\", \"love\", \"love\", \"loveliest\", \"lovely\", \"lovely\", \"lovely\", \"lyric\", \"machine\", \"made\", \"made\", \"made\", \"made\", \"made\", \"made\", \"made\", \"made\", \"made\", \"made\", \"maggie\", \"make\", \"make\", \"make\", \"make\", \"make\", \"make\", \"make\", \"make\", \"make\", \"make\", \"malicious\", \"man\", \"man\", \"man\", \"man\", \"man\", \"man\", \"man\", \"man\", \"man\", \"man\", \"manner\", \"manner\", \"manner\", \"manner\", \"many\", \"many\", \"many\", \"many\", \"many\", \"many\", \"many\", \"many\", \"many\", \"many\", \"marry\", \"marry\", \"marry\", \"marxist\", \"marxist\", \"may\", \"may\", \"may\", \"may\", \"may\", \"may\", \"may\", \"may\", \"may\", \"maybe\", \"maybe\", \"maybe\", \"maybe\", \"maybe\", \"maybe\", \"maybe\", \"maybe\", \"maybe\", \"mean\", \"mean\", \"mean\", \"mean\", \"mean\", \"mean\", \"mean\", \"mean\", \"mean\", \"mean\", \"medal\", \"melania\", \"melodic\", \"men\", \"men\", \"men\", \"men\", \"men\", \"men\", \"men\", \"men\", \"men\", \"men\", \"mentally\", \"mentally\", \"mentally\", \"mentally\", \"mentally\", \"mentally\", \"mentally\", \"mentally\", \"merely\", \"merely\", \"merely\", \"mestizo\", \"metal\", \"metal\", \"metal\", \"metal\", \"middle\", \"middle\", \"middle\", \"middle\", \"middle\", \"middle\", \"mindless\", \"missile\", \"mlau\", \"monkey\", \"monkey\", \"monkey\", \"monkey\", \"monkey\", \"monkey\", \"mother\", \"mother\", \"mother\", \"mother\", \"mother\", \"mother\", \"mother\", \"mother\", \"mother\", \"motherfucker\", \"motherfucker\", \"motherfucker\", \"motherfucker\", \"motherfucker\", \"motherfucker\", \"motherfucker\", \"motherfucking\", \"motherfucking\", \"motherfucking\", \"mountain\", \"mtv\", \"much\", \"much\", \"much\", \"much\", \"much\", \"much\", \"much\", \"much\", \"much\", \"much\", \"muslim\", \"muslim\", \"muslim\", \"muslim\", \"muslim\", \"muslim\", \"muslim\", \"muslim\", \"muslim\", \"must\", \"must\", \"must\", \"must\", \"must\", \"must\", \"must\", \"must\", \"must\", \"naconkantari\", \"nag\", \"name\", \"name\", \"name\", \"name\", \"name\", \"name\", \"name\", \"name\", \"name\", \"name\", \"natural\", \"natural\", \"natural\", \"natural\", \"need\", \"need\", \"need\", \"need\", \"need\", \"need\", \"need\", \"need\", \"need\", \"need\", \"negative\", \"negative\", \"negative\", \"negotiated\", \"neighbor\", \"neighbor\", \"neka\", \"neka\", \"neka\", \"neka\", \"nerd\", \"nerd\", \"nerd\", \"nerd\", \"nerd\", \"nerd\", \"never\", \"never\", \"never\", \"never\", \"never\", \"never\", \"never\", \"never\", \"never\", \"never\", \"news\", \"news\", \"news\", \"news\", \"news\", \"news\", \"news\", \"news\", \"news\", \"news\", \"nice\", \"nice\", \"nice\", \"nice\", \"nice\", \"nice\", \"nice\", \"nice\", \"nice\", \"nice\", \"nigerian\", \"nigerian\", \"ninnyhammers\", \"noone\", \"noone\", \"noone\", \"norice\", \"north\", \"north\", \"north\", \"norther\", \"notability\", \"nothing\", \"nothing\", \"nothing\", \"nothing\", \"nothing\", \"nothing\", \"nothing\", \"nothing\", \"nothing\", \"nothing\", \"nowadays\", \"nowadays\", \"nowadays\", \"oak\", \"obvious\", \"obvious\", \"obvious\", \"obvious\", \"obvious\", \"occur\", \"occur\", \"oces\", \"old\", \"old\", \"old\", \"old\", \"old\", \"old\", \"old\", \"old\", \"old\", \"one\", \"one\", \"one\", \"one\", \"one\", \"one\", \"one\", \"one\", \"one\", \"one\", \"oooh\", \"opinion\", \"opinion\", \"opinion\", \"opinion\", \"opinion\", \"opinion\", \"opinion\", \"opposite\", \"opposite\", \"ovechkin\", \"padding\", \"page\", \"page\", \"page\", \"page\", \"page\", \"page\", \"page\", \"page\", \"page\", \"page\", \"parody\", \"particularly\", \"particularly\", \"particularly\", \"particularly\", \"particularly\", \"particularly\", \"pas\", \"pas\", \"pas\", \"pas\", \"pas\", \"pas\", \"patrolling\", \"pavement\", \"payer\", \"paying\", \"paying\", \"paying\", \"paying\", \"paying\", \"pebble\", \"pederast\", \"peneltized\", \"penis\", \"penis\", \"penis\", \"penis\", \"penis\", \"penis\", \"penis\", \"people\", \"people\", \"people\", \"people\", \"people\", \"people\", \"people\", \"people\", \"people\", \"people\", \"perry\", \"perseveration\", \"persib\", \"personal\", \"personal\", \"personal\", \"personal\", \"personal\", \"personal\", \"personal\", \"personal\", \"personal\", \"personal\", \"phanatical\", \"phenomenon\", \"picturesque\", \"piece\", \"piece\", \"piece\", \"piece\", \"piece\", \"piece\", \"piece\", \"piece\", \"pimply\", \"play\", \"play\", \"play\", \"play\", \"play\", \"play\", \"play\", \"play\", \"play\", \"play\", \"please\", \"please\", \"please\", \"please\", \"please\", \"please\", \"please\", \"please\", \"please\", \"please\", \"pokemon\", \"pomo\", \"pomo\", \"poorly\", \"population\", \"population\", \"population\", \"population\", \"population\", \"population\", \"position\", \"position\", \"position\", \"position\", \"pouzdano\", \"preceding\", \"preceding\", \"preceding\", \"preceding\", \"president\", \"president\", \"president\", \"president\", \"president\", \"president\", \"president\", \"primarily\", \"primitive\", \"primitive\", \"primitive\", \"problematic\", \"prohibit\", \"promotion\", \"proportion\", \"proportion\", \"puberty\", \"pulling\", \"quoting\", \"quoting\", \"race\", \"race\", \"race\", \"race\", \"race\", \"race\", \"race\", \"race\", \"race\", \"race\", \"racist\", \"racist\", \"racist\", \"racist\", \"racist\", \"racist\", \"racist\", \"racist\", \"racist\", \"racist\", \"rambo\", \"random\", \"random\", \"random\", \"random\", \"rape\", \"rape\", \"rape\", \"rape\", \"rape\", \"rape\", \"rape\", \"rape\", \"rape\", \"raped\", \"raped\", \"raped\", \"raped\", \"raped\", \"raped\", \"raped\", \"rapper\", \"rational\", \"really\", \"really\", \"really\", \"really\", \"really\", \"really\", \"really\", \"really\", \"really\", \"really\", \"reason\", \"reason\", \"reason\", \"reason\", \"reason\", \"reason\", \"reason\", \"reason\", \"reason\", \"reason\", \"refugee\", \"refugee\", \"refugee\", \"refugee\", \"refugee\", \"refugee\", \"refugee\", \"refugee\", \"refugee\", \"refugee\", \"regularly\", \"renault\", \"reset\", \"respect\", \"respect\", \"respect\", \"respect\", \"respect\", \"respect\", \"respect\", \"respect\", \"retard\", \"retard\", \"retard\", \"retard\", \"retard\", \"retard\", \"retard\", \"retard\", \"returning\", \"ridiculous\", \"ridiculous\", \"ridiculous\", \"ridiculous\", \"ridiculous\", \"right\", \"right\", \"right\", \"right\", \"right\", \"right\", \"right\", \"right\", \"right\", \"right\", \"rinkin\", \"road\", \"road\", \"road\", \"road\", \"road\", \"road\", \"road\", \"road\", \"robber\", \"root\", \"root\", \"rowspan\", \"rowspan\", \"royal\", \"ruin\", \"ruin\", \"ruin\", \"ruin\", \"ruin\", \"ruin\", \"ruin\", \"ruling\", \"san\", \"san\", \"san\", \"san\", \"say\", \"say\", \"say\", \"say\", \"say\", \"say\", \"say\", \"say\", \"say\", \"say\", \"school\", \"school\", \"school\", \"school\", \"school\", \"school\", \"school\", \"school\", \"school\", \"scope\", \"scope\", \"sean\", \"sean\", \"sean\", \"see\", \"see\", \"see\", \"see\", \"see\", \"see\", \"see\", \"see\", \"see\", \"see\", \"seen\", \"seen\", \"seen\", \"seen\", \"seen\", \"seen\", \"seen\", \"seen\", \"seen\", \"semiprotected\", \"sense\", \"sense\", \"sense\", \"sense\", \"sense\", \"sense\", \"sense\", \"setaju\", \"sexism\", \"sexism\", \"sexism\", \"sexist\", \"sexist\", \"sexist\", \"sexist\", \"sexist\", \"sexist\", \"sexist\", \"sexist\", \"sexist\", \"shame\", \"shame\", \"shame\", \"shame\", \"shame\", \"shame\", \"shame\", \"shape\", \"sheffield\", \"shit\", \"shit\", \"shit\", \"shit\", \"shit\", \"shit\", \"shit\", \"shit\", \"shit\", \"shit\", \"shithole\", \"shithole\", \"shithole\", \"shithole\", \"shithole\", \"shithole\", \"show\", \"show\", \"show\", \"show\", \"show\", \"show\", \"show\", \"show\", \"show\", \"show\", \"shower\", \"shower\", \"sidewalk\", \"simple\", \"simple\", \"simple\", \"simple\", \"simple\", \"simple\", \"simply\", \"simply\", \"simply\", \"simply\", \"simply\", \"simply\", \"simply\", \"sits\", \"skill\", \"skill\", \"skill\", \"skill\", \"skip\", \"skunk\", \"slap\", \"slap\", \"slap\", \"slavery\", \"slavery\", \"slavery\", \"slick\", \"slur\", \"slur\", \"smart\", \"smart\", \"smart\", \"smart\", \"smart\", \"smug\", \"smug\", \"smug\", \"snafu\", \"sneaky\", \"snollygosters\", \"snowflake\", \"snowflake\", \"sock\", \"sock\", \"sock\", \"sock\", \"sock\", \"sock\", \"sockpuppet\", \"sockpuppet\", \"sockpuppet\", \"sockpuppet\", \"sockpuppet\", \"sockpuppeting\", \"solid\", \"solid\", \"solid\", \"someone\", \"someone\", \"someone\", \"someone\", \"someone\", \"someone\", \"someone\", \"someone\", \"someone\", \"someone\", \"something\", \"something\", \"something\", \"something\", \"something\", \"something\", \"something\", \"something\", \"something\", \"sort\", \"sort\", \"sort\", \"sort\", \"sort\", \"sort\", \"sort\", \"soviet\", \"spare\", \"speech\", \"speech\", \"speech\", \"speech\", \"speech\", \"speech\", \"speech\", \"splatter\", \"spoiling\", \"squeak\", \"srca\", \"stalker\", \"stalker\", \"stalker\", \"stalker\", \"still\", \"still\", \"still\", \"still\", \"still\", \"still\", \"still\", \"still\", \"still\", \"still\", \"stink\", \"stink\", \"stink\", \"stop\", \"stop\", \"stop\", \"stop\", \"stop\", \"stop\", \"stop\", \"stop\", \"stop\", \"stop\", \"strict\", \"strict\", \"stupid\", \"stupid\", \"stupid\", \"stupid\", \"stupid\", \"stupid\", \"stupid\", \"stupid\", \"stupid\", \"stupid\", \"stylebackgroundcolor\", \"stylefontsize\", \"styleverticalalign\", \"suck\", \"suck\", \"suck\", \"suck\", \"suck\", \"suck\", \"suck\", \"suck\", \"suck\", \"suck\", \"supermarket\", \"surprised\", \"surprised\", \"surprised\", \"surrender\", \"switzerland\", \"take\", \"take\", \"take\", \"take\", \"take\", \"take\", \"take\", \"take\", \"take\", \"take\", \"talk\", \"talk\", \"talk\", \"talk\", \"talk\", \"talk\", \"talk\", \"talk\", \"talk\", \"talk\", \"targeting\", \"targeting\", \"targeting\", \"tax\", \"tax\", \"tax\", \"tax\", \"teabagger\", \"teaming\", \"teaming\", \"teh\", \"tell\", \"tell\", \"tell\", \"tell\", \"tell\", \"tell\", \"tell\", \"tell\", \"tell\", \"tell\", \"tennis\", \"tennis\", \"terri\", \"terri\", \"tesco\", \"teski\", \"thank\", \"thank\", \"thank\", \"thank\", \"thank\", \"thank\", \"thank\", \"thank\", \"thank\", \"thank\", \"thats\", \"thats\", \"thats\", \"thing\", \"thing\", \"thing\", \"thing\", \"thing\", \"thing\", \"thing\", \"thing\", \"thing\", \"thing\", \"think\", \"think\", \"think\", \"think\", \"think\", \"think\", \"think\", \"think\", \"think\", \"think\", \"thor\", \"thousand\", \"thousand\", \"thousand\", \"thousand\", \"thousand\", \"thousand\", \"thousand\", \"thracian\", \"thrash\", \"time\", \"time\", \"time\", \"time\", \"time\", \"time\", \"time\", \"time\", \"time\", \"time\", \"top\", \"top\", \"top\", \"top\", \"top\", \"top\", \"top\", \"top\", \"top\", \"tosh\", \"toward\", \"toward\", \"toward\", \"towards\", \"towards\", \"towards\", \"towards\", \"trae\", \"trae\", \"trafficking\", \"trollish\", \"trollish\", \"trout\", \"trout\", \"two\", \"two\", \"two\", \"two\", \"two\", \"two\", \"two\", \"two\", \"two\", \"two\", \"ufc\", \"unconstructive\", \"undermine\", \"undoubtedly\", \"unlock\", \"unsigned\", \"unsigned\", \"unsigned\", \"unsigned\", \"urge\", \"use\", \"use\", \"use\", \"use\", \"use\", \"use\", \"use\", \"use\", \"use\", \"use\", \"user\", \"user\", \"user\", \"user\", \"user\", \"user\", \"user\", \"user\", \"user\", \"user\", \"usually\", \"usually\", \"usually\", \"usually\", \"usually\", \"usually\", \"uuuuu\", \"uuuuuu\", \"vandalize\", \"vandalize\", \"vandalize\", \"vandalize\", \"vandalize\", \"vandalize\", \"vandalizing\", \"vandalizing\", \"vandalizing\", \"vandalizing\", \"vandalizing\", \"vbutt\", \"verl\", \"vill\", \"violence\", \"violence\", \"violence\", \"violence\", \"violence\", \"violence\", \"violence\", \"violence\", \"violence\", \"vote\", \"vote\", \"vote\", \"vote\", \"vote\", \"voted\", \"voted\", \"voted\", \"wanker\", \"wanker\", \"wanker\", \"want\", \"want\", \"want\", \"want\", \"want\", \"want\", \"want\", \"want\", \"want\", \"want\", \"warning\", \"warning\", \"warning\", \"warning\", \"warning\", \"warning\", \"warning\", \"warning\", \"warning\", \"warraq\", \"washer\", \"washout\", \"watch\", \"watch\", \"watch\", \"watch\", \"watch\", \"watch\", \"watch\", \"watch\", \"watch\", \"way\", \"way\", \"way\", \"way\", \"way\", \"way\", \"way\", \"way\", \"way\", \"well\", \"well\", \"well\", \"well\", \"well\", \"well\", \"well\", \"well\", \"well\", \"well\", \"welsh\", \"whiney\", \"white\", \"white\", \"white\", \"white\", \"white\", \"white\", \"white\", \"white\", \"white\", \"white\", \"whole\", \"whole\", \"whole\", \"whole\", \"whole\", \"whole\", \"whole\", \"whole\", \"whore\", \"whore\", \"whore\", \"whore\", \"whore\", \"whore\", \"whore\", \"whore\", \"whore\", \"wikipedia\", \"wikipedia\", \"wikipedia\", \"wikipedia\", \"wikipedia\", \"wikipedia\", \"wikipedia\", \"wikipedia\", \"wikipedia\", \"wikipedia\", \"wikipedidiots\", \"wikipeen\", \"wikipeida\", \"wikzilla\", \"wikzilla\", \"wikzilla\", \"willingly\", \"wisconsin\", \"wish\", \"wish\", \"wish\", \"wish\", \"wish\", \"wish\", \"wish\", \"wish\", \"wish\", \"woman\", \"woman\", \"woman\", \"woman\", \"woman\", \"woman\", \"woman\", \"woman\", \"woman\", \"woman\", \"wonderful\", \"wonderful\", \"wonderful\", \"work\", \"work\", \"work\", \"work\", \"work\", \"work\", \"work\", \"work\", \"work\", \"work\", \"worker\", \"worker\", \"worker\", \"worker\", \"worker\", \"worker\", \"world\", \"world\", \"world\", \"world\", \"world\", \"world\", \"world\", \"world\", \"world\", \"would\", \"would\", \"would\", \"would\", \"would\", \"would\", \"would\", \"would\", \"would\", \"would\", \"wrist\", \"written\", \"written\", \"written\", \"written\", \"written\", \"written\", \"written\", \"written\", \"wrong\", \"wrong\", \"wrong\", \"wrong\", \"wrong\", \"wrong\", \"wrong\", \"wrong\", \"wrong\", \"wrong\", \"wth\", \"xlarge\", \"year\", \"year\", \"year\", \"year\", \"year\", \"year\", \"year\", \"year\", \"year\", \"year\", \"youe\", \"youre\", \"youre\"]}, \"R\": 30, \"lambda.step\": 0.01, \"plot.opts\": {\"xlab\": \"PC1\", \"ylab\": \"PC2\"}, \"topic.order\": [1, 2, 3, 4, 5, 6, 7, 8, 9, 10]};\n",
              "\n",
              "function LDAvis_load_lib(url, callback){\n",
              "  var s = document.createElement('script');\n",
              "  s.src = url;\n",
              "  s.async = true;\n",
              "  s.onreadystatechange = s.onload = callback;\n",
              "  s.onerror = function(){console.warn(\"failed to load library \" + url);};\n",
              "  document.getElementsByTagName(\"head\")[0].appendChild(s);\n",
              "}\n",
              "\n",
              "if(typeof(LDAvis) !== \"undefined\"){\n",
              "   // already loaded: just create the visualization\n",
              "   !function(LDAvis){\n",
              "       new LDAvis(\"#\" + \"ldavis_el164491359520776256486057615415\", ldavis_el164491359520776256486057615415_data);\n",
              "   }(LDAvis);\n",
              "}else if(typeof define === \"function\" && define.amd){\n",
              "   // require.js is available: use it to load d3/LDAvis\n",
              "   require.config({paths: {d3: \"https://d3js.org/d3.v5\"}});\n",
              "   require([\"d3\"], function(d3){\n",
              "      window.d3 = d3;\n",
              "      LDAvis_load_lib(\"https://cdn.jsdelivr.net/gh/bmabey/pyLDAvis@3.4.0/pyLDAvis/js/ldavis.v3.0.0.js\", function(){\n",
              "        new LDAvis(\"#\" + \"ldavis_el164491359520776256486057615415\", ldavis_el164491359520776256486057615415_data);\n",
              "      });\n",
              "    });\n",
              "}else{\n",
              "    // require.js not available: dynamically load d3 & LDAvis\n",
              "    LDAvis_load_lib(\"https://d3js.org/d3.v5.js\", function(){\n",
              "         LDAvis_load_lib(\"https://cdn.jsdelivr.net/gh/bmabey/pyLDAvis@3.4.0/pyLDAvis/js/ldavis.v3.0.0.js\", function(){\n",
              "                 new LDAvis(\"#\" + \"ldavis_el164491359520776256486057615415\", ldavis_el164491359520776256486057615415_data);\n",
              "            })\n",
              "         });\n",
              "}\n",
              "</script>"
            ]
          },
          "metadata": {},
          "execution_count": 41
        }
      ]
    },
    {
      "cell_type": "markdown",
      "source": [
        "- The above visualization shows the 10 extracted topics from the hate speech data.\n",
        "- On the right side, we can see the most used keywords in the whole hate speech data.\n",
        "- looking at the keywords, we can roughly guess the context of the hate speech.\n",
        "- It's also clear that in hate speech swear words and general hate speech contexts words are included.\n",
        "- On the left side, position of bubbles tell us that topics 7, 2, 10, 8, and 6 are close to each other. Therefore, context of these topics are similar to each other in general.\n",
        "- Also we can see that topics 1, 3, and 5 are placed far from others. This represents that context of these topics are different from the others.\n",
        "- Using the visualization we can also check the frequency of usage of different words. For instance, let's check keyword `woman`. Hovering of this keyword, results in changing size of the bubbles. Size of bubbles 2, 5, and 6 are increased respectively. Bubble 2 has the biggest size that means the word woman is used more in topic 2 compare to the other topics.\n",
        "- Additionally for `black`, topic 5 is increased significantly. This shows that more content about this keyword is existing in this topic"
      ],
      "metadata": {
        "id": "Lt1TCUVy8Y4z"
      }
    },
    {
      "cell_type": "markdown",
      "source": [
        "## Topic modeling for NOT hate speech data"
      ],
      "metadata": {
        "id": "w5hQvlpA_GNp"
      }
    },
    {
      "cell_type": "code",
      "source": [
        "generate_ldavis(not_hate_speech_data, 'content_cleaned', max_topics=10)"
      ],
      "metadata": {
        "colab": {
          "base_uri": "https://localhost:8080/",
          "height": 916
        },
        "id": "2H7dNvgb27pI",
        "outputId": "27c7d3cd-2a0a-411e-b9ad-5bce31055462"
      },
      "execution_count": 42,
      "outputs": [
        {
          "output_type": "stream",
          "name": "stderr",
          "text": [
            "/usr/local/lib/python3.10/dist-packages/ipykernel/ipkernel.py:283: DeprecationWarning: `should_run_async` will not call `transform_cell` automatically in the future. Please pass the result to `transformed_cell` argument and any exception that happen during thetransform in `preprocessing_exc_tuple` in IPython 7.17 and above.\n",
            "  and should_run_async(code)\n"
          ]
        },
        {
          "output_type": "execute_result",
          "data": {
            "text/plain": [
              "<IPython.core.display.HTML object>"
            ],
            "text/html": [
              "\n",
              "<link rel=\"stylesheet\" type=\"text/css\" href=\"https://cdn.jsdelivr.net/gh/bmabey/pyLDAvis@3.4.0/pyLDAvis/js/ldavis.v1.0.0.css\">\n",
              "\n",
              "\n",
              "<div id=\"ldavis_el164491359589878849126713635375\" style=\"background-color:white;\"></div>\n",
              "<script type=\"text/javascript\">\n",
              "\n",
              "var ldavis_el164491359589878849126713635375_data = {\"mdsDat\": {\"x\": [0.008222713386435803, -0.08309322155139783, 0.0703989221394187, -0.008639422652852223, 0.13061962782405268, -0.026108800591762623, 0.007092856417031956, -0.04830739397790191, 0.010944354621176043, -0.061129635614200706], \"y\": [-0.00544244478923543, -0.12772314455681338, -0.038398506993256136, 0.013092732200007706, -0.01545775392640437, 0.004768685445313484, 0.024768214008400204, 0.04668001426053165, 0.03391189918026225, 0.06380030517119403], \"topics\": [1, 2, 3, 4, 5, 6, 7, 8, 9, 10], \"cluster\": [1, 1, 1, 1, 1, 1, 1, 1, 1, 1], \"Freq\": [11.179136457291017, 5.918954369838883, 11.131636241677754, 11.861281896084114, 10.784925570760988, 7.652689859188174, 15.634993524434257, 7.516298301882442, 11.800105954217923, 6.5199778246244495]}, \"tinfo\": {\"Term\": [\"blocked\", \"editing\", \"continue\", \"please\", \"vandalize\", \"test\", \"wikipedia\", \"page\", \"like\", \"sandbox\", \"welcome\", \"stop\", \"edit\", \"image\", \"reverted\", \"encyclopedia\", \"doe\", \"learn\", \"time\", \"contributing\", \"attack\", \"bitch\", \"article\", \"said\", \"policy\", \"section\", \"people\", \"know\", \"band\", \"personal\", \"padding\", \"styleverticalalign\", \"stylebackgroundcolor\", \"rowspan\", \"stylefontsize\", \"solid\", \"xlarge\", \"wasting\", \"kbps\", \"kurd\", \"mgtow\", \"latino\", \"cease\", \"oasis\", \"doula\", \"cpu\", \"everglades\", \"styleborder\", \"bordertop\", \"verticalalign\", \"valignmiddle\", \"ranjit\", \"rohl\", \"ravin\", \"hbk\", \"tisuca\", \"matun\", \"khost\", \"backgroundcolor\", \"bps\", \"border\", \"privilege\", \"middle\", \"height\", \"barnstar\", \"ignore\", \"bully\", \"subsaharan\", \"portal\", \"gray\", \"proxy\", \"tag\", \"scientology\", \"luck\", \"amazing\", \"wait\", \"going\", \"time\", \"good\", \"see\", \"infobox\", \"back\", \"help\", \"one\", \"sure\", \"article\", \"like\", \"people\", \"great\", \"want\", \"picture\", \"lot\", \"change\", \"would\", \"make\", \"utc\", \"first\", \"thanks\", \"page\", \"thing\", \"think\", \"know\", \"really\", \"please\", \"get\", \"edits\", \"use\", \"also\", \"look\", \"thank\", \"wikipedia\", \"projection\", \"espinola\", \"enc\", \"exmethodist\", \"vaccine\", \"slave\", \"strategically\", \"abrahamic\", \"yatsenyuk\", \"arseniy\", \"rfcyou\", \"heath\", \"mcknight\", \"spilling\", \"invest\", \"hut\", \"meetup\", \"prakrit\", \"charter\", \"bowen\", \"mineral\", \"llc\", \"raw\", \"misrepresenting\", \"poser\", \"msm\", \"tennessee\", \"midtide\", \"eistlands\", \"roast\", \"catholic\", \"leather\", \"boat\", \"designed\", \"worker\", \"flower\", \"food\", \"white\", \"tell\", \"woman\", \"truth\", \"vote\", \"approved\", \"lesbian\", \"bank\", \"still\", \"roman\", \"know\", \"trash\", \"people\", \"girl\", \"june\", \"nationalist\", \"article\", \"utc\", \"new\", \"stop\", \"believe\", \"though\", \"except\", \"would\", \"need\", \"edits\", \"get\", \"one\", \"want\", \"even\", \"think\", \"doe\", \"make\", \"user\", \"called\", \"like\", \"see\", \"way\", \"fact\", \"time\", \"talk\", \"page\", \"wikipedia\", \"vandalize\", \"continue\", \"repost\", \"monarchy\", \"cuisine\", \"becuase\", \"spamming\", \"asayi\", \"concensus\", \"bike\", \"wikipediabiographies\", \"nla\", \"fruit\", \"dysgenics\", \"coordinator\", \"philippino\", \"repressed\", \"introducing\", \"pug\", \"fedex\", \"mathematical\", \"infomercial\", \"castells\", \"manuel\", \"hadith\", \"gathered\", \"agnostic\", \"istria\", \"madeline\", \"bestselling\", \"editing\", \"everywhere\", \"behalf\", \"blocked\", \"wave\", \"attack\", \"irrelevant\", \"propose\", \"pseudoscience\", \"personal\", \"stop\", \"router\", \"policy\", \"disruptive\", \"wikipedia\", \"edit\", \"shared\", \"please\", \"tolerated\", \"address\", \"strict\", \"offended\", \"account\", \"shot\", \"content\", \"page\", \"way\", \"german\", \"reason\", \"avoid\", \"start\", \"would\", \"talk\", \"information\", \"new\", \"article\", \"better\", \"user\", \"mean\", \"make\", \"fact\", \"one\", \"need\", \"also\", \"think\", \"may\", \"see\", \"get\", \"famine\", \"astor\", \"woodstock\", \"unicode\", \"rico\", \"puerto\", \"wolff\", \"lacrosse\", \"categorynational\", \"lepore\", \"socially\", \"alva\", \"kant\", \"straw\", \"whore\", \"physically\", \"lyric\", \"bringing\", \"mythpunk\", \"cardinal\", \"acresso\", \"jos\", \"montoya\", \"malay\", \"dignity\", \"legalistic\", \"widget\", \"asteroid\", \"fsn\", \"drumming\", \"fraud\", \"rome\", \"venue\", \"contract\", \"teaching\", \"unreliable\", \"category\", \"merging\", \"evil\", \"cia\", \"website\", \"sock\", \"doe\", \"like\", \"art\", \"participate\", \"theory\", \"law\", \"scientist\", \"user\", \"opinion\", \"get\", \"also\", \"think\", \"would\", \"everyone\", \"want\", \"french\", \"could\", \"game\", \"discussion\", \"bitch\", \"really\", \"thing\", \"editor\", \"say\", \"know\", \"make\", \"article\", \"please\", \"see\", \"comment\", \"someone\", \"one\", \"talk\", \"people\", \"add\", \"way\", \"right\", \"page\", \"name\", \"thanks\", \"good\", \"experimenting\", \"wikipediafiles\", \"wikipediaimages\", \"sandbox\", \"test\", \"metal\", \"contributing\", \"temporarily\", \"austin\", \"autoblock\", \"manitoba\", \"uploaded\", \"libertarianism\", \"diplomatic\", \"ndp\", \"masjid\", \"coin\", \"baiting\", \"learn\", \"webstorm\", \"fileesmebiancojpg\", \"marching\", \"pornographic\", \"encyclopedia\", \"experiment\", \"eurovision\", \"band\", \"unincorporated\", \"artillery\", \"babur\", \"welcome\", \"altered\", \"jpg\", \"reverted\", \"nonsense\", \"worked\", \"file\", \"refrain\", \"initial\", \"listed\", \"interested\", \"contact\", \"please\", \"thank\", \"block\", \"removed\", \"use\", \"edit\", \"image\", \"wikipedia\", \"may\", \"page\", \"vandalism\", \"deletion\", \"like\", \"look\", \"source\", \"would\", \"see\", \"article\", \"take\", \"want\", \"link\", \"talk\", \"well\", \"find\", \"woohoo\", \"simon\", \"conservapedia\", \"png\", \"glagolitic\", \"azarbaijan\", \"wikipediasuspected\", \"barren\", \"imdbcom\", \"resignation\", \"arma\", \"rosa\", \"doo\", \"costume\", \"sabry\", \"extension\", \"chan\", \"wikidata\", \"parenthesis\", \"eyebrow\", \"photoshopped\", \"almglocken\", \"rookie\", \"cooperate\", \"alignleft\", \"smiling\", \"strap\", \"skill\", \"happiness\", \"tuned\", \"biden\", \"sockpuppetry\", \"pine\", \"jordan\", \"composer\", \"tamil\", \"filing\", \"rain\", \"copyright\", \"concept\", \"everybody\", \"party\", \"bitch\", \"alphabet\", \"time\", \"wrote\", \"ind\", \"santa\", \"exchange\", \"full\", \"daniel\", \"fascism\", \"department\", \"language\", \"movie\", \"got\", \"someone\", \"took\", \"page\", \"could\", \"site\", \"clean\", \"good\", \"get\", \"attention\", \"war\", \"source\", \"hair\", \"know\", \"make\", \"talk\", \"utc\", \"really\", \"evidence\", \"see\", \"one\", \"please\", \"information\", \"find\", \"doe\", \"image\", \"reason\", \"article\", \"people\", \"wikipedia\", \"would\", \"think\", \"link\", \"point\", \"quagmire\", \"billboard\", \"csd\", \"nxt\", \"orca\", \"undid\", \"feedback\", \"prophecy\", \"seanad\", \"honorverse\", \"headache\", \"gaffe\", \"masculine\", \"byu\", \"phun\", \"silk\", \"jersey\", \"bnp\", \"judgment\", \"mongo\", \"contested\", \"barack\", \"patent\", \"gun\", \"speedy\", \"bible\", \"mokhachane\", \"meatball\", \"charcters\", \"snowmobile\", \"hybrid\", \"continent\", \"apologize\", \"undertake\", \"saw\", \"page\", \"control\", \"jew\", \"thanks\", \"talk\", \"greeting\", \"reply\", \"never\", \"responsible\", \"bored\", \"sorry\", \"hit\", \"wrong\", \"name\", \"actually\", \"article\", \"school\", \"thought\", \"people\", \"ever\", \"word\", \"know\", \"hoe\", \"add\", \"would\", \"look\", \"say\", \"book\", \"like\", \"one\", \"source\", \"think\", \"could\", \"see\", \"reference\", \"get\", \"really\", \"bitch\", \"fact\", \"link\", \"also\", \"doe\", \"please\", \"good\", \"tabtab\", \"cresswell\", \"cactus\", \"chess\", \"inertia\", \"tracs\", \"kong\", \"graffiti\", \"karachi\", \"noticeboardincidents\", \"queer\", \"ukelin\", \"multics\", \"toddao\", \"conteh\", \"loo\", \"kali\", \"actuality\", \"dreamguy\", \"senior\", \"allusion\", \"polar\", \"recreated\", \"transit\", \"bonomo\", \"catagory\", \"wpprimary\", \"xbox\", \"scholarship\", \"tutorial\", \"inform\", \"painting\", \"coi\", \"kiss\", \"wikipediaadministrators\", \"newsletter\", \"russian\", \"exact\", \"united\", \"userpage\", \"said\", \"wikiproject\", \"issue\", \"fed\", \"serbian\", \"string\", \"kosovo\", \"danny\", \"player\", \"even\", \"hopefully\", \"article\", \"state\", \"one\", \"still\", \"moved\", \"yes\", \"present\", \"page\", \"back\", \"would\", \"name\", \"version\", \"like\", \"doe\", \"comment\", \"discussion\", \"country\", \"work\", \"user\", \"use\", \"sure\", \"let\", \"give\", \"think\", \"wikipedia\", \"talk\", \"see\", \"day\", \"well\", \"get\", \"source\", \"may\", \"know\", \"take\", \"unsigned\", \"preceding\", \"lancashire\", \"standardtalk\", \"gravitational\", \"null\", \"simulator\", \"adapt\", \"clothes\", \"torr\", \"codegear\", \"mori\", \"accessible\", \"metre\", \"pumping\", \"styletextaligncenter\", \"widthpx\", \"pederasty\", \"chronological\", \"chemistry\", \"pseudoscientific\", \"granule\", \"axis\", \"extraction\", \"pelasgian\", \"bassoon\", \"zeybek\", \"polynesian\", \"bla\", \"nepal\", \"archived\", \"film\", \"transcluded\", \"reception\", \"joseph\", \"tear\", \"paragraph\", \"expand\", \"guitar\", \"county\", \"tour\", \"section\", \"season\", \"review\", \"comment\", \"first\", \"whale\", \"article\", \"volume\", \"root\", \"episode\", \"make\", \"liberal\", \"added\", \"point\", \"sense\", \"need\", \"change\", \"mention\", \"longer\", \"album\", \"time\", \"discussion\", \"think\", \"conservative\", \"without\", \"also\", \"edits\", \"doe\", \"two\", \"list\", \"one\", \"made\", \"read\", \"much\", \"link\", \"even\", \"thanks\", \"could\", \"page\", \"please\", \"would\", \"people\", \"look\", \"source\", \"nasal\", \"milton\", \"nobel\", \"photoshop\", \"laureate\", \"rift\", \"abu\", \"dominance\", \"pesticide\", \"herbicide\", \"biti\", \"norse\", \"npa\", \"sabatas\", \"tread\", \"artile\", \"appriciate\", \"goldhagens\", \"jesse\", \"joppa\", \"woodbridge\", \"cyberbullying\", \"fannie\", \"kriol\", \"dec\", \"nonmuslims\", \"raioane\", \"periodization\", \"limb\", \"luke\", \"turk\", \"lab\", \"arsehole\", \"hamas\", \"confirms\", \"romanian\", \"latin\", \"permanently\", \"youtube\", \"district\", \"unreferenced\", \"china\", \"azeri\", \"image\", \"hostility\", \"barrier\", \"settled\", \"controversy\", \"drew\", \"beside\", \"refugee\", \"desire\", \"gay\", \"said\", \"word\", \"population\", \"used\", \"language\", \"sent\", \"article\", \"way\", \"say\", \"source\", \"agree\", \"others\", \"right\", \"work\", \"pov\", \"know\", \"back\", \"issue\", \"list\", \"would\", \"name\", \"reliable\", \"add\", \"point\", \"people\", \"think\", \"made\", \"also\", \"need\", \"thanks\", \"really\", \"change\", \"one\", \"wikipedia\", \"like\"], \"Freq\": [284.0, 310.0, 198.0, 999.0, 117.0, 119.0, 697.0, 1426.0, 889.0, 101.0, 153.0, 292.0, 520.0, 245.0, 172.0, 91.0, 503.0, 79.0, 499.0, 64.0, 137.0, 192.0, 1785.0, 205.0, 156.0, 363.0, 553.0, 606.0, 61.0, 135.0, 41.963578501398366, 31.569457521817085, 14.971739246624223, 15.739007572591518, 12.293452174451472, 25.334809537406265, 11.422032911405411, 7.046663035589204, 5.362260264194761, 4.48272097576058, 4.477609924277379, 4.475020865393458, 4.436697488668012, 3.602822081912115, 3.595513608617613, 3.5890487190750635, 3.542442405949183, 3.472186468830941, 3.4411212656865175, 3.4401305365040855, 3.4170499749418455, 2.723812567077129, 2.723773778740863, 2.723751006233765, 2.7236726788192405, 2.7236439003762047, 2.723639896418913, 2.7236253820737293, 3.4110160113028445, 2.722770787439224, 21.41583824093537, 9.647784341347093, 38.49215954113083, 12.89156831967281, 20.16077180204446, 14.791311922144073, 5.014940992859973, 3.3164808279080784, 12.115586381648862, 6.633363553029339, 9.55957816319428, 41.35929325897942, 8.263297990907784, 16.310897797550442, 11.407613660207698, 22.799988258962152, 74.99091691279524, 112.57495892032046, 95.1770998297932, 134.11535226469448, 18.947680849423936, 62.412072672465264, 61.90192446993787, 130.99068801778355, 54.841378212933414, 222.13258367289856, 139.4610356452058, 98.29732769202461, 39.30408200079684, 77.77239397229668, 36.614151420819034, 40.11859101687347, 52.30676113631119, 127.15867666775834, 82.4220694567446, 48.794009324918626, 54.3195664828145, 73.72907778014496, 104.09894969728735, 53.200820775864706, 73.62133128941801, 69.8024849509688, 53.10006119061224, 67.57295340416564, 52.458839442174856, 45.10457489010324, 45.81750350968254, 46.924549653425196, 45.86129879454212, 44.472734413600946, 44.792126082824225, 15.434547763042442, 3.31214890904859, 3.3063378537053563, 3.3056880882029804, 3.300181246072116, 7.207807378781661, 3.1989786791124963, 2.5039588114555777, 2.5039569564969657, 2.503936816946321, 2.503736216422137, 2.502717314155972, 2.502149696820699, 2.5015627349170435, 2.5002393544444224, 2.497207822084233, 2.4969513078076018, 2.4955497540791893, 2.4925481660508795, 2.4922065886721834, 4.928466035641806, 4.91102518478357, 2.4312020348110375, 2.3275011035951363, 2.314359251817264, 2.305523288966027, 3.987334764243701, 1.6957143900746425, 1.6957110776485498, 1.6957108126544622, 12.242194731097936, 4.09468784397255, 4.5359122743351, 6.280209355428561, 8.322034378052994, 4.8824148331401975, 11.801696119540855, 32.30245490484711, 32.32752546547061, 31.559807914850644, 16.106892881620315, 14.145565642922401, 4.918657014501529, 4.874553518542525, 9.633124424899073, 37.15752181817645, 5.602826699248663, 65.5415388315469, 9.061927549492898, 58.016406332950616, 15.214355695986786, 10.902687778292307, 6.779107893961448, 79.18242111500784, 25.234585603755022, 31.25103468422553, 28.549195247899476, 20.955278764017386, 19.999943279544908, 9.638942635082666, 47.21117702015664, 29.192990963474085, 24.41732687850201, 30.149672617910706, 34.302293204282925, 26.571794527834463, 23.244136574824996, 30.021688953493236, 26.55315166379565, 26.690212965672092, 21.180241784623117, 14.172774175843273, 27.622922194983524, 24.52581969780089, 20.834943888939474, 19.1976259809175, 21.01669591367266, 21.54282577461794, 22.934244009174584, 20.978441367211392, 109.82483442168905, 176.4684449685395, 6.300233417680509, 4.528947624584473, 4.518970794455827, 4.466319205993307, 12.380262909473503, 3.6403626122132637, 3.640327975633318, 3.640283870060293, 3.6402420071435233, 3.6396741167428246, 3.6356684834864685, 3.6364885481238973, 4.3592493143069895, 3.6304398550187784, 3.629746874235828, 4.136845841000882, 2.751871542220757, 2.7518678044603315, 2.7518608273075365, 2.7518595813873943, 2.751841141769294, 2.751833167880385, 2.7518212070470227, 2.7517564191996415, 2.7518575879151674, 2.7517295073245753, 2.7510734057778268, 2.749367242735446, 224.14914298108468, 8.882705919641879, 6.148784847274192, 203.77150307664155, 8.746687322641476, 88.91201898926613, 24.923013740179023, 9.692246020447614, 6.453943582328487, 78.34517291167259, 148.8802884364046, 4.528339117187147, 81.28762563166998, 25.79535120634717, 232.1674145552028, 160.24284091428382, 16.67927348002158, 258.03021290088213, 7.18096290355675, 34.86492022887809, 8.860718917712932, 7.914293059487997, 43.61866743341189, 14.767066144982556, 54.45972358973379, 196.6809615814664, 74.355158510216, 17.824512310400987, 56.07804826537119, 17.0415840670911, 33.47052228851235, 130.4297301600231, 100.92693924041266, 51.98728776450074, 58.958930602161956, 153.66374465369688, 43.369838243079144, 58.80295336122369, 43.56682120772913, 71.45254333920525, 48.95112191510674, 82.20034087779833, 52.40432614135732, 52.255011084602074, 57.241917090449085, 47.16835571545476, 50.164289308361155, 48.46958275086968, 7.101604311543367, 5.351791666938607, 5.34100263695123, 4.482234190654234, 4.469686905103132, 4.468818663530588, 4.465514566243516, 3.6028183225206383, 3.6027806190639713, 3.5926328133572345, 3.5931426065741405, 3.5925242167813414, 3.591274957882621, 4.281275828688246, 7.097952386592676, 3.526551133133079, 6.206960229675805, 6.175800712396221, 2.7233785578300003, 2.7233700612763854, 2.7233559888594603, 2.7233413854079345, 2.723327047473709, 2.723238099178051, 2.722176029976163, 2.7230219680954666, 2.7216885402124964, 2.7208906607245784, 2.720369981298353, 2.7173797254604377, 5.350838459829912, 6.645402575529903, 5.350807128788457, 5.3308418208967705, 5.927533008866744, 5.293741088501826, 39.50637436481801, 7.048159396200573, 8.647012710656615, 6.052984091959123, 43.34490487428071, 20.2767511885868, 164.44619008823952, 260.06324375465243, 12.55157524860828, 14.427787404102705, 19.33968753176124, 23.102201500168025, 7.646155867219666, 85.92489901280824, 52.782379581549506, 110.08819685947509, 103.07253306361007, 130.45286401245573, 170.07080662279367, 30.198503962255568, 80.7720281280718, 15.231578369198584, 79.58534847086497, 33.32304570591881, 60.42529295149581, 45.314265809126695, 63.74799344270886, 58.370677597675886, 49.056139524664, 67.04739213563249, 84.41889338108503, 76.5238617757178, 150.91508859404502, 104.92889408365201, 79.23058337121999, 52.299877294855094, 50.1555425831365, 79.55443800881322, 75.21314093228409, 66.4196922442096, 48.08641936401879, 53.2145185466904, 48.48096532768967, 84.71442900547912, 51.52017830753484, 50.81555911623443, 49.33201412399274, 40.215829876230394, 14.950476131040874, 10.627880390666453, 91.807882373096, 107.74134152056625, 17.456505049802736, 58.03146008698298, 7.064087731778987, 6.227143803553322, 5.353516158122824, 4.4855421526843156, 30.351142117069443, 4.421079841032551, 5.131573730031803, 3.610719222788862, 3.6106994261162453, 3.6106084097067748, 3.6062415534348853, 65.14006860409474, 3.6023751667036654, 3.5963241447223173, 3.577032045834289, 3.571333742617493, 73.43326365741851, 35.035115976306656, 6.234995357051464, 48.24678178731751, 2.7294341278210035, 2.7294321964383093, 2.72940805415463, 114.25016300471798, 25.60636446784921, 6.75606067992746, 107.5944096507121, 41.27549071700751, 46.20941639901464, 45.344346227457066, 20.328162095046267, 6.053937886371124, 61.040901973640295, 53.12599139759416, 28.095611602380004, 302.5557961901303, 109.77750558883324, 63.47729875212334, 77.7291300269947, 118.66582145452753, 144.07710081918745, 82.12470209678318, 172.5298289445152, 101.36429441488355, 228.24376113232063, 65.34717463317355, 64.2667012124823, 145.98949415887074, 93.5925881400915, 98.72894590505716, 142.66524461856775, 103.39056207822476, 150.6817652381628, 73.86052413705907, 80.77363037231956, 73.0369053008873, 86.19609544409309, 66.03791433997516, 64.35093653731298, 5.1358108914499345, 5.066643602688626, 3.4545840334498696, 3.4493588249314917, 3.4515775942164577, 3.3991757866457806, 4.738661125251582, 2.611584982070094, 2.61155774424456, 2.6115575729374814, 2.6115286220411598, 2.61152416805711, 2.6113367581128735, 2.6091149053004887, 2.607900509418685, 2.604039590476084, 2.6019242906667293, 2.601114864719272, 2.6019725992629583, 2.6018903718651214, 2.600691564927491, 2.5997557143558594, 2.5952798030002704, 2.597399042872438, 2.590823420651667, 2.5752625708393464, 2.5736486868497184, 6.464409665196286, 2.5693291788570978, 2.557176825992196, 5.126058036838161, 12.695351079714223, 4.292978350550778, 4.294055186848285, 4.292715565491858, 4.249302582961387, 4.064869955754765, 7.3742010039965145, 19.804224827740477, 11.82219067619371, 6.993647124980754, 23.87393283801547, 50.13330989641243, 4.293970903765501, 86.82205103680633, 15.117683881221978, 3.4545792368516626, 3.4545672453561447, 3.4543863450809034, 16.646028079337132, 4.9445804567413045, 3.4394394598390985, 5.8331033364768565, 24.672245752654934, 14.87987402393784, 36.7833629479981, 47.315996418938425, 14.972020786867148, 122.72819565920065, 56.051692637642574, 25.881314669535655, 8.883158037386668, 47.42870825406674, 53.54641568948009, 11.938856278701353, 23.01761945785511, 51.255182139713625, 9.69727300220544, 52.57163729725609, 47.082717291275095, 52.75553613160509, 28.511508739578716, 35.952098774132125, 17.406187481380265, 46.01705569713521, 49.246810838506136, 55.22253896698775, 27.887468571914805, 28.868381128017443, 35.85474701691974, 27.04769386237271, 25.943928092075204, 49.63384423647144, 32.0377649138965, 33.248050796265204, 34.30608168788582, 31.034576955719842, 27.23988121842367, 24.911798830773215, 6.4817018539764515, 6.464281320695339, 6.381892355061868, 5.4411244091269415, 4.654974808327963, 4.646906778167715, 15.23641405891096, 3.7415713863436344, 3.7415703363657378, 3.741521337397213, 3.7415181874635217, 3.7414880880971424, 3.7414093397548704, 3.74117099477226, 3.7381568582227174, 3.737531421388761, 3.7363767956947362, 4.482564587728011, 3.7232793714080445, 3.723097375239238, 8.129287970712836, 3.7033931400322357, 6.454079735448466, 41.34137612449099, 27.404921500190568, 6.4529212598354855, 2.8280878160465046, 2.828076091293322, 2.828075216311741, 2.8280661165033005, 5.5683505808943385, 7.351896235552409, 12.30291441188432, 3.4849599382600567, 43.91788188658036, 485.72261987427487, 24.671588239470044, 21.572197684605683, 202.25716949313022, 233.7401995452352, 9.720336977609458, 33.66484772275618, 78.66068171741364, 9.935447349330387, 8.074408425979742, 69.14301007350507, 23.914638173992916, 65.84328513587107, 118.15572070906724, 72.01486481821587, 380.6300801727529, 42.75123884553223, 57.2823309521449, 147.14102414070658, 47.49613936083805, 66.08551923661157, 146.73194155228632, 22.998746654385425, 81.88131392002535, 201.72912300901376, 103.52673426322404, 96.64982142881674, 41.17232128325709, 159.2998129865719, 137.36749388286654, 101.80324734427214, 121.77378214541345, 93.20867146831473, 114.82224528191333, 61.181181677608016, 93.38225101429927, 74.18785427470941, 55.93685847562743, 63.092354245597484, 66.85686379907077, 74.6328545070289, 73.60215700419715, 85.07924980041636, 66.18679310469977, 8.448174946107, 5.947375804736416, 5.109469575650968, 5.090744259828835, 3.433683028584521, 3.4244489166721617, 3.420183679673176, 3.4165554520342765, 3.3864339613634153, 4.0294970976703715, 3.3404885255532824, 2.595732885224644, 2.595731370939319, 2.5957185836410184, 2.5956877931727416, 2.5956835868246166, 2.594591114089531, 2.5942663840142632, 2.5894122582777457, 2.591160584812517, 2.5890385663103, 2.586192887676618, 2.5884278045625164, 2.5832788979493824, 2.583416697913965, 2.5822602886873764, 2.5820427363623395, 2.5744083827689686, 2.573091795805771, 2.565771404036467, 7.418870118595849, 5.937890994475794, 5.10480894192821, 6.7615989478454095, 5.524166034144883, 6.208474937628613, 16.707074994829767, 8.836670566890621, 18.54291779917119, 8.181675535237707, 49.78182451299199, 15.153433057639505, 40.61649749723944, 4.2506803424090664, 4.556714378037791, 3.424762541988379, 4.225219148953113, 4.202950068962435, 11.267286285029936, 54.505506346528435, 12.693735658085886, 157.44480829537693, 33.29328713818407, 80.70750433588991, 37.5632702438859, 16.132983180478313, 24.143878289768804, 14.84483382267009, 87.00997870332701, 33.33125599191736, 69.054269794501, 38.58509652093824, 21.83787479356986, 60.912518896620895, 43.52380687063654, 32.4305752329345, 31.204394468722896, 18.74245618598099, 29.37594810692488, 32.660124735840355, 34.0265323592489, 26.73230474829992, 26.533294005798947, 22.906740829960594, 40.52064929330296, 41.44172512005974, 40.03075308905755, 38.535317587700696, 24.302952280629576, 28.006124255822954, 30.609163231233275, 29.763556693015854, 25.993869230156406, 27.24846740928638, 24.893655468489346, 22.994709750470605, 19.622346648702237, 5.4035064425809205, 5.378269755645546, 4.53957704214059, 4.527440504377007, 4.525101210892607, 4.525089060090858, 4.513358781742249, 3.6491406676864666, 3.649095234253843, 3.6491221773359803, 3.6490379141673346, 3.63525203714036, 3.6339973347859216, 3.6290722978599215, 3.629082335478757, 3.6112631847149577, 7.162186016243864, 6.321080047852562, 3.4560757862650284, 2.7584512395785423, 2.758438296333202, 2.758429315305823, 2.7584137305818413, 2.7584076551809673, 2.7584065985895108, 2.7584306360451434, 2.758375164993684, 2.7583741084022275, 11.657286897620057, 52.41258266064659, 5.333109980208877, 11.747423658171442, 4.534038918022032, 6.304178282620755, 33.48991087435193, 8.391836587251575, 4.5304507334362025, 15.53513391802993, 8.736106838071752, 142.02720952522097, 20.4619860681521, 58.67630194322007, 106.93560109624468, 94.09244455120302, 8.087031083918237, 349.7453640506428, 10.49848078376189, 10.59031548678366, 20.506422078441158, 119.09275929869001, 23.85067562110428, 60.132153952756, 63.29058898235333, 30.117338567475198, 86.57947069974037, 59.7045091267052, 39.10136032679928, 21.57778257018731, 21.286953658638822, 94.55840138346177, 64.14675349218079, 108.23103293814302, 19.613562147333987, 46.67121683590702, 84.22656831738131, 57.615014994418935, 79.13303675183401, 46.94052086630635, 47.85873265281764, 92.7753821690099, 50.511829573394444, 45.71485787145498, 51.0213855955088, 55.6540615523487, 50.73517610180755, 62.394096489819155, 56.73988678113255, 82.69545741159112, 73.98347202817256, 70.77984024243759, 58.09600500991889, 53.95147430592148, 49.684045110085044, 6.655559599784587, 5.813573069508792, 4.190034556743847, 4.176527951834407, 3.3681449064750795, 3.368043032620756, 3.3046634839279014, 5.826481566889555, 2.54627598125977, 2.5462558400106348, 2.546252337184698, 2.5462450396306635, 2.5462345311528534, 2.546228109305303, 2.546219936044784, 2.5459928361632267, 2.5428770724926046, 2.543135114003269, 2.541814256723002, 2.540222222334809, 2.5388797642945997, 2.5379690295510793, 2.5370040010055406, 2.534762484308266, 2.5313136602715036, 2.527647077222348, 2.5293468235080923, 2.5286074353333046, 2.5265133292275292, 2.5226984598803903, 4.995353213212956, 7.46871378597175, 4.187129546433744, 4.1626094729752525, 6.511117069462181, 5.812061016312819, 7.450463479037644, 4.439830123251123, 13.35568331874348, 7.3949390175076575, 5.744779903330894, 7.974928179028126, 4.1738850696652285, 50.34057805160488, 4.134553880538068, 3.357029855973866, 4.148984939592613, 11.576949475737194, 4.798679461545308, 3.3619586239688495, 11.627768474425658, 5.750267080160607, 11.797100918245029, 37.062784737996694, 33.90361871880244, 9.325522700083651, 35.99380632996317, 21.671437629013244, 11.047861629314701, 91.71660253491626, 37.16614379051715, 38.34104531965672, 41.55791455811354, 23.101279500254506, 19.347417704844894, 30.71692749339824, 29.09361754002566, 17.29667191373049, 40.012771333125244, 26.367942577009, 21.818458239225, 24.099790391312425, 47.17499485529474, 27.933472248948412, 15.621373017806613, 23.79615843347445, 22.111247783180495, 29.685802957653113, 31.34174523745123, 22.385292537940497, 27.522294193987083, 25.246545546442626, 27.792766066291733, 23.966587261811984, 20.946270927528, 25.754410938123794, 21.977836819341146, 21.011393132124326], \"Total\": [284.0, 310.0, 198.0, 999.0, 117.0, 119.0, 697.0, 1426.0, 889.0, 101.0, 153.0, 292.0, 520.0, 245.0, 172.0, 91.0, 503.0, 79.0, 499.0, 64.0, 137.0, 192.0, 1785.0, 205.0, 156.0, 363.0, 553.0, 606.0, 61.0, 135.0, 43.07315200534505, 32.51985529377755, 15.811210382667461, 16.69412412275459, 13.174801709406257, 27.203380933644123, 12.295199895914106, 7.896750620715677, 6.138669208471689, 5.259130178049876, 5.259222469260886, 5.258931133384627, 5.257678617714903, 4.379235239146627, 4.379663677380238, 4.378621282626016, 4.379233521876246, 4.382197971210344, 4.383007754195779, 4.382965121346936, 4.383546243309093, 3.5002213554510764, 3.500182656700484, 3.5001599492755275, 3.500081744501735, 3.5000530141667596, 3.5000490596098794, 3.5000346126969113, 4.383630885321622, 3.500212203999607, 29.594682849839202, 13.063881302273092, 58.72379815311451, 19.021503188404832, 31.57829849240792, 22.88750354929348, 6.9580979947127775, 4.3760658410542845, 19.201688944130883, 9.70246465287697, 15.721818379406741, 101.3961299638796, 13.217944119811, 31.395814945845146, 21.067837243891553, 54.6174235918822, 279.5747259735658, 499.9219885759359, 395.958704748298, 638.6443241791791, 43.94825915264357, 251.37397427891162, 249.0929517117048, 763.9520877408434, 219.69733594293763, 1785.7463025639715, 889.5628376234343, 553.5441355432234, 135.49856044037728, 420.17077162525914, 121.58050495599474, 142.43563808589974, 223.81464505352844, 1040.5799446784324, 526.0634253178134, 205.18626682809233, 286.5997997795808, 552.169003697837, 1426.673600304659, 301.8528808509437, 658.75538598777, 606.3799894420712, 339.75138947489825, 999.5997517037043, 492.0464919006862, 261.0024518831624, 377.85744859644456, 466.7912657160192, 410.29566778512475, 315.48670723821954, 697.5066182612649, 17.0939691708916, 4.095685469494878, 4.096065915581452, 4.096095219031717, 4.0970334346134445, 9.024908616710755, 4.096240380876316, 3.2874953097822632, 3.2874934898261565, 3.287473392937657, 3.2872752726603123, 3.286348645088451, 3.2857958866068206, 3.2871592898716364, 3.2874556605761405, 3.2878944569650037, 3.2879921741024507, 3.2885495147543846, 3.2877055941709776, 3.287934794633001, 6.53186203201787, 6.592247637314561, 3.2923688176061807, 3.2937691562144407, 3.30347377842115, 3.3030249688375437, 5.734217402827687, 2.479250858708945, 2.4792475597954082, 2.4792472703514945, 18.180553499150108, 6.617414746063201, 7.4988003836203605, 10.87079109897524, 15.948508251202641, 8.364285997612136, 28.635017332208378, 121.77622029149455, 129.20132982133958, 129.13202388222865, 48.943002212859405, 41.84827283291, 9.150880805925055, 9.183558299339072, 27.273685084533263, 233.53015666221984, 11.723915497133204, 606.3799894420712, 26.185736906372803, 553.5441355432234, 64.65753903034752, 39.388330169935784, 16.890124415362788, 1785.7463025639715, 205.18626682809233, 312.8423955318041, 292.17555587092767, 169.75385861774626, 163.35886466963518, 35.90312967365508, 1040.5799446784324, 383.1243604228319, 261.0024518831624, 492.0464919006862, 763.9520877408434, 420.17077162525914, 312.3571168949182, 658.75538598777, 503.3324957967229, 526.0634253178134, 338.070718840565, 89.05002795504424, 889.5628376234343, 638.6443241791791, 352.84719152194066, 259.46180079436954, 499.9219885759359, 688.9269772092321, 1426.673600304659, 697.5066182612649, 117.1786073351376, 198.278209541946, 7.081248097531855, 5.3044519891238116, 5.304566922281933, 5.302557342706509, 14.986994612331852, 4.415867027062437, 4.415832568159146, 4.415788523466675, 4.415932465543854, 4.415879718774754, 4.414302553684373, 4.415906137864244, 5.2937057693992, 4.416129257463232, 4.416174727637671, 5.298379481763649, 3.527375740120502, 3.5273720131820574, 3.5273650793827183, 3.5273638500564886, 3.5273454274594322, 3.527337489387191, 3.5273255683623805, 3.527260933375118, 3.527396644328121, 3.527234053526067, 3.5265877331348374, 3.5248971799211217, 310.5430594012515, 11.533325410925825, 7.954633516682982, 284.01844740060653, 11.494719623212081, 137.48550675695532, 36.10188927848777, 13.303779240524594, 8.787573570105357, 135.6428747697932, 292.17555587092767, 6.108728750501539, 156.51300610603087, 43.969666471273605, 697.5066182612649, 520.2121248335234, 30.035094263747013, 999.5997517037043, 10.487563290260342, 80.9347578512138, 14.039304163795398, 12.228294282493012, 116.44904573849935, 27.9050026242767, 166.21303390902338, 1426.673600304659, 352.84719152194066, 41.24906016282514, 239.146145459939, 38.922278113675695, 114.21948498253889, 1040.5799446784324, 688.9269772092321, 237.71463930429553, 312.8423955318041, 1785.7463025639715, 194.0804818102777, 338.070718840565, 203.37889342165013, 526.0634253178134, 259.46180079436954, 763.9520877408434, 383.1243604228319, 466.7912657160192, 658.75538598777, 367.62673730602637, 638.6443241791791, 492.0464919006862, 7.895154200649913, 6.138006740801805, 6.138002629439146, 5.258651375124863, 5.256272361032646, 5.256235208606477, 5.257749160612522, 4.379235518279477, 4.379197889602713, 4.376239732948823, 4.379222385865166, 4.379219527125398, 4.378754414558278, 5.258575223873122, 8.730586866436871, 4.371124482920401, 7.8507019083744805, 7.88823170622838, 3.499795707616797, 3.4997872172419737, 3.4997731976288873, 3.4997586225273185, 3.4997443124140353, 3.4996556022938075, 3.498608146383523, 3.4997657178333794, 3.4996592268545132, 3.499787037240403, 3.4998058168917296, 3.4967352284312487, 6.971484061355726, 8.736558753137164, 7.024594985190093, 7.015169798650962, 7.894737097356988, 7.020881939386508, 71.4048024451799, 10.34385200553069, 13.107064518297966, 8.73238697412394, 89.77708326158151, 38.15876932011463, 503.3324957967229, 889.5628376234343, 21.802709196341823, 26.448421596695795, 39.61581104289386, 53.56158684984066, 12.104761305529696, 338.070718840565, 172.74284433883665, 492.0464919006862, 466.7912657160192, 658.75538598777, 1040.5799446784324, 94.38651421781681, 420.17077162525914, 33.6490306220221, 425.33546850199195, 114.46938797311519, 287.8321147986559, 192.66594918052976, 339.75138947489825, 301.8528808509437, 227.57356204286242, 388.56448282044266, 606.3799894420712, 526.0634253178134, 1785.7463025639715, 999.5997517037043, 638.6443241791791, 300.08231688278244, 281.3894906205182, 763.9520877408434, 688.9269772092321, 553.5441355432234, 277.3494254991956, 352.84719152194066, 282.71266309043176, 1426.673600304659, 351.02786488677606, 552.169003697837, 395.958704748298, 41.40318777061849, 15.840232320732621, 11.436749559983747, 101.28780831614438, 119.03356416961412, 19.31331871425374, 64.35427494353189, 7.906488772333275, 7.02871050276983, 6.148219002540942, 5.267827809129379, 36.05617867332936, 5.266800243632941, 6.147334479057526, 4.386949580694871, 4.386929917597818, 4.386839879431077, 4.3867472371424565, 79.31006108354343, 4.386203561332679, 4.386258882768836, 4.386267855942849, 4.387013437342282, 91.60762430854712, 44.078813390997254, 7.9065079788213914, 61.7471527349846, 3.5056644049452133, 3.505662468093884, 3.505638436578138, 153.69113539831088, 34.03867123577547, 8.793333340633673, 172.8433618626928, 61.723890479399614, 70.47727555093005, 71.28429154976521, 29.76034643871627, 7.938295816582407, 116.90567416374213, 100.08616917175517, 51.61514735509427, 999.5997517037043, 315.48670723821954, 162.5855671825117, 213.677971911924, 377.85744859644456, 520.2121248335234, 245.47458241942985, 697.5066182612649, 367.62673730602637, 1426.673600304659, 199.64079968154292, 196.58366935791386, 889.5628376234343, 410.29566778512475, 480.74144033076914, 1040.5799446784324, 638.6443241791791, 1785.7463025639715, 287.70741944041026, 420.17077162525914, 330.4339403223414, 688.9269772092321, 320.0091441539359, 266.79599953912464, 5.921059898510675, 5.921971033857776, 4.234637799109919, 4.231140532298552, 4.234623897774432, 4.233909009547188, 5.9413444878090225, 3.3916385427450084, 3.3916114042283363, 3.3916112115524606, 3.3915823657700837, 3.391577910438327, 3.391574529854068, 3.39139887150159, 3.3917486011965714, 3.3909198625457537, 3.390457298519115, 3.3899939586109507, 3.391708169248352, 3.3922890468379006, 3.3915130746259075, 3.3914397209486986, 3.3872502473257042, 3.3911257506653407, 3.3925609285389737, 3.3895112661052247, 3.390258457365188, 8.531886291185623, 3.3915841620004987, 3.3922922406740064, 6.805331233107004, 17.89209885873407, 5.89798647504523, 5.961776123725103, 5.964833642022714, 5.9552614856098955, 5.87401015296565, 12.876373698387436, 47.642897904533406, 24.845061387842424, 12.87552591332259, 69.72977185279404, 192.66594918052976, 6.775618978035435, 499.9219885759359, 41.19452443247205, 5.054466831935404, 5.054549303223662, 5.054787155827375, 48.09633699270315, 8.511302879920706, 5.050984187953924, 11.162560297750922, 100.00374281440268, 46.89795486283379, 190.2530149612062, 281.3894906205182, 47.88307403671821, 1426.673600304659, 425.33546850199195, 124.21192511789792, 21.58462024885437, 395.958704748298, 492.0464919006862, 36.103274509457165, 114.58576698875012, 480.74144033076914, 25.23830605231449, 606.3799894420712, 526.0634253178134, 688.9269772092321, 205.18626682809233, 339.75138947489825, 79.71678740075005, 638.6443241791791, 763.9520877408434, 999.5997517037043, 237.71463930429553, 266.79599953912464, 503.3324957967229, 245.47458241942985, 239.146145459939, 1785.7463025639715, 553.5441355432234, 697.5066182612649, 1040.5799446784324, 658.75538598777, 330.4339403223414, 240.2790990669153, 7.254718029559427, 7.253700001150215, 7.247855759739385, 6.33536172610885, 5.427990751851593, 5.4270889828701225, 18.092134441711035, 4.514587254588432, 4.514586219657244, 4.514537290933784, 4.514534175043063, 4.514504119445114, 4.514425602205289, 4.514562869679936, 4.514158009053362, 4.514158271861439, 4.5139586280014585, 5.418935501375968, 4.509475049750751, 4.512387058434393, 9.879032744720803, 4.5097042448393365, 8.072909797484344, 51.814663465395235, 34.45573606113991, 8.127492597029908, 3.6011036760102364, 3.601091972668899, 3.601091074302654, 3.6010819834463845, 7.217290972587431, 9.808332149483023, 17.126331574184928, 4.48988205581805, 72.26964218789324, 1426.673600304659, 42.760457936809246, 36.58874041059039, 552.169003697837, 688.9269772092321, 14.331353942533068, 66.83460436082164, 190.90870351755987, 15.019152070601288, 11.65786485066218, 167.19532822934568, 45.563439815787845, 162.26442186739368, 351.02786488677606, 195.6016819777411, 1785.7463025639715, 102.07746499829702, 152.37338650379297, 553.5441355432234, 122.43751371677159, 194.9719948537977, 606.3799894420712, 47.059049566589195, 277.3494254991956, 1040.5799446784324, 410.29566778512475, 388.56448282044266, 112.97137472401586, 889.5628376234343, 763.9520877408434, 480.74144033076914, 658.75538598777, 425.33546850199195, 638.6443241791791, 222.63379152062151, 492.0464919006862, 339.75138947489825, 192.66594918052976, 259.46180079436954, 330.4339403223414, 466.7912657160192, 503.3324957967229, 999.5997517037043, 395.958704748298, 9.242164154314466, 6.7279404408134305, 5.890034316016096, 5.889967204491738, 4.214247590873232, 4.214247987008783, 4.2106361820013625, 4.214506394065997, 4.215937221723934, 5.0469215568194326, 4.217826401488479, 3.3762974312038563, 3.3762959704598865, 3.3762832511450593, 3.376252525057916, 3.37624833181691, 3.376385760944244, 3.3763949853440294, 3.3725669266858, 3.376532660448363, 3.3752703182372605, 3.372726686711716, 3.375678869897553, 3.3747779266892217, 3.3750697423553926, 3.3759021822679363, 3.3758665536640087, 3.375326813439771, 3.376226854168434, 3.37707333041927, 11.659704630681105, 9.193867344175048, 7.668317511082712, 10.870589464764516, 8.495939242313788, 10.029104749186642, 35.04522431984102, 16.693405036128432, 44.52002214117932, 15.269004447856005, 205.44954414777868, 39.955139815865905, 167.57044633383524, 6.769081679089274, 7.5928699620978755, 5.019626865871864, 6.807463422106143, 6.798038067949103, 29.299025909369043, 312.3571168949182, 36.20667902469412, 1785.7463025639715, 165.38109950871086, 763.9520877408434, 233.53015666221984, 58.408185289769804, 122.54368758216646, 56.29722379364673, 1426.673600304659, 251.37397427891162, 1040.5799446784324, 351.02786488677606, 119.05021376999147, 889.5628376234343, 503.3324957967229, 300.08231688278244, 287.8321147986559, 96.33675895122757, 263.5508882040657, 338.070718840565, 377.85744859644456, 219.69733594293763, 215.9889587491936, 154.61018026171877, 658.75538598777, 697.5066182612649, 688.9269772092321, 638.6443241791791, 194.64796480400872, 320.0091441539359, 492.0464919006862, 480.74144033076914, 367.62673730602637, 606.3799894420712, 287.70741944041026, 24.001383740418426, 21.292037235910552, 6.205335863514618, 6.2026104381306375, 5.314868229274628, 5.31271771787904, 5.314209180242949, 5.314195878639119, 5.314008982224423, 4.4244288030885945, 4.424383513451573, 4.424421850382308, 4.4243263760588025, 4.424407834982428, 4.424417123327201, 4.423471457848253, 4.423493366065086, 4.4235917724963505, 8.82550441486106, 7.90280086950555, 4.417519050483191, 3.5337392549264326, 3.533726349949265, 3.5337173852775674, 3.5337018210003595, 3.5336957565367553, 3.5336947238575434, 3.533727095961938, 3.5336633701856264, 3.533662312809595, 15.174291425738634, 74.44659294588267, 7.115563366391555, 17.536543790401314, 6.120604803202214, 8.8501479934016, 57.5179389656978, 12.261520169212055, 6.193001575225203, 25.502956696454824, 13.235790129245029, 363.2091189854849, 36.39609230482969, 130.27612032237434, 300.08231688278244, 286.5997997795808, 12.390153268347115, 1785.7463025639715, 17.762815632815386, 18.367944454864194, 46.284187037698864, 526.0634253178134, 57.078957872285315, 215.40445640916423, 240.2790990669153, 82.78488466894666, 383.1243604228319, 223.81464505352844, 121.68019865723296, 51.217842609403434, 50.522227507237936, 499.9219885759359, 287.8321147986559, 658.75538598777, 45.8654175964388, 178.70085344276387, 466.7912657160192, 261.0024518831624, 503.3324957967229, 203.03580998027127, 215.61085135193076, 763.9520877408434, 252.92105408217117, 214.35126945734123, 272.6770684499528, 330.4339403223414, 312.3571168949182, 552.169003697837, 425.33546850199195, 1426.673600304659, 999.5997517037043, 1040.5799446784324, 553.5441355432234, 410.29566778512475, 480.74144033076914, 7.437727895136048, 6.61720302944536, 4.972202463366208, 4.970870000923225, 4.1503127924091014, 4.150306657023689, 4.152489420160775, 7.503479690310648, 3.3284437702213627, 3.3284236747812828, 3.328420182699767, 3.328412930168607, 3.328402475045289, 3.3283960402635913, 3.3283878802750584, 3.3281629058343247, 3.327980333531508, 3.328653058124916, 3.3271461692659603, 3.3271807362880828, 3.3292213077767285, 3.328997257816005, 3.329048272825041, 3.3284832753224545, 3.329036451140078, 3.325512661481355, 3.3295440649934704, 3.3297698443443453, 3.3279461782395274, 3.328277196808007, 6.681296195742853, 10.919070346787766, 5.81310997595112, 5.859856524804236, 10.027751308075697, 9.28654039876094, 12.682276102120644, 6.72479170285591, 27.20353744137188, 13.528486447531648, 10.170719316581376, 16.976059375986555, 6.73548734987586, 245.47458241942985, 6.7035120822330505, 4.957212086550783, 6.744321193098715, 30.468438876950216, 8.40804575166083, 4.986496642422081, 31.232865980003613, 11.040285625108822, 33.05327488311276, 205.44954414777868, 194.9719948537977, 24.757152266032413, 220.03461317948552, 100.00374281440268, 35.27263427049578, 1785.7463025639715, 352.84719152194066, 388.56448282044266, 480.74144033076914, 155.70290249673235, 111.68073519047306, 282.71266309043176, 263.5508882040657, 97.1992985837221, 606.3799894420712, 251.37397427891162, 167.57044633383524, 215.61085135193076, 1040.5799446784324, 351.02786488677606, 90.93927585518973, 277.3494254991956, 240.2790990669153, 553.5441355432234, 658.75538598777, 252.92105408217117, 466.7912657160192, 383.1243604228319, 552.169003697837, 339.75138947489825, 223.81464505352844, 763.9520877408434, 697.5066182612649, 889.5628376234343], \"Category\": [\"Default\", \"Default\", \"Default\", \"Default\", \"Default\", \"Default\", \"Default\", \"Default\", \"Default\", \"Default\", \"Default\", \"Default\", \"Default\", \"Default\", \"Default\", \"Default\", \"Default\", \"Default\", \"Default\", \"Default\", \"Default\", \"Default\", \"Default\", \"Default\", \"Default\", \"Default\", \"Default\", \"Default\", \"Default\", \"Default\", \"Topic1\", \"Topic1\", \"Topic1\", \"Topic1\", \"Topic1\", \"Topic1\", \"Topic1\", \"Topic1\", \"Topic1\", \"Topic1\", \"Topic1\", \"Topic1\", \"Topic1\", \"Topic1\", \"Topic1\", \"Topic1\", \"Topic1\", \"Topic1\", \"Topic1\", \"Topic1\", \"Topic1\", \"Topic1\", \"Topic1\", \"Topic1\", \"Topic1\", \"Topic1\", \"Topic1\", \"Topic1\", \"Topic1\", \"Topic1\", \"Topic1\", \"Topic1\", \"Topic1\", \"Topic1\", \"Topic1\", \"Topic1\", \"Topic1\", \"Topic1\", \"Topic1\", \"Topic1\", \"Topic1\", \"Topic1\", \"Topic1\", \"Topic1\", \"Topic1\", \"Topic1\", \"Topic1\", \"Topic1\", \"Topic1\", \"Topic1\", \"Topic1\", \"Topic1\", \"Topic1\", \"Topic1\", \"Topic1\", \"Topic1\", \"Topic1\", \"Topic1\", \"Topic1\", \"Topic1\", \"Topic1\", \"Topic1\", \"Topic1\", \"Topic1\", \"Topic1\", \"Topic1\", \"Topic1\", \"Topic1\", \"Topic1\", \"Topic1\", \"Topic1\", \"Topic1\", \"Topic1\", \"Topic1\", \"Topic1\", \"Topic1\", \"Topic1\", \"Topic1\", \"Topic1\", \"Topic1\", \"Topic1\", \"Topic2\", \"Topic2\", \"Topic2\", \"Topic2\", \"Topic2\", \"Topic2\", \"Topic2\", \"Topic2\", \"Topic2\", \"Topic2\", \"Topic2\", \"Topic2\", \"Topic2\", \"Topic2\", \"Topic2\", \"Topic2\", \"Topic2\", \"Topic2\", \"Topic2\", \"Topic2\", \"Topic2\", \"Topic2\", \"Topic2\", \"Topic2\", \"Topic2\", \"Topic2\", \"Topic2\", \"Topic2\", \"Topic2\", \"Topic2\", \"Topic2\", \"Topic2\", \"Topic2\", \"Topic2\", \"Topic2\", \"Topic2\", \"Topic2\", \"Topic2\", \"Topic2\", \"Topic2\", \"Topic2\", \"Topic2\", \"Topic2\", \"Topic2\", \"Topic2\", \"Topic2\", \"Topic2\", \"Topic2\", \"Topic2\", \"Topic2\", \"Topic2\", \"Topic2\", \"Topic2\", \"Topic2\", \"Topic2\", \"Topic2\", \"Topic2\", \"Topic2\", \"Topic2\", \"Topic2\", \"Topic2\", \"Topic2\", \"Topic2\", \"Topic2\", \"Topic2\", \"Topic2\", \"Topic2\", \"Topic2\", \"Topic2\", \"Topic2\", \"Topic2\", \"Topic2\", \"Topic2\", \"Topic2\", \"Topic2\", \"Topic2\", \"Topic2\", \"Topic2\", \"Topic2\", \"Topic2\", \"Topic3\", \"Topic3\", \"Topic3\", \"Topic3\", \"Topic3\", \"Topic3\", \"Topic3\", \"Topic3\", \"Topic3\", \"Topic3\", \"Topic3\", \"Topic3\", \"Topic3\", \"Topic3\", \"Topic3\", \"Topic3\", \"Topic3\", \"Topic3\", \"Topic3\", \"Topic3\", \"Topic3\", \"Topic3\", \"Topic3\", \"Topic3\", \"Topic3\", \"Topic3\", \"Topic3\", \"Topic3\", \"Topic3\", \"Topic3\", \"Topic3\", \"Topic3\", \"Topic3\", \"Topic3\", \"Topic3\", \"Topic3\", \"Topic3\", \"Topic3\", \"Topic3\", \"Topic3\", \"Topic3\", \"Topic3\", \"Topic3\", \"Topic3\", \"Topic3\", \"Topic3\", \"Topic3\", \"Topic3\", \"Topic3\", \"Topic3\", \"Topic3\", \"Topic3\", \"Topic3\", \"Topic3\", \"Topic3\", \"Topic3\", \"Topic3\", \"Topic3\", \"Topic3\", \"Topic3\", \"Topic3\", \"Topic3\", \"Topic3\", \"Topic3\", \"Topic3\", \"Topic3\", \"Topic3\", \"Topic3\", \"Topic3\", \"Topic3\", \"Topic3\", \"Topic3\", \"Topic3\", \"Topic3\", \"Topic3\", \"Topic3\", \"Topic3\", \"Topic3\", \"Topic4\", \"Topic4\", \"Topic4\", \"Topic4\", \"Topic4\", \"Topic4\", \"Topic4\", \"Topic4\", \"Topic4\", \"Topic4\", \"Topic4\", \"Topic4\", \"Topic4\", \"Topic4\", \"Topic4\", \"Topic4\", \"Topic4\", \"Topic4\", \"Topic4\", \"Topic4\", \"Topic4\", \"Topic4\", \"Topic4\", \"Topic4\", \"Topic4\", \"Topic4\", \"Topic4\", \"Topic4\", \"Topic4\", \"Topic4\", \"Topic4\", \"Topic4\", \"Topic4\", \"Topic4\", \"Topic4\", \"Topic4\", \"Topic4\", \"Topic4\", \"Topic4\", \"Topic4\", \"Topic4\", \"Topic4\", \"Topic4\", \"Topic4\", \"Topic4\", \"Topic4\", \"Topic4\", \"Topic4\", \"Topic4\", \"Topic4\", \"Topic4\", \"Topic4\", \"Topic4\", \"Topic4\", \"Topic4\", \"Topic4\", \"Topic4\", \"Topic4\", \"Topic4\", \"Topic4\", \"Topic4\", \"Topic4\", \"Topic4\", \"Topic4\", \"Topic4\", \"Topic4\", \"Topic4\", \"Topic4\", \"Topic4\", \"Topic4\", \"Topic4\", \"Topic4\", \"Topic4\", \"Topic4\", \"Topic4\", \"Topic4\", \"Topic4\", \"Topic4\", \"Topic4\", \"Topic4\", \"Topic4\", \"Topic4\", \"Topic4\", \"Topic5\", \"Topic5\", \"Topic5\", \"Topic5\", \"Topic5\", \"Topic5\", \"Topic5\", \"Topic5\", \"Topic5\", \"Topic5\", \"Topic5\", \"Topic5\", \"Topic5\", \"Topic5\", \"Topic5\", \"Topic5\", \"Topic5\", \"Topic5\", \"Topic5\", \"Topic5\", \"Topic5\", \"Topic5\", \"Topic5\", \"Topic5\", \"Topic5\", \"Topic5\", \"Topic5\", \"Topic5\", \"Topic5\", \"Topic5\", \"Topic5\", \"Topic5\", \"Topic5\", \"Topic5\", \"Topic5\", \"Topic5\", \"Topic5\", \"Topic5\", \"Topic5\", \"Topic5\", \"Topic5\", \"Topic5\", \"Topic5\", \"Topic5\", \"Topic5\", \"Topic5\", \"Topic5\", \"Topic5\", \"Topic5\", \"Topic5\", \"Topic5\", \"Topic5\", \"Topic5\", \"Topic5\", \"Topic5\", \"Topic5\", \"Topic5\", \"Topic5\", \"Topic5\", \"Topic5\", \"Topic5\", \"Topic5\", \"Topic5\", \"Topic5\", \"Topic5\", \"Topic5\", \"Topic6\", \"Topic6\", \"Topic6\", \"Topic6\", \"Topic6\", \"Topic6\", \"Topic6\", \"Topic6\", \"Topic6\", \"Topic6\", \"Topic6\", \"Topic6\", \"Topic6\", \"Topic6\", \"Topic6\", \"Topic6\", \"Topic6\", \"Topic6\", \"Topic6\", \"Topic6\", \"Topic6\", \"Topic6\", \"Topic6\", \"Topic6\", \"Topic6\", \"Topic6\", \"Topic6\", \"Topic6\", \"Topic6\", \"Topic6\", \"Topic6\", \"Topic6\", \"Topic6\", \"Topic6\", \"Topic6\", \"Topic6\", \"Topic6\", \"Topic6\", \"Topic6\", \"Topic6\", \"Topic6\", \"Topic6\", \"Topic6\", \"Topic6\", \"Topic6\", \"Topic6\", \"Topic6\", \"Topic6\", \"Topic6\", \"Topic6\", \"Topic6\", \"Topic6\", \"Topic6\", \"Topic6\", \"Topic6\", \"Topic6\", \"Topic6\", \"Topic6\", \"Topic6\", \"Topic6\", \"Topic6\", \"Topic6\", \"Topic6\", \"Topic6\", \"Topic6\", \"Topic6\", \"Topic6\", \"Topic6\", \"Topic6\", \"Topic6\", \"Topic6\", \"Topic6\", \"Topic6\", \"Topic6\", \"Topic6\", \"Topic6\", \"Topic6\", \"Topic6\", \"Topic6\", \"Topic6\", \"Topic6\", \"Topic6\", \"Topic6\", \"Topic6\", \"Topic6\", \"Topic6\", \"Topic6\", \"Topic6\", \"Topic6\", \"Topic7\", \"Topic7\", \"Topic7\", \"Topic7\", \"Topic7\", \"Topic7\", \"Topic7\", \"Topic7\", \"Topic7\", \"Topic7\", \"Topic7\", \"Topic7\", \"Topic7\", \"Topic7\", \"Topic7\", \"Topic7\", \"Topic7\", \"Topic7\", \"Topic7\", \"Topic7\", \"Topic7\", \"Topic7\", \"Topic7\", \"Topic7\", \"Topic7\", \"Topic7\", \"Topic7\", \"Topic7\", \"Topic7\", \"Topic7\", \"Topic7\", \"Topic7\", \"Topic7\", \"Topic7\", \"Topic7\", \"Topic7\", \"Topic7\", \"Topic7\", \"Topic7\", \"Topic7\", \"Topic7\", \"Topic7\", \"Topic7\", \"Topic7\", \"Topic7\", \"Topic7\", \"Topic7\", \"Topic7\", \"Topic7\", \"Topic7\", \"Topic7\", \"Topic7\", \"Topic7\", \"Topic7\", \"Topic7\", \"Topic7\", \"Topic7\", \"Topic7\", \"Topic7\", \"Topic7\", \"Topic7\", \"Topic7\", \"Topic7\", \"Topic7\", \"Topic7\", \"Topic7\", \"Topic7\", \"Topic7\", \"Topic7\", \"Topic7\", \"Topic7\", \"Topic7\", \"Topic7\", \"Topic7\", \"Topic7\", \"Topic7\", \"Topic7\", \"Topic7\", \"Topic7\", \"Topic8\", \"Topic8\", \"Topic8\", \"Topic8\", \"Topic8\", \"Topic8\", \"Topic8\", \"Topic8\", \"Topic8\", \"Topic8\", \"Topic8\", \"Topic8\", \"Topic8\", \"Topic8\", \"Topic8\", \"Topic8\", \"Topic8\", \"Topic8\", \"Topic8\", \"Topic8\", \"Topic8\", \"Topic8\", \"Topic8\", \"Topic8\", \"Topic8\", \"Topic8\", \"Topic8\", \"Topic8\", \"Topic8\", \"Topic8\", \"Topic8\", \"Topic8\", \"Topic8\", \"Topic8\", \"Topic8\", \"Topic8\", \"Topic8\", \"Topic8\", \"Topic8\", \"Topic8\", \"Topic8\", \"Topic8\", \"Topic8\", \"Topic8\", \"Topic8\", \"Topic8\", \"Topic8\", \"Topic8\", \"Topic8\", \"Topic8\", \"Topic8\", \"Topic8\", \"Topic8\", \"Topic8\", \"Topic8\", \"Topic8\", \"Topic8\", \"Topic8\", \"Topic8\", \"Topic8\", \"Topic8\", \"Topic8\", \"Topic8\", \"Topic8\", \"Topic8\", \"Topic8\", \"Topic8\", \"Topic8\", \"Topic8\", \"Topic8\", \"Topic8\", \"Topic8\", \"Topic8\", \"Topic8\", \"Topic8\", \"Topic8\", \"Topic8\", \"Topic8\", \"Topic8\", \"Topic8\", \"Topic8\", \"Topic8\", \"Topic8\", \"Topic8\", \"Topic8\", \"Topic9\", \"Topic9\", \"Topic9\", \"Topic9\", \"Topic9\", \"Topic9\", \"Topic9\", \"Topic9\", \"Topic9\", \"Topic9\", \"Topic9\", \"Topic9\", \"Topic9\", \"Topic9\", \"Topic9\", \"Topic9\", \"Topic9\", \"Topic9\", \"Topic9\", \"Topic9\", \"Topic9\", \"Topic9\", \"Topic9\", \"Topic9\", \"Topic9\", \"Topic9\", \"Topic9\", \"Topic9\", \"Topic9\", \"Topic9\", \"Topic9\", \"Topic9\", \"Topic9\", \"Topic9\", \"Topic9\", \"Topic9\", \"Topic9\", \"Topic9\", \"Topic9\", \"Topic9\", \"Topic9\", \"Topic9\", \"Topic9\", \"Topic9\", \"Topic9\", \"Topic9\", \"Topic9\", \"Topic9\", \"Topic9\", \"Topic9\", \"Topic9\", \"Topic9\", \"Topic9\", \"Topic9\", \"Topic9\", \"Topic9\", \"Topic9\", \"Topic9\", \"Topic9\", \"Topic9\", \"Topic9\", \"Topic9\", \"Topic9\", \"Topic9\", \"Topic9\", \"Topic9\", \"Topic9\", \"Topic9\", \"Topic9\", \"Topic9\", \"Topic9\", \"Topic9\", \"Topic9\", \"Topic9\", \"Topic9\", \"Topic9\", \"Topic9\", \"Topic9\", \"Topic9\", \"Topic9\", \"Topic9\", \"Topic9\", \"Topic9\", \"Topic9\", \"Topic9\", \"Topic10\", \"Topic10\", \"Topic10\", \"Topic10\", \"Topic10\", \"Topic10\", \"Topic10\", \"Topic10\", \"Topic10\", \"Topic10\", \"Topic10\", \"Topic10\", \"Topic10\", \"Topic10\", \"Topic10\", \"Topic10\", \"Topic10\", \"Topic10\", \"Topic10\", \"Topic10\", \"Topic10\", \"Topic10\", \"Topic10\", \"Topic10\", \"Topic10\", \"Topic10\", \"Topic10\", \"Topic10\", \"Topic10\", \"Topic10\", \"Topic10\", \"Topic10\", \"Topic10\", \"Topic10\", \"Topic10\", \"Topic10\", \"Topic10\", \"Topic10\", \"Topic10\", \"Topic10\", \"Topic10\", \"Topic10\", \"Topic10\", \"Topic10\", \"Topic10\", \"Topic10\", \"Topic10\", \"Topic10\", \"Topic10\", \"Topic10\", \"Topic10\", \"Topic10\", \"Topic10\", \"Topic10\", \"Topic10\", \"Topic10\", \"Topic10\", \"Topic10\", \"Topic10\", \"Topic10\", \"Topic10\", \"Topic10\", \"Topic10\", \"Topic10\", \"Topic10\", \"Topic10\", \"Topic10\", \"Topic10\", \"Topic10\", \"Topic10\", \"Topic10\", \"Topic10\", \"Topic10\", \"Topic10\", \"Topic10\", \"Topic10\", \"Topic10\", \"Topic10\", \"Topic10\", \"Topic10\", \"Topic10\", \"Topic10\", \"Topic10\", \"Topic10\", \"Topic10\", \"Topic10\", \"Topic10\", \"Topic10\"], \"logprob\": [30.0, 29.0, 28.0, 27.0, 26.0, 25.0, 24.0, 23.0, 22.0, 21.0, 20.0, 19.0, 18.0, 17.0, 16.0, 15.0, 14.0, 13.0, 12.0, 11.0, 10.0, 9.0, 8.0, 7.0, 6.0, 5.0, 4.0, 3.0, 2.0, 1.0, -6.0157, -6.3003, -7.0463, -6.9963, -7.2434, -6.5203, -7.3169, -7.7999, -8.0731, -8.2523, -8.2534, -8.254, -8.2626, -8.4708, -8.4728, -8.4746, -8.4877, -8.5077, -8.5167, -8.517, -8.5237, -8.7504, -8.7505, -8.7505, -8.7505, -8.7505, -8.7505, -8.7505, -8.5255, -8.7508, -6.6884, -7.4858, -6.102, -7.1959, -6.7487, -7.0584, -8.1401, -8.5536, -7.258, -7.8604, -7.4949, -6.0302, -7.6407, -6.9606, -7.3182, -6.6257, -5.4351, -5.0289, -5.1967, -4.8538, -6.8108, -5.6187, -5.6269, -4.8774, -5.748, -4.3492, -4.8147, -5.1645, -6.0812, -5.3987, -6.152, -6.0606, -5.7954, -4.907, -5.3406, -5.8649, -5.7576, -5.4521, -5.1071, -5.7784, -5.4535, -5.5068, -5.7803, -5.5393, -5.7925, -5.9435, -5.9278, -5.9039, -5.9269, -5.9576, -5.9505, -6.38, -7.919, -7.9208, -7.9209, -7.9226, -7.1414, -7.9538, -8.1987, -8.1987, -8.1987, -8.1988, -8.1992, -8.1994, -8.1997, -8.2002, -8.2014, -8.2015, -8.2021, -8.2033, -8.2034, -7.5216, -7.5251, -8.2282, -8.2718, -8.2775, -8.2813, -7.7335, -8.5885, -8.5885, -8.5885, -6.6117, -7.7069, -7.6046, -7.2792, -6.9977, -7.531, -6.6483, -5.6414, -5.6407, -5.6647, -6.3373, -6.4672, -7.5236, -7.5326, -6.8514, -5.5014, -7.3933, -4.9339, -6.9125, -5.0559, -6.3944, -6.7276, -7.2027, -4.7448, -5.8884, -5.6745, -5.765, -6.0742, -6.1209, -6.8508, -5.262, -5.7427, -5.9213, -5.7104, -5.5814, -5.8367, -5.9705, -5.7147, -5.8374, -5.8323, -6.0635, -6.4653, -5.7979, -5.9169, -6.08, -6.1618, -6.0713, -6.0466, -5.984, -6.0731, -5.0493, -4.5751, -7.9076, -8.2377, -8.2399, -8.2517, -7.2321, -8.4561, -8.4562, -8.4562, -8.4562, -8.4563, -8.4574, -8.4572, -8.2759, -8.4589, -8.4591, -8.3283, -8.7359, -8.7359, -8.7359, -8.7359, -8.736, -8.736, -8.736, -8.736, -8.7359, -8.736, -8.7362, -8.7369, -4.3359, -7.5641, -7.932, -4.4312, -7.5795, -5.2606, -6.5324, -7.4769, -7.8835, -5.3871, -4.7451, -8.2379, -5.3502, -6.498, -4.3008, -4.6715, -6.9341, -4.1951, -7.7768, -6.1967, -7.5666, -7.6796, -5.9727, -7.0558, -5.7508, -4.4666, -5.4394, -6.8676, -5.7215, -6.9126, -6.2376, -4.8774, -5.1338, -5.7972, -5.6714, -4.7135, -5.9785, -5.674, -5.9739, -5.4792, -5.8574, -5.3391, -5.7892, -5.7921, -5.7009, -5.8945, -5.8329, -5.8673, -7.8514, -8.1343, -8.1363, -8.3116, -8.3144, -8.3146, -8.3153, -8.53, -8.53, -8.5328, -8.5327, -8.5329, -8.5332, -8.3575, -7.8519, -8.5514, -7.986, -7.9911, -8.8098, -8.8098, -8.8098, -8.8099, -8.8099, -8.8099, -8.8103, -8.81, -8.8105, -8.8108, -8.8109, -8.812, -8.1345, -7.9178, -8.1345, -8.1382, -8.0321, -8.1452, -6.1353, -7.8589, -7.6545, -8.0112, -6.0425, -6.8022, -4.7091, -4.2508, -7.2819, -7.1426, -6.8496, -6.6718, -7.7775, -5.3582, -5.8455, -5.1104, -5.1763, -4.9407, -4.6755, -6.4039, -5.4201, -7.0883, -5.4349, -6.3055, -5.7103, -5.9981, -5.6568, -5.7449, -5.9187, -5.6063, -5.3759, -5.4741, -4.795, -5.1584, -5.4394, -5.8547, -5.8966, -5.4353, -5.4914, -5.6157, -5.9387, -5.8374, -5.9305, -5.3724, -5.8697, -5.8835, -5.9131, -6.0223, -7.0118, -7.3531, -5.1969, -5.0368, -6.8569, -5.6556, -7.7616, -7.8877, -8.0388, -8.2157, -6.3037, -8.2302, -8.0812, -8.4327, -8.4327, -8.4327, -8.4339, -5.54, -8.435, -8.4367, -8.442, -8.4436, -5.4202, -6.1602, -7.8864, -5.8403, -8.7125, -8.7125, -8.7125, -4.9782, -6.4737, -7.8061, -5.0382, -5.9963, -5.8834, -5.9023, -6.7046, -7.9159, -5.605, -5.7439, -6.381, -4.0043, -5.0181, -5.5659, -5.3634, -4.9403, -4.7462, -5.3083, -4.566, -5.0979, -4.2862, -5.5369, -5.5535, -4.733, -5.1776, -5.1242, -4.7561, -5.0781, -4.7014, -5.4144, -5.3249, -5.4256, -5.26, -5.5264, -5.5522, -7.7373, -7.7508, -8.1338, -8.1353, -8.1347, -8.15, -7.8177, -8.4135, -8.4135, -8.4135, -8.4136, -8.4136, -8.4136, -8.4145, -8.4149, -8.4164, -8.4172, -8.4176, -8.4172, -8.4173, -8.4177, -8.4181, -8.4198, -8.419, -8.4215, -8.4275, -8.4282, -7.5072, -8.4298, -8.4346, -7.7392, -6.8323, -7.9165, -7.9163, -7.9166, -7.9267, -7.9711, -7.3755, -6.3876, -6.9035, -7.4285, -6.2007, -5.4588, -7.9163, -4.9096, -6.6576, -8.1338, -8.1338, -8.1338, -6.5613, -7.7752, -8.1382, -7.6099, -6.1678, -6.6735, -5.7684, -5.5166, -6.6673, -4.5635, -5.3472, -6.12, -7.1893, -5.5143, -5.3929, -6.8937, -6.2372, -5.4367, -7.1016, -5.4113, -5.5216, -5.4078, -6.0232, -5.7913, -6.5167, -5.5445, -5.4766, -5.3621, -6.0453, -6.0107, -5.794, -6.0759, -6.1176, -5.4688, -5.9066, -5.8695, -5.8382, -5.9384, -6.0688, -6.1581, -8.219, -8.2217, -8.2345, -8.394, -8.55, -8.5517, -7.3643, -8.7684, -8.7684, -8.7685, -8.7685, -8.7685, -8.7685, -8.7685, -8.7694, -8.7695, -8.7698, -8.5877, -8.7733, -8.7734, -7.9925, -8.7787, -8.2232, -6.3661, -6.7772, -8.2234, -9.0483, -9.0483, -9.0483, -9.0484, -8.3708, -8.093, -7.5781, -8.8395, -6.3056, -3.9023, -6.8823, -7.0165, -4.7784, -4.6337, -7.8137, -6.5715, -5.7228, -7.7918, -7.9992, -5.8518, -6.9135, -5.9007, -5.3159, -5.8111, -4.1461, -6.3325, -6.04, -5.0966, -6.2273, -5.897, -5.0993, -6.9525, -5.6827, -4.781, -5.4481, -5.5169, -6.3702, -5.0172, -5.1653, -5.4649, -5.2858, -5.5531, -5.3446, -5.9741, -5.5512, -5.7813, -6.0637, -5.9433, -5.8854, -5.7754, -5.7893, -5.6444, -5.8955, -7.2216, -7.5726, -7.7244, -7.7281, -8.1219, -8.1246, -8.1258, -8.1269, -8.1357, -7.9619, -8.1494, -8.4016, -8.4016, -8.4016, -8.4017, -8.4017, -8.4021, -8.4022, -8.4041, -8.4034, -8.4042, -8.4053, -8.4045, -8.4064, -8.4064, -8.4068, -8.4069, -8.4099, -8.4104, -8.4132, -7.3515, -7.5742, -7.7253, -7.4442, -7.6464, -7.5296, -6.5397, -7.1766, -6.4354, -7.2536, -5.4479, -6.6373, -5.6513, -7.9084, -7.8389, -8.1245, -7.9144, -7.9197, -6.9336, -5.3572, -6.8144, -4.2964, -5.8502, -4.9647, -5.7295, -6.5746, -6.1715, -6.6579, -4.8895, -5.849, -5.1206, -5.7026, -6.2719, -5.2461, -5.5822, -5.8764, -5.9149, -6.4247, -5.9753, -5.8694, -5.8284, -6.0696, -6.0771, -6.2241, -5.6537, -5.6312, -5.6659, -5.7039, -6.1649, -6.0231, -5.9342, -5.9622, -6.0976, -6.0505, -6.1409, -6.6713, -6.8299, -8.1195, -8.1242, -8.2937, -8.2964, -8.2969, -8.2969, -8.2995, -8.512, -8.5121, -8.5121, -8.5121, -8.5159, -8.5162, -8.5176, -8.5176, -8.5225, -7.8377, -7.9627, -8.5664, -8.7919, -8.7919, -8.7919, -8.7919, -8.7919, -8.7919, -8.7919, -8.7919, -8.7919, -7.3506, -5.8474, -8.1326, -7.3429, -8.2949, -7.9653, -6.2953, -7.6793, -8.2957, -7.0634, -7.6391, -4.8505, -6.788, -5.7345, -5.1343, -5.2623, -7.7163, -3.9493, -7.4553, -7.4466, -6.7858, -5.0266, -6.6347, -5.71, -5.6588, -6.4014, -5.3455, -5.7171, -6.1404, -6.7349, -6.7484, -5.2573, -5.6454, -5.1223, -6.8303, -5.9634, -5.373, -5.7528, -5.4354, -5.9577, -5.9383, -5.2764, -5.8843, -5.9841, -5.8743, -5.7874, -5.8799, -5.6731, -5.7681, -5.3914, -5.5027, -5.547, -5.7444, -5.8185, -5.9009, -7.3179, -7.4531, -7.7806, -7.7838, -7.9989, -7.999, -8.018, -7.4509, -8.2787, -8.2787, -8.2787, -8.2787, -8.2787, -8.2787, -8.2787, -8.2788, -8.28, -8.2799, -8.2804, -8.2811, -8.2816, -8.2819, -8.2823, -8.2832, -8.2846, -8.286, -8.2853, -8.2856, -8.2865, -8.288, -7.6048, -7.2026, -7.7813, -7.7872, -7.3398, -7.4534, -7.205, -7.7227, -6.6214, -7.2125, -7.465, -7.137, -7.7845, -5.2945, -7.7939, -8.0022, -7.7904, -6.7643, -7.645, -8.0008, -6.7599, -7.4641, -6.7455, -5.6007, -5.6898, -6.9805, -5.63, -6.1373, -6.8111, -4.6946, -5.5979, -5.5668, -5.4862, -6.0734, -6.2507, -5.7885, -5.8428, -6.3628, -5.5241, -5.9412, -6.1305, -6.0311, -5.3594, -5.8835, -6.4647, -6.0438, -6.1172, -5.8226, -5.7684, -6.1049, -5.8983, -5.9846, -5.8885, -6.0366, -6.1713, -5.9647, -6.1233, -6.1682], \"loglift\": [30.0, 29.0, 28.0, 27.0, 26.0, 25.0, 24.0, 23.0, 22.0, 21.0, 20.0, 19.0, 18.0, 17.0, 16.0, 15.0, 14.0, 13.0, 12.0, 11.0, 10.0, 9.0, 8.0, 7.0, 6.0, 5.0, 4.0, 3.0, 2.0, 1.0, 2.165, 2.1615, 2.1366, 2.1322, 2.1219, 2.12, 2.1175, 2.0772, 2.0559, 2.0314, 2.0302, 2.0297, 2.0213, 1.996, 1.9938, 1.9923, 1.9791, 1.9584, 1.9492, 1.9489, 1.942, 1.9403, 1.9403, 1.9403, 1.9403, 1.9403, 1.9403, 1.9403, 1.9403, 1.9399, 1.8677, 1.888, 1.7687, 1.8021, 1.7424, 1.7546, 1.8636, 1.9139, 1.7306, 1.8109, 1.6936, 1.2944, 1.7214, 1.5363, 1.5777, 1.3175, 0.8752, 0.7003, 0.7656, 0.6305, 1.3498, 0.7979, 0.7988, 0.4277, 0.8033, 0.1068, 0.3382, 0.4628, 0.9535, 0.5042, 0.991, 0.9241, 0.7374, 0.089, 0.3376, 0.7548, 0.5279, 0.1777, -0.4266, 0.4553, -0.0003, 0.0293, 0.3351, -0.503, -0.0474, 0.4356, 0.0813, -0.1062, -0.0001, 0.2319, -0.5544, 2.7249, 2.6147, 2.6128, 2.6126, 2.6107, 2.6022, 2.5798, 2.5548, 2.5548, 2.5548, 2.5547, 2.5546, 2.5546, 2.5539, 2.5533, 2.5519, 2.5518, 2.5511, 2.5501, 2.5499, 2.5453, 2.5326, 2.5238, 2.4798, 2.4712, 2.4675, 2.4637, 2.4472, 2.4472, 2.4472, 2.4315, 2.347, 2.3243, 2.2783, 2.1766, 2.2887, 1.9406, 1.5, 1.4416, 1.4181, 1.7156, 1.7424, 2.2062, 2.1936, 1.7863, 0.9889, 2.0887, 0.6022, 1.7659, 0.5714, 1.3801, 1.5426, 1.9141, -0.2888, 0.7313, 0.5234, 0.5013, 0.7351, 0.7268, 1.512, -0.2659, 0.2526, 0.4578, 0.0346, -0.2763, 0.0662, 0.2289, -0.2614, -0.1151, -0.1541, 0.0568, 0.9891, -0.6451, -0.4326, -0.0024, 0.2232, -0.3421, -0.6381, -1.3035, -0.677, 2.1306, 2.0788, 2.0785, 2.0373, 2.0351, 2.0238, 2.0043, 2.0023, 2.0023, 2.0023, 2.0022, 2.0021, 2.0013, 2.0012, 2.0012, 1.9995, 1.9993, 1.9479, 1.9471, 1.9471, 1.9471, 1.9471, 1.9471, 1.9471, 1.9471, 1.9471, 1.9471, 1.9471, 1.947, 1.9469, 1.8694, 1.9342, 1.9379, 1.8633, 1.9222, 1.7595, 1.8248, 1.8787, 1.8867, 1.6465, 1.5212, 1.896, 1.5402, 1.6621, 1.0953, 1.0178, 1.6072, 0.8411, 1.8166, 1.3532, 1.7351, 1.7603, 1.2134, 1.559, 1.0796, 0.2139, 0.6382, 1.3563, 0.745, 1.3695, 0.9679, 0.1187, 0.2746, 0.6753, 0.5265, -0.2574, 0.6969, 0.4463, 0.6546, 0.199, 0.5276, -0.034, 0.206, 0.0056, -0.2477, 0.142, -0.3487, -0.1223, 2.026, 1.9948, 1.9928, 1.9721, 1.9698, 1.9696, 1.9686, 1.9367, 1.9367, 1.9346, 1.934, 1.9339, 1.9336, 1.9263, 1.9249, 1.9172, 1.897, 1.8872, 1.8811, 1.8811, 1.8811, 1.8811, 1.8811, 1.881, 1.881, 1.8809, 1.8805, 1.8801, 1.88, 1.8797, 1.8673, 1.8583, 1.8597, 1.8573, 1.8453, 1.8495, 1.54, 1.7483, 1.716, 1.7654, 1.4038, 1.4996, 1.0132, 0.9021, 1.5797, 1.5259, 1.4148, 1.291, 1.6725, 0.7621, 0.9463, 0.6346, 0.6214, 0.5126, 0.3206, 0.9923, 0.4829, 1.3393, 0.4558, 0.8978, 0.5709, 0.6846, 0.4586, 0.4888, 0.5974, 0.3748, 0.1602, 0.2041, -0.339, -0.1222, 0.0449, 0.3848, 0.4073, -0.1302, -0.0829, 0.0115, 0.3796, 0.2402, 0.3686, -0.6919, 0.213, -0.2538, 0.0492, 2.1979, 2.1692, 2.1537, 2.1288, 2.1273, 2.1259, 2.1236, 2.1144, 2.1059, 2.0886, 2.0663, 2.0548, 2.052, 2.0464, 2.0323, 2.0323, 2.0323, 2.0311, 2.0302, 2.0302, 2.0285, 2.0231, 2.0213, 2.0059, 1.9974, 1.9895, 1.9803, 1.9767, 1.9767, 1.9767, 1.9305, 1.9424, 1.9635, 1.753, 1.8246, 1.8049, 1.7746, 1.8459, 1.956, 1.5772, 1.5937, 1.6188, 1.0319, 1.1714, 1.2865, 1.2158, 1.0688, 0.9431, 1.1321, 0.8301, 0.9387, 0.3943, 1.1102, 1.109, 0.4198, 0.7491, 0.6441, 0.24, 0.4062, -0.2454, 0.8673, 0.578, 0.7176, 0.1485, 0.6489, 0.8049, 2.4278, 2.4141, 2.3665, 2.3658, 2.3656, 2.3505, 2.3439, 2.3088, 2.3088, 2.3088, 2.3088, 2.3088, 2.3087, 2.3079, 2.3073, 2.3061, 2.3054, 2.3052, 2.305, 2.3048, 2.3046, 2.3043, 2.3038, 2.3035, 2.3005, 2.2954, 2.2945, 2.2926, 2.2925, 2.2875, 2.2867, 2.227, 2.2525, 2.242, 2.2412, 2.2326, 2.202, 2.0127, 1.6923, 1.8274, 1.9598, 1.4983, 1.2238, 2.114, 0.8195, 1.5677, 2.1895, 2.1895, 2.1894, 1.5091, 2.027, 2.1858, 1.9211, 1.1706, 1.4221, 0.9268, 0.7872, 1.4075, 0.117, 0.5435, 1.0016, 1.6823, 0.448, 0.3521, 1.4635, 0.965, 0.3316, 1.6136, 0.1248, 0.1566, 0.0006, 0.5965, 0.3241, 1.0485, -0.0602, -0.1715, -0.3259, 0.4272, 0.3464, -0.0717, 0.3645, 0.349, -1.0128, -0.2793, -0.4734, -0.8421, -0.4851, 0.0744, 0.3037, 1.743, 1.7404, 1.7284, 1.7035, 1.702, 1.7005, 1.6839, 1.6679, 1.6679, 1.6678, 1.6678, 1.6678, 1.6678, 1.6677, 1.667, 1.6669, 1.6666, 1.666, 1.6641, 1.6634, 1.6607, 1.6587, 1.6319, 1.6298, 1.6267, 1.6249, 1.614, 1.614, 1.614, 1.614, 1.5963, 1.5674, 1.5249, 1.6023, 1.3576, 0.7782, 1.3057, 1.3273, 0.8513, 0.7747, 1.4674, 1.1699, 0.969, 1.4424, 1.4884, 0.9727, 1.211, 0.9537, 0.7668, 0.8565, 0.3099, 0.9853, 0.8773, 0.5307, 0.9087, 0.7738, 0.4368, 1.1397, 0.6357, 0.2151, 0.4786, 0.4643, 0.8463, 0.1357, 0.1398, 0.3034, 0.1675, 0.3376, 0.1397, 0.564, 0.1938, 0.334, 0.6189, 0.4416, 0.2578, 0.0224, -0.0669, -0.6081, 0.0668, 2.4983, 2.4648, 2.4459, 2.4423, 2.3833, 2.3806, 2.3802, 2.3782, 2.369, 2.363, 2.3549, 2.3252, 2.3252, 2.3252, 2.3252, 2.3252, 2.3247, 2.3246, 2.3239, 2.3234, 2.3229, 2.3226, 2.3226, 2.3208, 2.3208, 2.3201, 2.32, 2.3172, 2.3164, 2.3133, 2.136, 2.1509, 2.1812, 2.1133, 2.1576, 2.1085, 1.8473, 1.952, 1.7122, 1.9642, 1.1705, 1.6186, 1.1709, 2.1228, 2.0775, 2.2058, 2.1111, 2.1072, 1.6324, 0.8423, 1.54, 0.1596, 0.9852, 0.3404, 0.7608, 1.3015, 0.9637, 1.2551, -0.209, 0.5677, -0.1245, 0.3801, 0.8922, -0.0932, 0.1402, 0.3631, 0.3663, 0.951, 0.394, 0.251, 0.1807, 0.4817, 0.4913, 0.6786, -0.2004, -0.2351, -0.2574, -0.2197, 0.5075, 0.1522, -0.1892, -0.1939, -0.0611, -0.5144, 0.1408, 2.0942, 2.0554, 1.9987, 1.9945, 1.9794, 1.9771, 1.9763, 1.9763, 1.9738, 1.9444, 1.9444, 1.9444, 1.9444, 1.9406, 1.9403, 1.9391, 1.9391, 1.9342, 1.9282, 1.9137, 1.8916, 1.8894, 1.8894, 1.8894, 1.8894, 1.8894, 1.8894, 1.8894, 1.8894, 1.8894, 1.8734, 1.7861, 1.8487, 1.7364, 1.837, 1.7978, 1.5962, 1.7579, 1.8245, 1.6414, 1.7216, 1.1981, 1.5612, 1.3394, 1.1052, 1.0233, 1.7104, 0.5067, 1.6112, 1.5864, 1.323, 0.6515, 1.2644, 0.8611, 0.803, 1.1259, 0.6498, 0.8157, 1.0018, 1.2726, 1.2727, 0.4718, 0.6359, 0.331, 1.2876, 0.7945, 0.4247, 0.6263, 0.2869, 0.6726, 0.6318, 0.0287, 0.5262, 0.5919, 0.461, 0.3558, 0.3195, -0.0433, 0.1227, -0.7109, -0.4665, -0.5509, -0.1172, 0.1083, -0.1326, 2.6192, 2.6008, 2.5591, 2.5562, 2.5215, 2.5214, 2.5019, 2.4773, 2.4624, 2.4624, 2.4624, 2.4624, 2.4624, 2.4624, 2.4624, 2.4624, 2.4612, 2.4611, 2.4611, 2.4604, 2.4593, 2.459, 2.4586, 2.4579, 2.4564, 2.456, 2.4554, 2.4551, 2.4548, 2.4532, 2.4395, 2.3505, 2.4022, 2.3883, 2.2985, 2.2617, 2.1984, 2.3151, 2.0189, 2.1263, 2.1591, 1.9748, 2.2518, 1.1459, 2.247, 2.3405, 2.2445, 1.7626, 2.1695, 2.3361, 1.7422, 2.078, 1.7, 1.0177, 0.981, 1.7539, 0.9199, 1.2011, 1.5694, -0.2386, 0.4797, 0.4144, 0.2821, 0.8222, 0.9772, 0.5107, 0.5266, 1.004, 0.012, 0.4755, 0.6917, 0.539, -0.3634, 0.1993, 0.9687, 0.2745, 0.3446, -0.1954, -0.3151, 0.3056, -0.1006, 0.0106, -0.2588, 0.0787, 0.3614, -0.6596, -0.7272, -1.0154]}, \"token.table\": {\"Topic\": [2, 10, 9, 1, 2, 3, 4, 5, 6, 7, 9, 10, 4, 8, 1, 2, 3, 4, 5, 6, 7, 8, 9, 10, 9, 1, 2, 3, 4, 5, 6, 7, 8, 9, 10, 1, 2, 3, 4, 5, 6, 7, 8, 9, 10, 1, 2, 3, 4, 5, 6, 7, 8, 9, 10, 3, 1, 2, 3, 4, 5, 6, 7, 8, 9, 10, 1, 2, 3, 4, 5, 7, 9, 10, 6, 8, 6, 5, 6, 10, 1, 2, 3, 4, 5, 6, 7, 8, 9, 10, 1, 2, 3, 5, 10, 4, 1, 2, 4, 5, 7, 8, 3, 6, 7, 9, 10, 1, 2, 6, 7, 9, 6, 6, 10, 2, 1, 2, 4, 6, 9, 1, 2, 3, 4, 5, 6, 7, 8, 9, 10, 10, 5, 3, 4, 4, 1, 2, 3, 4, 5, 6, 7, 8, 9, 10, 2, 4, 5, 6, 7, 8, 9, 10, 5, 5, 1, 2, 3, 4, 6, 7, 8, 9, 9, 6, 4, 9, 10, 5, 1, 2, 3, 4, 5, 6, 7, 8, 9, 10, 1, 5, 3, 4, 5, 6, 7, 2, 3, 5, 9, 10, 7, 1, 7, 8, 10, 6, 2, 10, 9, 3, 1, 3, 1, 2, 3, 4, 5, 6, 7, 8, 9, 10, 8, 10, 3, 1, 2, 3, 4, 5, 6, 7, 8, 9, 10, 4, 7, 3, 6, 3, 7, 2, 3, 4, 5, 6, 7, 9, 10, 10, 9, 1, 2, 3, 4, 5, 6, 7, 8, 9, 10, 1, 3, 4, 5, 6, 8, 9, 10, 7, 1, 2, 5, 8, 1, 3, 4, 5, 6, 7, 8, 9, 10, 1, 2, 3, 6, 8, 9, 1, 4, 5, 7, 8, 2, 1, 1, 4, 1, 6, 7, 8, 1, 2, 3, 4, 5, 6, 7, 8, 9, 10, 4, 3, 8, 1, 3, 4, 7, 8, 9, 10, 4, 2, 4, 5, 6, 1, 6, 1, 2, 3, 4, 5, 6, 7, 8, 9, 10, 7, 2, 2, 9, 8, 4, 5, 8, 9, 10, 6, 9, 3, 4, 8, 1, 3, 4, 6, 7, 10, 9, 9, 8, 9, 5, 1, 2, 3, 4, 5, 6, 7, 8, 9, 10, 6, 9, 3, 1, 3, 4, 5, 6, 7, 8, 10, 2, 3, 9, 10, 6, 1, 2, 3, 4, 5, 6, 7, 9, 2, 3, 4, 5, 6, 7, 8, 9, 10, 8, 1, 2, 3, 4, 5, 6, 7, 8, 9, 2, 7, 7, 10, 2, 3, 4, 5, 6, 8, 3, 4, 1, 3, 5, 7, 2, 3, 4, 6, 7, 8, 9, 10, 1, 2, 4, 5, 7, 8, 9, 10, 6, 3, 1, 2, 5, 6, 7, 8, 10, 6, 1, 2, 3, 4, 5, 6, 7, 8, 9, 10, 1, 2, 3, 4, 5, 6, 7, 8, 9, 10, 1, 3, 5, 6, 8, 9, 10, 1, 8, 7, 3, 10, 3, 4, 6, 10, 6, 7, 8, 1, 2, 3, 4, 5, 6, 7, 8, 9, 10, 10, 1, 2, 3, 4, 5, 7, 8, 9, 10, 4, 6, 1, 2, 7, 10, 3, 5, 7, 8, 10, 4, 5, 1, 2, 3, 4, 5, 6, 7, 8, 9, 10, 1, 3, 5, 6, 7, 8, 10, 1, 3, 8, 9, 10, 1, 2, 3, 4, 5, 6, 7, 8, 9, 10, 9, 10, 6, 1, 8, 5, 6, 10, 4, 3, 1, 2, 3, 4, 5, 6, 7, 8, 9, 10, 1, 2, 3, 4, 5, 6, 7, 8, 9, 10, 1, 2, 3, 4, 5, 6, 7, 8, 9, 10, 1, 2, 3, 4, 5, 6, 7, 8, 9, 10, 2, 2, 1, 3, 4, 5, 7, 9, 10, 1, 2, 3, 4, 6, 7, 9, 10, 2, 1, 5, 1, 2, 3, 4, 5, 6, 7, 8, 9, 10, 1, 2, 3, 4, 5, 6, 7, 8, 9, 10, 1, 1, 3, 6, 7, 8, 1, 2, 3, 4, 5, 6, 7, 8, 10, 1, 3, 7, 1, 2, 3, 4, 5, 6, 7, 8, 9, 10, 3, 4, 6, 7, 10, 2, 8, 9, 10, 1, 2, 3, 4, 5, 6, 7, 8, 10, 6, 10, 2, 1, 2, 8, 9, 1, 4, 5, 7, 5, 6, 9, 6, 1, 2, 3, 4, 5, 6, 7, 8, 9, 10, 4, 10, 6, 10, 5, 6, 8, 3, 7, 8, 9, 1, 3, 4, 5, 6, 7, 8, 9, 5, 2, 6, 1, 4, 5, 6, 7, 8, 9, 1, 2, 3, 4, 5, 6, 7, 8, 9, 10, 1, 2, 3, 4, 5, 6, 7, 8, 9, 10, 1, 2, 3, 1, 2, 5, 6, 7, 8, 9, 10, 4, 8, 1, 3, 4, 5, 7, 9, 3, 4, 1, 2, 4, 5, 6, 7, 8, 9, 10, 7, 1, 2, 3, 4, 5, 6, 7, 8, 9, 10, 3, 1, 2, 6, 7, 8, 9, 10, 1, 3, 4, 5, 6, 7, 8, 9, 10, 1, 2, 3, 4, 5, 6, 7, 8, 9, 10, 1, 2, 3, 4, 5, 6, 7, 8, 9, 1, 2, 3, 4, 5, 6, 7, 8, 9, 10, 6, 1, 2, 3, 4, 5, 6, 7, 8, 9, 10, 10, 1, 2, 3, 4, 5, 6, 7, 8, 9, 10, 1, 2, 3, 4, 5, 6, 7, 8, 9, 10, 8, 9, 9, 1, 7, 9, 1, 2, 3, 4, 5, 6, 7, 8, 9, 10, 5, 6, 7, 5, 9, 2, 6, 7, 8, 3, 1, 6, 7, 9, 10, 9, 10, 6, 1, 7, 2, 1, 6, 8, 10, 1, 2, 3, 4, 5, 6, 7, 8, 9, 10, 10, 2, 3, 4, 5, 6, 7, 8, 9, 1, 3, 4, 5, 6, 7, 8, 9, 10, 7, 1, 3, 4, 6, 7, 8, 9, 10, 6, 9, 10, 2, 4, 7, 1, 4, 7, 8, 9, 1, 2, 3, 5, 6, 7, 8, 9, 10, 6, 6, 10, 8, 1, 3, 5, 6, 7, 8, 9, 3, 2, 8, 10, 1, 2, 3, 4, 5, 6, 7, 8, 9, 10, 5, 7, 1, 3, 4, 5, 6, 7, 8, 9, 3, 2, 3, 6, 7, 8, 9, 10, 1, 2, 3, 4, 5, 6, 7, 8, 9, 10, 3, 7, 10, 1, 3, 6, 7, 10, 10, 3, 6, 4, 2, 9, 1, 5, 7, 1, 2, 3, 4, 5, 6, 9, 10, 8, 4, 8, 1, 1, 2, 6, 8, 1, 2, 3, 4, 5, 6, 7, 8, 9, 10, 8, 4, 8, 10, 1, 7, 8, 10, 4, 9, 1, 2, 3, 4, 5, 6, 7, 8, 9, 10, 3, 4, 9, 10, 1, 10, 1, 2, 3, 4, 6, 7, 8, 10, 1, 5, 6, 7, 8, 2, 4, 8, 4, 4, 2, 4, 8, 1, 2, 3, 4, 5, 6, 7, 8, 9, 10, 2, 3, 4, 5, 6, 7, 8, 9, 10, 5, 1, 2, 3, 4, 5, 6, 7, 8, 9, 10, 10, 1, 2, 3, 4, 5, 6, 7, 8, 9, 1, 2, 3, 4, 5, 6, 7, 8, 9, 10, 1, 3, 4, 5, 6, 7, 8, 9, 10, 2, 5, 1, 2, 3, 4, 5, 7, 8, 9, 8, 1, 2, 3, 4, 5, 6, 7, 8, 9, 10, 1, 2, 4, 5, 6, 7, 8, 9, 10, 1, 2, 3, 4, 5, 6, 7, 8, 9, 10, 4, 8, 1, 2, 3, 4, 5, 6, 7, 8, 9, 10, 3, 1, 2, 3, 4, 5, 6, 7, 8, 9, 10, 4, 5, 3, 5, 7, 5, 3, 1, 1, 2, 3, 4, 5, 6, 7, 8, 9, 10, 2, 1, 2, 3, 4, 5, 6, 7, 8, 9, 10, 7, 2, 3, 4, 5, 6, 7, 8, 9, 10, 2, 4, 8, 5, 6, 9, 1, 1, 2, 3, 6, 7, 10, 2, 10, 2, 10, 2, 7, 3, 7, 4, 9, 1, 2, 3, 4, 5, 6, 7, 8, 9, 10, 1, 2, 3, 4, 6, 8, 9, 2, 1, 2, 3, 4, 5, 6, 7, 8, 9, 10, 8, 4, 1, 2, 3, 4, 5, 6, 7, 8, 9, 10, 10, 1, 2, 3, 6, 9, 10, 5, 1, 2, 3, 4, 5, 6, 7, 8, 9, 10, 9, 1, 2, 3, 4, 5, 6, 7, 8, 9, 10, 1, 2, 3, 4, 5, 6, 7, 8, 9, 10, 2, 5, 8, 3, 10, 10, 1, 2, 4, 5, 7, 10, 8, 10, 9, 7, 1, 3, 7, 10, 1, 2, 3, 4, 5, 6, 7, 8, 9, 10, 1, 2, 3, 4, 5, 6, 7, 8, 9, 10, 7, 1, 2, 3, 4, 5, 6, 7, 8, 9, 10, 1, 1, 2, 3, 4, 5, 6, 7, 8, 9, 10, 2, 6, 8, 10, 1, 3, 4, 5, 7, 8, 9, 10, 6, 1, 4, 5, 9, 1, 2, 3, 4, 5, 6, 7, 8, 9, 10, 7, 10, 9, 9, 1, 2, 3, 4, 5, 6, 7, 8, 9, 10, 10, 3, 10, 1, 2, 3, 4, 5, 6, 7, 8, 9, 10, 10, 3, 10, 6, 7, 4, 1, 2, 3, 4, 6, 7, 8, 9, 10, 6, 10, 3, 4, 7, 8, 9, 10, 1, 2, 3, 4, 5, 6, 7, 8, 9, 10, 6, 1, 2, 3, 4, 5, 6, 7, 8, 9, 10, 8, 1, 2, 3, 4, 5, 6, 7, 9, 10, 9, 1, 2, 3, 4, 6, 7, 9, 10, 5, 1, 6, 7, 8, 9, 2, 1, 2, 3, 4, 5, 6, 7, 8, 9, 10, 2, 6, 9, 1, 2, 3, 4, 5, 6, 7, 8, 9, 10, 1, 8, 9, 10, 2, 4, 7, 1, 3, 7, 9, 1, 3, 8, 3, 4, 10, 9, 4, 3, 9, 7, 8, 3, 5, 6, 9, 10, 1, 1, 2, 1, 2, 3, 4, 5, 6, 7, 8, 9, 10, 1, 3, 4, 5, 6, 7, 8, 9, 10, 1, 2, 3, 4, 5, 6, 7, 8, 9, 10, 5, 9, 10, 8, 1, 2, 3, 4, 5, 6, 7, 8, 9, 10, 1, 2, 4, 5, 7, 2, 3, 4, 5, 6, 9, 10, 1, 3, 4, 5, 6, 7, 8, 9, 10, 1, 2, 3, 4, 5, 6, 7, 8, 9, 10, 1, 2, 3, 4, 5, 6, 7, 8, 9, 3, 3, 6, 2, 3, 7, 10, 1, 2, 3, 4, 5, 6, 7, 8, 9, 1, 2, 3, 4, 5, 6, 7, 8, 9, 10, 2, 4, 10, 1, 2, 3, 4, 5, 6, 7, 8, 9, 10, 2, 1, 2, 5, 7, 8, 10, 9, 10, 4, 5, 6, 6, 1, 3, 5, 6, 9, 10, 6, 2, 3, 1, 5, 6, 7, 8, 10, 6, 1, 2, 3, 4, 5, 6, 7, 8, 9, 10, 1, 4, 5, 7, 8, 6, 10, 1, 2, 3, 4, 6, 7, 8, 9, 1, 2, 3, 4, 5, 6, 7, 8, 9, 10, 8, 1, 2, 3, 4, 6, 7, 8, 9, 10, 2, 3, 4, 8, 1, 9, 7, 2, 6, 7, 9, 1, 2, 3, 4, 5, 6, 7, 8, 9, 10, 1, 2, 3, 4, 5, 6, 7, 8, 9, 10, 8, 1, 2, 3, 4, 5, 6, 7, 8, 9, 10, 4, 5, 6, 7, 8, 10, 2, 7, 8, 10, 3, 9, 10, 1, 3, 5, 8, 9, 1, 2, 3, 5, 6, 8, 9, 7, 6, 9, 1, 2, 3, 4, 5, 6, 7, 8, 9, 10, 6, 7, 1, 2, 6, 7, 4, 1, 4, 6, 8, 9, 10, 5, 6, 8, 9, 1, 8, 1, 2, 3, 4, 5, 6, 7, 8, 9, 10, 1, 2, 3, 4, 5, 6, 7, 8, 9, 10, 1, 2, 3, 4, 5, 6, 7, 8, 9, 10, 2, 3, 9, 3, 7, 2, 9, 1, 2, 3, 4, 5, 6, 7, 8, 9, 10, 1, 2, 3, 4, 5, 6, 7, 8, 9, 10, 1, 2, 3, 4, 5, 6, 7, 8, 9, 10, 1, 2, 3, 4, 5, 6, 7, 8, 9, 6, 2, 4, 2, 3, 5, 6, 7, 2, 8, 1, 1, 1, 9, 1, 1, 1, 2, 3, 4, 5, 6, 7, 8, 9, 10, 8, 1, 3, 4, 6, 7, 8, 9, 10, 1, 2, 3, 4, 5, 6, 7, 8, 9, 10, 1, 2, 3, 4, 5, 6, 7, 8, 9, 10, 4, 6, 1, 4, 4, 9, 1, 2, 3, 4, 5, 6, 7, 8, 9, 10, 5, 2, 10, 1, 5, 7, 9, 1, 2, 3, 4, 5, 6, 7, 8, 9, 10, 1, 2, 3, 4, 5, 6, 7, 8, 9, 10, 1, 3, 4, 5, 8, 9, 1, 2, 3, 4, 5, 6, 7, 8, 9, 10, 1, 2, 3, 4, 5, 6, 7, 8, 9, 10, 1, 2, 3, 4, 5, 6, 7, 8, 9, 10, 1, 2, 3, 4, 5, 6, 7, 8, 9, 10, 1, 2, 3, 4, 5, 6, 7, 8, 9, 10, 1, 8, 1, 3, 10, 2, 3, 4, 6, 7, 8, 9, 10, 9, 2, 4, 5, 9, 8, 7, 9, 8, 2, 4, 5, 6, 7, 8, 10, 10, 1, 2, 3, 4, 5, 6, 7, 9, 10, 6, 9, 10, 8, 1, 2, 3, 4, 5, 6, 7, 8, 9, 10, 8, 7, 7, 4, 5, 1, 3, 4, 5, 8, 9, 10, 3, 10, 3, 4, 9, 1, 5, 9, 10, 1, 2, 3, 4, 5, 6, 7, 8, 9, 10, 1, 2, 3, 4, 5, 6, 7, 8, 9, 10, 1, 2, 3, 4, 5, 6, 7, 8, 9, 10, 2, 4, 6, 7, 8, 9, 1, 2, 3, 4, 5, 6, 7, 8, 9, 10, 2, 1, 1, 2, 3, 4, 5, 6, 7, 8, 9, 10, 3, 5, 4, 9, 2, 3, 4, 5, 6, 7, 8, 9, 10, 1, 2, 4, 7, 8, 9, 1, 2, 3, 4, 7, 8, 9, 10, 1, 2, 3, 4, 5, 6, 7, 8, 9, 10, 1, 2, 3, 4, 5, 6, 7, 8, 9, 10, 1, 2, 3, 4, 5, 6, 7, 8, 9, 10, 1, 1, 3, 5, 1, 2, 3, 4, 5, 6, 7, 8, 9, 10, 1, 2, 3, 4, 5, 6, 7, 8, 9, 10, 5, 1, 2, 3, 4, 5, 6, 7, 9, 10, 1, 2, 3, 4, 5, 6, 7, 8, 9, 10, 4, 9, 1, 2, 3, 4, 5, 6, 7, 8, 9, 10, 4, 8, 4, 9, 6, 1, 2, 3, 4, 5, 6, 7, 8, 9, 10, 4, 8, 9, 3, 5, 5, 6, 9, 1, 5, 6, 7, 8, 9, 1, 2, 3, 4, 5, 6, 7, 8, 9, 10, 4, 1, 2, 3, 4, 5, 6, 7, 8, 9, 10, 10, 4, 6, 1, 2, 3, 4, 5, 6, 7, 8, 9, 10, 1, 2, 3, 4, 5, 6, 7, 8, 9, 10, 1, 2, 3, 4, 5, 6, 7, 1, 2, 3, 4, 5, 6, 7, 1, 2, 3, 4, 5, 6, 7, 8, 9, 10, 8, 1, 2, 3, 4, 5, 6, 7, 8, 9, 10, 2, 3, 4, 5, 6, 7, 8, 9, 10, 8, 1, 2, 1, 2, 3, 4, 5, 6, 7, 8, 9, 10, 1, 4, 5, 8, 9, 10, 9], \"Freq\": [0.9125488304342845, 0.7224581922917571, 0.9040924335159937, 0.017174893854357946, 0.11163681005332665, 0.37784766479587484, 0.10304936312614768, 0.13739915083486356, 0.04293723463589487, 0.08587446927178974, 0.11163681005332665, 0.017174893854357946, 0.8571984041801664, 0.888521637137286, 0.07157402665685236, 0.056236735230384, 0.08179888760783127, 0.040899443803915636, 0.09713617903429964, 0.06646159618136291, 0.3680949942352407, 0.025562152377447273, 0.11758590093625745, 0.06646159618136291, 0.9408761201479123, 0.09013900048649102, 0.010816680058378924, 0.03966116021405605, 0.17306688093406278, 0.1766724409535224, 0.02884448015567713, 0.2956559215956906, 0.007211120038919282, 0.09374456050595067, 0.08653344046703139, 0.06499401281376824, 0.018569717946790923, 0.07892130127386142, 0.14855774357432738, 0.09749101922065234, 0.06963644230046596, 0.15784260254772284, 0.023212147433488654, 0.27854576920186386, 0.06499401281376824, 0.2965351430855003, 0.024711261923791687, 0.43244708366635454, 0.024711261923791687, 0.09884504769516675, 0.012355630961895844, 0.037066892885687534, 0.012355630961895844, 0.024711261923791687, 0.037066892885687534, 0.8504855854030057, 0.08349234209216379, 0.05780239067919031, 0.05780239067919031, 0.14771722062459747, 0.07706985423892042, 0.05780239067919031, 0.14771722062459747, 0.03211243926621684, 0.19267463559730105, 0.14771722062459747, 0.0593798046527187, 0.0197932682175729, 0.0791730728702916, 0.0395865364351458, 0.21772595039330192, 0.1385528775230103, 0.4156586325690309, 0.0197932682175729, 0.8842877292971618, 0.8888176996640536, 0.8845800741995202, 0.14758799207005383, 0.5903519682802153, 0.14758799207005383, 0.10068740238295994, 0.025707421885011048, 0.11139882816838122, 0.22065537117967818, 0.06855312502669612, 0.03427656251334806, 0.16067138678131906, 0.03641884767043232, 0.17995195319507734, 0.059983984398359114, 0.058756700170421214, 0.029378350085210607, 0.058756700170421214, 0.7638371022154757, 0.08813505025563181, 0.9134047688688662, 0.5221228867803865, 0.04746571698003514, 0.18986286792014057, 0.04746571698003514, 0.09493143396007028, 0.04746571698003514, 0.11677924086292155, 0.05838962043146077, 0.7006754451775293, 0.05838962043146077, 0.9014476347029763, 0.21855819591760287, 0.5463954897940072, 0.21855819591760287, 0.19770280640000099, 0.7908112256000039, 0.8845428701003486, 0.17202495809248536, 0.6880998323699414, 0.912554914191785, 0.045865859650496346, 0.045865859650496346, 0.5962561754564525, 0.13759757895148902, 0.18346343860198538, 0.12431777105250212, 0.04423920681598049, 0.08623845379317716, 0.08455848391408928, 0.08455848391408928, 0.027999497984797776, 0.21335617464415904, 0.08791842367226502, 0.19599648589358443, 0.051519076292027906, 0.9013981841877242, 0.8557583701522682, 0.9058243772935609, 0.8571950144616549, 0.8145966941943847, 0.014546987876588098, 0.043640963629764294, 0.6473409605081704, 0.05091445756805834, 0.05818795150635239, 0.029093975753176196, 0.05818795150635239, 0.021820481814882147, 0.05818795150635239, 0.021820481814882147, 0.08309495581111784, 0.16618991162223568, 0.027698318603705946, 0.33237982324447135, 0.19388823022594162, 0.11079327441482378, 0.027698318603705946, 0.027698318603705946, 0.8536416455956691, 0.8132436398140006, 0.0513844537608728, 0.0256922268804364, 0.43676785696741877, 0.0256922268804364, 0.0513844537608728, 0.2055378150434912, 0.0513844537608728, 0.128461134402182, 0.8489621727622095, 0.7085650620349178, 0.1484673562661254, 0.1484673562661254, 0.5938694250645016, 0.8557642364648156, 0.24664446738311896, 0.05569391198973654, 0.059672048560432005, 0.07160645827251841, 0.06365018513112747, 0.08751900455530028, 0.07160645827251841, 0.13127850683295042, 0.10740968740877761, 0.10343155083808214, 0.6843641899789866, 0.9118373555084552, 0.03239015746335528, 0.09717047239006585, 0.7773637791205268, 0.01619507873167764, 0.06478031492671056, 0.36665378987128283, 0.03666537898712829, 0.4399845478455394, 0.10999613696138485, 0.03666537898712829, 0.8869761258906025, 0.6333463471696683, 0.1900039041509005, 0.03166731735848342, 0.09500195207545024, 0.8845282190866844, 0.20172628940227527, 0.6051788682068258, 0.848969522758289, 0.75435299261815, 0.12571289398848282, 0.754277363930897, 0.0824723521102714, 0.12370852816540712, 0.22385352715645096, 0.09425411669745304, 0.17083558651413364, 0.05890882293590815, 0.12959941045899792, 0.04712705834872652, 0.029454411467954075, 0.029454411467954075, 0.20054159697864993, 0.6016247909359498, 0.8510886550362109, 0.11335503598711168, 0.01545750490733341, 0.22155757033844553, 0.14942254743755629, 0.04637251472200023, 0.06698252126511145, 0.09789753107977826, 0.04637251472200023, 0.19579506215955653, 0.041220013086222425, 0.12303917697389692, 0.7382350618433815, 0.14694361901668165, 0.7347180950834084, 0.9058404809793167, 0.8271640678617235, 0.03114198448412877, 0.036332315231483565, 0.23356488363096578, 0.07785496121032193, 0.2595165373677398, 0.2906585218518685, 0.04152264597883836, 0.025951653736773973, 0.9013285088202485, 0.8489773036423691, 0.13531336379510076, 0.07995789678801407, 0.06765668189755038, 0.08610850423324592, 0.3874882690496067, 0.05535546700708667, 0.10456032656894149, 0.006150607445231852, 0.04305425211662296, 0.030753037226159262, 0.021125388350345536, 0.7182632039117482, 0.021125388350345536, 0.19364939321150076, 0.021125388350345536, 0.003520898058390923, 0.010562694175172768, 0.010562694175172768, 0.7381523546431447, 0.13335466325844617, 0.6667733162922308, 0.13335466325844617, 0.8888705209114763, 0.18588779725219848, 0.026555399607456925, 0.07081439895321846, 0.03540719947660923, 0.044258999345761545, 0.36292379463524466, 0.05311079921491385, 0.1062215984298277, 0.09736979856067539, 0.7095869250078516, 0.033789853571802454, 0.033789853571802454, 0.033789853571802454, 0.13515941428720982, 0.033789853571802454, 0.6844614858662185, 0.08577900094142872, 0.08577900094142872, 0.6862320075314298, 0.08577900094142872, 0.6082845691662324, 0.8570908919670566, 0.12677112402902938, 0.7606267441741763, 0.7185871776740326, 0.1437174355348065, 0.8860215519124188, 0.8488914888668938, 0.07860749918611884, 0.15721499837223768, 0.08983714192699295, 0.15721499837223768, 0.06737785644524472, 0.07860749918611884, 0.15721499837223768, 0.10106678466786707, 0.07860749918611884, 0.03368892822262236, 0.857194970374275, 0.8504979344086376, 0.8886513405979658, 0.1400466027152357, 0.01400466027152357, 0.5601864108609428, 0.01400466027152357, 0.15405126298675928, 0.07002330135761785, 0.04201398081457071, 0.9134092819822047, 0.6600459111743198, 0.11000765186238662, 0.11000765186238662, 0.11000765186238662, 0.7607920321570518, 0.8848363910409198, 0.2323351092041518, 0.013403948607931834, 0.09382764025552284, 0.04467982869310611, 0.017871931477242444, 0.080423691647591, 0.10276360599414405, 0.053615794431727336, 0.2680789721586367, 0.09382764025552284, 0.8330808463601398, 0.6083269753672444, 0.1265374158494476, 0.7592244950966857, 0.848901161314949, 0.11781297153266884, 0.23562594306533768, 0.05890648576633442, 0.05890648576633442, 0.47125188613067537, 0.11330797119268599, 0.7931557983488019, 0.11451622597157325, 0.6870973558294395, 0.11451622597157325, 0.1853171357143661, 0.04632928392859152, 0.13898785178577458, 0.4169635553573237, 0.09265856785718304, 0.04632928392859152, 0.9409092112424357, 0.9040807578815651, 0.6520335122761545, 0.2608134049104618, 0.9118180991184831, 0.033324189521990996, 0.04332144637858829, 0.033324189521990996, 0.17328578551435317, 0.04665386533078739, 0.05998354113958379, 0.10996982542257028, 0.10663740647037119, 0.35656882788530364, 0.033324189521990996, 0.6705970761396749, 0.16764926903491872, 0.9058314458846213, 0.08049889548587195, 0.04024944774293598, 0.04024944774293598, 0.08049889548587195, 0.4829933729152317, 0.12074834322880793, 0.12074834322880793, 0.04024944774293598, 0.09972325492303197, 0.09972325492303197, 0.09972325492303197, 0.6980627844612238, 0.7084431165826206, 0.06540875799706952, 0.02180291933235651, 0.08721167732942604, 0.15262043532649555, 0.08721167732942604, 0.06540875799706952, 0.08721167732942604, 0.4360583866471302, 0.01937415761153112, 0.15499326089224896, 0.07749663044612448, 0.5424764131228713, 0.07749663044612448, 0.03874831522306224, 0.058122472834593354, 0.01937415761153112, 0.01937415761153112, 0.8885591281263946, 0.01804912604893578, 0.0300818767482263, 0.32488426888084404, 0.01804912604893578, 0.1804912604893578, 0.02406550139858104, 0.13837663304184097, 0.04813100279716208, 0.21658951258722936, 0.10122448480944493, 0.8097958784755594, 0.7136789306598834, 0.20390826590282385, 0.020173674198696024, 0.8876416647426251, 0.005043418549674006, 0.06052102259608807, 0.015130255649022017, 0.005043418549674006, 0.142548224590701, 0.712741122953505, 0.04661694973072684, 0.015538983243575614, 0.9012610281273856, 0.031077966487151228, 0.04677218384694499, 0.09354436769388998, 0.07015827577041749, 0.09354436769388998, 0.5846522980868123, 0.023386091923472494, 0.09354436769388998, 0.023386091923472494, 0.16410423980673874, 0.0656416959226955, 0.0656416959226955, 0.03282084796134775, 0.03282084796134775, 0.131283391845391, 0.09846254388404324, 0.39385017553617296, 0.8846619738036545, 0.7556143416814746, 0.0629684618683646, 0.0629684618683646, 0.10494743644727435, 0.4197897457890974, 0.10494743644727435, 0.1259369237367292, 0.1259369237367292, 0.8845907289789559, 0.05642604903025528, 0.035266280643909555, 0.08699015892164357, 0.18808683010085095, 0.07053256128781911, 0.13166078107059567, 0.21865093999223922, 0.03996845139643083, 0.1340118664468563, 0.03996845139643083, 0.06228152229034009, 0.05190126857528341, 0.05190126857528341, 0.1141827908656235, 0.08304202972045345, 0.10380253715056682, 0.12456304458068018, 0.19722482058607696, 0.07266177600539678, 0.14532355201079356, 0.03921113978674521, 0.15684455914698084, 0.03921113978674521, 0.03921113978674521, 0.03921113978674521, 0.6273782365879234, 0.07842227957349042, 0.9135295660009803, 0.8918033762014962, 0.8278310439521972, 0.9425840173676396, 0.9011722652989373, 0.11749082533052993, 0.11749082533052993, 0.5874541266526496, 0.11749082533052993, 0.14710126510098956, 0.14710126510098956, 0.5884050604039582, 0.1746743154198126, 0.020549919461154424, 0.10274959730577211, 0.04109983892230885, 0.0873371577099063, 0.0821996778446177, 0.23118659393798727, 0.12329951676692653, 0.09761211744048351, 0.030824879191731634, 0.901161655641411, 0.04069514027350179, 0.010173785068375447, 0.09156406561537903, 0.04069514027350179, 0.3255611221880143, 0.2848659819145125, 0.015260677602563172, 0.16786745362819488, 0.015260677602563172, 0.44792591185441755, 0.5375110942253011, 0.09198962530834277, 0.5519377518500567, 0.18397925061668555, 0.09198962530834277, 0.09057736674182677, 0.09057736674182677, 0.18115473348365355, 0.09057736674182677, 0.5434642004509606, 0.8574838548584158, 0.8133606552618512, 0.045165217262478685, 0.02084548489037478, 0.11812441437879041, 0.2084548489037478, 0.16676387912299823, 0.01389698992691652, 0.07295919711631173, 0.10770167193360303, 0.2223518388306643, 0.02084548489037478, 0.11371475840660777, 0.5913167437143604, 0.022742951681321556, 0.1364577100879293, 0.09097180672528622, 0.04548590336264311, 0.022742951681321556, 0.07391809895943355, 0.07391809895943355, 0.07391809895943355, 0.22175429687830064, 0.5174266927160348, 0.07947033091253956, 0.053642473365964206, 0.04370868200189676, 0.3258283567414122, 0.003973516545626978, 0.07152329782128561, 0.1470201121881982, 0.08741736400379352, 0.15695390355226563, 0.03178813236501583, 0.1332715008599696, 0.7996290051598176, 0.8845449137539912, 0.913312138705742, 0.889530160621032, 0.23786740213740426, 0.11893370106870213, 0.5946685053435107, 0.8579431395341589, 0.9058163545873288, 0.07689171030529261, 0.03075668412211705, 0.30756684122117045, 0.0615133682442341, 0.27681015709905343, 0.04421273342554326, 0.05959107548660178, 0.023067513091587787, 0.08842546685108651, 0.02883439136448473, 0.019320992108367886, 0.006440330702789295, 0.721317038712401, 0.006440330702789295, 0.09338479519044478, 0.05152264562231436, 0.045082314919525066, 0.01288066140557859, 0.03864198421673577, 0.0032201653513946474, 0.10985458844859741, 0.021970917689719482, 0.030759284765607273, 0.21531499335925092, 0.127431322600373, 0.043941835379438965, 0.1450080567521486, 0.07470112014504623, 0.16258479090392416, 0.07470112014504623, 0.17241217343101523, 0.09195315916320812, 0.1417611203766125, 0.11111006732220981, 0.1609180285356142, 0.01915690815900169, 0.057470724477005075, 0.007662763263600676, 0.22222013464441961, 0.015325526527201353, 0.8066963672498455, 0.7324100885652224, 0.010916121966353609, 0.03274836589906083, 0.03274836589906083, 0.7968769035438135, 0.06549673179812165, 0.021832243932707218, 0.03274836589906083, 0.08642260469524864, 0.08642260469524864, 0.1080282558690608, 0.02160565117381216, 0.12963390704287295, 0.08642260469524864, 0.45371867465005533, 0.04321130234762432, 0.7324781217562565, 0.1264780864926248, 0.7588685189557488, 0.096043913768395, 0.07363366722243617, 0.14726733444487233, 0.07683513101471601, 0.07043220343015634, 0.08003659480699583, 0.09284244997611517, 0.17608050857539084, 0.1632746534062715, 0.0288131741305185, 0.0326697257937873, 0.05717202013912779, 0.0326697257937873, 0.08167431448446827, 0.0653394515875746, 0.04900458869068096, 0.38386927807700083, 0.08984174593291509, 0.16334862896893654, 0.04900458869068096, 0.9134018498940959, 0.07766673041023342, 0.07766673041023342, 0.5436671128716339, 0.15533346082046684, 0.07766673041023342, 0.1695157420802364, 0.12713680656017728, 0.06356840328008864, 0.31784201640044324, 0.09535260492013298, 0.03178420164004432, 0.0847578710401182, 0.05297366940007387, 0.06356840328008864, 0.08670526187119229, 0.7803473568407305, 0.08670526187119229, 0.025088818368277373, 0.037633227552416056, 0.07526645510483211, 0.050177636736554745, 0.012544409184138686, 0.21325495613035766, 0.0878108642889708, 0.07526645510483211, 0.3261546387876058, 0.0878108642889708, 0.07629473392794867, 0.686652605351538, 0.07629473392794867, 0.07629473392794867, 0.07629473392794867, 0.05990389604971341, 0.5391350644474208, 0.05990389604971341, 0.29951948024856706, 0.08355817521393778, 0.27852725071312595, 0.13926362535656298, 0.16711635042787557, 0.055705450142625186, 0.027852725071312593, 0.11141090028525037, 0.055705450142625186, 0.08355817521393778, 0.5934967996706788, 0.19783226655689293, 0.7324048489061187, 0.08155595604784309, 0.08155595604784309, 0.08155595604784309, 0.6524476483827447, 0.11343318059966673, 0.022686636119933348, 0.7940322641976671, 0.045373272239866695, 0.966109185157616, 0.8847156882521345, 0.8489643264905168, 0.884358602282559, 0.05781197831077995, 0.07322850586032127, 0.18885246248188117, 0.08864503340986259, 0.1156239566215599, 0.04239545076123863, 0.2428103089052758, 0.06552024208555061, 0.11176982473417457, 0.01156239566215599, 0.8866197951426679, 0.901158455552881, 0.5939436530319557, 0.19798121767731858, 0.14773052644484297, 0.14773052644484297, 0.5909221057793719, 0.8504915242250525, 0.8290895719533133, 0.05527263813022089, 0.05527263813022089, 0.014028336092838586, 0.028056672185677173, 0.07014168046419293, 0.6312751241777363, 0.056113344371354346, 0.11222668874270869, 0.056113344371354346, 0.028056672185677173, 0.9119388770493617, 0.17024144902015934, 0.6809657960806373, 0.10745958523334205, 0.08059468892500654, 0.026864896308335513, 0.026864896308335513, 0.026864896308335513, 0.013432448154167756, 0.6984873040167233, 0.09745273559166391, 0.026237274966986437, 0.11619364628236852, 0.0562227320721138, 0.23988365684101887, 0.10869728200608667, 0.18740910690704599, 0.07496364276281839, 0.037481821381409194, 0.048726367795831955, 0.18841604230543954, 0.03140267371757326, 0.09769720712133903, 0.05233778952928877, 0.048848603560669515, 0.006978371937238502, 0.15352418261924705, 0.07327290534100427, 0.3279834810502096, 0.020935115811715505, 0.11955593104844614, 0.5977796552422306, 0.23911186209689228, 0.03492227674942631, 0.4190673209931157, 0.13968910699770523, 0.03492227674942631, 0.03492227674942631, 0.03492227674942631, 0.17461138374713153, 0.10476683024827893, 0.7172074060551841, 0.1434414812110368, 0.05943707628507641, 0.05943707628507641, 0.44577807213807313, 0.08915561442761462, 0.11887415257015282, 0.23774830514030565, 0.906145410595253, 0.8571904148283231, 0.08316641661519572, 0.06237481246139679, 0.27029085399938607, 0.04158320830759786, 0.3534572706145818, 0.04158320830759786, 0.08316641661519572, 0.04158320830759786, 0.02079160415379893, 0.8860330822982275, 0.03494384019017782, 0.008735960047544455, 0.01747192009508891, 0.28828668156896703, 0.12230344066562236, 0.052415760285266726, 0.21839900118861136, 0.052415760285266726, 0.1397753607607113, 0.04367980023772227, 0.8505183077367061, 0.12101675292827455, 0.06050837646413727, 0.0907625646962059, 0.12101675292827455, 0.1815251293924118, 0.0907625646962059, 0.3630502587848236, 0.024242976592742573, 0.4363735786693663, 0.14545785955645543, 0.07272892977822772, 0.048485953185485146, 0.024242976592742573, 0.048485953185485146, 0.14545785955645543, 0.048485953185485146, 0.10568107050033718, 0.060969848365579137, 0.09755175738492662, 0.22355611067379016, 0.06909916148098968, 0.10974572705804245, 0.18900652993329534, 0.06300217664443178, 0.05284053525016859, 0.026420267625084294, 0.015466100550635591, 0.23199150825953385, 0.061864402202542364, 0.13919490495572032, 0.13919490495572032, 0.09279660330381355, 0.09279660330381355, 0.030932201101271182, 0.1855932066076271, 0.14229334680781797, 0.051743035202842895, 0.12288970860675187, 0.12288970860675187, 0.09701819100533043, 0.07761455280426434, 0.10348607040568579, 0.14876122620817334, 0.09055031160497506, 0.051743035202842895, 0.7084454422449875, 0.2682645927267809, 0.05365291854535617, 0.0822678084362128, 0.07511408596349864, 0.08584466967256987, 0.04292233483628494, 0.21461167418142468, 0.02503802865449955, 0.1144595595634265, 0.03934547359992786, 0.9012654511041016, 0.23992400939989275, 0.012627579442099619, 0.05808686543365824, 0.12375027853257625, 0.09849511964837702, 0.11869924675573641, 0.16668404863571495, 0.050510317768398476, 0.11112269909047665, 0.017678611218939464, 0.15242859623493107, 0.015768475472579077, 0.09986701132633416, 0.14191627925321168, 0.036793109436017844, 0.19447786416180862, 0.136660120762352, 0.06307390189031631, 0.068330060381176, 0.08935469434461477, 0.71182713216997, 0.8489590724096749, 0.9407570958127778, 0.7214661686939889, 0.1030665955277127, 0.1030665955277127, 0.2878259361077195, 0.051661065455231706, 0.05904121766312195, 0.14760304415780487, 0.029520608831560977, 0.044280913247341465, 0.14760304415780487, 0.044280913247341465, 0.1180824353262439, 0.0664213698710122, 0.13955415573572108, 0.13955415573572108, 0.6977707786786054, 0.16147258931766634, 0.8073629465883317, 0.1350968921119211, 0.03859911203197746, 0.7912817966555379, 0.01929955601598873, 0.8505027227732765, 0.23773386326178447, 0.39622310543630745, 0.2773561738054152, 0.039622310543630745, 0.039622310543630745, 0.17065264239270903, 0.6826105695708361, 0.8845424016340712, 0.8571228385487535, 0.8860271835159704, 0.9128672347298246, 0.6834370486515791, 0.05257208066550608, 0.05257208066550608, 0.15771624199651826, 0.2489030684086058, 0.036131090575442774, 0.10839327172632833, 0.06824761553139191, 0.1445243623017711, 0.036131090575442774, 0.24488850278911214, 0.0481747874339237, 0.02810195933645549, 0.036131090575442774, 0.9013275631736203, 0.04389484218237173, 0.10973710545592932, 0.08778968436474346, 0.08778968436474346, 0.021947421091185866, 0.5267381061884607, 0.04389484218237173, 0.10973710545592932, 0.04249979586115467, 0.04249979586115467, 0.08499959172230934, 0.06374969379173201, 0.12749938758346402, 0.4887476524032787, 0.04249979586115467, 0.08499959172230934, 0.021249897930577334, 0.8860265719884313, 0.08285764065668391, 0.055238427104455944, 0.027619213552227972, 0.11047685420891189, 0.13809606776113986, 0.3590497761789636, 0.16571528131336782, 0.055238427104455944, 0.14917553481411544, 0.14917553481411544, 0.5967021392564618, 0.6082920319304179, 0.13855614299024105, 0.8313368579414463, 0.6553794723698924, 0.08738392964931899, 0.04369196482465949, 0.04369196482465949, 0.17476785929863797, 0.07740108899558355, 0.06517986441733352, 0.10591727967816697, 0.3340468051388343, 0.10999102120425032, 0.04888489831300014, 0.00814748305216669, 0.04073741526083345, 0.20368707630416724, 0.8845352967795448, 0.5935344121847311, 0.19784480406157703, 0.7118708465295394, 0.432326566884211, 0.022754029836011106, 0.18203223868808885, 0.022754029836011106, 0.13652417901606664, 0.11377014918005553, 0.09101611934404442, 0.8504934924566846, 0.17153093181599485, 0.6003582613559819, 0.17153093181599485, 0.03786052060714365, 0.02944707158333395, 0.21874967461905218, 0.09254793926190669, 0.054687418654763044, 0.1177882863333358, 0.22295639913095702, 0.042067245119048496, 0.1598555314523843, 0.021033622559524248, 0.7558297320523788, 0.1259716220087298, 0.029974171504673946, 0.04995695250778991, 0.06993973351090588, 0.529543696582573, 0.009991390501557982, 0.12988807652025378, 0.009991390501557982, 0.1698536385264857, 0.754947812584488, 0.9125598364646041, 0.692484534733114, 0.08309814416797369, 0.02769938138932456, 0.05539876277864912, 0.11079752555729824, 0.02769938138932456, 0.06564403354327593, 0.05967639413025085, 0.11338514884747661, 0.09548223060840136, 0.02387055765210034, 0.02387055765210034, 0.19096446121680272, 0.2446732159340285, 0.05967639413025085, 0.13128806708655186, 0.8505247892469717, 0.8861401553808631, 0.9016736408253035, 0.16398487438128195, 0.1093232495875213, 0.08199243719064098, 0.6012778727313672, 0.05466162479376065, 0.901664273082713, 0.16773524856467925, 0.670940994258717, 0.8572019740703082, 0.1633825466850619, 0.8169127334253096, 0.11372251696396365, 0.7960576187477455, 0.8870212066526655, 0.17771761254664561, 0.2792705340018717, 0.07616469109141955, 0.07616469109141955, 0.1523293821828391, 0.07616469109141955, 0.1269411518190326, 0.025388230363806517, 0.8885240646083689, 0.9135017909890052, 0.7115855484141373, 0.8145087852428561, 0.8571343806478486, 0.18398266317412854, 0.18398266317412854, 0.6439393211094498, 0.11543916557076173, 0.10884264182386105, 0.06926349934245703, 0.13852699868491405, 0.04947392810175502, 0.08740393964643388, 0.24242224769859963, 0.04452653529157952, 0.07915828496280804, 0.0659652374690067, 0.7124814090620545, 0.29379518860216297, 0.5875903772043259, 0.9013114238074001, 0.7605820477110208, 0.18316577661653874, 0.09158288830826937, 0.6410802181578855, 0.913401433493015, 0.8057581587804771, 0.10999588305824654, 0.0299988771977036, 0.03999850293027147, 0.03999850293027147, 0.10999588305824654, 0.24999064331419668, 0.03999850293027147, 0.06999738012797507, 0.0899966315931108, 0.21999176611649307, 0.15770039887915493, 0.07885019943957747, 0.15770039887915493, 0.5519513960770424, 0.760610834891389, 0.7228370848305657, 0.018670096589996285, 0.07468038635998514, 0.11202057953997771, 0.4294122215699146, 0.03734019317999257, 0.24271125566995172, 0.056010289769988855, 0.018670096589996285, 0.07565244457042765, 0.8195681495129662, 0.02521748152347588, 0.05043496304695176, 0.01260874076173794, 0.6044656642353662, 0.15111641605884155, 0.15111641605884155, 0.8572002362081619, 0.9140267087938294, 0.544451272265549, 0.32667076335932943, 0.10889025445310982, 0.18519465176202826, 0.0648181281167099, 0.05555839552860848, 0.12500638993936908, 0.02777919776430424, 0.05555839552860848, 0.268532245054941, 0.12500638993936908, 0.060188261822659184, 0.04166879664645636, 0.10511754635438604, 0.01751959105906434, 0.10511754635438604, 0.03503918211812868, 0.15767631953157907, 0.03503918211812868, 0.03503918211812868, 0.42047018541754416, 0.0875979552953217, 0.7594744085530144, 0.15625652749990535, 0.03147613503595215, 0.03709687343522933, 0.29227839676241285, 0.16412556125889338, 0.010117329118698908, 0.178739481097014, 0.06857300847118149, 0.03709687343522933, 0.023607101276964117, 0.9014568864172527, 0.07263176408751405, 0.018157941021878513, 0.0786844110948069, 0.13921088116773528, 0.2209216157661886, 0.08171073459845331, 0.20276367474431006, 0.015131617518232094, 0.16947411620419947, 0.03246589842815588, 0.03246589842815588, 0.051017840387102095, 0.17624344860998906, 0.03246589842815588, 0.09739769528446764, 0.18551941958946216, 0.05565582587683865, 0.2226233035073546, 0.1113116517536773, 0.10264685684282855, 0.07698514263212142, 0.0427695236845119, 0.5217881889510452, 0.051323428421414276, 0.059877333158316656, 0.03421561894760952, 0.0855390473690238, 0.01710780947380476, 0.7584666528147623, 0.15169333056295245, 0.15619556764640502, 0.039048891911601255, 0.039048891911601255, 0.05857333786740189, 0.11714667573480378, 0.11714667573480378, 0.05857333786740189, 0.42953781102761385, 0.888560231701193, 0.11211427175997038, 0.0024372667773906605, 0.046308068770422546, 0.10967700498257972, 0.22910307707472208, 0.026809934551297265, 0.25347574484862867, 0.05849440265737585, 0.13161240597909565, 0.029247201328687925, 0.28082859414633926, 0.0070207148536584815, 0.07020714853658482, 0.09829000795121874, 0.07020714853658482, 0.2527457347317053, 0.04212428912195089, 0.09829000795121874, 0.07722786339024329, 0.5096220635647939, 0.06370275794559924, 0.09555413691839885, 0.09555413691839885, 0.09555413691839885, 0.03185137897279962, 0.03185137897279962, 0.03185137897279962, 0.03185137897279962, 0.901367230733413, 0.7642628735654445, 0.12737714559424076, 0.09093746696361452, 0.055353240760461005, 0.09884507278653751, 0.09884507278653751, 0.12256789025530651, 0.08302986114069151, 0.08302986114069151, 0.0751222553177685, 0.20164394848453654, 0.086983664052153, 0.8506806655659902, 0.15587474067496884, 0.05132460973444096, 0.13496471448686326, 0.146370183316739, 0.05132460973444096, 0.08934283916736019, 0.09884739652558999, 0.026612760603043458, 0.2262084651258694, 0.019009114716459614, 0.8572272077382945, 0.759326262158346, 0.850499848405828, 0.9119370114573591, 0.8860484926467737, 0.911799384793981, 0.8504931960501786, 0.8571308427129259, 0.09520526242590642, 0.035361954615336665, 0.12784706668621718, 0.09792541278093231, 0.27473518585761564, 0.057123157455543846, 0.12784706668621718, 0.07072390923067333, 0.06800375887564744, 0.043522405680414364, 0.9130208033396875, 0.11308941460467008, 0.02458465534884132, 0.21634496706980363, 0.16717565637212098, 0.04425237962791438, 0.039335448558146115, 0.14750793209304794, 0.04425237962791438, 0.11800634567443834, 0.08850475925582876, 0.8330806385310375, 0.608273953859381, 0.1068374324126504, 0.2136748648253008, 0.0657461122539387, 0.057527848222196365, 0.1479287525713621, 0.024654792095227016, 0.32051229723795116, 0.057527848222196365, 0.1933515675717936, 0.6767304865012775, 0.0966757837858968, 0.8802215844682121, 0.051777740262836006, 0.9040757880350075, 0.7605687006737607, 0.6470971087551259, 0.06811548513211851, 0.13623097026423703, 0.03405774256605926, 0.08514435641514814, 0.01702887128302963, 0.806695293852389, 0.9067275060627704, 0.7654785075819128, 0.15309570151638258, 0.6072070947129211, 0.8330779310757818, 0.942604440619303, 0.886448779371296, 0.8572054790856066, 0.904072924161688, 0.06848355209386381, 0.051362664070397857, 0.051362664070397857, 0.051362664070397857, 0.08560444011732976, 0.10272532814079571, 0.051362664070397857, 0.27393420837545523, 0.18832976825812547, 0.06848355209386381, 0.1066144571682049, 0.02132289143364098, 0.08529156573456392, 0.06396867430092294, 0.31984337150461467, 0.04264578286728196, 0.3411662629382557, 0.6055055650105708, 0.1576956956609361, 0.03300607583600988, 0.14669367038226616, 0.13202430334403953, 0.1026855692675863, 0.04034075935512319, 0.12835696158448287, 0.03667341759556654, 0.18703442973738935, 0.03300607583600988, 0.8885476943513838, 0.8571928908510105, 0.07691697070461584, 0.008546330078290648, 0.04842920377698034, 0.14813638802370457, 0.09970718424672423, 0.03703409700592614, 0.33615564974609885, 0.11110229101777842, 0.05697553385527099, 0.07976574739737939, 0.9411476325421501, 0.1776185850514685, 0.41444336512009317, 0.11841239003431234, 0.11841239003431234, 0.11841239003431234, 0.05920619501715617, 0.9117952979451429, 0.11484521618891522, 0.07569343794269412, 0.1357261645868998, 0.07308331939294604, 0.0861339121416864, 0.04437201534571724, 0.14355652023614401, 0.03654165969647302, 0.22708031382808236, 0.06525296374370182, 0.848977557681429, 0.09428590561008315, 0.07857158800840262, 0.06809537627394895, 0.08904779974285632, 0.06285727040672211, 0.08380969387562948, 0.4138103635109205, 0.04714295280504158, 0.02095242346890737, 0.04714295280504158, 0.05114396331354461, 0.09909142891999269, 0.18859336471869576, 0.09589493121289615, 0.08950193579870307, 0.041554470192255, 0.18539686701159921, 0.05114396331354461, 0.14064589911224767, 0.05434046102064115, 0.19941959427257946, 0.09970979713628973, 0.5982587828177384, 0.9058217738570684, 0.8044724705944453, 0.9021165472464764, 0.1620118226886153, 0.016201182268861528, 0.032402364537723057, 0.6642484730233227, 0.09720709361316918, 0.9013304727932387, 0.7925623481496705, 0.9013333040377515, 0.9411379006969178, 0.7892209184195985, 0.9134014917133046, 0.6542204346074194, 0.08177755432592743, 0.24533266297778228, 0.17147672229994523, 0.04450540884120716, 0.10733657426408787, 0.1047186090381345, 0.06675811326181075, 0.06414014803585738, 0.17933061797780533, 0.10602759165111118, 0.12173538300683136, 0.034033547937393716, 0.034733710811377785, 0.04052266261327408, 0.04631161441517038, 0.30681444550050374, 0.10999008423602964, 0.05210056621706668, 0.2605028310853334, 0.028944759009481486, 0.08683427702844446, 0.028944759009481486, 0.9211511641382961, 0.06267867048028831, 0.00895409578289833, 0.08058686204608498, 0.11640324517767829, 0.05372457469738998, 0.09849505361188164, 0.24176058613825493, 0.03581638313159332, 0.12535734096057663, 0.17012781987506828, 0.9750853616375258, 0.07289684198108896, 0.01612141697658698, 0.138083441060332, 0.05957914969608233, 0.15981230742007965, 0.0862145342660956, 0.3406525500270119, 0.0609810120418725, 0.05817728735029215, 0.008411174074741035, 0.10876815626816383, 0.10876815626816383, 0.652608937608983, 0.10876815626816383, 0.05215764079775393, 0.03477176053183595, 0.05215764079775393, 0.08692940132958987, 0.10431528159550786, 0.05215764079775393, 0.5737340487752932, 0.03477176053183595, 0.8845100610955099, 0.03780943964251274, 0.5293321549951783, 0.11342831892753821, 0.26466607749758914, 0.014341076608010305, 0.04302322982403091, 0.12906968947209274, 0.05736430643204122, 0.02868215321602061, 0.3441858385922473, 0.11472861286408244, 0.14341076608010303, 0.08604645964806182, 0.04302322982403091, 0.7432264388572385, 0.12387107314287309, 0.904242571584017, 0.8489680657749235, 0.17704098681097433, 0.10477935954118889, 0.034324272953148084, 0.11923168499514597, 0.045163517043615896, 0.05780930181582835, 0.2655614802164615, 0.034324272953148084, 0.10477935954118889, 0.05419622045233908, 0.9009631717025537, 0.29740698126763276, 0.5948139625352655, 0.05160610177187763, 0.007372300253125376, 0.5750394197437793, 0.11795680405000601, 0.03686150126562688, 0.04423380151875225, 0.029489201012501503, 0.029489201012501503, 0.06635070227812838, 0.029489201012501503, 0.9013221214190681, 0.9057705893096367, 0.8046881127965713, 0.8845609419715734, 0.8861010163972566, 0.9150963363385048, 0.30432510552075687, 0.032900011407649386, 0.07402502566721113, 0.08225002851912347, 0.07402502566721113, 0.21385007414972101, 0.09870003422294817, 0.06580002281529877, 0.05757501996338643, 0.6781975538472772, 0.1695493884618193, 0.03413082752625666, 0.34130827526256663, 0.10239248257876998, 0.37543910278882325, 0.03413082752625666, 0.06826165505251332, 0.06802722778202147, 0.01500600612838709, 0.25810330540825793, 0.10504204289870962, 0.3031213237934192, 0.05502202247075266, 0.08503403472752684, 0.023009209396860204, 0.0740296302333763, 0.01400560571982795, 0.7090286831882326, 0.0541037487258916, 0.02913278777548009, 0.16231124617767478, 0.12485480475205753, 0.07491288285123451, 0.1040456706267146, 0.0790747096763031, 0.020809134125342924, 0.26219508997932084, 0.09156019015150886, 0.8894880251695962, 0.04472471760754374, 0.05111396298004999, 0.5175288751730062, 0.19167736117518747, 0.06389245372506248, 0.04472471760754374, 0.05111396298004999, 0.019167736117518746, 0.012778490745012498, 0.8489619935359924, 0.08078473559917723, 0.040392367799588616, 0.12117710339876585, 0.2019618389979431, 0.08078473559917723, 0.040392367799588616, 0.08078473559917723, 0.36353131019629753, 0.9117820260024687, 0.6249450261857239, 0.10415750436428732, 0.05207875218214366, 0.10415750436428732, 0.10415750436428732, 0.6054233010912146, 0.04115256034028498, 0.04115256034028498, 0.02057628017014249, 0.10288140085071246, 0.07201698059549871, 0.030864420255213736, 0.15432210127606868, 0.0925932607656412, 0.2572035021267811, 0.17489838144621117, 0.6081708640927598, 0.04696591448344022, 0.9393182896688045, 0.10657719147914917, 0.017762865246524862, 0.08881432623262431, 0.10657719147914917, 0.035525730493049724, 0.05328859573957458, 0.1421029219721989, 0.2664429786978729, 0.08881432623262431, 0.07105146098609945, 0.7654692942027893, 0.07654692942027894, 0.07654692942027894, 0.07654692942027894, 0.8775024600806401, 0.058500164005376006, 0.8860167661915433, 0.07516661107498714, 0.7516661107498714, 0.07516661107498714, 0.07516661107498714, 0.636058740705116, 0.1908176222115348, 0.1272117481410232, 0.682782334865626, 0.11379705581093766, 0.11379705581093766, 0.6791142190256899, 0.7610009524403442, 0.8504906256166275, 0.9040738900748048, 0.8270479949121295, 0.7112668266624946, 0.2329848504145001, 0.07766161680483336, 0.5436313176338335, 0.07766161680483336, 0.9010242668183108, 0.8570886510728655, 0.8571036876817438, 0.6074653572542831, 0.06531335240254403, 0.07930907077451775, 0.08397431023184232, 0.13529194426241262, 0.11196574697578976, 0.051317634030570304, 0.16328338100636006, 0.046652394573245735, 0.21460101503693038, 0.046652394573245735, 0.15599641868106556, 0.11478981752002938, 0.18837303387902257, 0.07358321635899319, 0.1059598315569502, 0.21780632042261985, 0.03826327250667646, 0.032376615197957, 0.07063988770463346, 0.09617549952881381, 0.008363086915549026, 0.23416643363537273, 0.0627231518666177, 0.15053556447988248, 0.10872012990213735, 0.17562482522652956, 0.0627231518666177, 0.07526778223994124, 0.020907717288872568, 0.11404755828196356, 0.6842853496917813, 0.17107133742294534, 0.8887101278360183, 0.09881698483297062, 0.04042513015894253, 0.04042513015894253, 0.18865060740839845, 0.06288353580279948, 0.06288353580279948, 0.2739925488550549, 0.026950086772628352, 0.14822547724945592, 0.06288353580279948, 0.03360175937666724, 0.06720351875333448, 0.13440703750666896, 0.6720351875333449, 0.03360175937666724, 0.09605266458482248, 0.0320175548616075, 0.25614043889286, 0.0320175548616075, 0.19210532916964496, 0.0320175548616075, 0.3842106583392899, 0.02199269766766967, 0.06597809300300901, 0.17594158134135737, 0.054981744169174174, 0.09896713950451351, 0.17594158134135737, 0.14295253483985285, 0.07697444183684385, 0.17594158134135737, 0.07955897300919365, 0.009359879177552193, 0.1403981876632829, 0.023399697943880485, 0.36503528792453555, 0.018719758355104386, 0.09827873136429803, 0.02807963753265658, 0.16847782519593948, 0.07019909383164145, 0.02992461792999552, 0.01496230896499776, 0.13466078068497983, 0.01496230896499776, 0.05984923585999104, 0.05984923585999104, 0.5087185048099238, 0.0748115448249888, 0.10473616275498432, 0.8473082594142238, 0.9057612632414357, 0.8845353470295888, 0.19974496468893504, 0.06658165489631168, 0.6658165489631168, 0.06658165489631168, 0.046284681770742346, 0.005785585221342793, 0.08678377832014189, 0.05207026699208514, 0.6248432039050217, 0.005785585221342793, 0.05785585221342793, 0.03471351132805676, 0.08678377832014189, 0.07676003841114191, 0.023028011523342575, 0.015352007682228382, 0.16887208450451222, 0.023028011523342575, 0.030704015364456765, 0.1842240921867406, 0.015352007682228382, 0.4528842266257373, 0.015352007682228382, 0.9126099128206482, 0.7609955735273507, 0.7228381533983783, 0.12733776975700808, 0.007074320542056005, 0.06720604514953205, 0.16978369300934412, 0.06720604514953205, 0.07428036569158805, 0.22284109707476416, 0.06720604514953205, 0.08842900677570006, 0.10965196840186808, 0.8066964614289767, 0.8570981272240258, 0.5117744154218062, 0.08529573590363437, 0.17059147180726875, 0.17059147180726875, 0.08529573590363437, 0.3230481827657021, 0.6460963655314041, 0.8012308046902801, 0.11446154352718288, 0.11446154352718288, 0.8856741548306195, 0.054442673346346074, 0.054442673346346074, 0.054442673346346074, 0.10888534669269215, 0.5988694068098068, 0.10888534669269215, 0.8845440320762912, 0.16370018065017175, 0.8185009032508588, 0.9584210517634478, 0.05706911680025088, 0.256811025601129, 0.17120735040075266, 0.48508749280213254, 0.901335046583704, 0.8844995171345049, 0.05354112634140362, 0.04867375121945784, 0.05840850146334941, 0.11194962780475304, 0.009734750243891569, 0.09734750243891568, 0.11681700292669882, 0.2433687560972892, 0.08274537707307833, 0.18009287951199401, 0.06910999572773126, 0.009872856532533036, 0.9083028009930393, 0.009872856532533036, 0.009872856532533036, 0.593524727929091, 0.19784157597636365, 0.1106965491706859, 0.05534827458534295, 0.06918534323167869, 0.041511205939007215, 0.05534827458534295, 0.6088310204387725, 0.041511205939007215, 0.013837068646335738, 0.07720726244004944, 0.03345648039068809, 0.08492798868405439, 0.17242955278277708, 0.05919223453737124, 0.061765809952039556, 0.24963681522282655, 0.03860363122002472, 0.12353161990407911, 0.09779586575739596, 0.8885658842195605, 0.1861331489797183, 0.009796481525248332, 0.04898240762624166, 0.20572611203021499, 0.019592963050496664, 0.4212487055856783, 0.06857537067673833, 0.009796481525248332, 0.019592963050496664, 0.16522424106672473, 0.08261212053336237, 0.6608969642668989, 0.08261212053336237, 0.6052378439102064, 0.3026189219551032, 0.8860169693034875, 0.054950954164236024, 0.08242643124635404, 0.2747547708211801, 0.5495095416423602, 0.07984381031236977, 0.011012939353430314, 0.11012939353430314, 0.07433734063565461, 0.01927264386850305, 0.044051757413721256, 0.15693438578638197, 0.0633244012822243, 0.39095934704677615, 0.04955822709043641, 0.20981944867704602, 0.039145419529299626, 0.07829083905859925, 0.12369952571258683, 0.16127912846071446, 0.07202757193391132, 0.1800689298347783, 0.06106685446570742, 0.05480358734101948, 0.020355618155235806, 0.8884854084608901, 0.06039749913278002, 0.04831799930622402, 0.036238499479668014, 0.04831799930622402, 0.08455649878589203, 0.036238499479668014, 0.21743099687800807, 0.09663599861244804, 0.3623849947966801, 0.02415899965311201, 0.11340236085927521, 0.028350590214818804, 0.05670118042963761, 0.31185649236300683, 0.1701035412889128, 0.31185649236300683, 0.13170250577078296, 0.13170250577078296, 0.6585125288539148, 0.13170250577078296, 0.14827289083196, 0.14827289083196, 0.59309156332784, 0.2663550821498892, 0.5660045495685144, 0.03329438526873615, 0.03329438526873615, 0.09988315580620843, 0.07167173667491601, 0.07167173667491601, 0.5375380250618701, 0.035835868337458006, 0.07167173667491601, 0.10750760501237402, 0.10750760501237402, 0.8861009648096758, 0.8443134847187571, 0.9408737651105061, 0.06440605434950517, 0.09660908152425776, 0.08855832473056961, 0.20126891984220366, 0.19321816304851552, 0.20931967663589182, 0.03220302717475258, 0.01610151358737629, 0.04830454076212888, 0.05635529755581702, 0.703244252821168, 0.11720737547019466, 0.11080444605814335, 0.7756311224070035, 0.8850833540515712, 0.83308294945534, 0.9134041726016967, 0.1310314795022582, 0.5241259180090329, 0.20965036720361316, 0.07861888770135493, 0.026206295900451645, 0.026206295900451645, 0.05589059214882706, 0.7265776979347518, 0.05589059214882706, 0.16767177644648118, 0.9190034158247197, 0.036760136632988785, 0.08884482481868876, 0.010661378978242651, 0.11016758277517405, 0.17768964963737752, 0.0497531018984657, 0.16702827065913486, 0.17058206365188242, 0.05330689489121325, 0.1492593056953971, 0.02487655094923285, 0.10765851050161512, 0.05382925525080756, 0.01794308508360252, 0.06579131197320924, 0.07177234033441009, 0.05981028361200841, 0.412690956922858, 0.07177234033441009, 0.07177234033441009, 0.07177234033441009, 0.03120180359254947, 0.01040060119751649, 0.08320480958013192, 0.09984577149615831, 0.2059319037108265, 0.1060861322146682, 0.2121722644293364, 0.06240360718509894, 0.1040060119751649, 0.08736505005913853, 0.0667245185487131, 0.8006942225845572, 0.0667245185487131, 0.17413646277511857, 0.7836140824880335, 0.9126421129768707, 0.8061122087020697, 0.14008117793952557, 0.07879566259098314, 0.2889174295002715, 0.07879566259098314, 0.026265220863661048, 0.061285515348542444, 0.15759132518196628, 0.026265220863661048, 0.14008117793952557, 0.008755073621220348, 0.1572126444753171, 0.04232648120489307, 0.07255968206553097, 0.06651304189340339, 0.054419761549148224, 0.060466401721275806, 0.054419761549148224, 0.19953912568021018, 0.2116324060244653, 0.06651304189340339, 0.0942062486251872, 0.15843778177872395, 0.05994943094330095, 0.06851363536377252, 0.0471031243125936, 0.10705255525589455, 0.1884124972503744, 0.16271988398895973, 0.07707783978424408, 0.03853891989212204, 0.06160679645614068, 0.09925539429044887, 0.5099673706647201, 0.02053559881871356, 0.08214239527485424, 0.0513389970467839, 0.08214239527485424, 0.013690399212475706, 0.07529719566861638, 0.8848882873465388, 0.7323788940721796, 0.7606623143547734, 0.07122860138459021, 0.6410574124613119, 0.07122860138459021, 0.14245720276918042, 0.07122860138459021, 0.19921799502647078, 0.5976539850794124, 0.948693973261103, 0.6845879669766296, 0.9108296477382656, 0.904267166210168, 0.9840142187263353, 0.6855472721309052, 0.2503444102494044, 0.04551716549989171, 0.10013776409976177, 0.0955860475497726, 0.10468948064975094, 0.054620598599870056, 0.10924119719974011, 0.12289634684970763, 0.08193089789980508, 0.03641373239991337, 0.8655981290123922, 0.4043546831087681, 0.10848540278527924, 0.059173856064697765, 0.059173856064697765, 0.23669542425879106, 0.049311546720581474, 0.049311546720581474, 0.029586928032348882, 0.09384533792181964, 0.03128177930727321, 0.08341807815272856, 0.0695150651272738, 0.2572057409709131, 0.0695150651272738, 0.1737876628181845, 0.08689383140909225, 0.11122410420363808, 0.02780602605090952, 0.049352110056323076, 0.03193371827173846, 0.14660479752025385, 0.10886494865365384, 0.12483180778952307, 0.07693123038191538, 0.3396586397994, 0.05806130594861538, 0.056609773299899996, 0.007257663243576923, 0.16791873915467326, 0.671674956618693, 0.12666666257129466, 0.7599999754277681, 0.22598492155059313, 0.6779547646517794, 0.09287830099422101, 0.24767546931792267, 0.08513844257803592, 0.06191886732948067, 0.023219575248555252, 0.06965872574566576, 0.22445589406936742, 0.06191886732948067, 0.08513844257803592, 0.046439150497110504, 0.8853487561374527, 0.6975668550738064, 0.1743917137684516, 0.02520297548786508, 0.907307117563143, 0.01680198365857672, 0.05040595097573016, 0.13946704881856156, 0.01584852827483654, 0.09509116964901924, 0.07290323006424808, 0.3486676220464039, 0.025357645239738463, 0.13312763750862694, 0.03169705654967308, 0.0792426413741827, 0.060224407444378854, 0.13401693956818875, 0.018110397238944424, 0.054331191716833274, 0.09236302591861656, 0.110473423157561, 0.02897663558231108, 0.3658300242266774, 0.03440975475399441, 0.11228446288145542, 0.050709112269044385, 0.10096978692848206, 0.22718202058908465, 0.4796064879102898, 0.05048489346424103, 0.025242446732120515, 0.07572734019636156, 0.17558222353415814, 0.033128721421539276, 0.12920201354400318, 0.19214658424492778, 0.11926339711754139, 0.016564360710769638, 0.14576637425477282, 0.056318826416616764, 0.08282180355384819, 0.05300595427446284, 0.11233304740126078, 0.045540424622132744, 0.08652680678205221, 0.1973418400292419, 0.0531304953924882, 0.04705843877620384, 0.18519772679667318, 0.06223858031691475, 0.16394552863967787, 0.04705843877620384, 0.1775232709816357, 0.12242984205630048, 0.09182238154222536, 0.10406536574785541, 0.04897193682252019, 0.07345790523378029, 0.13467282626193053, 0.10406536574785541, 0.14079431836474554, 0.012242984205630048, 0.09844238776977376, 0.07875391021581901, 0.03281412925659125, 0.11813086532372852, 0.07219108436450077, 0.07875391021581901, 0.3740810735251403, 0.0656282585131825, 0.07875391021581901, 0.006562825851318251, 0.22603526666608265, 0.04200655398219235, 0.07801217168121437, 0.04800749026536268, 0.060009362831703356, 0.17402715221193973, 0.11201747728584627, 0.04600717817097257, 0.19002964896706062, 0.028004369321461567, 0.8571298742782602, 0.8885510417357775, 0.09535103363129989, 0.6674572354190993, 0.19070206726259978, 0.02088420637390927, 0.10442103186954635, 0.04176841274781854, 0.3132630956086391, 0.08353682549563708, 0.10442103186954635, 0.12530523824345563, 0.2088420637390927, 0.9040715034690331, 0.07555272410903965, 0.1511054482180793, 0.1511054482180793, 0.6799745169813569, 0.7118707796143151, 0.1405370100030632, 0.702685050015316, 0.8889473811816435, 0.34369855743145716, 0.2673211002244667, 0.03818872860349524, 0.11456618581048572, 0.07637745720699048, 0.11456618581048572, 0.03818872860349524, 0.9013372563272523, 0.10215965049006102, 0.32691088156819526, 0.020431930098012203, 0.24518316117614644, 0.04086386019602441, 0.020431930098012203, 0.18388737088210985, 0.020431930098012203, 0.020431930098012203, 0.88435776966077, 0.1496715563421921, 0.7483577817109605, 0.8883431618073702, 0.19700958172790675, 0.019700958172790675, 0.13790670720953474, 0.05417763497517436, 0.08372907223436038, 0.03940191634558135, 0.1280562281231394, 0.04432715588877902, 0.23148625853029045, 0.05910287451837203, 0.8885473099241487, 0.6681689992530113, 0.9213042232736239, 0.7606512990994811, 0.8557578973526658, 0.20215623369322955, 0.08984721497476869, 0.044923607487384346, 0.06738541123107651, 0.42677427113015126, 0.044923607487384346, 0.11230901871846086, 0.39328585083247547, 0.5899287762487132, 0.14243224834619295, 0.7121612417309647, 0.9582780829951861, 0.08320349272672897, 0.8320349272672898, 0.027734497575576323, 0.027734497575576323, 0.12173903193087098, 0.037051009718091166, 0.029111507635643057, 0.07410201943618233, 0.3149335826037749, 0.03175800832979243, 0.13232503470746845, 0.08998102360107854, 0.1190925312367216, 0.052930013882987376, 0.18633431989427812, 0.03635791607693232, 0.11361848774041348, 0.09543952970194733, 0.027268437057699237, 0.01817895803846616, 0.12270796675964657, 0.06817109264424809, 0.16361062234619542, 0.16361062234619542, 0.10352863483721608, 0.06211718090232965, 0.1745196987255928, 0.25438464560001667, 0.09169679085581996, 0.014789804976745154, 0.05324329791628255, 0.09761271284651801, 0.13015028379535734, 0.017747765972094185, 0.13098430921479165, 0.13098430921479165, 0.06549215460739582, 0.06549215460739582, 0.5239372368591666, 0.06549215460739582, 0.2388074053759788, 0.12184051294692796, 0.09747241035754238, 0.10721965139329662, 0.09259878983966525, 0.14133499501843644, 0.06335706673240254, 0.05360982569664831, 0.024368102589385595, 0.06335706673240254, 0.732237129102914, 0.6843774043855716, 0.20536884276861825, 0.015026988495264751, 0.11520691179702976, 0.0901619309715885, 0.3255847507307362, 0.02504498082544125, 0.05509895781597075, 0.0500899616508825, 0.060107953981059004, 0.05509895781597075, 0.9387379019226063, 0.051203885559414894, 0.7117848090233625, 0.1423569618046725, 0.041999084601898724, 0.10919761996493668, 0.12599725380569615, 0.025199450761139233, 0.10919761996493668, 0.12599725380569615, 0.18479597224835437, 0.1511967045668354, 0.1343970707260759, 0.6844681435835989, 0.056297381038655815, 0.056297381038655815, 0.22518952415462326, 0.056297381038655815, 0.5629738103865581, 0.11947924398131762, 0.33454188314768935, 0.14337509277758115, 0.023895848796263525, 0.11947924398131762, 0.07168754638879057, 0.11947924398131762, 0.04779169759252705, 0.42111103906809866, 0.12816422928159524, 0.12816422928159524, 0.07323670244662586, 0.018309175611656466, 0.07323670244662586, 0.054927526834969397, 0.054927526834969397, 0.054927526834969397, 0.018309175611656466, 0.18563880514174946, 0.06425958639522097, 0.0737795251204389, 0.19277875918566292, 0.19277875918566292, 0.014279908087826882, 0.1475590502408778, 0.0356997702195672, 0.06901955575782993, 0.028559816175653764, 0.1658146600516746, 0.04363543685570384, 0.23563135902080076, 0.06108961159798538, 0.05236252422684461, 0.20072300953623767, 0.15708757268053383, 0.017454174742281538, 0.04363543685570384, 0.008727087371140769, 0.8864405546297466, 0.08699646731536026, 0.7829682058382423, 0.08699646731536026, 0.11336352098331136, 0.05951584851623846, 0.20972251381912602, 0.15020666530288754, 0.0878567287620663, 0.05951584851623846, 0.07652037666373517, 0.05951584851623846, 0.07935446468831794, 0.10486125690956301, 0.06683220017872414, 0.044554800119149425, 0.06683220017872414, 0.47896410128085637, 0.03341610008936207, 0.044554800119149425, 0.20049660053617244, 0.011138700029787356, 0.022277400059574713, 0.011138700029787356, 0.9119503789707066, 0.05855900521962644, 0.019519668406542144, 0.006506556135514049, 0.019519668406542144, 0.7417473994486016, 0.013013112271028098, 0.07807867362616858, 0.006506556135514049, 0.045545892948598336, 0.11874660675858886, 0.02812419633756052, 0.02812419633756052, 0.12812133887110902, 0.2062441064754438, 0.07812276760433477, 0.19061955295457686, 0.08749749971685494, 0.07499785690016138, 0.06249821408346782, 0.3228370072078707, 0.6456740144157413, 0.22171816414871773, 0.2627770834355173, 0.032847135429439664, 0.2052945964339979, 0.07390605471623925, 0.041058919286799576, 0.06569427085887933, 0.049270703144159496, 0.032847135429439664, 0.008211783857359916, 0.8017788617292392, 0.11453983738989132, 0.8572263199169806, 0.904262687650009, 0.8849573293131323, 0.06451551687376873, 0.030107241207758744, 0.33261333143809657, 0.06308183872101832, 0.248026320425822, 0.04731137904076374, 0.08602068916502498, 0.05878080426276707, 0.03727563197151083, 0.03154091936050916, 0.11770328994580469, 0.7062197396748281, 0.11770328994580469, 0.9058109541327352, 0.9469558082407115, 0.9618117405043214, 0.8415603589826248, 0.16831207179652496, 0.0750842072841082, 0.10011227637881093, 0.0750842072841082, 0.22525262185232456, 0.375421036420541, 0.12514034547351366, 0.0055959441756124025, 0.06155538593173643, 0.18466615779520928, 0.12311077186347286, 0.09513105098541084, 0.08393916263418603, 0.05595944175612402, 0.10072699516102324, 0.2630093762537829, 0.03357566505367442, 0.7607818246570752, 0.023232037335185488, 0.24780839824197853, 0.054208087115432804, 0.20908833601666937, 0.07744012445061829, 0.038720062225309146, 0.271040435577164, 0.015488024890123658, 0.038720062225309146, 0.023232037335185488, 0.9011116182010188, 0.8145972398283039, 0.8444434080556508, 0.046160475542904346, 0.030773650361936227, 0.12309460144774491, 0.0718051841778512, 0.04103153381591497, 0.0359025920889256, 0.3385101539812985, 0.010257883453978742, 0.13335248490172366, 0.17438401871763862, 0.14797901181726453, 0.041737669999741274, 0.12521300999922383, 0.15556767908994476, 0.02656033545438081, 0.04932633727242151, 0.15177334545360463, 0.11003567545386336, 0.08726967363582266, 0.11003567545386336, 0.07094485365551305, 0.04256691219330783, 0.04256691219330783, 0.02837794146220522, 0.65269265363072, 0.02837794146220522, 0.12770073657992348, 0.06270178904817586, 0.5016143123854069, 0.06270178904817586, 0.06270178904817586, 0.18810536714452755, 0.06270178904817586, 0.06270178904817586, 0.12204732625252206, 0.04516712073912234, 0.12493033395927455, 0.16337043671597443, 0.137423367355202, 0.03267408734319488, 0.1941225189213343, 0.06630917725530726, 0.06823118239314226, 0.04516712073912234, 0.8886607193474337, 0.1047672669360188, 0.036976682448006636, 0.06162780408001106, 0.09860448652801769, 0.05546502367200996, 0.012325560816002211, 0.406743506928073, 0.03081390204000553, 0.07395336489601327, 0.11709282775202101, 0.07282521260605247, 0.07282521260605247, 0.024275070868684155, 0.12137535434342078, 0.36412606303026235, 0.14565042521210494, 0.07282521260605247, 0.04855014173736831, 0.07282521260605247, 0.8888028229013836, 0.8946580855229103, 0.9125493356212367, 0.032641420206307815, 0.02448106515473086, 0.20400887628942382, 0.17136745608311602, 0.02448106515473086, 0.1224053257736543, 0.1224053257736543, 0.19584852123784688, 0.07344319546419258, 0.02448106515473086, 0.11027977543234942, 0.1470397005764659, 0.036759925144116475, 0.036759925144116475, 0.18379962572058237, 0.47787902687351413, 0.8489697708592842], \"Term\": [\"abrahamic\", \"abu\", \"accessible\", \"account\", \"account\", \"account\", \"account\", \"account\", \"account\", \"account\", \"account\", \"account\", \"acresso\", \"actuality\", \"actually\", \"actually\", \"actually\", \"actually\", \"actually\", \"actually\", \"actually\", \"actually\", \"actually\", \"actually\", \"adapt\", \"add\", \"add\", \"add\", \"add\", \"add\", \"add\", \"add\", \"add\", \"add\", \"add\", \"added\", \"added\", \"added\", \"added\", \"added\", \"added\", \"added\", \"added\", \"added\", \"added\", \"address\", \"address\", \"address\", \"address\", \"address\", \"address\", \"address\", \"address\", \"address\", \"address\", \"agnostic\", \"agree\", \"agree\", \"agree\", \"agree\", \"agree\", \"agree\", \"agree\", \"agree\", \"agree\", \"agree\", \"album\", \"album\", \"album\", \"album\", \"album\", \"album\", \"album\", \"album\", \"alignleft\", \"allusion\", \"almglocken\", \"alphabet\", \"alphabet\", \"alphabet\", \"also\", \"also\", \"also\", \"also\", \"also\", \"also\", \"also\", \"also\", \"also\", \"also\", \"altered\", \"altered\", \"altered\", \"altered\", \"altered\", \"alva\", \"amazing\", \"amazing\", \"amazing\", \"amazing\", \"amazing\", \"amazing\", \"apologize\", \"apologize\", \"apologize\", \"apologize\", \"appriciate\", \"approved\", \"approved\", \"approved\", \"archived\", \"archived\", \"arma\", \"arsehole\", \"arsehole\", \"arseniy\", \"art\", \"art\", \"art\", \"art\", \"art\", \"article\", \"article\", \"article\", \"article\", \"article\", \"article\", \"article\", \"article\", \"article\", \"article\", \"artile\", \"artillery\", \"asayi\", \"asteroid\", \"astor\", \"attack\", \"attack\", \"attack\", \"attack\", \"attack\", \"attack\", \"attack\", \"attack\", \"attack\", \"attack\", \"attention\", \"attention\", \"attention\", \"attention\", \"attention\", \"attention\", \"attention\", \"attention\", \"austin\", \"autoblock\", \"avoid\", \"avoid\", \"avoid\", \"avoid\", \"avoid\", \"avoid\", \"avoid\", \"avoid\", \"axis\", \"azarbaijan\", \"azeri\", \"azeri\", \"azeri\", \"babur\", \"back\", \"back\", \"back\", \"back\", \"back\", \"back\", \"back\", \"back\", \"back\", \"back\", \"backgroundcolor\", \"baiting\", \"band\", \"band\", \"band\", \"band\", \"band\", \"bank\", \"bank\", \"bank\", \"bank\", \"bank\", \"barack\", \"barnstar\", \"barnstar\", \"barnstar\", \"barnstar\", \"barren\", \"barrier\", \"barrier\", \"bassoon\", \"becuase\", \"behalf\", \"behalf\", \"believe\", \"believe\", \"believe\", \"believe\", \"believe\", \"believe\", \"believe\", \"believe\", \"believe\", \"believe\", \"beside\", \"beside\", \"bestselling\", \"better\", \"better\", \"better\", \"better\", \"better\", \"better\", \"better\", \"better\", \"better\", \"better\", \"bible\", \"bible\", \"biden\", \"biden\", \"bike\", \"billboard\", \"bitch\", \"bitch\", \"bitch\", \"bitch\", \"bitch\", \"bitch\", \"bitch\", \"bitch\", \"biti\", \"bla\", \"block\", \"block\", \"block\", \"block\", \"block\", \"block\", \"block\", \"block\", \"block\", \"block\", \"blocked\", \"blocked\", \"blocked\", \"blocked\", \"blocked\", \"blocked\", \"blocked\", \"blocked\", \"bnp\", \"boat\", \"boat\", \"boat\", \"bonomo\", \"book\", \"book\", \"book\", \"book\", \"book\", \"book\", \"book\", \"book\", \"book\", \"border\", \"border\", \"border\", \"border\", \"border\", \"border\", \"bordertop\", \"bored\", \"bored\", \"bored\", \"bored\", \"bowen\", \"bps\", \"bringing\", \"bringing\", \"bully\", \"bully\", \"byu\", \"cactus\", \"called\", \"called\", \"called\", \"called\", \"called\", \"called\", \"called\", \"called\", \"called\", \"called\", \"cardinal\", \"castells\", \"catagory\", \"category\", \"category\", \"category\", \"category\", \"category\", \"category\", \"category\", \"categorynational\", \"catholic\", \"catholic\", \"catholic\", \"catholic\", \"cease\", \"chan\", \"change\", \"change\", \"change\", \"change\", \"change\", \"change\", \"change\", \"change\", \"change\", \"change\", \"charcters\", \"charter\", \"chemistry\", \"chemistry\", \"chess\", \"china\", \"china\", \"china\", \"china\", \"china\", \"chronological\", \"chronological\", \"cia\", \"cia\", \"cia\", \"clean\", \"clean\", \"clean\", \"clean\", \"clean\", \"clean\", \"clothes\", \"codegear\", \"coi\", \"coi\", \"coin\", \"comment\", \"comment\", \"comment\", \"comment\", \"comment\", \"comment\", \"comment\", \"comment\", \"comment\", \"comment\", \"composer\", \"composer\", \"concensus\", \"concept\", \"concept\", \"concept\", \"concept\", \"concept\", \"concept\", \"concept\", \"concept\", \"confirms\", \"confirms\", \"confirms\", \"confirms\", \"conservapedia\", \"conservative\", \"conservative\", \"conservative\", \"conservative\", \"conservative\", \"conservative\", \"conservative\", \"conservative\", \"contact\", \"contact\", \"contact\", \"contact\", \"contact\", \"contact\", \"contact\", \"contact\", \"contact\", \"conteh\", \"content\", \"content\", \"content\", \"content\", \"content\", \"content\", \"content\", \"content\", \"content\", \"contested\", \"contested\", \"continent\", \"continent\", \"continue\", \"continue\", \"continue\", \"continue\", \"continue\", \"continue\", \"contract\", \"contract\", \"contributing\", \"contributing\", \"contributing\", \"contributing\", \"control\", \"control\", \"control\", \"control\", \"control\", \"control\", \"control\", \"control\", \"controversy\", \"controversy\", \"controversy\", \"controversy\", \"controversy\", \"controversy\", \"controversy\", \"controversy\", \"cooperate\", \"coordinator\", \"copyright\", \"copyright\", \"copyright\", \"copyright\", \"copyright\", \"copyright\", \"copyright\", \"costume\", \"could\", \"could\", \"could\", \"could\", \"could\", \"could\", \"could\", \"could\", \"could\", \"could\", \"country\", \"country\", \"country\", \"country\", \"country\", \"country\", \"country\", \"country\", \"country\", \"country\", \"county\", \"county\", \"county\", \"county\", \"county\", \"county\", \"county\", \"cpu\", \"cresswell\", \"csd\", \"cuisine\", \"cyberbullying\", \"daniel\", \"daniel\", \"daniel\", \"daniel\", \"danny\", \"danny\", \"danny\", \"day\", \"day\", \"day\", \"day\", \"day\", \"day\", \"day\", \"day\", \"day\", \"day\", \"dec\", \"deletion\", \"deletion\", \"deletion\", \"deletion\", \"deletion\", \"deletion\", \"deletion\", \"deletion\", \"deletion\", \"department\", \"department\", \"designed\", \"designed\", \"designed\", \"designed\", \"desire\", \"desire\", \"desire\", \"desire\", \"desire\", \"dignity\", \"diplomatic\", \"discussion\", \"discussion\", \"discussion\", \"discussion\", \"discussion\", \"discussion\", \"discussion\", \"discussion\", \"discussion\", \"discussion\", \"disruptive\", \"disruptive\", \"disruptive\", \"disruptive\", \"disruptive\", \"disruptive\", \"disruptive\", \"district\", \"district\", \"district\", \"district\", \"district\", \"doe\", \"doe\", \"doe\", \"doe\", \"doe\", \"doe\", \"doe\", \"doe\", \"doe\", \"doe\", \"dominance\", \"dominance\", \"doo\", \"doula\", \"dreamguy\", \"drew\", \"drew\", \"drew\", \"drumming\", \"dysgenics\", \"edit\", \"edit\", \"edit\", \"edit\", \"edit\", \"edit\", \"edit\", \"edit\", \"edit\", \"edit\", \"editing\", \"editing\", \"editing\", \"editing\", \"editing\", \"editing\", \"editing\", \"editing\", \"editing\", \"editing\", \"editor\", \"editor\", \"editor\", \"editor\", \"editor\", \"editor\", \"editor\", \"editor\", \"editor\", \"editor\", \"edits\", \"edits\", \"edits\", \"edits\", \"edits\", \"edits\", \"edits\", \"edits\", \"edits\", \"edits\", \"eistlands\", \"enc\", \"encyclopedia\", \"encyclopedia\", \"encyclopedia\", \"encyclopedia\", \"encyclopedia\", \"encyclopedia\", \"encyclopedia\", \"episode\", \"episode\", \"episode\", \"episode\", \"episode\", \"episode\", \"episode\", \"episode\", \"espinola\", \"eurovision\", \"eurovision\", \"even\", \"even\", \"even\", \"even\", \"even\", \"even\", \"even\", \"even\", \"even\", \"even\", \"ever\", \"ever\", \"ever\", \"ever\", \"ever\", \"ever\", \"ever\", \"ever\", \"ever\", \"ever\", \"everglades\", \"everybody\", \"everybody\", \"everybody\", \"everybody\", \"everybody\", \"everyone\", \"everyone\", \"everyone\", \"everyone\", \"everyone\", \"everyone\", \"everyone\", \"everyone\", \"everyone\", \"everywhere\", \"everywhere\", \"everywhere\", \"evidence\", \"evidence\", \"evidence\", \"evidence\", \"evidence\", \"evidence\", \"evidence\", \"evidence\", \"evidence\", \"evidence\", \"evil\", \"evil\", \"evil\", \"evil\", \"evil\", \"exact\", \"exact\", \"exact\", \"exact\", \"except\", \"except\", \"except\", \"except\", \"except\", \"except\", \"except\", \"except\", \"except\", \"exchange\", \"exchange\", \"exmethodist\", \"expand\", \"expand\", \"expand\", \"expand\", \"experiment\", \"experiment\", \"experiment\", \"experiment\", \"experimenting\", \"extension\", \"extraction\", \"eyebrow\", \"fact\", \"fact\", \"fact\", \"fact\", \"fact\", \"fact\", \"fact\", \"fact\", \"fact\", \"fact\", \"famine\", \"fannie\", \"fascism\", \"fascism\", \"fed\", \"fed\", \"fed\", \"fedex\", \"feedback\", \"feedback\", \"feedback\", \"file\", \"file\", \"file\", \"file\", \"file\", \"file\", \"file\", \"file\", \"fileesmebiancojpg\", \"filing\", \"filing\", \"film\", \"film\", \"film\", \"film\", \"film\", \"film\", \"film\", \"find\", \"find\", \"find\", \"find\", \"find\", \"find\", \"find\", \"find\", \"find\", \"find\", \"first\", \"first\", \"first\", \"first\", \"first\", \"first\", \"first\", \"first\", \"first\", \"first\", \"flower\", \"flower\", \"flower\", \"food\", \"food\", \"food\", \"food\", \"food\", \"food\", \"food\", \"food\", \"fraud\", \"fraud\", \"french\", \"french\", \"french\", \"french\", \"french\", \"french\", \"fruit\", \"fsn\", \"full\", \"full\", \"full\", \"full\", \"full\", \"full\", \"full\", \"full\", \"full\", \"gaffe\", \"game\", \"game\", \"game\", \"game\", \"game\", \"game\", \"game\", \"game\", \"game\", \"game\", \"gathered\", \"gay\", \"gay\", \"gay\", \"gay\", \"gay\", \"gay\", \"gay\", \"german\", \"german\", \"german\", \"german\", \"german\", \"german\", \"german\", \"german\", \"german\", \"get\", \"get\", \"get\", \"get\", \"get\", \"get\", \"get\", \"get\", \"get\", \"get\", \"girl\", \"girl\", \"girl\", \"girl\", \"girl\", \"girl\", \"girl\", \"girl\", \"girl\", \"give\", \"give\", \"give\", \"give\", \"give\", \"give\", \"give\", \"give\", \"give\", \"give\", \"glagolitic\", \"going\", \"going\", \"going\", \"going\", \"going\", \"going\", \"going\", \"going\", \"going\", \"going\", \"goldhagens\", \"good\", \"good\", \"good\", \"good\", \"good\", \"good\", \"good\", \"good\", \"good\", \"good\", \"got\", \"got\", \"got\", \"got\", \"got\", \"got\", \"got\", \"got\", \"got\", \"got\", \"graffiti\", \"granule\", \"gravitational\", \"gray\", \"gray\", \"gray\", \"great\", \"great\", \"great\", \"great\", \"great\", \"great\", \"great\", \"great\", \"great\", \"great\", \"greeting\", \"greeting\", \"greeting\", \"guitar\", \"guitar\", \"gun\", \"gun\", \"gun\", \"gun\", \"hadith\", \"hair\", \"hair\", \"hair\", \"hair\", \"hair\", \"hamas\", \"hamas\", \"happiness\", \"hbk\", \"headache\", \"heath\", \"height\", \"height\", \"height\", \"height\", \"help\", \"help\", \"help\", \"help\", \"help\", \"help\", \"help\", \"help\", \"help\", \"help\", \"herbicide\", \"hit\", \"hit\", \"hit\", \"hit\", \"hit\", \"hit\", \"hit\", \"hit\", \"hoe\", \"hoe\", \"hoe\", \"hoe\", \"hoe\", \"hoe\", \"hoe\", \"hoe\", \"hoe\", \"honorverse\", \"hopefully\", \"hopefully\", \"hopefully\", \"hopefully\", \"hopefully\", \"hopefully\", \"hopefully\", \"hopefully\", \"hostility\", \"hostility\", \"hostility\", \"hut\", \"hybrid\", \"hybrid\", \"ignore\", \"ignore\", \"ignore\", \"ignore\", \"ignore\", \"image\", \"image\", \"image\", \"image\", \"image\", \"image\", \"image\", \"image\", \"image\", \"imdbcom\", \"ind\", \"ind\", \"inertia\", \"infobox\", \"infobox\", \"infobox\", \"infobox\", \"infobox\", \"infobox\", \"infobox\", \"infomercial\", \"inform\", \"inform\", \"inform\", \"information\", \"information\", \"information\", \"information\", \"information\", \"information\", \"information\", \"information\", \"information\", \"information\", \"initial\", \"initial\", \"interested\", \"interested\", \"interested\", \"interested\", \"interested\", \"interested\", \"interested\", \"interested\", \"introducing\", \"invest\", \"irrelevant\", \"irrelevant\", \"irrelevant\", \"irrelevant\", \"irrelevant\", \"irrelevant\", \"issue\", \"issue\", \"issue\", \"issue\", \"issue\", \"issue\", \"issue\", \"issue\", \"issue\", \"issue\", \"istria\", \"jersey\", \"jesse\", \"jew\", \"jew\", \"jew\", \"jew\", \"jew\", \"joppa\", \"jordan\", \"jordan\", \"jos\", \"joseph\", \"joseph\", \"jpg\", \"jpg\", \"judgment\", \"june\", \"june\", \"june\", \"june\", \"june\", \"june\", \"june\", \"june\", \"kali\", \"kant\", \"karachi\", \"kbps\", \"khost\", \"kiss\", \"kiss\", \"kiss\", \"know\", \"know\", \"know\", \"know\", \"know\", \"know\", \"know\", \"know\", \"know\", \"know\", \"kong\", \"kosovo\", \"kosovo\", \"kriol\", \"kurd\", \"lab\", \"lab\", \"lab\", \"lacrosse\", \"lancashire\", \"language\", \"language\", \"language\", \"language\", \"language\", \"language\", \"language\", \"language\", \"language\", \"language\", \"latin\", \"latin\", \"latin\", \"latin\", \"latino\", \"laureate\", \"law\", \"law\", \"law\", \"law\", \"law\", \"law\", \"law\", \"law\", \"learn\", \"learn\", \"learn\", \"learn\", \"learn\", \"leather\", \"leather\", \"leather\", \"legalistic\", \"lepore\", \"lesbian\", \"lesbian\", \"lesbian\", \"let\", \"let\", \"let\", \"let\", \"let\", \"let\", \"let\", \"let\", \"let\", \"let\", \"liberal\", \"liberal\", \"liberal\", \"liberal\", \"liberal\", \"liberal\", \"liberal\", \"liberal\", \"liberal\", \"libertarianism\", \"like\", \"like\", \"like\", \"like\", \"like\", \"like\", \"like\", \"like\", \"like\", \"like\", \"limb\", \"link\", \"link\", \"link\", \"link\", \"link\", \"link\", \"link\", \"link\", \"link\", \"list\", \"list\", \"list\", \"list\", \"list\", \"list\", \"list\", \"list\", \"list\", \"list\", \"listed\", \"listed\", \"listed\", \"listed\", \"listed\", \"listed\", \"listed\", \"listed\", \"listed\", \"llc\", \"llc\", \"longer\", \"longer\", \"longer\", \"longer\", \"longer\", \"longer\", \"longer\", \"longer\", \"loo\", \"look\", \"look\", \"look\", \"look\", \"look\", \"look\", \"look\", \"look\", \"look\", \"look\", \"lot\", \"lot\", \"lot\", \"lot\", \"lot\", \"lot\", \"lot\", \"lot\", \"lot\", \"luck\", \"luck\", \"luck\", \"luck\", \"luck\", \"luck\", \"luck\", \"luck\", \"luck\", \"luke\", \"lyric\", \"lyric\", \"made\", \"made\", \"made\", \"made\", \"made\", \"made\", \"made\", \"made\", \"made\", \"made\", \"madeline\", \"make\", \"make\", \"make\", \"make\", \"make\", \"make\", \"make\", \"make\", \"make\", \"make\", \"malay\", \"manitoba\", \"manuel\", \"marching\", \"masculine\", \"masjid\", \"mathematical\", \"matun\", \"may\", \"may\", \"may\", \"may\", \"may\", \"may\", \"may\", \"may\", \"may\", \"may\", \"mcknight\", \"mean\", \"mean\", \"mean\", \"mean\", \"mean\", \"mean\", \"mean\", \"mean\", \"mean\", \"mean\", \"meatball\", \"meetup\", \"mention\", \"mention\", \"mention\", \"mention\", \"mention\", \"mention\", \"mention\", \"mention\", \"merging\", \"merging\", \"merging\", \"metal\", \"metal\", \"metre\", \"mgtow\", \"middle\", \"middle\", \"middle\", \"middle\", \"middle\", \"middle\", \"midtide\", \"milton\", \"mineral\", \"mineral\", \"misrepresenting\", \"mokhachane\", \"monarchy\", \"mongo\", \"montoya\", \"mori\", \"moved\", \"moved\", \"moved\", \"moved\", \"moved\", \"moved\", \"moved\", \"moved\", \"moved\", \"moved\", \"movie\", \"movie\", \"movie\", \"movie\", \"movie\", \"movie\", \"movie\", \"msm\", \"much\", \"much\", \"much\", \"much\", \"much\", \"much\", \"much\", \"much\", \"much\", \"much\", \"multics\", \"mythpunk\", \"name\", \"name\", \"name\", \"name\", \"name\", \"name\", \"name\", \"name\", \"name\", \"name\", \"nasal\", \"nationalist\", \"nationalist\", \"nationalist\", \"nationalist\", \"nationalist\", \"nationalist\", \"ndp\", \"need\", \"need\", \"need\", \"need\", \"need\", \"need\", \"need\", \"need\", \"need\", \"need\", \"nepal\", \"never\", \"never\", \"never\", \"never\", \"never\", \"never\", \"never\", \"never\", \"never\", \"never\", \"new\", \"new\", \"new\", \"new\", \"new\", \"new\", \"new\", \"new\", \"new\", \"new\", \"newsletter\", \"newsletter\", \"newsletter\", \"nla\", \"nobel\", \"nonmuslims\", \"nonsense\", \"nonsense\", \"nonsense\", \"nonsense\", \"nonsense\", \"norse\", \"noticeboardincidents\", \"npa\", \"null\", \"nxt\", \"oasis\", \"offended\", \"offended\", \"offended\", \"one\", \"one\", \"one\", \"one\", \"one\", \"one\", \"one\", \"one\", \"one\", \"one\", \"opinion\", \"opinion\", \"opinion\", \"opinion\", \"opinion\", \"opinion\", \"opinion\", \"opinion\", \"opinion\", \"opinion\", \"orca\", \"others\", \"others\", \"others\", \"others\", \"others\", \"others\", \"others\", \"others\", \"others\", \"others\", \"padding\", \"page\", \"page\", \"page\", \"page\", \"page\", \"page\", \"page\", \"page\", \"page\", \"page\", \"painting\", \"painting\", \"painting\", \"painting\", \"paragraph\", \"paragraph\", \"paragraph\", \"paragraph\", \"paragraph\", \"paragraph\", \"paragraph\", \"paragraph\", \"parenthesis\", \"participate\", \"participate\", \"participate\", \"participate\", \"party\", \"party\", \"party\", \"party\", \"party\", \"party\", \"party\", \"party\", \"party\", \"party\", \"patent\", \"patent\", \"pederasty\", \"pelasgian\", \"people\", \"people\", \"people\", \"people\", \"people\", \"people\", \"people\", \"people\", \"people\", \"people\", \"periodization\", \"permanently\", \"permanently\", \"personal\", \"personal\", \"personal\", \"personal\", \"personal\", \"personal\", \"personal\", \"personal\", \"personal\", \"personal\", \"pesticide\", \"philippino\", \"photoshop\", \"photoshopped\", \"phun\", \"physically\", \"picture\", \"picture\", \"picture\", \"picture\", \"picture\", \"picture\", \"picture\", \"picture\", \"picture\", \"pine\", \"pine\", \"player\", \"player\", \"player\", \"player\", \"player\", \"player\", \"please\", \"please\", \"please\", \"please\", \"please\", \"please\", \"please\", \"please\", \"please\", \"please\", \"png\", \"point\", \"point\", \"point\", \"point\", \"point\", \"point\", \"point\", \"point\", \"point\", \"point\", \"polar\", \"policy\", \"policy\", \"policy\", \"policy\", \"policy\", \"policy\", \"policy\", \"policy\", \"policy\", \"polynesian\", \"population\", \"population\", \"population\", \"population\", \"population\", \"population\", \"population\", \"population\", \"pornographic\", \"portal\", \"portal\", \"portal\", \"portal\", \"portal\", \"poser\", \"pov\", \"pov\", \"pov\", \"pov\", \"pov\", \"pov\", \"pov\", \"pov\", \"pov\", \"pov\", \"prakrit\", \"preceding\", \"preceding\", \"present\", \"present\", \"present\", \"present\", \"present\", \"present\", \"present\", \"present\", \"present\", \"present\", \"privilege\", \"privilege\", \"privilege\", \"privilege\", \"projection\", \"projection\", \"prophecy\", \"propose\", \"propose\", \"propose\", \"propose\", \"proxy\", \"proxy\", \"proxy\", \"pseudoscience\", \"pseudoscience\", \"pseudoscience\", \"pseudoscientific\", \"puerto\", \"pug\", \"pumping\", \"quagmire\", \"queer\", \"rain\", \"rain\", \"rain\", \"rain\", \"raioane\", \"ranjit\", \"ravin\", \"raw\", \"read\", \"read\", \"read\", \"read\", \"read\", \"read\", \"read\", \"read\", \"read\", \"read\", \"really\", \"really\", \"really\", \"really\", \"really\", \"really\", \"really\", \"really\", \"really\", \"reason\", \"reason\", \"reason\", \"reason\", \"reason\", \"reason\", \"reason\", \"reason\", \"reason\", \"reason\", \"reception\", \"reception\", \"reception\", \"recreated\", \"reference\", \"reference\", \"reference\", \"reference\", \"reference\", \"reference\", \"reference\", \"reference\", \"reference\", \"reference\", \"refrain\", \"refrain\", \"refrain\", \"refrain\", \"refrain\", \"refugee\", \"refugee\", \"refugee\", \"refugee\", \"refugee\", \"refugee\", \"refugee\", \"reliable\", \"reliable\", \"reliable\", \"reliable\", \"reliable\", \"reliable\", \"reliable\", \"reliable\", \"reliable\", \"removed\", \"removed\", \"removed\", \"removed\", \"removed\", \"removed\", \"removed\", \"removed\", \"removed\", \"removed\", \"reply\", \"reply\", \"reply\", \"reply\", \"reply\", \"reply\", \"reply\", \"reply\", \"reply\", \"repost\", \"repressed\", \"resignation\", \"responsible\", \"responsible\", \"responsible\", \"responsible\", \"reverted\", \"reverted\", \"reverted\", \"reverted\", \"reverted\", \"reverted\", \"reverted\", \"reverted\", \"reverted\", \"review\", \"review\", \"review\", \"review\", \"review\", \"review\", \"review\", \"review\", \"review\", \"review\", \"rfcyou\", \"rico\", \"rift\", \"right\", \"right\", \"right\", \"right\", \"right\", \"right\", \"right\", \"right\", \"right\", \"right\", \"roast\", \"rohl\", \"roman\", \"roman\", \"roman\", \"roman\", \"roman\", \"romanian\", \"romanian\", \"rome\", \"rome\", \"rome\", \"rookie\", \"root\", \"root\", \"root\", \"root\", \"root\", \"root\", \"rosa\", \"router\", \"router\", \"rowspan\", \"russian\", \"russian\", \"russian\", \"russian\", \"sabatas\", \"sabry\", \"said\", \"said\", \"said\", \"said\", \"said\", \"said\", \"said\", \"said\", \"said\", \"said\", \"sandbox\", \"sandbox\", \"sandbox\", \"sandbox\", \"sandbox\", \"santa\", \"santa\", \"saw\", \"saw\", \"saw\", \"saw\", \"saw\", \"saw\", \"saw\", \"saw\", \"say\", \"say\", \"say\", \"say\", \"say\", \"say\", \"say\", \"say\", \"say\", \"say\", \"scholarship\", \"school\", \"school\", \"school\", \"school\", \"school\", \"school\", \"school\", \"school\", \"school\", \"scientist\", \"scientist\", \"scientist\", \"scientist\", \"scientology\", \"scientology\", \"seanad\", \"season\", \"season\", \"season\", \"season\", \"section\", \"section\", \"section\", \"section\", \"section\", \"section\", \"section\", \"section\", \"section\", \"section\", \"see\", \"see\", \"see\", \"see\", \"see\", \"see\", \"see\", \"see\", \"see\", \"see\", \"senior\", \"sense\", \"sense\", \"sense\", \"sense\", \"sense\", \"sense\", \"sense\", \"sense\", \"sense\", \"sense\", \"sent\", \"sent\", \"sent\", \"sent\", \"sent\", \"sent\", \"serbian\", \"serbian\", \"serbian\", \"serbian\", \"settled\", \"settled\", \"settled\", \"shared\", \"shared\", \"shared\", \"shared\", \"shared\", \"shot\", \"shot\", \"shot\", \"shot\", \"shot\", \"shot\", \"shot\", \"silk\", \"simon\", \"simulator\", \"site\", \"site\", \"site\", \"site\", \"site\", \"site\", \"site\", \"site\", \"site\", \"site\", \"skill\", \"skill\", \"slave\", \"slave\", \"smiling\", \"snowmobile\", \"socially\", \"sock\", \"sock\", \"sock\", \"sock\", \"sock\", \"sock\", \"sockpuppetry\", \"sockpuppetry\", \"sockpuppetry\", \"sockpuppetry\", \"solid\", \"solid\", \"someone\", \"someone\", \"someone\", \"someone\", \"someone\", \"someone\", \"someone\", \"someone\", \"someone\", \"someone\", \"sorry\", \"sorry\", \"sorry\", \"sorry\", \"sorry\", \"sorry\", \"sorry\", \"sorry\", \"sorry\", \"sorry\", \"source\", \"source\", \"source\", \"source\", \"source\", \"source\", \"source\", \"source\", \"source\", \"source\", \"spamming\", \"spamming\", \"spamming\", \"speedy\", \"speedy\", \"spilling\", \"standardtalk\", \"start\", \"start\", \"start\", \"start\", \"start\", \"start\", \"start\", \"start\", \"start\", \"start\", \"state\", \"state\", \"state\", \"state\", \"state\", \"state\", \"state\", \"state\", \"state\", \"state\", \"still\", \"still\", \"still\", \"still\", \"still\", \"still\", \"still\", \"still\", \"still\", \"still\", \"stop\", \"stop\", \"stop\", \"stop\", \"stop\", \"stop\", \"stop\", \"stop\", \"stop\", \"strap\", \"strategically\", \"straw\", \"strict\", \"strict\", \"strict\", \"strict\", \"strict\", \"string\", \"string\", \"stylebackgroundcolor\", \"styleborder\", \"stylefontsize\", \"styletextaligncenter\", \"styleverticalalign\", \"subsaharan\", \"sure\", \"sure\", \"sure\", \"sure\", \"sure\", \"sure\", \"sure\", \"sure\", \"sure\", \"sure\", \"tabtab\", \"tag\", \"tag\", \"tag\", \"tag\", \"tag\", \"tag\", \"tag\", \"tag\", \"take\", \"take\", \"take\", \"take\", \"take\", \"take\", \"take\", \"take\", \"take\", \"take\", \"talk\", \"talk\", \"talk\", \"talk\", \"talk\", \"talk\", \"talk\", \"talk\", \"talk\", \"talk\", \"tamil\", \"tamil\", \"teaching\", \"teaching\", \"tear\", \"tear\", \"tell\", \"tell\", \"tell\", \"tell\", \"tell\", \"tell\", \"tell\", \"tell\", \"tell\", \"tell\", \"temporarily\", \"tennessee\", \"tennessee\", \"test\", \"test\", \"test\", \"test\", \"thank\", \"thank\", \"thank\", \"thank\", \"thank\", \"thank\", \"thank\", \"thank\", \"thank\", \"thank\", \"thanks\", \"thanks\", \"thanks\", \"thanks\", \"thanks\", \"thanks\", \"thanks\", \"thanks\", \"thanks\", \"thanks\", \"theory\", \"theory\", \"theory\", \"theory\", \"theory\", \"theory\", \"thing\", \"thing\", \"thing\", \"thing\", \"thing\", \"thing\", \"thing\", \"thing\", \"thing\", \"thing\", \"think\", \"think\", \"think\", \"think\", \"think\", \"think\", \"think\", \"think\", \"think\", \"think\", \"though\", \"though\", \"though\", \"though\", \"though\", \"though\", \"though\", \"though\", \"though\", \"though\", \"thought\", \"thought\", \"thought\", \"thought\", \"thought\", \"thought\", \"thought\", \"thought\", \"thought\", \"thought\", \"time\", \"time\", \"time\", \"time\", \"time\", \"time\", \"time\", \"time\", \"time\", \"time\", \"tisuca\", \"toddao\", \"tolerated\", \"tolerated\", \"tolerated\", \"took\", \"took\", \"took\", \"took\", \"took\", \"took\", \"took\", \"took\", \"torr\", \"tour\", \"tour\", \"tour\", \"tour\", \"tracs\", \"transcluded\", \"transcluded\", \"transit\", \"trash\", \"trash\", \"trash\", \"trash\", \"trash\", \"trash\", \"trash\", \"tread\", \"truth\", \"truth\", \"truth\", \"truth\", \"truth\", \"truth\", \"truth\", \"truth\", \"truth\", \"tuned\", \"turk\", \"turk\", \"tutorial\", \"two\", \"two\", \"two\", \"two\", \"two\", \"two\", \"two\", \"two\", \"two\", \"two\", \"ukelin\", \"undertake\", \"undid\", \"unicode\", \"unincorporated\", \"united\", \"united\", \"united\", \"united\", \"united\", \"united\", \"united\", \"unreferenced\", \"unreferenced\", \"unreliable\", \"unreliable\", \"unsigned\", \"uploaded\", \"uploaded\", \"uploaded\", \"uploaded\", \"use\", \"use\", \"use\", \"use\", \"use\", \"use\", \"use\", \"use\", \"use\", \"use\", \"used\", \"used\", \"used\", \"used\", \"used\", \"used\", \"used\", \"used\", \"used\", \"used\", \"user\", \"user\", \"user\", \"user\", \"user\", \"user\", \"user\", \"user\", \"user\", \"user\", \"userpage\", \"userpage\", \"userpage\", \"userpage\", \"userpage\", \"userpage\", \"utc\", \"utc\", \"utc\", \"utc\", \"utc\", \"utc\", \"utc\", \"utc\", \"utc\", \"utc\", \"vaccine\", \"valignmiddle\", \"vandalism\", \"vandalism\", \"vandalism\", \"vandalism\", \"vandalism\", \"vandalism\", \"vandalism\", \"vandalism\", \"vandalism\", \"vandalism\", \"vandalize\", \"vandalize\", \"venue\", \"venue\", \"version\", \"version\", \"version\", \"version\", \"version\", \"version\", \"version\", \"version\", \"version\", \"verticalalign\", \"volume\", \"volume\", \"volume\", \"volume\", \"volume\", \"vote\", \"vote\", \"vote\", \"vote\", \"vote\", \"vote\", \"vote\", \"vote\", \"wait\", \"wait\", \"wait\", \"wait\", \"wait\", \"wait\", \"wait\", \"wait\", \"wait\", \"wait\", \"want\", \"want\", \"want\", \"want\", \"want\", \"want\", \"want\", \"want\", \"want\", \"want\", \"war\", \"war\", \"war\", \"war\", \"war\", \"war\", \"war\", \"war\", \"war\", \"war\", \"wasting\", \"wave\", \"wave\", \"wave\", \"way\", \"way\", \"way\", \"way\", \"way\", \"way\", \"way\", \"way\", \"way\", \"way\", \"website\", \"website\", \"website\", \"website\", \"website\", \"website\", \"website\", \"website\", \"website\", \"website\", \"webstorm\", \"welcome\", \"welcome\", \"welcome\", \"welcome\", \"welcome\", \"welcome\", \"welcome\", \"welcome\", \"welcome\", \"well\", \"well\", \"well\", \"well\", \"well\", \"well\", \"well\", \"well\", \"well\", \"well\", \"whale\", \"whale\", \"white\", \"white\", \"white\", \"white\", \"white\", \"white\", \"white\", \"white\", \"white\", \"white\", \"whore\", \"whore\", \"widget\", \"widthpx\", \"wikidata\", \"wikipedia\", \"wikipedia\", \"wikipedia\", \"wikipedia\", \"wikipedia\", \"wikipedia\", \"wikipedia\", \"wikipedia\", \"wikipedia\", \"wikipedia\", \"wikipediaadministrators\", \"wikipediaadministrators\", \"wikipediaadministrators\", \"wikipediabiographies\", \"wikipediafiles\", \"wikipediaimages\", \"wikipediasuspected\", \"wikipediasuspected\", \"wikiproject\", \"wikiproject\", \"wikiproject\", \"wikiproject\", \"wikiproject\", \"wikiproject\", \"without\", \"without\", \"without\", \"without\", \"without\", \"without\", \"without\", \"without\", \"without\", \"without\", \"wolff\", \"woman\", \"woman\", \"woman\", \"woman\", \"woman\", \"woman\", \"woman\", \"woman\", \"woman\", \"woman\", \"woodbridge\", \"woodstock\", \"woohoo\", \"word\", \"word\", \"word\", \"word\", \"word\", \"word\", \"word\", \"word\", \"word\", \"word\", \"work\", \"work\", \"work\", \"work\", \"work\", \"work\", \"work\", \"work\", \"work\", \"work\", \"worked\", \"worked\", \"worked\", \"worked\", \"worked\", \"worked\", \"worked\", \"worker\", \"worker\", \"worker\", \"worker\", \"worker\", \"worker\", \"worker\", \"would\", \"would\", \"would\", \"would\", \"would\", \"would\", \"would\", \"would\", \"would\", \"would\", \"wpprimary\", \"wrong\", \"wrong\", \"wrong\", \"wrong\", \"wrong\", \"wrong\", \"wrong\", \"wrong\", \"wrong\", \"wrong\", \"wrote\", \"wrote\", \"wrote\", \"wrote\", \"wrote\", \"wrote\", \"wrote\", \"wrote\", \"wrote\", \"xbox\", \"xlarge\", \"yatsenyuk\", \"yes\", \"yes\", \"yes\", \"yes\", \"yes\", \"yes\", \"yes\", \"yes\", \"yes\", \"yes\", \"youtube\", \"youtube\", \"youtube\", \"youtube\", \"youtube\", \"youtube\", \"zeybek\"]}, \"R\": 30, \"lambda.step\": 0.01, \"plot.opts\": {\"xlab\": \"PC1\", \"ylab\": \"PC2\"}, \"topic.order\": [1, 2, 3, 4, 5, 6, 7, 8, 9, 10]};\n",
              "\n",
              "function LDAvis_load_lib(url, callback){\n",
              "  var s = document.createElement('script');\n",
              "  s.src = url;\n",
              "  s.async = true;\n",
              "  s.onreadystatechange = s.onload = callback;\n",
              "  s.onerror = function(){console.warn(\"failed to load library \" + url);};\n",
              "  document.getElementsByTagName(\"head\")[0].appendChild(s);\n",
              "}\n",
              "\n",
              "if(typeof(LDAvis) !== \"undefined\"){\n",
              "   // already loaded: just create the visualization\n",
              "   !function(LDAvis){\n",
              "       new LDAvis(\"#\" + \"ldavis_el164491359589878849126713635375\", ldavis_el164491359589878849126713635375_data);\n",
              "   }(LDAvis);\n",
              "}else if(typeof define === \"function\" && define.amd){\n",
              "   // require.js is available: use it to load d3/LDAvis\n",
              "   require.config({paths: {d3: \"https://d3js.org/d3.v5\"}});\n",
              "   require([\"d3\"], function(d3){\n",
              "      window.d3 = d3;\n",
              "      LDAvis_load_lib(\"https://cdn.jsdelivr.net/gh/bmabey/pyLDAvis@3.4.0/pyLDAvis/js/ldavis.v3.0.0.js\", function(){\n",
              "        new LDAvis(\"#\" + \"ldavis_el164491359589878849126713635375\", ldavis_el164491359589878849126713635375_data);\n",
              "      });\n",
              "    });\n",
              "}else{\n",
              "    // require.js not available: dynamically load d3 & LDAvis\n",
              "    LDAvis_load_lib(\"https://d3js.org/d3.v5.js\", function(){\n",
              "         LDAvis_load_lib(\"https://cdn.jsdelivr.net/gh/bmabey/pyLDAvis@3.4.0/pyLDAvis/js/ldavis.v3.0.0.js\", function(){\n",
              "                 new LDAvis(\"#\" + \"ldavis_el164491359589878849126713635375\", ldavis_el164491359589878849126713635375_data);\n",
              "            })\n",
              "         });\n",
              "}\n",
              "</script>"
            ]
          },
          "metadata": {},
          "execution_count": 42
        }
      ]
    },
    {
      "cell_type": "markdown",
      "source": [
        "- Topic modeling on the not hate speech data has significant difference compare to hate speech.\n",
        "- Looking at the most frequent keywords used in the topics, we can say that there are significantly less swear words included.\n",
        "- After checking most frequent used keywords in different topics, we confirm the difference between the language used in these context overall."
      ],
      "metadata": {
        "id": "e7GrX1Tn_E4f"
      }
    },
    {
      "cell_type": "markdown",
      "metadata": {
        "id": "Ez53e-GlWa2S"
      },
      "source": [
        "# Classification Model\n",
        "- Now that we have better understanding about the nature of the hate speech, we can train machine learning models to identify hate speech from not hate speech contents"
      ]
    },
    {
      "cell_type": "code",
      "execution_count": 43,
      "metadata": {
        "colab": {
          "base_uri": "https://localhost:8080/"
        },
        "id": "tSrgJiNJWa2S",
        "outputId": "05612b0e-9031-42f1-dca7-570c96cd7d7b"
      },
      "outputs": [
        {
          "output_type": "stream",
          "name": "stderr",
          "text": [
            "/usr/local/lib/python3.10/dist-packages/ipykernel/ipkernel.py:283: DeprecationWarning: `should_run_async` will not call `transform_cell` automatically in the future. Please pass the result to `transformed_cell` argument and any exception that happen during thetransform in `preprocessing_exc_tuple` in IPython 7.17 and above.\n",
            "  and should_run_async(code)\n"
          ]
        }
      ],
      "source": [
        "def plot_confusion_matrix(y_test, y_pred, title='Confusion Matrix'):\n",
        "    cm = confusion_matrix(y_test, y_pred)\n",
        "    disp = ConfusionMatrixDisplay(confusion_matrix=cm, display_labels=None)\n",
        "    disp.plot(cmap=plt.cm.Blues, values_format=\".0f\")\n",
        "    plt.title(title)\n",
        "    plt.show()"
      ]
    },
    {
      "cell_type": "markdown",
      "metadata": {
        "id": "XQZ_0mmiWa2S"
      },
      "source": [
        "## Multinomial Naive Bays"
      ]
    },
    {
      "cell_type": "markdown",
      "metadata": {
        "id": "yDtA80b8Wa2S"
      },
      "source": [
        "### Tuning hyper-parameters"
      ]
    },
    {
      "cell_type": "code",
      "execution_count": 44,
      "metadata": {
        "colab": {
          "base_uri": "https://localhost:8080/"
        },
        "id": "clUCLwplWa2S",
        "outputId": "007efa61-f530-493e-86ec-a49933b565f8"
      },
      "outputs": [
        {
          "output_type": "stream",
          "name": "stderr",
          "text": [
            "/usr/local/lib/python3.10/dist-packages/ipykernel/ipkernel.py:283: DeprecationWarning: `should_run_async` will not call `transform_cell` automatically in the future. Please pass the result to `transformed_cell` argument and any exception that happen during thetransform in `preprocessing_exc_tuple` in IPython 7.17 and above.\n",
            "  and should_run_async(code)\n"
          ]
        }
      ],
      "source": [
        "def tune_hyperparameters(classifier, params, X_train, y_train, cv=5):\n",
        "    grid_search = GridSearchCV(classifier, params, cv=cv, verbose=3, n_jobs=-1)\n",
        "    grid_search.fit(X_train, y_train)\n",
        "    return grid_search.best_score_, grid_search.best_params_"
      ]
    },
    {
      "cell_type": "code",
      "execution_count": 45,
      "metadata": {
        "colab": {
          "base_uri": "https://localhost:8080/"
        },
        "id": "uR95_C7qWa2S",
        "outputId": "d4d0ae21-288c-43e3-94e9-99456bfe41a0"
      },
      "outputs": [
        {
          "output_type": "stream",
          "name": "stderr",
          "text": [
            "/usr/local/lib/python3.10/dist-packages/ipykernel/ipkernel.py:283: DeprecationWarning: `should_run_async` will not call `transform_cell` automatically in the future. Please pass the result to `transformed_cell` argument and any exception that happen during thetransform in `preprocessing_exc_tuple` in IPython 7.17 and above.\n",
            "  and should_run_async(code)\n"
          ]
        }
      ],
      "source": [
        "mnb_params = {\n",
        "    'alpha': [0, 0.1, 0.5, 0.8, 1.0, 1.5, 1.8, 2.0, 2.5, 3.0],\n",
        "    'fit_prior': [True, False],\n",
        "    'force_alpha': [True, False],\n",
        "}"
      ]
    },
    {
      "cell_type": "code",
      "execution_count": 46,
      "metadata": {
        "colab": {
          "base_uri": "https://localhost:8080/"
        },
        "id": "VPMK1MsKWa2S",
        "outputId": "850db55e-3716-4a39-f9df-3802085b1746"
      },
      "outputs": [
        {
          "output_type": "stream",
          "name": "stderr",
          "text": [
            "/usr/local/lib/python3.10/dist-packages/ipykernel/ipkernel.py:283: DeprecationWarning: `should_run_async` will not call `transform_cell` automatically in the future. Please pass the result to `transformed_cell` argument and any exception that happen during thetransform in `preprocessing_exc_tuple` in IPython 7.17 and above.\n",
            "  and should_run_async(code)\n",
            "/usr/local/lib/python3.10/dist-packages/sklearn/utils/validation.py:605: DeprecationWarning: is_sparse is deprecated and will be removed in a future version. Check `isinstance(dtype, pd.SparseDtype)` instead.\n",
            "  if is_sparse(pd_dtype):\n",
            "/usr/local/lib/python3.10/dist-packages/sklearn/utils/validation.py:614: DeprecationWarning: is_sparse is deprecated and will be removed in a future version. Check `isinstance(dtype, pd.SparseDtype)` instead.\n",
            "  if is_sparse(pd_dtype) or not is_extension_array_dtype(pd_dtype):\n",
            "/usr/local/lib/python3.10/dist-packages/sklearn/utils/validation.py:605: DeprecationWarning: is_sparse is deprecated and will be removed in a future version. Check `isinstance(dtype, pd.SparseDtype)` instead.\n",
            "  if is_sparse(pd_dtype):\n",
            "/usr/local/lib/python3.10/dist-packages/sklearn/utils/validation.py:614: DeprecationWarning: is_sparse is deprecated and will be removed in a future version. Check `isinstance(dtype, pd.SparseDtype)` instead.\n",
            "  if is_sparse(pd_dtype) or not is_extension_array_dtype(pd_dtype):\n",
            "/usr/local/lib/python3.10/dist-packages/sklearn/utils/validation.py:605: DeprecationWarning: is_sparse is deprecated and will be removed in a future version. Check `isinstance(dtype, pd.SparseDtype)` instead.\n",
            "  if is_sparse(pd_dtype):\n",
            "/usr/local/lib/python3.10/dist-packages/sklearn/utils/validation.py:614: DeprecationWarning: is_sparse is deprecated and will be removed in a future version. Check `isinstance(dtype, pd.SparseDtype)` instead.\n",
            "  if is_sparse(pd_dtype) or not is_extension_array_dtype(pd_dtype):\n"
          ]
        },
        {
          "output_type": "stream",
          "name": "stdout",
          "text": [
            "Fitting 5 folds for each of 40 candidates, totalling 200 fits\n",
            "Best score:  0.810763888888889\n",
            "Best parameters:  {'alpha': 2.5, 'fit_prior': False, 'force_alpha': True}\n"
          ]
        },
        {
          "output_type": "stream",
          "name": "stderr",
          "text": [
            "/usr/local/lib/python3.10/dist-packages/sklearn/utils/validation.py:605: DeprecationWarning: is_sparse is deprecated and will be removed in a future version. Check `isinstance(dtype, pd.SparseDtype)` instead.\n",
            "  if is_sparse(pd_dtype):\n",
            "/usr/local/lib/python3.10/dist-packages/sklearn/utils/validation.py:614: DeprecationWarning: is_sparse is deprecated and will be removed in a future version. Check `isinstance(dtype, pd.SparseDtype)` instead.\n",
            "  if is_sparse(pd_dtype) or not is_extension_array_dtype(pd_dtype):\n"
          ]
        }
      ],
      "source": [
        "mnb_classifier = MultinomialNB()\n",
        "mnb_best_score, mnb_best_params = tune_hyperparameters(mnb_classifier, mnb_params, X_train_tfidf, y_train)\n",
        "print('Best score: ', mnb_best_score)\n",
        "print('Best parameters: ', mnb_best_params)"
      ]
    },
    {
      "cell_type": "markdown",
      "metadata": {
        "id": "a6EfiUxyWa2S"
      },
      "source": [
        "### Train model with tuned-parameters"
      ]
    },
    {
      "cell_type": "code",
      "execution_count": 47,
      "metadata": {
        "colab": {
          "base_uri": "https://localhost:8080/",
          "height": 198
        },
        "id": "ggZKJEwmWa2T",
        "outputId": "7f0ceb7b-706e-463a-fac1-abe674af881f"
      },
      "outputs": [
        {
          "output_type": "stream",
          "name": "stderr",
          "text": [
            "/usr/local/lib/python3.10/dist-packages/ipykernel/ipkernel.py:283: DeprecationWarning: `should_run_async` will not call `transform_cell` automatically in the future. Please pass the result to `transformed_cell` argument and any exception that happen during thetransform in `preprocessing_exc_tuple` in IPython 7.17 and above.\n",
            "  and should_run_async(code)\n",
            "/usr/local/lib/python3.10/dist-packages/sklearn/utils/validation.py:605: DeprecationWarning: is_sparse is deprecated and will be removed in a future version. Check `isinstance(dtype, pd.SparseDtype)` instead.\n",
            "  if is_sparse(pd_dtype):\n",
            "/usr/local/lib/python3.10/dist-packages/sklearn/utils/validation.py:614: DeprecationWarning: is_sparse is deprecated and will be removed in a future version. Check `isinstance(dtype, pd.SparseDtype)` instead.\n",
            "  if is_sparse(pd_dtype) or not is_extension_array_dtype(pd_dtype):\n"
          ]
        },
        {
          "output_type": "execute_result",
          "data": {
            "text/plain": [
              "MultinomialNB(alpha=2.5, fit_prior=False, force_alpha=True)"
            ],
            "text/html": [
              "<style>#sk-container-id-1 {color: black;background-color: white;}#sk-container-id-1 pre{padding: 0;}#sk-container-id-1 div.sk-toggleable {background-color: white;}#sk-container-id-1 label.sk-toggleable__label {cursor: pointer;display: block;width: 100%;margin-bottom: 0;padding: 0.3em;box-sizing: border-box;text-align: center;}#sk-container-id-1 label.sk-toggleable__label-arrow:before {content: \"▸\";float: left;margin-right: 0.25em;color: #696969;}#sk-container-id-1 label.sk-toggleable__label-arrow:hover:before {color: black;}#sk-container-id-1 div.sk-estimator:hover label.sk-toggleable__label-arrow:before {color: black;}#sk-container-id-1 div.sk-toggleable__content {max-height: 0;max-width: 0;overflow: hidden;text-align: left;background-color: #f0f8ff;}#sk-container-id-1 div.sk-toggleable__content pre {margin: 0.2em;color: black;border-radius: 0.25em;background-color: #f0f8ff;}#sk-container-id-1 input.sk-toggleable__control:checked~div.sk-toggleable__content {max-height: 200px;max-width: 100%;overflow: auto;}#sk-container-id-1 input.sk-toggleable__control:checked~label.sk-toggleable__label-arrow:before {content: \"▾\";}#sk-container-id-1 div.sk-estimator input.sk-toggleable__control:checked~label.sk-toggleable__label {background-color: #d4ebff;}#sk-container-id-1 div.sk-label input.sk-toggleable__control:checked~label.sk-toggleable__label {background-color: #d4ebff;}#sk-container-id-1 input.sk-hidden--visually {border: 0;clip: rect(1px 1px 1px 1px);clip: rect(1px, 1px, 1px, 1px);height: 1px;margin: -1px;overflow: hidden;padding: 0;position: absolute;width: 1px;}#sk-container-id-1 div.sk-estimator {font-family: monospace;background-color: #f0f8ff;border: 1px dotted black;border-radius: 0.25em;box-sizing: border-box;margin-bottom: 0.5em;}#sk-container-id-1 div.sk-estimator:hover {background-color: #d4ebff;}#sk-container-id-1 div.sk-parallel-item::after {content: \"\";width: 100%;border-bottom: 1px solid gray;flex-grow: 1;}#sk-container-id-1 div.sk-label:hover label.sk-toggleable__label {background-color: #d4ebff;}#sk-container-id-1 div.sk-serial::before {content: \"\";position: absolute;border-left: 1px solid gray;box-sizing: border-box;top: 0;bottom: 0;left: 50%;z-index: 0;}#sk-container-id-1 div.sk-serial {display: flex;flex-direction: column;align-items: center;background-color: white;padding-right: 0.2em;padding-left: 0.2em;position: relative;}#sk-container-id-1 div.sk-item {position: relative;z-index: 1;}#sk-container-id-1 div.sk-parallel {display: flex;align-items: stretch;justify-content: center;background-color: white;position: relative;}#sk-container-id-1 div.sk-item::before, #sk-container-id-1 div.sk-parallel-item::before {content: \"\";position: absolute;border-left: 1px solid gray;box-sizing: border-box;top: 0;bottom: 0;left: 50%;z-index: -1;}#sk-container-id-1 div.sk-parallel-item {display: flex;flex-direction: column;z-index: 1;position: relative;background-color: white;}#sk-container-id-1 div.sk-parallel-item:first-child::after {align-self: flex-end;width: 50%;}#sk-container-id-1 div.sk-parallel-item:last-child::after {align-self: flex-start;width: 50%;}#sk-container-id-1 div.sk-parallel-item:only-child::after {width: 0;}#sk-container-id-1 div.sk-dashed-wrapped {border: 1px dashed gray;margin: 0 0.4em 0.5em 0.4em;box-sizing: border-box;padding-bottom: 0.4em;background-color: white;}#sk-container-id-1 div.sk-label label {font-family: monospace;font-weight: bold;display: inline-block;line-height: 1.2em;}#sk-container-id-1 div.sk-label-container {text-align: center;}#sk-container-id-1 div.sk-container {/* jupyter's `normalize.less` sets `[hidden] { display: none; }` but bootstrap.min.css set `[hidden] { display: none !important; }` so we also need the `!important` here to be able to override the default hidden behavior on the sphinx rendered scikit-learn.org. See: https://github.com/scikit-learn/scikit-learn/issues/21755 */display: inline-block !important;position: relative;}#sk-container-id-1 div.sk-text-repr-fallback {display: none;}</style><div id=\"sk-container-id-1\" class=\"sk-top-container\"><div class=\"sk-text-repr-fallback\"><pre>MultinomialNB(alpha=2.5, fit_prior=False, force_alpha=True)</pre><b>In a Jupyter environment, please rerun this cell to show the HTML representation or trust the notebook. <br />On GitHub, the HTML representation is unable to render, please try loading this page with nbviewer.org.</b></div><div class=\"sk-container\" hidden><div class=\"sk-item\"><div class=\"sk-estimator sk-toggleable\"><input class=\"sk-toggleable__control sk-hidden--visually\" id=\"sk-estimator-id-1\" type=\"checkbox\" checked><label for=\"sk-estimator-id-1\" class=\"sk-toggleable__label sk-toggleable__label-arrow\">MultinomialNB</label><div class=\"sk-toggleable__content\"><pre>MultinomialNB(alpha=2.5, fit_prior=False, force_alpha=True)</pre></div></div></div></div></div>"
            ]
          },
          "metadata": {},
          "execution_count": 47
        }
      ],
      "source": [
        "mnb_best_classifier = MultinomialNB(**mnb_best_params)\n",
        "mnb_best_classifier.fit(X_train_tfidf, y_train)"
      ]
    },
    {
      "cell_type": "markdown",
      "metadata": {
        "id": "zBFdNzbwWa2T"
      },
      "source": [
        "### Model prediction"
      ]
    },
    {
      "cell_type": "code",
      "execution_count": 48,
      "metadata": {
        "colab": {
          "base_uri": "https://localhost:8080/"
        },
        "id": "cwEguogiWa2T",
        "outputId": "980a6776-e2ec-40bf-8647-187239276c5e"
      },
      "outputs": [
        {
          "output_type": "stream",
          "name": "stderr",
          "text": [
            "/usr/local/lib/python3.10/dist-packages/ipykernel/ipkernel.py:283: DeprecationWarning: `should_run_async` will not call `transform_cell` automatically in the future. Please pass the result to `transformed_cell` argument and any exception that happen during thetransform in `preprocessing_exc_tuple` in IPython 7.17 and above.\n",
            "  and should_run_async(code)\n"
          ]
        }
      ],
      "source": [
        "y_pred_mnb = mnb_best_classifier.predict(X_test_tfidf)"
      ]
    },
    {
      "cell_type": "markdown",
      "metadata": {
        "id": "Xqs69e1vWa2T"
      },
      "source": [
        "### Model evaluation"
      ]
    },
    {
      "cell_type": "code",
      "execution_count": 49,
      "metadata": {
        "colab": {
          "base_uri": "https://localhost:8080/",
          "height": 1000
        },
        "id": "RWlCOi-0Wa2T",
        "outputId": "52939580-43ab-4b3b-bf3d-ac827b5816ff"
      },
      "outputs": [
        {
          "output_type": "stream",
          "name": "stderr",
          "text": [
            "/usr/local/lib/python3.10/dist-packages/ipykernel/ipkernel.py:283: DeprecationWarning: `should_run_async` will not call `transform_cell` automatically in the future. Please pass the result to `transformed_cell` argument and any exception that happen during thetransform in `preprocessing_exc_tuple` in IPython 7.17 and above.\n",
            "  and should_run_async(code)\n",
            "/usr/local/lib/python3.10/dist-packages/sklearn/utils/validation.py:605: DeprecationWarning: is_sparse is deprecated and will be removed in a future version. Check `isinstance(dtype, pd.SparseDtype)` instead.\n",
            "  if is_sparse(pd_dtype):\n",
            "/usr/local/lib/python3.10/dist-packages/sklearn/utils/validation.py:614: DeprecationWarning: is_sparse is deprecated and will be removed in a future version. Check `isinstance(dtype, pd.SparseDtype)` instead.\n",
            "  if is_sparse(pd_dtype) or not is_extension_array_dtype(pd_dtype):\n",
            "/usr/local/lib/python3.10/dist-packages/sklearn/utils/validation.py:605: DeprecationWarning: is_sparse is deprecated and will be removed in a future version. Check `isinstance(dtype, pd.SparseDtype)` instead.\n",
            "  if is_sparse(pd_dtype):\n",
            "/usr/local/lib/python3.10/dist-packages/sklearn/utils/validation.py:614: DeprecationWarning: is_sparse is deprecated and will be removed in a future version. Check `isinstance(dtype, pd.SparseDtype)` instead.\n",
            "  if is_sparse(pd_dtype) or not is_extension_array_dtype(pd_dtype):\n",
            "/usr/local/lib/python3.10/dist-packages/sklearn/utils/validation.py:605: DeprecationWarning: is_sparse is deprecated and will be removed in a future version. Check `isinstance(dtype, pd.SparseDtype)` instead.\n",
            "  if is_sparse(pd_dtype):\n",
            "/usr/local/lib/python3.10/dist-packages/sklearn/utils/validation.py:614: DeprecationWarning: is_sparse is deprecated and will be removed in a future version. Check `isinstance(dtype, pd.SparseDtype)` instead.\n",
            "  if is_sparse(pd_dtype) or not is_extension_array_dtype(pd_dtype):\n",
            "/usr/local/lib/python3.10/dist-packages/sklearn/utils/validation.py:605: DeprecationWarning: is_sparse is deprecated and will be removed in a future version. Check `isinstance(dtype, pd.SparseDtype)` instead.\n",
            "  if is_sparse(pd_dtype):\n",
            "/usr/local/lib/python3.10/dist-packages/sklearn/utils/validation.py:614: DeprecationWarning: is_sparse is deprecated and will be removed in a future version. Check `isinstance(dtype, pd.SparseDtype)` instead.\n",
            "  if is_sparse(pd_dtype) or not is_extension_array_dtype(pd_dtype):\n",
            "/usr/local/lib/python3.10/dist-packages/sklearn/utils/validation.py:605: DeprecationWarning: is_sparse is deprecated and will be removed in a future version. Check `isinstance(dtype, pd.SparseDtype)` instead.\n",
            "  if is_sparse(pd_dtype):\n",
            "/usr/local/lib/python3.10/dist-packages/sklearn/utils/validation.py:614: DeprecationWarning: is_sparse is deprecated and will be removed in a future version. Check `isinstance(dtype, pd.SparseDtype)` instead.\n",
            "  if is_sparse(pd_dtype) or not is_extension_array_dtype(pd_dtype):\n",
            "/usr/local/lib/python3.10/dist-packages/sklearn/utils/validation.py:605: DeprecationWarning: is_sparse is deprecated and will be removed in a future version. Check `isinstance(dtype, pd.SparseDtype)` instead.\n",
            "  if is_sparse(pd_dtype):\n",
            "/usr/local/lib/python3.10/dist-packages/sklearn/utils/validation.py:614: DeprecationWarning: is_sparse is deprecated and will be removed in a future version. Check `isinstance(dtype, pd.SparseDtype)` instead.\n",
            "  if is_sparse(pd_dtype) or not is_extension_array_dtype(pd_dtype):\n"
          ]
        },
        {
          "output_type": "stream",
          "name": "stdout",
          "text": [
            "              precision    recall  f1-score   support\n",
            "\n",
            "           0       0.82      0.78      0.80      1785\n",
            "           1       0.79      0.83      0.81      1815\n",
            "\n",
            "    accuracy                           0.80      3600\n",
            "   macro avg       0.80      0.80      0.80      3600\n",
            "weighted avg       0.80      0.80      0.80      3600\n",
            "\n"
          ]
        },
        {
          "output_type": "display_data",
          "data": {
            "text/plain": [
              "<Figure size 640x480 with 2 Axes>"
            ],
            "image/png": "[encoded data removed]"
          },
          "metadata": {}
        }
      ],
      "source": [
        "print(classification_report(y_test, y_pred_mnb))\n",
        "plot_confusion_matrix(y_test, y_pred_mnb, title='Confusion Matrix for Multinomial Naive Bayes Classifier')"
      ]
    },
    {
      "cell_type": "markdown",
      "metadata": {
        "id": "ZnbTA2mXWa2T"
      },
      "source": [
        "- Prediction result for the Mutlinomial Naive Bays machine learning model is not bad. Accuracy of 80% is pretty good result for the model.\n",
        "- f1-score, for both labels zero and one, is also ~81%. This is a really good sign. It shows that the model is not biased towards one class at the expense of the others. In another word, this shows that model learnt great from the trained data and showed a great performance on the test dataset.\n",
        "- Confustion matrix also shows that there are relatively a few data samples miss categorized.\n",
        "- Additionaly, it shows that difference between mis-classified data from different labels is not high at all"
      ]
    },
    {
      "cell_type": "markdown",
      "metadata": {
        "id": "s2PGLTqDWa2T"
      },
      "source": [
        "## Support Vector Classifier\n",
        "- let's try another popular machine learning algorithm. Support Vector Classifier is one the most popular and used machine learning algorithms used for Natural Language Processing."
      ]
    },
    {
      "cell_type": "markdown",
      "metadata": {
        "id": "sd3VwSoQWa2T"
      },
      "source": [
        "### Tuning hyper-parameters\n",
        "- As tuning all hyper parameters takes very long time, we tune only two main parameter for tuning."
      ]
    },
    {
      "cell_type": "code",
      "execution_count": 50,
      "metadata": {
        "colab": {
          "base_uri": "https://localhost:8080/"
        },
        "id": "O0B1XUJUWa2T",
        "outputId": "43a0bd38-dcc9-4c40-be64-5f1df9841c46"
      },
      "outputs": [
        {
          "output_type": "stream",
          "name": "stderr",
          "text": [
            "/usr/local/lib/python3.10/dist-packages/ipykernel/ipkernel.py:283: DeprecationWarning: `should_run_async` will not call `transform_cell` automatically in the future. Please pass the result to `transformed_cell` argument and any exception that happen during thetransform in `preprocessing_exc_tuple` in IPython 7.17 and above.\n",
            "  and should_run_async(code)\n"
          ]
        }
      ],
      "source": [
        "svm_params = {\n",
        "    'C': [0.1, 0.5, 1.0, 1.5, 2.0, 2.5],\n",
        "    'kernel': ['linear', 'poly', 'rbf', 'sigmoid'],\n",
        "}"
      ]
    },
    {
      "cell_type": "code",
      "execution_count": 51,
      "metadata": {
        "colab": {
          "base_uri": "https://localhost:8080/"
        },
        "id": "O04O1JuSWa2T",
        "outputId": "14b271ab-88bb-4a86-bff2-75bf77b39a9d"
      },
      "outputs": [
        {
          "output_type": "stream",
          "name": "stderr",
          "text": [
            "/usr/local/lib/python3.10/dist-packages/ipykernel/ipkernel.py:283: DeprecationWarning: `should_run_async` will not call `transform_cell` automatically in the future. Please pass the result to `transformed_cell` argument and any exception that happen during thetransform in `preprocessing_exc_tuple` in IPython 7.17 and above.\n",
            "  and should_run_async(code)\n",
            "/usr/local/lib/python3.10/dist-packages/sklearn/utils/validation.py:605: DeprecationWarning: is_sparse is deprecated and will be removed in a future version. Check `isinstance(dtype, pd.SparseDtype)` instead.\n",
            "  if is_sparse(pd_dtype):\n",
            "/usr/local/lib/python3.10/dist-packages/sklearn/utils/validation.py:614: DeprecationWarning: is_sparse is deprecated and will be removed in a future version. Check `isinstance(dtype, pd.SparseDtype)` instead.\n",
            "  if is_sparse(pd_dtype) or not is_extension_array_dtype(pd_dtype):\n",
            "/usr/local/lib/python3.10/dist-packages/sklearn/utils/validation.py:605: DeprecationWarning: is_sparse is deprecated and will be removed in a future version. Check `isinstance(dtype, pd.SparseDtype)` instead.\n",
            "  if is_sparse(pd_dtype):\n",
            "/usr/local/lib/python3.10/dist-packages/sklearn/utils/validation.py:614: DeprecationWarning: is_sparse is deprecated and will be removed in a future version. Check `isinstance(dtype, pd.SparseDtype)` instead.\n",
            "  if is_sparse(pd_dtype) or not is_extension_array_dtype(pd_dtype):\n",
            "/usr/local/lib/python3.10/dist-packages/sklearn/utils/validation.py:605: DeprecationWarning: is_sparse is deprecated and will be removed in a future version. Check `isinstance(dtype, pd.SparseDtype)` instead.\n",
            "  if is_sparse(pd_dtype):\n",
            "/usr/local/lib/python3.10/dist-packages/sklearn/utils/validation.py:614: DeprecationWarning: is_sparse is deprecated and will be removed in a future version. Check `isinstance(dtype, pd.SparseDtype)` instead.\n",
            "  if is_sparse(pd_dtype) or not is_extension_array_dtype(pd_dtype):\n"
          ]
        },
        {
          "output_type": "stream",
          "name": "stdout",
          "text": [
            "Fitting 5 folds for each of 24 candidates, totalling 120 fits\n"
          ]
        },
        {
          "output_type": "stream",
          "name": "stderr",
          "text": [
            "/usr/local/lib/python3.10/dist-packages/sklearn/utils/validation.py:605: DeprecationWarning: is_sparse is deprecated and will be removed in a future version. Check `isinstance(dtype, pd.SparseDtype)` instead.\n",
            "  if is_sparse(pd_dtype):\n",
            "/usr/local/lib/python3.10/dist-packages/sklearn/utils/validation.py:614: DeprecationWarning: is_sparse is deprecated and will be removed in a future version. Check `isinstance(dtype, pd.SparseDtype)` instead.\n",
            "  if is_sparse(pd_dtype) or not is_extension_array_dtype(pd_dtype):\n"
          ]
        },
        {
          "output_type": "stream",
          "name": "stdout",
          "text": [
            "Best score:  0.82\n",
            "Best parameters:  {'C': 1.5, 'kernel': 'rbf'}\n"
          ]
        }
      ],
      "source": [
        "svc_best_score, svc_best_params = tune_hyperparameters(\n",
        "    SVC(),\n",
        "    svm_params,\n",
        "    X_train_tfidf,\n",
        "    y_train\n",
        ")\n",
        "print('Best score: ', round(svc_best_score, 2))\n",
        "print('Best parameters: ', svc_best_params)"
      ]
    },
    {
      "cell_type": "markdown",
      "metadata": {
        "id": "8GBhJ51tWa2T"
      },
      "source": [
        "### Train model with tuned-parameters"
      ]
    },
    {
      "cell_type": "code",
      "execution_count": 52,
      "metadata": {
        "colab": {
          "base_uri": "https://localhost:8080/",
          "height": 198
        },
        "id": "P4LcqHxxWa2U",
        "outputId": "02fb0807-5bcf-4064-ae00-a32ae313b577"
      },
      "outputs": [
        {
          "output_type": "stream",
          "name": "stderr",
          "text": [
            "/usr/local/lib/python3.10/dist-packages/ipykernel/ipkernel.py:283: DeprecationWarning: `should_run_async` will not call `transform_cell` automatically in the future. Please pass the result to `transformed_cell` argument and any exception that happen during thetransform in `preprocessing_exc_tuple` in IPython 7.17 and above.\n",
            "  and should_run_async(code)\n",
            "/usr/local/lib/python3.10/dist-packages/sklearn/utils/validation.py:605: DeprecationWarning: is_sparse is deprecated and will be removed in a future version. Check `isinstance(dtype, pd.SparseDtype)` instead.\n",
            "  if is_sparse(pd_dtype):\n",
            "/usr/local/lib/python3.10/dist-packages/sklearn/utils/validation.py:614: DeprecationWarning: is_sparse is deprecated and will be removed in a future version. Check `isinstance(dtype, pd.SparseDtype)` instead.\n",
            "  if is_sparse(pd_dtype) or not is_extension_array_dtype(pd_dtype):\n"
          ]
        },
        {
          "output_type": "execute_result",
          "data": {
            "text/plain": [
              "SVC(C=1.5)"
            ],
            "text/html": [
              "<style>#sk-container-id-2 {color: black;background-color: white;}#sk-container-id-2 pre{padding: 0;}#sk-container-id-2 div.sk-toggleable {background-color: white;}#sk-container-id-2 label.sk-toggleable__label {cursor: pointer;display: block;width: 100%;margin-bottom: 0;padding: 0.3em;box-sizing: border-box;text-align: center;}#sk-container-id-2 label.sk-toggleable__label-arrow:before {content: \"▸\";float: left;margin-right: 0.25em;color: #696969;}#sk-container-id-2 label.sk-toggleable__label-arrow:hover:before {color: black;}#sk-container-id-2 div.sk-estimator:hover label.sk-toggleable__label-arrow:before {color: black;}#sk-container-id-2 div.sk-toggleable__content {max-height: 0;max-width: 0;overflow: hidden;text-align: left;background-color: #f0f8ff;}#sk-container-id-2 div.sk-toggleable__content pre {margin: 0.2em;color: black;border-radius: 0.25em;background-color: #f0f8ff;}#sk-container-id-2 input.sk-toggleable__control:checked~div.sk-toggleable__content {max-height: 200px;max-width: 100%;overflow: auto;}#sk-container-id-2 input.sk-toggleable__control:checked~label.sk-toggleable__label-arrow:before {content: \"▾\";}#sk-container-id-2 div.sk-estimator input.sk-toggleable__control:checked~label.sk-toggleable__label {background-color: #d4ebff;}#sk-container-id-2 div.sk-label input.sk-toggleable__control:checked~label.sk-toggleable__label {background-color: #d4ebff;}#sk-container-id-2 input.sk-hidden--visually {border: 0;clip: rect(1px 1px 1px 1px);clip: rect(1px, 1px, 1px, 1px);height: 1px;margin: -1px;overflow: hidden;padding: 0;position: absolute;width: 1px;}#sk-container-id-2 div.sk-estimator {font-family: monospace;background-color: #f0f8ff;border: 1px dotted black;border-radius: 0.25em;box-sizing: border-box;margin-bottom: 0.5em;}#sk-container-id-2 div.sk-estimator:hover {background-color: #d4ebff;}#sk-container-id-2 div.sk-parallel-item::after {content: \"\";width: 100%;border-bottom: 1px solid gray;flex-grow: 1;}#sk-container-id-2 div.sk-label:hover label.sk-toggleable__label {background-color: #d4ebff;}#sk-container-id-2 div.sk-serial::before {content: \"\";position: absolute;border-left: 1px solid gray;box-sizing: border-box;top: 0;bottom: 0;left: 50%;z-index: 0;}#sk-container-id-2 div.sk-serial {display: flex;flex-direction: column;align-items: center;background-color: white;padding-right: 0.2em;padding-left: 0.2em;position: relative;}#sk-container-id-2 div.sk-item {position: relative;z-index: 1;}#sk-container-id-2 div.sk-parallel {display: flex;align-items: stretch;justify-content: center;background-color: white;position: relative;}#sk-container-id-2 div.sk-item::before, #sk-container-id-2 div.sk-parallel-item::before {content: \"\";position: absolute;border-left: 1px solid gray;box-sizing: border-box;top: 0;bottom: 0;left: 50%;z-index: -1;}#sk-container-id-2 div.sk-parallel-item {display: flex;flex-direction: column;z-index: 1;position: relative;background-color: white;}#sk-container-id-2 div.sk-parallel-item:first-child::after {align-self: flex-end;width: 50%;}#sk-container-id-2 div.sk-parallel-item:last-child::after {align-self: flex-start;width: 50%;}#sk-container-id-2 div.sk-parallel-item:only-child::after {width: 0;}#sk-container-id-2 div.sk-dashed-wrapped {border: 1px dashed gray;margin: 0 0.4em 0.5em 0.4em;box-sizing: border-box;padding-bottom: 0.4em;background-color: white;}#sk-container-id-2 div.sk-label label {font-family: monospace;font-weight: bold;display: inline-block;line-height: 1.2em;}#sk-container-id-2 div.sk-label-container {text-align: center;}#sk-container-id-2 div.sk-container {/* jupyter's `normalize.less` sets `[hidden] { display: none; }` but bootstrap.min.css set `[hidden] { display: none !important; }` so we also need the `!important` here to be able to override the default hidden behavior on the sphinx rendered scikit-learn.org. See: https://github.com/scikit-learn/scikit-learn/issues/21755 */display: inline-block !important;position: relative;}#sk-container-id-2 div.sk-text-repr-fallback {display: none;}</style><div id=\"sk-container-id-2\" class=\"sk-top-container\"><div class=\"sk-text-repr-fallback\"><pre>SVC(C=1.5)</pre><b>In a Jupyter environment, please rerun this cell to show the HTML representation or trust the notebook. <br />On GitHub, the HTML representation is unable to render, please try loading this page with nbviewer.org.</b></div><div class=\"sk-container\" hidden><div class=\"sk-item\"><div class=\"sk-estimator sk-toggleable\"><input class=\"sk-toggleable__control sk-hidden--visually\" id=\"sk-estimator-id-2\" type=\"checkbox\" checked><label for=\"sk-estimator-id-2\" class=\"sk-toggleable__label sk-toggleable__label-arrow\">SVC</label><div class=\"sk-toggleable__content\"><pre>SVC(C=1.5)</pre></div></div></div></div></div>"
            ]
          },
          "metadata": {},
          "execution_count": 52
        }
      ],
      "source": [
        "best_model = SVC(**svc_best_params)\n",
        "best_model.fit(X_train_tfidf, y_train)"
      ]
    },
    {
      "cell_type": "markdown",
      "metadata": {
        "id": "bMm3RXiKWa2U"
      },
      "source": [
        "### Model prediction"
      ]
    },
    {
      "cell_type": "code",
      "execution_count": 53,
      "metadata": {
        "colab": {
          "base_uri": "https://localhost:8080/"
        },
        "id": "P2QTAfBbWa2U",
        "outputId": "8ee67b45-ded6-4ce9-cb36-00765745b100"
      },
      "outputs": [
        {
          "output_type": "stream",
          "name": "stderr",
          "text": [
            "/usr/local/lib/python3.10/dist-packages/ipykernel/ipkernel.py:283: DeprecationWarning: `should_run_async` will not call `transform_cell` automatically in the future. Please pass the result to `transformed_cell` argument and any exception that happen during thetransform in `preprocessing_exc_tuple` in IPython 7.17 and above.\n",
            "  and should_run_async(code)\n"
          ]
        }
      ],
      "source": [
        "y_pred_svc = best_model.predict(X_test_tfidf)"
      ]
    },
    {
      "cell_type": "markdown",
      "metadata": {
        "id": "UGgR09BVWa2U"
      },
      "source": [
        "### Model evaluation"
      ]
    },
    {
      "cell_type": "code",
      "execution_count": 54,
      "metadata": {
        "colab": {
          "base_uri": "https://localhost:8080/",
          "height": 1000
        },
        "id": "ZQtJu_OsWa2U",
        "outputId": "b184d9ea-4cd3-49bf-cb06-6104b7501364"
      },
      "outputs": [
        {
          "output_type": "stream",
          "name": "stderr",
          "text": [
            "/usr/local/lib/python3.10/dist-packages/ipykernel/ipkernel.py:283: DeprecationWarning: `should_run_async` will not call `transform_cell` automatically in the future. Please pass the result to `transformed_cell` argument and any exception that happen during thetransform in `preprocessing_exc_tuple` in IPython 7.17 and above.\n",
            "  and should_run_async(code)\n",
            "/usr/local/lib/python3.10/dist-packages/sklearn/utils/validation.py:605: DeprecationWarning: is_sparse is deprecated and will be removed in a future version. Check `isinstance(dtype, pd.SparseDtype)` instead.\n",
            "  if is_sparse(pd_dtype):\n",
            "/usr/local/lib/python3.10/dist-packages/sklearn/utils/validation.py:614: DeprecationWarning: is_sparse is deprecated and will be removed in a future version. Check `isinstance(dtype, pd.SparseDtype)` instead.\n",
            "  if is_sparse(pd_dtype) or not is_extension_array_dtype(pd_dtype):\n",
            "/usr/local/lib/python3.10/dist-packages/sklearn/utils/validation.py:605: DeprecationWarning: is_sparse is deprecated and will be removed in a future version. Check `isinstance(dtype, pd.SparseDtype)` instead.\n",
            "  if is_sparse(pd_dtype):\n",
            "/usr/local/lib/python3.10/dist-packages/sklearn/utils/validation.py:614: DeprecationWarning: is_sparse is deprecated and will be removed in a future version. Check `isinstance(dtype, pd.SparseDtype)` instead.\n",
            "  if is_sparse(pd_dtype) or not is_extension_array_dtype(pd_dtype):\n",
            "/usr/local/lib/python3.10/dist-packages/sklearn/utils/validation.py:605: DeprecationWarning: is_sparse is deprecated and will be removed in a future version. Check `isinstance(dtype, pd.SparseDtype)` instead.\n",
            "  if is_sparse(pd_dtype):\n",
            "/usr/local/lib/python3.10/dist-packages/sklearn/utils/validation.py:614: DeprecationWarning: is_sparse is deprecated and will be removed in a future version. Check `isinstance(dtype, pd.SparseDtype)` instead.\n",
            "  if is_sparse(pd_dtype) or not is_extension_array_dtype(pd_dtype):\n",
            "/usr/local/lib/python3.10/dist-packages/sklearn/utils/validation.py:605: DeprecationWarning: is_sparse is deprecated and will be removed in a future version. Check `isinstance(dtype, pd.SparseDtype)` instead.\n",
            "  if is_sparse(pd_dtype):\n",
            "/usr/local/lib/python3.10/dist-packages/sklearn/utils/validation.py:614: DeprecationWarning: is_sparse is deprecated and will be removed in a future version. Check `isinstance(dtype, pd.SparseDtype)` instead.\n",
            "  if is_sparse(pd_dtype) or not is_extension_array_dtype(pd_dtype):\n",
            "/usr/local/lib/python3.10/dist-packages/sklearn/utils/validation.py:605: DeprecationWarning: is_sparse is deprecated and will be removed in a future version. Check `isinstance(dtype, pd.SparseDtype)` instead.\n",
            "  if is_sparse(pd_dtype):\n",
            "/usr/local/lib/python3.10/dist-packages/sklearn/utils/validation.py:614: DeprecationWarning: is_sparse is deprecated and will be removed in a future version. Check `isinstance(dtype, pd.SparseDtype)` instead.\n",
            "  if is_sparse(pd_dtype) or not is_extension_array_dtype(pd_dtype):\n",
            "/usr/local/lib/python3.10/dist-packages/sklearn/utils/validation.py:605: DeprecationWarning: is_sparse is deprecated and will be removed in a future version. Check `isinstance(dtype, pd.SparseDtype)` instead.\n",
            "  if is_sparse(pd_dtype):\n",
            "/usr/local/lib/python3.10/dist-packages/sklearn/utils/validation.py:614: DeprecationWarning: is_sparse is deprecated and will be removed in a future version. Check `isinstance(dtype, pd.SparseDtype)` instead.\n",
            "  if is_sparse(pd_dtype) or not is_extension_array_dtype(pd_dtype):\n"
          ]
        },
        {
          "output_type": "stream",
          "name": "stdout",
          "text": [
            "              precision    recall  f1-score   support\n",
            "\n",
            "           0       0.81      0.80      0.81      1785\n",
            "           1       0.81      0.81      0.81      1815\n",
            "\n",
            "    accuracy                           0.81      3600\n",
            "   macro avg       0.81      0.81      0.81      3600\n",
            "weighted avg       0.81      0.81      0.81      3600\n",
            "\n"
          ]
        },
        {
          "output_type": "display_data",
          "data": {
            "text/plain": [
              "<Figure size 640x480 with 2 Axes>"
            ],
            "image/png": "[encoded data removed]"
          },
          "metadata": {}
        }
      ],
      "source": [
        "print(classification_report(y_test, y_pred_svc))\n",
        "plot_confusion_matrix(y_test, y_pred_svc, title='Confusion Matrix for Support Vector Classifier')"
      ]
    },
    {
      "cell_type": "markdown",
      "metadata": {
        "id": "diY3oXdKWa2U"
      },
      "source": [
        "- SVC model also performed good. The accuracy of the model on the test set is 81% which is 1% more than Multinomial Naive Bays model.\n",
        "- The f1-score for SVC is slightly better than MNB model for idnetifying not hate speech content.\n",
        "- It is clear that differnce between the miss matched data for different classes is lower than MNB model. Which should be since the accuracy and f1-score is slightly higher\n",
        "- The difference between the accuracy of the two models is not significant at all. Since the the evaluation results are closely the same, we would like to include the training time it tool for the two models as the final evaluation.\n",
        "- Summary of the execution time:\n",
        "\n",
        "**SVC**\n",
        "- Parameter Tuning: 12m\n",
        "- Training best estimator: 1m\n",
        "\n",
        "**MNB**\n",
        "- Parameter Tuning: 2s\n",
        "- Training best estimator: 1s\n",
        "\n",
        "- Since Multinomial Naive Bays model finished executions much faster than SVC, we would like to propose the Multinomial model for the classification."
      ]
    },
    {
      "cell_type": "markdown",
      "source": [
        "# Future work\n",
        "- Applying further preprocessing on the data and using differnt vectorizing model could directly effect the performance and results of the all three major steps in this project. Therefore, we highly suggest to try other approaches to potentially increase the quality of the results and findings\n",
        "- In the sentiment analysis section, there are several other sentiment analysis specific models available. Trying out other models could also result is better findings.\n",
        "- In the topic modeling, there can be several other investigations applied. For instance using other topic model, using keywords extracted by model to identify trends in other topics, and so on.\n",
        "- In the classification section, as there are several machine learning models available, we only focused on two of them. Deep learning can also be implemented to enhance the result. Additionally, For SVC model, there are some other parameters that can be tuned. We suggest to tune the model with several values for all the available parameters."
      ],
      "metadata": {
        "id": "rBgd_kduEXXd"
      }
    }
  ],
  "metadata": {
    "kernelspec": {
      "display_name": "Python 3",
      "name": "python3"
    },
    "language_info": {
      "codemirror_mode": {
        "name": "ipython",
        "version": 3
      },
      "file_extension": ".py",
      "mimetype": "text/x-python",
      "name": "python",
      "nbconvert_exporter": "python",
      "pygments_lexer": "ipython3",
      "version": "3.12.0"
    },
    "colab": {
      "provenance": [],
      "machine_shape": "hm",
      "gpuType": "V100",
      "include_colab_link": true
    },
    "accelerator": "GPU",
    "widgets": {
      "application/vnd.jupyter.widget-state+json": {
        "506af6d4905f486f9851545ca488ab6b": {
          "model_module": "@jupyter-widgets/controls",
          "model_name": "HBoxModel",
          "model_module_version": "1.5.0",
          "state": {
            "_dom_classes": [],
            "_model_module": "@jupyter-widgets/controls",
            "_model_module_version": "1.5.0",
            "_model_name": "HBoxModel",
            "_view_count": null,
            "_view_module": "@jupyter-widgets/controls",
            "_view_module_version": "1.5.0",
            "_view_name": "HBoxView",
            "box_style": "",
            "children": [
              "IPY_MODEL_c9a235dea56c46e4bb372252607d6c07",
              "IPY_MODEL_6043061571be488c977b1e97d8d49550",
              "IPY_MODEL_1ac3265d767c4db29346657c6ecc1ad7"
            ],
            "layout": "IPY_MODEL_8f03a1a29f5744c9a773d876260a4e6f"
          }
        },
        "c9a235dea56c46e4bb372252607d6c07": {
          "model_module": "@jupyter-widgets/controls",
          "model_name": "HTMLModel",
          "model_module_version": "1.5.0",
          "state": {
            "_dom_classes": [],
            "_model_module": "@jupyter-widgets/controls",
            "_model_module_version": "1.5.0",
            "_model_name": "HTMLModel",
            "_view_count": null,
            "_view_module": "@jupyter-widgets/controls",
            "_view_module_version": "1.5.0",
            "_view_name": "HTMLView",
            "description": "",
            "description_tooltip": null,
            "layout": "IPY_MODEL_27e6d28a32654450960525f3c5115e69",
            "placeholder": "​",
            "style": "IPY_MODEL_bdd3c95544bd451c935e4a47ab93b8f5",
            "value": "Pandas Apply: 100%"
          }
        },
        "6043061571be488c977b1e97d8d49550": {
          "model_module": "@jupyter-widgets/controls",
          "model_name": "FloatProgressModel",
          "model_module_version": "1.5.0",
          "state": {
            "_dom_classes": [],
            "_model_module": "@jupyter-widgets/controls",
            "_model_module_version": "1.5.0",
            "_model_name": "FloatProgressModel",
            "_view_count": null,
            "_view_module": "@jupyter-widgets/controls",
            "_view_module_version": "1.5.0",
            "_view_name": "ProgressView",
            "bar_style": "success",
            "description": "",
            "description_tooltip": null,
            "layout": "IPY_MODEL_545d71d5ff7a4e8db56c3e120671106a",
            "max": 559932,
            "min": 0,
            "orientation": "horizontal",
            "style": "IPY_MODEL_493afdf3917e460b8fb88d8bd55f50fe",
            "value": 559932
          }
        },
        "1ac3265d767c4db29346657c6ecc1ad7": {
          "model_module": "@jupyter-widgets/controls",
          "model_name": "HTMLModel",
          "model_module_version": "1.5.0",
          "state": {
            "_dom_classes": [],
            "_model_module": "@jupyter-widgets/controls",
            "_model_module_version": "1.5.0",
            "_model_name": "HTMLModel",
            "_view_count": null,
            "_view_module": "@jupyter-widgets/controls",
            "_view_module_version": "1.5.0",
            "_view_name": "HTMLView",
            "description": "",
            "description_tooltip": null,
            "layout": "IPY_MODEL_e39bc5b9240347e2b454b440717f1d1e",
            "placeholder": "​",
            "style": "IPY_MODEL_99eb25b484044040b76553f0569b6b75",
            "value": " 559932/559932 [03:36&lt;00:00, 5696.04it/s]"
          }
        },
        "8f03a1a29f5744c9a773d876260a4e6f": {
          "model_module": "@jupyter-widgets/base",
          "model_name": "LayoutModel",
          "model_module_version": "1.2.0",
          "state": {
            "_model_module": "@jupyter-widgets/base",
            "_model_module_version": "1.2.0",
            "_model_name": "LayoutModel",
            "_view_count": null,
            "_view_module": "@jupyter-widgets/base",
            "_view_module_version": "1.2.0",
            "_view_name": "LayoutView",
            "align_content": null,
            "align_items": null,
            "align_self": null,
            "border": null,
            "bottom": null,
            "display": null,
            "flex": null,
            "flex_flow": null,
            "grid_area": null,
            "grid_auto_columns": null,
            "grid_auto_flow": null,
            "grid_auto_rows": null,
            "grid_column": null,
            "grid_gap": null,
            "grid_row": null,
            "grid_template_areas": null,
            "grid_template_columns": null,
            "grid_template_rows": null,
            "height": null,
            "justify_content": null,
            "justify_items": null,
            "left": null,
            "margin": null,
            "max_height": null,
            "max_width": null,
            "min_height": null,
            "min_width": null,
            "object_fit": null,
            "object_position": null,
            "order": null,
            "overflow": null,
            "overflow_x": null,
            "overflow_y": null,
            "padding": null,
            "right": null,
            "top": null,
            "visibility": null,
            "width": null
          }
        },
        "27e6d28a32654450960525f3c5115e69": {
          "model_module": "@jupyter-widgets/base",
          "model_name": "LayoutModel",
          "model_module_version": "1.2.0",
          "state": {
            "_model_module": "@jupyter-widgets/base",
            "_model_module_version": "1.2.0",
            "_model_name": "LayoutModel",
            "_view_count": null,
            "_view_module": "@jupyter-widgets/base",
            "_view_module_version": "1.2.0",
            "_view_name": "LayoutView",
            "align_content": null,
            "align_items": null,
            "align_self": null,
            "border": null,
            "bottom": null,
            "display": null,
            "flex": null,
            "flex_flow": null,
            "grid_area": null,
            "grid_auto_columns": null,
            "grid_auto_flow": null,
            "grid_auto_rows": null,
            "grid_column": null,
            "grid_gap": null,
            "grid_row": null,
            "grid_template_areas": null,
            "grid_template_columns": null,
            "grid_template_rows": null,
            "height": null,
            "justify_content": null,
            "justify_items": null,
            "left": null,
            "margin": null,
            "max_height": null,
            "max_width": null,
            "min_height": null,
            "min_width": null,
            "object_fit": null,
            "object_position": null,
            "order": null,
            "overflow": null,
            "overflow_x": null,
            "overflow_y": null,
            "padding": null,
            "right": null,
            "top": null,
            "visibility": null,
            "width": null
          }
        },
        "bdd3c95544bd451c935e4a47ab93b8f5": {
          "model_module": "@jupyter-widgets/controls",
          "model_name": "DescriptionStyleModel",
          "model_module_version": "1.5.0",
          "state": {
            "_model_module": "@jupyter-widgets/controls",
            "_model_module_version": "1.5.0",
            "_model_name": "DescriptionStyleModel",
            "_view_count": null,
            "_view_module": "@jupyter-widgets/base",
            "_view_module_version": "1.2.0",
            "_view_name": "StyleView",
            "description_width": ""
          }
        },
        "545d71d5ff7a4e8db56c3e120671106a": {
          "model_module": "@jupyter-widgets/base",
          "model_name": "LayoutModel",
          "model_module_version": "1.2.0",
          "state": {
            "_model_module": "@jupyter-widgets/base",
            "_model_module_version": "1.2.0",
            "_model_name": "LayoutModel",
            "_view_count": null,
            "_view_module": "@jupyter-widgets/base",
            "_view_module_version": "1.2.0",
            "_view_name": "LayoutView",
            "align_content": null,
            "align_items": null,
            "align_self": null,
            "border": null,
            "bottom": null,
            "display": null,
            "flex": null,
            "flex_flow": null,
            "grid_area": null,
            "grid_auto_columns": null,
            "grid_auto_flow": null,
            "grid_auto_rows": null,
            "grid_column": null,
            "grid_gap": null,
            "grid_row": null,
            "grid_template_areas": null,
            "grid_template_columns": null,
            "grid_template_rows": null,
            "height": null,
            "justify_content": null,
            "justify_items": null,
            "left": null,
            "margin": null,
            "max_height": null,
            "max_width": null,
            "min_height": null,
            "min_width": null,
            "object_fit": null,
            "object_position": null,
            "order": null,
            "overflow": null,
            "overflow_x": null,
            "overflow_y": null,
            "padding": null,
            "right": null,
            "top": null,
            "visibility": null,
            "width": null
          }
        },
        "493afdf3917e460b8fb88d8bd55f50fe": {
          "model_module": "@jupyter-widgets/controls",
          "model_name": "ProgressStyleModel",
          "model_module_version": "1.5.0",
          "state": {
            "_model_module": "@jupyter-widgets/controls",
            "_model_module_version": "1.5.0",
            "_model_name": "ProgressStyleModel",
            "_view_count": null,
            "_view_module": "@jupyter-widgets/base",
            "_view_module_version": "1.2.0",
            "_view_name": "StyleView",
            "bar_color": null,
            "description_width": ""
          }
        },
        "e39bc5b9240347e2b454b440717f1d1e": {
          "model_module": "@jupyter-widgets/base",
          "model_name": "LayoutModel",
          "model_module_version": "1.2.0",
          "state": {
            "_model_module": "@jupyter-widgets/base",
            "_model_module_version": "1.2.0",
            "_model_name": "LayoutModel",
            "_view_count": null,
            "_view_module": "@jupyter-widgets/base",
            "_view_module_version": "1.2.0",
            "_view_name": "LayoutView",
            "align_content": null,
            "align_items": null,
            "align_self": null,
            "border": null,
            "bottom": null,
            "display": null,
            "flex": null,
            "flex_flow": null,
            "grid_area": null,
            "grid_auto_columns": null,
            "grid_auto_flow": null,
            "grid_auto_rows": null,
            "grid_column": null,
            "grid_gap": null,
            "grid_row": null,
            "grid_template_areas": null,
            "grid_template_columns": null,
            "grid_template_rows": null,
            "height": null,
            "justify_content": null,
            "justify_items": null,
            "left": null,
            "margin": null,
            "max_height": null,
            "max_width": null,
            "min_height": null,
            "min_width": null,
            "object_fit": null,
            "object_position": null,
            "order": null,
            "overflow": null,
            "overflow_x": null,
            "overflow_y": null,
            "padding": null,
            "right": null,
            "top": null,
            "visibility": null,
            "width": null
          }
        },
        "99eb25b484044040b76553f0569b6b75": {
          "model_module": "@jupyter-widgets/controls",
          "model_name": "DescriptionStyleModel",
          "model_module_version": "1.5.0",
          "state": {
            "_model_module": "@jupyter-widgets/controls",
            "_model_module_version": "1.5.0",
            "_model_name": "DescriptionStyleModel",
            "_view_count": null,
            "_view_module": "@jupyter-widgets/base",
            "_view_module_version": "1.2.0",
            "_view_name": "StyleView",
            "description_width": ""
          }
        },
        "74ebb7ddaff149aea1988a49332cc5b1": {
          "model_module": "@jupyter-widgets/controls",
          "model_name": "HBoxModel",
          "model_module_version": "1.5.0",
          "state": {
            "_dom_classes": [],
            "_model_module": "@jupyter-widgets/controls",
            "_model_module_version": "1.5.0",
            "_model_name": "HBoxModel",
            "_view_count": null,
            "_view_module": "@jupyter-widgets/controls",
            "_view_module_version": "1.5.0",
            "_view_name": "HBoxView",
            "box_style": "",
            "children": [
              "IPY_MODEL_1551c6fc051046768290ea446e7e546a",
              "IPY_MODEL_e128dfd93af9418894148ccdce7c6359",
              "IPY_MODEL_db6ab6329a334b17b53445303b4045aa"
            ],
            "layout": "IPY_MODEL_151277391715469496cffa0ace01e0c0"
          }
        },
        "1551c6fc051046768290ea446e7e546a": {
          "model_module": "@jupyter-widgets/controls",
          "model_name": "HTMLModel",
          "model_module_version": "1.5.0",
          "state": {
            "_dom_classes": [],
            "_model_module": "@jupyter-widgets/controls",
            "_model_module_version": "1.5.0",
            "_model_name": "HTMLModel",
            "_view_count": null,
            "_view_module": "@jupyter-widgets/controls",
            "_view_module_version": "1.5.0",
            "_view_name": "HTMLView",
            "description": "",
            "description_tooltip": null,
            "layout": "IPY_MODEL_4f2413e66cd74662ba7cc8512a19e401",
            "placeholder": "​",
            "style": "IPY_MODEL_eecf830b9da54ae0a189687c292ccf95",
            "value": "Pandas Apply: 100%"
          }
        },
        "e128dfd93af9418894148ccdce7c6359": {
          "model_module": "@jupyter-widgets/controls",
          "model_name": "FloatProgressModel",
          "model_module_version": "1.5.0",
          "state": {
            "_dom_classes": [],
            "_model_module": "@jupyter-widgets/controls",
            "_model_module_version": "1.5.0",
            "_model_name": "FloatProgressModel",
            "_view_count": null,
            "_view_module": "@jupyter-widgets/controls",
            "_view_module_version": "1.5.0",
            "_view_name": "ProgressView",
            "bar_style": "success",
            "description": "",
            "description_tooltip": null,
            "layout": "IPY_MODEL_7d5909424e6f43adbb0d038d17d444d6",
            "max": 559932,
            "min": 0,
            "orientation": "horizontal",
            "style": "IPY_MODEL_15de952ca51642efbd2418c12c8454d5",
            "value": 559932
          }
        },
        "db6ab6329a334b17b53445303b4045aa": {
          "model_module": "@jupyter-widgets/controls",
          "model_name": "HTMLModel",
          "model_module_version": "1.5.0",
          "state": {
            "_dom_classes": [],
            "_model_module": "@jupyter-widgets/controls",
            "_model_module_version": "1.5.0",
            "_model_name": "HTMLModel",
            "_view_count": null,
            "_view_module": "@jupyter-widgets/controls",
            "_view_module_version": "1.5.0",
            "_view_name": "HTMLView",
            "description": "",
            "description_tooltip": null,
            "layout": "IPY_MODEL_011a1feed08d4bc4bf683a0616b864b3",
            "placeholder": "​",
            "style": "IPY_MODEL_dbadd9a9d41f42229d3e01b64756dc51",
            "value": " 559932/559932 [03:29&lt;00:00, 3781.14it/s]"
          }
        },
        "151277391715469496cffa0ace01e0c0": {
          "model_module": "@jupyter-widgets/base",
          "model_name": "LayoutModel",
          "model_module_version": "1.2.0",
          "state": {
            "_model_module": "@jupyter-widgets/base",
            "_model_module_version": "1.2.0",
            "_model_name": "LayoutModel",
            "_view_count": null,
            "_view_module": "@jupyter-widgets/base",
            "_view_module_version": "1.2.0",
            "_view_name": "LayoutView",
            "align_content": null,
            "align_items": null,
            "align_self": null,
            "border": null,
            "bottom": null,
            "display": null,
            "flex": null,
            "flex_flow": null,
            "grid_area": null,
            "grid_auto_columns": null,
            "grid_auto_flow": null,
            "grid_auto_rows": null,
            "grid_column": null,
            "grid_gap": null,
            "grid_row": null,
            "grid_template_areas": null,
            "grid_template_columns": null,
            "grid_template_rows": null,
            "height": null,
            "justify_content": null,
            "justify_items": null,
            "left": null,
            "margin": null,
            "max_height": null,
            "max_width": null,
            "min_height": null,
            "min_width": null,
            "object_fit": null,
            "object_position": null,
            "order": null,
            "overflow": null,
            "overflow_x": null,
            "overflow_y": null,
            "padding": null,
            "right": null,
            "top": null,
            "visibility": null,
            "width": null
          }
        },
        "4f2413e66cd74662ba7cc8512a19e401": {
          "model_module": "@jupyter-widgets/base",
          "model_name": "LayoutModel",
          "model_module_version": "1.2.0",
          "state": {
            "_model_module": "@jupyter-widgets/base",
            "_model_module_version": "1.2.0",
            "_model_name": "LayoutModel",
            "_view_count": null,
            "_view_module": "@jupyter-widgets/base",
            "_view_module_version": "1.2.0",
            "_view_name": "LayoutView",
            "align_content": null,
            "align_items": null,
            "align_self": null,
            "border": null,
            "bottom": null,
            "display": null,
            "flex": null,
            "flex_flow": null,
            "grid_area": null,
            "grid_auto_columns": null,
            "grid_auto_flow": null,
            "grid_auto_rows": null,
            "grid_column": null,
            "grid_gap": null,
            "grid_row": null,
            "grid_template_areas": null,
            "grid_template_columns": null,
            "grid_template_rows": null,
            "height": null,
            "justify_content": null,
            "justify_items": null,
            "left": null,
            "margin": null,
            "max_height": null,
            "max_width": null,
            "min_height": null,
            "min_width": null,
            "object_fit": null,
            "object_position": null,
            "order": null,
            "overflow": null,
            "overflow_x": null,
            "overflow_y": null,
            "padding": null,
            "right": null,
            "top": null,
            "visibility": null,
            "width": null
          }
        },
        "eecf830b9da54ae0a189687c292ccf95": {
          "model_module": "@jupyter-widgets/controls",
          "model_name": "DescriptionStyleModel",
          "model_module_version": "1.5.0",
          "state": {
            "_model_module": "@jupyter-widgets/controls",
            "_model_module_version": "1.5.0",
            "_model_name": "DescriptionStyleModel",
            "_view_count": null,
            "_view_module": "@jupyter-widgets/base",
            "_view_module_version": "1.2.0",
            "_view_name": "StyleView",
            "description_width": ""
          }
        },
        "7d5909424e6f43adbb0d038d17d444d6": {
          "model_module": "@jupyter-widgets/base",
          "model_name": "LayoutModel",
          "model_module_version": "1.2.0",
          "state": {
            "_model_module": "@jupyter-widgets/base",
            "_model_module_version": "1.2.0",
            "_model_name": "LayoutModel",
            "_view_count": null,
            "_view_module": "@jupyter-widgets/base",
            "_view_module_version": "1.2.0",
            "_view_name": "LayoutView",
            "align_content": null,
            "align_items": null,
            "align_self": null,
            "border": null,
            "bottom": null,
            "display": null,
            "flex": null,
            "flex_flow": null,
            "grid_area": null,
            "grid_auto_columns": null,
            "grid_auto_flow": null,
            "grid_auto_rows": null,
            "grid_column": null,
            "grid_gap": null,
            "grid_row": null,
            "grid_template_areas": null,
            "grid_template_columns": null,
            "grid_template_rows": null,
            "height": null,
            "justify_content": null,
            "justify_items": null,
            "left": null,
            "margin": null,
            "max_height": null,
            "max_width": null,
            "min_height": null,
            "min_width": null,
            "object_fit": null,
            "object_position": null,
            "order": null,
            "overflow": null,
            "overflow_x": null,
            "overflow_y": null,
            "padding": null,
            "right": null,
            "top": null,
            "visibility": null,
            "width": null
          }
        },
        "15de952ca51642efbd2418c12c8454d5": {
          "model_module": "@jupyter-widgets/controls",
          "model_name": "ProgressStyleModel",
          "model_module_version": "1.5.0",
          "state": {
            "_model_module": "@jupyter-widgets/controls",
            "_model_module_version": "1.5.0",
            "_model_name": "ProgressStyleModel",
            "_view_count": null,
            "_view_module": "@jupyter-widgets/base",
            "_view_module_version": "1.2.0",
            "_view_name": "StyleView",
            "bar_color": null,
            "description_width": ""
          }
        },
        "011a1feed08d4bc4bf683a0616b864b3": {
          "model_module": "@jupyter-widgets/base",
          "model_name": "LayoutModel",
          "model_module_version": "1.2.0",
          "state": {
            "_model_module": "@jupyter-widgets/base",
            "_model_module_version": "1.2.0",
            "_model_name": "LayoutModel",
            "_view_count": null,
            "_view_module": "@jupyter-widgets/base",
            "_view_module_version": "1.2.0",
            "_view_name": "LayoutView",
            "align_content": null,
            "align_items": null,
            "align_self": null,
            "border": null,
            "bottom": null,
            "display": null,
            "flex": null,
            "flex_flow": null,
            "grid_area": null,
            "grid_auto_columns": null,
            "grid_auto_flow": null,
            "grid_auto_rows": null,
            "grid_column": null,
            "grid_gap": null,
            "grid_row": null,
            "grid_template_areas": null,
            "grid_template_columns": null,
            "grid_template_rows": null,
            "height": null,
            "justify_content": null,
            "justify_items": null,
            "left": null,
            "margin": null,
            "max_height": null,
            "max_width": null,
            "min_height": null,
            "min_width": null,
            "object_fit": null,
            "object_position": null,
            "order": null,
            "overflow": null,
            "overflow_x": null,
            "overflow_y": null,
            "padding": null,
            "right": null,
            "top": null,
            "visibility": null,
            "width": null
          }
        },
        "dbadd9a9d41f42229d3e01b64756dc51": {
          "model_module": "@jupyter-widgets/controls",
          "model_name": "DescriptionStyleModel",
          "model_module_version": "1.5.0",
          "state": {
            "_model_module": "@jupyter-widgets/controls",
            "_model_module_version": "1.5.0",
            "_model_name": "DescriptionStyleModel",
            "_view_count": null,
            "_view_module": "@jupyter-widgets/base",
            "_view_module_version": "1.2.0",
            "_view_name": "StyleView",
            "description_width": ""
          }
        }
      }
    }
  },
  "nbformat": 4,
  "nbformat_minor": 0
}